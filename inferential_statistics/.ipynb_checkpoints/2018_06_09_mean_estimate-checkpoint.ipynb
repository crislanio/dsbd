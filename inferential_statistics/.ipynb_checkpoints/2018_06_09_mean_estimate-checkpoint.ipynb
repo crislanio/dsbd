{
 "cells": [
  {
   "cell_type": "markdown",
   "metadata": {},
   "source": [
    "# Exercícios\n",
    "\n",
    "1. Considere observações independentes de uma distribuição $N(\\mu, \\sigma^2=5^2)$. Escrever um código que estime $\\mu$ numericamente para os dados.\n",
    "\n",
    "a) 20, 28, 39 DNOMR(C(20, 28, 39))\n",
    "\n",
    "b) <22, [25,32], >38 PNORM(22), PNORM(32) - PNORM(25), 1-PNORM(38) OU PNORM(38, LOWR=false)\n",
    "\n",
    "2. Considere observações independentes de uma distribuição $P(\\lambda)$ - Poisson. Escrever um código que estime $\\lambda$ numericamente para os dados. -----> USAR SLIDES DPOIS PARA A!!!!!!!!!! USAR PPOIS(2) PARA <3\n",
    "\n",
    "a) 5, 3, 0, 1, 6, 2, 3, 4, 5, 3\n",
    "\n",
    "b) 5, <3, 0, 1, >4, [1-3], 3, 4, >3, [1-6]\n",
    "\n",
    "3. Resolver 1(a) e 2(a) por MQO\n",
    "\n",
    "www.leg.ufpr.br/~paulojus/dsbd"
   ]
  },
  {
   "cell_type": "code",
   "execution_count": 1,
   "metadata": {},
   "outputs": [],
   "source": [
    "veroPois <- function(par, dados, tipo, maxlogL) {\n",
    "    tipo = match.arg(tipo, choices = c('L', 'LR', 'logL', 'dev'))\n",
    "    ll <- sapply(par, function(p) sum(dpois(dados, lambda = p, log = TRUE)))\n",
    "    return(switch(tipo, 'L' = exp(ll),\n",
    "                        'LR' = exp(ll - maxlogL),\n",
    "                        'logL' = ll,\n",
    "                        'dev' = 2 * (maxlogL - ll)))\n",
    "}"
   ]
  },
  {
   "cell_type": "code",
   "execution_count": 18,
   "metadata": {},
   "outputs": [
    {
     "data": {
      "text/html": [
       "-10.9023826497552"
      ],
      "text/latex": [
       "-10.9023826497552"
      ],
      "text/markdown": [
       "-10.9023826497552"
      ],
      "text/plain": [
       "[1] -10.90238"
      ]
     },
     "metadata": {},
     "output_type": "display_data"
    }
   ],
   "source": [
    "veroPois(par = c(29), dados = c(20, 28, 39), tipo = 'logL', maxlogL)"
   ]
  }
 ],
 "metadata": {
  "kernelspec": {
   "display_name": "R",
   "language": "R",
   "name": "ir"
  },
  "language_info": {
   "codemirror_mode": "r",
   "file_extension": ".r",
   "mimetype": "text/x-r-source",
   "name": "R",
   "pygments_lexer": "r",
   "version": "3.2.3"
  }
 },
 "nbformat": 4,
 "nbformat_minor": 2
}
