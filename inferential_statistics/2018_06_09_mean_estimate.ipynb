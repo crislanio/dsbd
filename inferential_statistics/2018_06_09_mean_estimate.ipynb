{
 "cells": [
  {
   "cell_type": "markdown",
   "metadata": {},
   "source": [
    "# Exercícios\n",
    "\n",
    "1. Considere observações independentes de uma distribuição $N(\\mu, \\sigma^2=5^2)$. Escrever um código que estime $\\mu$ numericamente para os dados.\n",
    "\n",
    "a) 20, 28, 39\n",
    "\n",
    "b) <22, [25,32], >38\n",
    "\n",
    "c) > 22, [25-32], < 38\n",
    "\n",
    "2. Considere observações independentes de uma distribuição $P(\\lambda)$ - Poisson. Escrever um código que estime $\\lambda$ numericamente para os dados.\n",
    "\n",
    "a) 5, 3, 0, 1, 6, 2, 3, 4, 5, 3\n",
    "\n",
    "b) 5, <3, 0, 1, >4, [1-3], 3, 4, >3, [1-6]\n",
    "\n",
    "3. Resolver 1(a) e 2(a) por MQO\n",
    "\n",
    "www.leg.ufpr.br/~paulojus/dsbd"
   ]
  },
  {
   "cell_type": "code",
   "execution_count": 1,
   "metadata": {},
   "outputs": [],
   "source": [
    "llint_norm <- Vectorize(function(par, y.p, y.i){\n",
    "    ## y.p Ã© um vetor de dados pontuais\n",
    "    ## i.i Ã© uma matriz (n x 2) de dados intervalares\n",
    "    if(missing(y.p)) ll.p <- 0\n",
    "    else ll.p <-  sum(dnorm(y.p, mean=par, sd=5, log=TRUE))\n",
    "    if(missing(y.i)) ll.i <- 0\n",
    "    else ll.i <- sum(apply(y.i, 1, function(x) log(diff(pnorm(x, mean=par, sd=5)))))\n",
    "    return(ll.i+ll.p)\n",
    "}, \"par\")"
   ]
  },
  {
   "cell_type": "code",
   "execution_count": 2,
   "metadata": {},
   "outputs": [],
   "source": [
    "llint_pois <- Vectorize(function(par, y.p, y.i){\n",
    "    ## y.p Ã© um vetor de dados pontuais\n",
    "    ## i.i Ã© uma matriz (n x 2) de dados intervalares\n",
    "    if(missing(y.p)) ll.p <- 0\n",
    "    else ll.p <-  sum(dpois(y.p, lambda=par, log=TRUE))\n",
    "    if(missing(y.i)) ll.i <- 0\n",
    "    else ll.i <- sum(apply(y.i, 1, function(x) log(diff(ppois(x, lambda=par)))))\n",
    "    return(ll.i+ll.p)\n",
    "}, \"par\")"
   ]
  },
  {
   "cell_type": "markdown",
   "metadata": {},
   "source": [
    "# 1.a. 20, 28, 39"
   ]
  },
  {
   "cell_type": "code",
   "execution_count": 3,
   "metadata": {},
   "outputs": [
    {
     "data": {
      "text/html": [
       "<dl>\n",
       "\t<dt>$maximum</dt>\n",
       "\t\t<dd>29</dd>\n",
       "\t<dt>$objective</dt>\n",
       "\t\t<dd>-11.2251293369163</dd>\n",
       "</dl>\n"
      ],
      "text/latex": [
       "\\begin{description}\n",
       "\\item[\\$maximum] 29\n",
       "\\item[\\$objective] -11.2251293369163\n",
       "\\end{description}\n"
      ],
      "text/markdown": [
       "$maximum\n",
       ":   29\n",
       "$objective\n",
       ":   -11.2251293369163\n",
       "\n",
       "\n"
      ],
      "text/plain": [
       "$maximum\n",
       "[1] 29\n",
       "\n",
       "$objective\n",
       "[1] -11.22513\n"
      ]
     },
     "metadata": {},
     "output_type": "display_data"
    }
   ],
   "source": [
    "yp  <- c(20, 28, 39)\n",
    "optimize(llint_norm, interval=c(0,50), y.p=yp, maximum=TRUE)"
   ]
  },
  {
   "cell_type": "markdown",
   "metadata": {},
   "source": [
    "# 1.b. <22,  [25-32] , >38"
   ]
  },
  {
   "cell_type": "code",
   "execution_count": 4,
   "metadata": {},
   "outputs": [
    {
     "data": {
      "text/html": [
       "<dl>\n",
       "\t<dt>$maximum</dt>\n",
       "\t\t<dd>29.504341005936</dd>\n",
       "\t<dt>$objective</dt>\n",
       "\t\t<dd>-6.49519055738859</dd>\n",
       "</dl>\n"
      ],
      "text/latex": [
       "\\begin{description}\n",
       "\\item[\\$maximum] 29.504341005936\n",
       "\\item[\\$objective] -6.49519055738859\n",
       "\\end{description}\n"
      ],
      "text/markdown": [
       "$maximum\n",
       ":   29.504341005936\n",
       "$objective\n",
       ":   -6.49519055738859\n",
       "\n",
       "\n"
      ],
      "text/plain": [
       "$maximum\n",
       "[1] 29.50434\n",
       "\n",
       "$objective\n",
       "[1] -6.495191\n"
      ]
     },
     "metadata": {},
     "output_type": "display_data"
    }
   ],
   "source": [
    "yi  <- cbind(c(-Inf, 25, 38), c(22, 32, Inf)) \n",
    "optimize(llint_norm, interval=c(0,50),y.i=yi, maximum=TRUE)"
   ]
  },
  {
   "cell_type": "markdown",
   "metadata": {},
   "source": [
    "# 1.c. >22,  [25-32] , <38"
   ]
  },
  {
   "cell_type": "code",
   "execution_count": 5,
   "metadata": {},
   "outputs": [
    {
     "data": {
      "text/html": [
       "<dl>\n",
       "\t<dt>$maximum</dt>\n",
       "\t\t<dd>28.9851684976944</dd>\n",
       "\t<dt>$objective</dt>\n",
       "\t\t<dd>-0.786533743265633</dd>\n",
       "</dl>\n"
      ],
      "text/latex": [
       "\\begin{description}\n",
       "\\item[\\$maximum] 28.9851684976944\n",
       "\\item[\\$objective] -0.786533743265633\n",
       "\\end{description}\n"
      ],
      "text/markdown": [
       "$maximum\n",
       ":   28.9851684976944\n",
       "$objective\n",
       ":   -0.786533743265633\n",
       "\n",
       "\n"
      ],
      "text/plain": [
       "$maximum\n",
       "[1] 28.98517\n",
       "\n",
       "$objective\n",
       "[1] -0.7865337\n"
      ]
     },
     "metadata": {},
     "output_type": "display_data"
    }
   ],
   "source": [
    "yi  <- cbind(c(22, 25, -Inf), c(Inf, 32, 38))\n",
    "optimize(llint_norm, interval=c(0,50),y.i=yi, maximum=TRUE)"
   ]
  },
  {
   "cell_type": "markdown",
   "metadata": {},
   "source": [
    "# 2.a."
   ]
  },
  {
   "cell_type": "code",
   "execution_count": 6,
   "metadata": {},
   "outputs": [
    {
     "data": {
      "text/html": [
       "<dl>\n",
       "\t<dt>$maximum</dt>\n",
       "\t\t<dd>3.19999172480371</dd>\n",
       "\t<dt>$objective</dt>\n",
       "\t\t<dd>-20.1798882024915</dd>\n",
       "</dl>\n"
      ],
      "text/latex": [
       "\\begin{description}\n",
       "\\item[\\$maximum] 3.19999172480371\n",
       "\\item[\\$objective] -20.1798882024915\n",
       "\\end{description}\n"
      ],
      "text/markdown": [
       "$maximum\n",
       ":   3.19999172480371\n",
       "$objective\n",
       ":   -20.1798882024915\n",
       "\n",
       "\n"
      ],
      "text/plain": [
       "$maximum\n",
       "[1] 3.199992\n",
       "\n",
       "$objective\n",
       "[1] -20.17989\n"
      ]
     },
     "metadata": {},
     "output_type": "display_data"
    }
   ],
   "source": [
    "yp <- c(5, 3, 0, 1, 6, 2, 3, 4, 5, 3)\n",
    "optimize(llint_pois, interval=c(0,50), y.p=yp, maximum=TRUE)"
   ]
  },
  {
   "cell_type": "markdown",
   "metadata": {},
   "source": [
    "# 2.b."
   ]
  },
  {
   "cell_type": "code",
   "execution_count": 7,
   "metadata": {},
   "outputs": [
    {
     "data": {
      "text/html": [
       "<dl>\n",
       "\t<dt>$maximum</dt>\n",
       "\t\t<dd>3.1770632853027</dd>\n",
       "\t<dt>$objective</dt>\n",
       "\t\t<dd>-14.6658409804541</dd>\n",
       "</dl>\n"
      ],
      "text/latex": [
       "\\begin{description}\n",
       "\\item[\\$maximum] 3.1770632853027\n",
       "\\item[\\$objective] -14.6658409804541\n",
       "\\end{description}\n"
      ],
      "text/markdown": [
       "$maximum\n",
       ":   3.1770632853027\n",
       "$objective\n",
       ":   -14.6658409804541\n",
       "\n",
       "\n"
      ],
      "text/plain": [
       "$maximum\n",
       "[1] 3.177063\n",
       "\n",
       "$objective\n",
       "[1] -14.66584\n"
      ]
     },
     "metadata": {},
     "output_type": "display_data"
    }
   ],
   "source": [
    "yp <- c(5, 0, 1, 3, 4)\n",
    "yi <- cbind(c(-Inf, 4, 1, 3, 1), c(3, Inf, 3, Inf, 6))\n",
    "optimize(llint_pois, interval=c(0,50), y.p=yp, y.i=yi, maximum=TRUE)"
   ]
  }
 ],
 "metadata": {
  "kernelspec": {
   "display_name": "R",
   "language": "R",
   "name": "ir"
  },
  "language_info": {
   "codemirror_mode": "r",
   "file_extension": ".r",
   "mimetype": "text/x-r-source",
   "name": "R",
   "pygments_lexer": "r",
   "version": "3.2.3"
  }
 },
 "nbformat": 4,
 "nbformat_minor": 2
}
