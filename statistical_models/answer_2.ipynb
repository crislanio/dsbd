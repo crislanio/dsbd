{
 "cells": [
  {
   "cell_type": "code",
   "execution_count": 1,
   "metadata": {},
   "outputs": [
    {
     "name": "stderr",
     "output_type": "stream",
     "text": [
      "Loading required package: lattice\n",
      "Loading required package: ggplot2\n"
     ]
    }
   ],
   "source": [
    "library(mlbench)\n",
    "library(caret)"
   ]
  },
  {
   "cell_type": "code",
   "execution_count": 2,
   "metadata": {},
   "outputs": [],
   "source": [
    "data(BreastCancer)"
   ]
  },
  {
   "cell_type": "code",
   "execution_count": 3,
   "metadata": {},
   "outputs": [
    {
     "data": {
      "text/html": [
       "<table>\n",
       "<thead><tr><th scope=col>Id</th><th scope=col>Cl.thickness</th><th scope=col>Cell.size</th><th scope=col>Cell.shape</th><th scope=col>Marg.adhesion</th><th scope=col>Epith.c.size</th><th scope=col>Bare.nuclei</th><th scope=col>Bl.cromatin</th><th scope=col>Normal.nucleoli</th><th scope=col>Mitoses</th><th scope=col>Class</th></tr></thead>\n",
       "<tbody>\n",
       "\t<tr><td>1000025  </td><td>5        </td><td>1        </td><td>1        </td><td>1        </td><td>2        </td><td>1        </td><td>3        </td><td>1        </td><td>1        </td><td>benign   </td></tr>\n",
       "\t<tr><td>1002945  </td><td>5        </td><td>4        </td><td>4        </td><td>5        </td><td>7        </td><td>10       </td><td>3        </td><td>2        </td><td>1        </td><td>benign   </td></tr>\n",
       "\t<tr><td>1015425  </td><td>3        </td><td>1        </td><td>1        </td><td>1        </td><td>2        </td><td>2        </td><td>3        </td><td>1        </td><td>1        </td><td>benign   </td></tr>\n",
       "\t<tr><td>1016277  </td><td>6        </td><td>8        </td><td>8        </td><td>1        </td><td>3        </td><td>4        </td><td>3        </td><td>7        </td><td>1        </td><td>benign   </td></tr>\n",
       "\t<tr><td>1017023  </td><td>4        </td><td>1        </td><td>1        </td><td>3        </td><td>2        </td><td>1        </td><td>3        </td><td>1        </td><td>1        </td><td>benign   </td></tr>\n",
       "\t<tr><td>1017122  </td><td>8        </td><td>10       </td><td>10       </td><td>8        </td><td>7        </td><td>10       </td><td>9        </td><td>7        </td><td>1        </td><td>malignant</td></tr>\n",
       "</tbody>\n",
       "</table>\n"
      ],
      "text/latex": [
       "\\begin{tabular}{r|lllllllllll}\n",
       " Id & Cl.thickness & Cell.size & Cell.shape & Marg.adhesion & Epith.c.size & Bare.nuclei & Bl.cromatin & Normal.nucleoli & Mitoses & Class\\\\\n",
       "\\hline\n",
       "\t 1000025   & 5         & 1         & 1         & 1         & 2         & 1         & 3         & 1         & 1         & benign   \\\\\n",
       "\t 1002945   & 5         & 4         & 4         & 5         & 7         & 10        & 3         & 2         & 1         & benign   \\\\\n",
       "\t 1015425   & 3         & 1         & 1         & 1         & 2         & 2         & 3         & 1         & 1         & benign   \\\\\n",
       "\t 1016277   & 6         & 8         & 8         & 1         & 3         & 4         & 3         & 7         & 1         & benign   \\\\\n",
       "\t 1017023   & 4         & 1         & 1         & 3         & 2         & 1         & 3         & 1         & 1         & benign   \\\\\n",
       "\t 1017122   & 8         & 10        & 10        & 8         & 7         & 10        & 9         & 7         & 1         & malignant\\\\\n",
       "\\end{tabular}\n"
      ],
      "text/markdown": [
       "\n",
       "Id | Cl.thickness | Cell.size | Cell.shape | Marg.adhesion | Epith.c.size | Bare.nuclei | Bl.cromatin | Normal.nucleoli | Mitoses | Class | \n",
       "|---|---|---|---|---|---|\n",
       "| 1000025   | 5         | 1         | 1         | 1         | 2         | 1         | 3         | 1         | 1         | benign    | \n",
       "| 1002945   | 5         | 4         | 4         | 5         | 7         | 10        | 3         | 2         | 1         | benign    | \n",
       "| 1015425   | 3         | 1         | 1         | 1         | 2         | 2         | 3         | 1         | 1         | benign    | \n",
       "| 1016277   | 6         | 8         | 8         | 1         | 3         | 4         | 3         | 7         | 1         | benign    | \n",
       "| 1017023   | 4         | 1         | 1         | 3         | 2         | 1         | 3         | 1         | 1         | benign    | \n",
       "| 1017122   | 8         | 10        | 10        | 8         | 7         | 10        | 9         | 7         | 1         | malignant | \n",
       "\n",
       "\n"
      ],
      "text/plain": [
       "  Id      Cl.thickness Cell.size Cell.shape Marg.adhesion Epith.c.size\n",
       "1 1000025 5            1         1          1             2           \n",
       "2 1002945 5            4         4          5             7           \n",
       "3 1015425 3            1         1          1             2           \n",
       "4 1016277 6            8         8          1             3           \n",
       "5 1017023 4            1         1          3             2           \n",
       "6 1017122 8            10        10         8             7           \n",
       "  Bare.nuclei Bl.cromatin Normal.nucleoli Mitoses Class    \n",
       "1 1           3           1               1       benign   \n",
       "2 10          3           2               1       benign   \n",
       "3 2           3           1               1       benign   \n",
       "4 4           3           7               1       benign   \n",
       "5 1           3           1               1       benign   \n",
       "6 10          9           7               1       malignant"
      ]
     },
     "metadata": {},
     "output_type": "display_data"
    }
   ],
   "source": [
    "head(BreastCancer)"
   ]
  },
  {
   "cell_type": "code",
   "execution_count": 4,
   "metadata": {},
   "outputs": [
    {
     "data": {
      "text/html": [
       "<table>\n",
       "<thead><tr><th scope=col>CT</th><th scope=col>MA</th><th scope=col>BC</th><th scope=col>Class</th></tr></thead>\n",
       "<tbody>\n",
       "\t<tr><td>5        </td><td>1        </td><td>3        </td><td>benign   </td></tr>\n",
       "\t<tr><td>5        </td><td>5        </td><td>3        </td><td>benign   </td></tr>\n",
       "\t<tr><td>3        </td><td>1        </td><td>3        </td><td>benign   </td></tr>\n",
       "\t<tr><td>6        </td><td>1        </td><td>3        </td><td>benign   </td></tr>\n",
       "\t<tr><td>4        </td><td>3        </td><td>3        </td><td>benign   </td></tr>\n",
       "\t<tr><td>8        </td><td>8        </td><td>9        </td><td>malignant</td></tr>\n",
       "</tbody>\n",
       "</table>\n"
      ],
      "text/latex": [
       "\\begin{tabular}{r|llll}\n",
       " CT & MA & BC & Class\\\\\n",
       "\\hline\n",
       "\t 5         & 1         & 3         & benign   \\\\\n",
       "\t 5         & 5         & 3         & benign   \\\\\n",
       "\t 3         & 1         & 3         & benign   \\\\\n",
       "\t 6         & 1         & 3         & benign   \\\\\n",
       "\t 4         & 3         & 3         & benign   \\\\\n",
       "\t 8         & 8         & 9         & malignant\\\\\n",
       "\\end{tabular}\n"
      ],
      "text/markdown": [
       "\n",
       "CT | MA | BC | Class | \n",
       "|---|---|---|---|---|---|\n",
       "| 5         | 1         | 3         | benign    | \n",
       "| 5         | 5         | 3         | benign    | \n",
       "| 3         | 1         | 3         | benign    | \n",
       "| 6         | 1         | 3         | benign    | \n",
       "| 4         | 3         | 3         | benign    | \n",
       "| 8         | 8         | 9         | malignant | \n",
       "\n",
       "\n"
      ],
      "text/plain": [
       "  CT MA BC Class    \n",
       "1 5  1  3  benign   \n",
       "2 5  5  3  benign   \n",
       "3 3  1  3  benign   \n",
       "4 6  1  3  benign   \n",
       "5 4  3  3  benign   \n",
       "6 8  8  9  malignant"
      ]
     },
     "metadata": {},
     "output_type": "display_data"
    }
   ],
   "source": [
    "breast <- data.frame(CT = as.numeric(BreastCancer$Cl.thickness),\n",
    "                     MA = as.numeric(BreastCancer$Marg.adhesion),\n",
    "                     BC = as.numeric(BreastCancer$Bl.cromatin),\n",
    "                     Class = BreastCancer$Class)\n",
    "head(breast)"
   ]
  },
  {
   "cell_type": "code",
   "execution_count": 5,
   "metadata": {},
   "outputs": [
    {
     "data": {
      "text/plain": [
       "\n",
       "Call:\n",
       "glm(formula = Class ~ CT + MA + BC, family = binomial, data = breast_aj)\n",
       "\n",
       "Deviance Residuals: \n",
       "    Min       1Q   Median       3Q      Max  \n",
       "-3.5333  -0.1925  -0.0702   0.0367   2.4677  \n",
       "\n",
       "Coefficients:\n",
       "            Estimate Std. Error z value Pr(>|z|)    \n",
       "(Intercept)  -9.9033     1.0396  -9.526  < 2e-16 ***\n",
       "CT            0.9118     0.1268   7.193 6.34e-13 ***\n",
       "MA            0.4917     0.1078   4.562 5.07e-06 ***\n",
       "BC            0.8925     0.1460   6.113 9.75e-10 ***\n",
       "---\n",
       "Signif. codes:  0 ‘***’ 0.001 ‘**’ 0.01 ‘*’ 0.05 ‘.’ 0.1 ‘ ’ 1\n",
       "\n",
       "(Dispersion parameter for binomial family taken to be 1)\n",
       "\n",
       "    Null deviance: 636.98  on 499  degrees of freedom\n",
       "Residual deviance: 129.33  on 496  degrees of freedom\n",
       "AIC: 137.33\n",
       "\n",
       "Number of Fisher Scoring iterations: 7\n"
      ]
     },
     "metadata": {},
     "output_type": "display_data"
    }
   ],
   "source": [
    "set.seed(232)\n",
    "ordem <- sample(1:nrow(breast))\n",
    "breast_aj <- breast[ordem[1:500],]              ### Base de ajuste.\n",
    "breast_pred <- breast[ordem[501:nrow(breast)],] ### Base de validação\n",
    "ajuste <- glm(Class~CT+MA+BC, data = breast_aj, family = binomial)\n",
    "summary(ajuste)"
   ]
  },
  {
   "cell_type": "code",
   "execution_count": 6,
   "metadata": {},
   "outputs": [
    {
     "data": {
      "text/plain": [
       "                \n",
       "                 Tumor benigno Tumor maligno\n",
       "  Teste positivo             3            64\n",
       "  Teste negativo           122            10"
      ]
     },
     "metadata": {},
     "output_type": "display_data"
    }
   ],
   "source": [
    "preds <- predict(ajuste, newdata = breast_pred, type = 'response')\n",
    "t1 <- table(preds < 0.5, breast_pred$Class)\n",
    "dimnames(t1)[[1]] <- c('Teste positivo', 'Teste negativo')\n",
    "dimnames(t1)[[2]] <- c('Tumor benigno', 'Tumor maligno')\n",
    "t1"
   ]
  },
  {
   "cell_type": "code",
   "execution_count": 7,
   "metadata": {},
   "outputs": [
    {
     "data": {
      "image/png": "[encoded data removed]",
      "text/plain": [
       "Plot with title “Normal Q-Q Plot”"
      ]
     },
     "metadata": {},
     "output_type": "display_data"
    }
   ],
   "source": [
    "qqnorm(resid(ajuste), pch = 20)\n",
    "qqline(resid(ajuste))"
   ]
  },
  {
   "cell_type": "markdown",
   "metadata": {},
   "source": [
    "# 1) d"
   ]
  },
  {
   "cell_type": "code",
   "execution_count": 8,
   "metadata": {},
   "outputs": [
    {
     "data": {
      "text/html": [
       "<strong>CT:</strong> 2.48878223163119"
      ],
      "text/latex": [
       "\\textbf{CT:} 2.48878223163119"
      ],
      "text/markdown": [
       "**CT:** 2.48878223163119"
      ],
      "text/plain": [
       "      CT \n",
       "2.488782 "
      ]
     },
     "metadata": {},
     "output_type": "display_data"
    }
   ],
   "source": [
    "exp(ajuste$coefficients[2])"
   ]
  },
  {
   "cell_type": "markdown",
   "metadata": {},
   "source": [
    "# 2) c"
   ]
  },
  {
   "cell_type": "code",
   "execution_count": 9,
   "metadata": {},
   "outputs": [
    {
     "data": {
      "text/html": [
       "<strong>1:</strong> 0.543209061515401"
      ],
      "text/latex": [
       "\\textbf{1:} 0.543209061515401"
      ],
      "text/markdown": [
       "**1:** 0.543209061515401"
      ],
      "text/plain": [
       "        1 \n",
       "0.5432091 "
      ]
     },
     "metadata": {},
     "output_type": "display_data"
    }
   ],
   "source": [
    "predict(ajuste, data.frame(CT=4, MA=4, BC=5), type = 'response')"
   ]
  },
  {
   "cell_type": "markdown",
   "metadata": {},
   "source": [
    "# 3) b"
   ]
  },
  {
   "cell_type": "code",
   "execution_count": 10,
   "metadata": {},
   "outputs": [
    {
     "name": "stderr",
     "output_type": "stream",
     "text": [
      "Waiting for profiling to be done...\n"
     ]
    },
    {
     "data": {
      "text/html": [
       "<table>\n",
       "<thead><tr><th></th><th scope=col>2.5 %</th><th scope=col>97.5 %</th></tr></thead>\n",
       "<tbody>\n",
       "\t<tr><th scope=row>(Intercept)</th><td>-12.1885168</td><td>-8.0776985 </td></tr>\n",
       "\t<tr><th scope=row>CT</th><td>  0.6843475</td><td> 1.1852805 </td></tr>\n",
       "\t<tr><th scope=row>MA</th><td>  0.2927559</td><td> 0.7201705 </td></tr>\n",
       "\t<tr><th scope=row>BC</th><td>  0.6255084</td><td> 1.2015022 </td></tr>\n",
       "</tbody>\n",
       "</table>\n"
      ],
      "text/latex": [
       "\\begin{tabular}{r|ll}\n",
       "  & 2.5 \\% & 97.5 \\%\\\\\n",
       "\\hline\n",
       "\t(Intercept) & -12.1885168 & -8.0776985 \\\\\n",
       "\tCT &   0.6843475 &  1.1852805 \\\\\n",
       "\tMA &   0.2927559 &  0.7201705 \\\\\n",
       "\tBC &   0.6255084 &  1.2015022 \\\\\n",
       "\\end{tabular}\n"
      ],
      "text/markdown": [
       "\n",
       "| <!--/--> | 2.5 % | 97.5 % | \n",
       "|---|---|---|---|\n",
       "| (Intercept) | -12.1885168 | -8.0776985  | \n",
       "| CT |   0.6843475 |  1.1852805  | \n",
       "| MA |   0.2927559 |  0.7201705  | \n",
       "| BC |   0.6255084 |  1.2015022  | \n",
       "\n",
       "\n"
      ],
      "text/plain": [
       "            2.5 %       97.5 %    \n",
       "(Intercept) -12.1885168 -8.0776985\n",
       "CT            0.6843475  1.1852805\n",
       "MA            0.2927559  0.7201705\n",
       "BC            0.6255084  1.2015022"
      ]
     },
     "metadata": {},
     "output_type": "display_data"
    }
   ],
   "source": [
    "confint(ajuste)"
   ]
  },
  {
   "cell_type": "markdown",
   "metadata": {},
   "source": [
    "# 4) b"
   ]
  },
  {
   "cell_type": "code",
   "execution_count": 11,
   "metadata": {},
   "outputs": [],
   "source": [
    "levels(breast_pred$Class) <- c(0, 1)\n",
    "threshold=0.5\n",
    "predicted_values<-ifelse(predict(ajuste, newdata=breast_pred, type=\"response\")>threshold,1,0)\n",
    "actual_values<-breast_pred$Class\n",
    "conf_matrix<-table(predicted_values,actual_values)"
   ]
  },
  {
   "cell_type": "code",
   "execution_count": 12,
   "metadata": {},
   "outputs": [
    {
     "data": {
      "text/html": [
       "0.976"
      ],
      "text/latex": [
       "0.976"
      ],
      "text/markdown": [
       "0.976"
      ],
      "text/plain": [
       "[1] 0.976"
      ]
     },
     "metadata": {},
     "output_type": "display_data"
    }
   ],
   "source": [
    "sensitivity(conf_matrix)"
   ]
  },
  {
   "cell_type": "code",
   "execution_count": 13,
   "metadata": {},
   "outputs": [
    {
     "data": {
      "text/html": [
       "0.864864864864865"
      ],
      "text/latex": [
       "0.864864864864865"
      ],
      "text/markdown": [
       "0.864864864864865"
      ],
      "text/plain": [
       "[1] 0.8648649"
      ]
     },
     "metadata": {},
     "output_type": "display_data"
    }
   ],
   "source": [
    "specificity(conf_matrix)"
   ]
  },
  {
   "cell_type": "markdown",
   "metadata": {},
   "source": [
    "# 5) d"
   ]
  }
 ],
 "metadata": {
  "kernelspec": {
   "display_name": "R",
   "language": "R",
   "name": "ir"
  },
  "language_info": {
   "codemirror_mode": "r",
   "file_extension": ".r",
   "mimetype": "text/x-r-source",
   "name": "R",
   "pygments_lexer": "r",
   "version": "3.4.4"
  }
 },
 "nbformat": 4,
 "nbformat_minor": 2
}
