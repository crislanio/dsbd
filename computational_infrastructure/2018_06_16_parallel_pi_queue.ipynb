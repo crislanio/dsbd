{
 "cells": [
  {
   "cell_type": "markdown",
   "metadata": {},
   "source": [
    "machine: altix1\n",
    "\n",
    "user: dsdb\n",
    "\n",
    "pass: BigData18\n",
    "\n",
    "`ssh altix1@ssh.inf.ufpr.br`"
   ]
  },
  {
   "cell_type": "code",
   "execution_count": 1,
   "metadata": {},
   "outputs": [
    {
     "name": "stdout",
     "output_type": "stream",
     "text": [
      "2.7.15 |Anaconda, Inc.| (default, May  1 2018, 23:32:55) \n",
      "[GCC 7.2.0]\n",
      "\n",
      "Start: 0\n",
      "Start: 250000\n",
      "End: 499999\n",
      "End: 249999\n",
      "Start: 500000\n",
      "Start: 750000\n",
      "End: 749999\n",
      "End: 999999\n",
      "\n",
      "It took: 0.22310996 seconds!\n",
      "Pi: 3.14158112888\n"
     ]
    }
   ],
   "source": [
    "import sys\n",
    "print(sys.version)\n",
    "print('')\n",
    "\n",
    "import time\n",
    "import itertools\n",
    "from multiprocessing import Process, cpu_count, current_process, Queue\n",
    "\n",
    "PROCS = cpu_count()\n",
    "RESULT = Queue()\n",
    "\n",
    "def pi(start, end, step, result):\n",
    "    print('Start: {}'.format(start))\n",
    "    print('End: {}'.format(end))\n",
    "    sum = 0.0\n",
    "    for i in range(start, end):\n",
    "        x = (i + 0.5) * step\n",
    "        sum = sum + 4.0 / (1.0 + x * x)\n",
    "    result.put(sum/num_steps)\n",
    "    \n",
    "if __name__ == '__main__':    \n",
    "    num_steps = 1000000\n",
    "    sum = 0.0\n",
    "    step = 1.0/num_steps\n",
    "    proc_size = num_steps/PROCS\n",
    "    \n",
    "    tic = time.time()\n",
    "    workers = []\n",
    "    for i in range(PROCS):\n",
    "        worker = Process(target = pi, args = (i * proc_size, int((i + 1) * proc_size - 1), step, RESULT))\n",
    "        workers.append(worker)\n",
    "    for worker in workers:\n",
    "        worker.start()\n",
    "    for worker in workers:\n",
    "        worker.join()\n",
    "    toc = time.time()\n",
    "    \n",
    "    pi = 0.0\n",
    "    for i in range(PROCS):\n",
    "        pi = pi + RESULT.get(i)\n",
    "    \n",
    "    print('')\n",
    "    print('It took: {} seconds!'.format(round(toc - tic, 8)))\n",
    "    print('Pi: {}'.format(pi))"
   ]
  },
  {
   "cell_type": "code",
   "execution_count": 2,
   "metadata": {},
   "outputs": [
    {
     "name": "stdout",
     "output_type": "stream",
     "text": [
      "2.7.15 |Anaconda, Inc.| (default, May  1 2018, 23:32:55) \n",
      "[GCC 7.2.0]\n",
      "\n",
      "Start: 0\n",
      "End: 249999\n",
      "Start: 250000\n",
      "Start: 500000\n",
      "Start: 750000\n",
      "End: 499999\n",
      "End: 749999\n",
      "End: 999999\n"
     ]
    },
    {
     "name": "stderr",
     "output_type": "stream",
     "text": [
      "Process Process-5:\n",
      "Traceback (most recent call last):\n",
      "Process Process-6:\n",
      "  File \"/home/jayme/miniconda3/envs/ipykernel_py2/lib/python2.7/multiprocessing/process.py\", line 267, in _bootstrap\n",
      "    self.run()\n",
      "Traceback (most recent call last):\n",
      "  File \"/home/jayme/miniconda3/envs/ipykernel_py2/lib/python2.7/multiprocessing/process.py\", line 114, in run\n",
      "  File \"/home/jayme/miniconda3/envs/ipykernel_py2/lib/python2.7/multiprocessing/process.py\", line 267, in _bootstrap\n",
      "Process Process-8:\n",
      "Traceback (most recent call last):\n",
      "    self._target(*self._args, **self._kwargs)\n",
      "    self.run()\n",
      "Process Process-7:\n",
      "  File \"/home/jayme/miniconda3/envs/ipykernel_py2/lib/python2.7/multiprocessing/process.py\", line 114, in run\n",
      "  File \"<ipython-input-2-97ed28838095>\", line 18, in pi\n",
      "  File \"/home/jayme/miniconda3/envs/ipykernel_py2/lib/python2.7/multiprocessing/process.py\", line 267, in _bootstrap\n",
      "Traceback (most recent call last):\n",
      "    conn.send(sum)\n",
      "    self._target(*self._args, **self._kwargs)\n",
      "    self.run()\n",
      "  File \"<ipython-input-2-97ed28838095>\", line 18, in pi\n",
      "AttributeError: 'Queue' object has no attribute 'send'\n",
      "  File \"/home/jayme/miniconda3/envs/ipykernel_py2/lib/python2.7/multiprocessing/process.py\", line 267, in _bootstrap\n",
      "    self.run()\n",
      "  File \"/home/jayme/miniconda3/envs/ipykernel_py2/lib/python2.7/multiprocessing/process.py\", line 114, in run\n",
      "  File \"/home/jayme/miniconda3/envs/ipykernel_py2/lib/python2.7/multiprocessing/process.py\", line 114, in run\n",
      "    self._target(*self._args, **self._kwargs)\n",
      "    self._target(*self._args, **self._kwargs)\n",
      "  File \"<ipython-input-2-97ed28838095>\", line 18, in pi\n",
      "    conn.send(sum)\n",
      "    conn.send(sum)\n",
      "  File \"<ipython-input-2-97ed28838095>\", line 18, in pi\n",
      "AttributeError: 'Queue' object has no attribute 'send'\n",
      "AttributeError: 'Queue' object has no attribute 'send'\n",
      "    conn.send(sum)\n",
      "AttributeError: 'Queue' object has no attribute 'send'\n"
     ]
    },
    {
     "ename": "Empty",
     "evalue": "",
     "output_type": "error",
     "traceback": [
      "\u001b[0;31m--------------------------------------------------------------------------\u001b[0m",
      "\u001b[0;31mEmpty\u001b[0m                                    Traceback (most recent call last)",
      "\u001b[0;32m<ipython-input-2-97ed28838095>\u001b[0m in \u001b[0;36m<module>\u001b[0;34m()\u001b[0m\n\u001b[1;32m     40\u001b[0m     \u001b[0mpi\u001b[0m \u001b[0;34m=\u001b[0m \u001b[0;36m0.0\u001b[0m\u001b[0;34m\u001b[0m\u001b[0m\n\u001b[1;32m     41\u001b[0m     \u001b[0;32mfor\u001b[0m \u001b[0mi\u001b[0m \u001b[0;32min\u001b[0m \u001b[0mrange\u001b[0m\u001b[0;34m(\u001b[0m\u001b[0mPROCS\u001b[0m\u001b[0;34m)\u001b[0m\u001b[0;34m:\u001b[0m\u001b[0;34m\u001b[0m\u001b[0m\n\u001b[0;32m---> 42\u001b[0;31m         \u001b[0mpi\u001b[0m \u001b[0;34m=\u001b[0m \u001b[0mpi\u001b[0m \u001b[0;34m+\u001b[0m \u001b[0mRESULT\u001b[0m\u001b[0;34m.\u001b[0m\u001b[0mget\u001b[0m\u001b[0;34m(\u001b[0m\u001b[0mi\u001b[0m\u001b[0;34m)\u001b[0m\u001b[0;34m\u001b[0m\u001b[0m\n\u001b[0m\u001b[1;32m     43\u001b[0m \u001b[0;34m\u001b[0m\u001b[0m\n\u001b[1;32m     44\u001b[0m     \u001b[0;32mprint\u001b[0m\u001b[0;34m(\u001b[0m\u001b[0;34m''\u001b[0m\u001b[0;34m)\u001b[0m\u001b[0;34m\u001b[0m\u001b[0m\n",
      "\u001b[0;32m/home/jayme/miniconda3/envs/ipykernel_py2/lib/python2.7/multiprocessing/queues.pyc\u001b[0m in \u001b[0;36mget\u001b[0;34m(self, block, timeout)\u001b[0m\n\u001b[1;32m    132\u001b[0m                         \u001b[0;32mraise\u001b[0m \u001b[0mEmpty\u001b[0m\u001b[0;34m\u001b[0m\u001b[0m\n\u001b[1;32m    133\u001b[0m                 \u001b[0;32melif\u001b[0m \u001b[0;32mnot\u001b[0m \u001b[0mself\u001b[0m\u001b[0;34m.\u001b[0m\u001b[0m_poll\u001b[0m\u001b[0;34m(\u001b[0m\u001b[0;34m)\u001b[0m\u001b[0;34m:\u001b[0m\u001b[0;34m\u001b[0m\u001b[0m\n\u001b[0;32m--> 134\u001b[0;31m                     \u001b[0;32mraise\u001b[0m \u001b[0mEmpty\u001b[0m\u001b[0;34m\u001b[0m\u001b[0m\n\u001b[0m\u001b[1;32m    135\u001b[0m                 \u001b[0mres\u001b[0m \u001b[0;34m=\u001b[0m \u001b[0mself\u001b[0m\u001b[0;34m.\u001b[0m\u001b[0m_recv\u001b[0m\u001b[0;34m(\u001b[0m\u001b[0;34m)\u001b[0m\u001b[0;34m\u001b[0m\u001b[0m\n\u001b[1;32m    136\u001b[0m                 \u001b[0mself\u001b[0m\u001b[0;34m.\u001b[0m\u001b[0m_sem\u001b[0m\u001b[0;34m.\u001b[0m\u001b[0mrelease\u001b[0m\u001b[0;34m(\u001b[0m\u001b[0;34m)\u001b[0m\u001b[0;34m\u001b[0m\u001b[0m\n",
      "\u001b[0;31mEmpty\u001b[0m: "
     ]
    }
   ],
   "source": [
    "import sys\n",
    "print(sys.version)\n",
    "print('')\n",
    "\n",
    "import time\n",
    "import itertools\n",
    "from multiprocessing import Process, cpu_count, current_process, Pipe\n",
    "\n",
    "PROCS = cpu_count()\n",
    "\n",
    "def pi(start, end, step, conn):\n",
    "    print('Start: {}'.format(start))\n",
    "    print('End: {}'.format(end))\n",
    "    sum = 0.0\n",
    "    for i in range(start, end):\n",
    "        x = (i + 0.5) * step\n",
    "        sum = sum + 4.0 / (1.0 + x * x)\n",
    "    conn.send(sum)\n",
    "    \n",
    "def master(conn):\n",
    "    pi = conn.recv()\n",
    "    \n",
    "if __name__ == '__main__':    \n",
    "    num_steps = 1000000\n",
    "    sum = 0.0\n",
    "    step = 1.0/num_steps\n",
    "    proc_size = num_steps/PROCS\n",
    "    \n",
    "    tic = time.time()\n",
    "    workers = []\n",
    "    for i in range(PROCS):\n",
    "        worker = Process(target = pi, args = (i * proc_size, int((i + 1) * proc_size - 1), step, RESULT))\n",
    "        workers.append(worker)\n",
    "    for worker in workers:\n",
    "        worker.start()\n",
    "    for worker in workers:\n",
    "        worker.join()\n",
    "    toc = time.time()\n",
    "    \n",
    "    pi = 0.0\n",
    "    for i in range(PROCS):\n",
    "        pi = pi + RESULT.get(i)\n",
    "    \n",
    "    print('')\n",
    "    print('It took: {} seconds!'.format(round(toc - tic, 8)))\n",
    "    print('Pi: {}'.format(pi))"
   ]
  },
  {
   "cell_type": "code",
   "execution_count": null,
   "metadata": {},
   "outputs": [],
   "source": []
  },
  {
   "cell_type": "code",
   "execution_count": null,
   "metadata": {},
   "outputs": [],
   "source": []
  },
  {
   "cell_type": "code",
   "execution_count": null,
   "metadata": {},
   "outputs": [],
   "source": []
  },
  {
   "cell_type": "code",
   "execution_count": null,
   "metadata": {},
   "outputs": [],
   "source": []
  },
  {
   "cell_type": "code",
   "execution_count": null,
   "metadata": {},
   "outputs": [],
   "source": []
  },
  {
   "cell_type": "code",
   "execution_count": null,
   "metadata": {},
   "outputs": [],
   "source": []
  },
  {
   "cell_type": "code",
   "execution_count": null,
   "metadata": {},
   "outputs": [],
   "source": []
  },
  {
   "cell_type": "code",
   "execution_count": null,
   "metadata": {},
   "outputs": [],
   "source": []
  },
  {
   "cell_type": "code",
   "execution_count": null,
   "metadata": {},
   "outputs": [],
   "source": []
  },
  {
   "cell_type": "code",
   "execution_count": null,
   "metadata": {},
   "outputs": [],
   "source": []
  }
 ],
 "metadata": {
  "kernelspec": {
   "display_name": "Python 2",
   "language": "python",
   "name": "python2"
  },
  "language_info": {
   "codemirror_mode": {
    "name": "ipython",
    "version": 2
   },
   "file_extension": ".py",
   "mimetype": "text/x-python",
   "name": "python",
   "nbconvert_exporter": "python",
   "pygments_lexer": "ipython2",
   "version": "2.7.15"
  }
 },
 "nbformat": 4,
 "nbformat_minor": 2
}
