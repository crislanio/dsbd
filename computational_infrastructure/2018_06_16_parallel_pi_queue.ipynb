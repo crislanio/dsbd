{
 "cells": [
  {
   "cell_type": "markdown",
   "metadata": {},
   "source": [
    "machine: altix1\n",
    "\n",
    "user: dsdb\n",
    "\n",
    "pass: BigData18\n",
    "\n",
    "`ssh altix1@ssh.inf.ufpr.br`"
   ]
  },
  {
   "cell_type": "code",
   "execution_count": 1,
   "metadata": {},
   "outputs": [
    {
     "name": "stdout",
     "output_type": "stream",
     "text": [
      "2.7.15 |Anaconda, Inc.| (default, May  1 2018, 23:32:55) \n",
      "[GCC 7.2.0]\n",
      "\n",
      "Start: 0\n",
      "Start: 250000\n",
      "End: 499999\n",
      "End: 249999\n",
      "Start: 500000\n",
      "Start: 750000\n",
      "End: 749999\n",
      "End: 999999\n",
      "\n",
      "It took: 0.22310996 seconds!\n",
      "Pi: 3.14158112888\n"
     ]
    }
   ],
   "source": [
    "import sys\n",
    "print(sys.version)\n",
    "print('')\n",
    "\n",
    "import time\n",
    "import itertools\n",
    "from multiprocessing import Process, cpu_count, current_process, Queue\n",
    "\n",
    "PROCS = cpu_count()\n",
    "RESULT = Queue()\n",
    "\n",
    "def pi(start, end, step, result):\n",
    "    print('Start: {}'.format(start))\n",
    "    print('End: {}'.format(end))\n",
    "    sum = 0.0\n",
    "    for i in range(start, end):\n",
    "        x = (i + 0.5) * step\n",
    "        sum = sum + 4.0 / (1.0 + x * x)\n",
    "    result.put(sum/num_steps)\n",
    "    \n",
    "if __name__ == '__main__':    \n",
    "    num_steps = 1000000\n",
    "    sum = 0.0\n",
    "    step = 1.0/num_steps\n",
    "    proc_size = num_steps/PROCS\n",
    "    \n",
    "    tic = time.time()\n",
    "    workers = []\n",
    "    for i in range(PROCS):\n",
    "        worker = Process(target = pi, args = (i * proc_size, int((i + 1) * proc_size - 1), step, RESULT))\n",
    "        workers.append(worker)\n",
    "    for worker in workers:\n",
    "        worker.start()\n",
    "    for worker in workers:\n",
    "        worker.join()\n",
    "    toc = time.time()\n",
    "    \n",
    "    pi = 0.0\n",
    "    for i in range(PROCS):\n",
    "        pi = pi + RESULT.get(i)\n",
    "    \n",
    "    print('')\n",
    "    print('It took: {} seconds!'.format(round(toc - tic, 8)))\n",
    "    print('Pi: {}'.format(pi))"
   ]
  },
  {
   "cell_type": "code",
   "execution_count": 36,
   "metadata": {},
   "outputs": [
    {
     "name": "stdout",
     "output_type": "stream",
     "text": [
      "2.7.12 (default, Dec  4 2017, 14:50:18) \n",
      "[GCC 5.4.0 20160609]\n",
      "\n",
      "Number of cores: 2\n",
      "\n",
      "Start: 0\n",
      "End: 49999\n",
      "Start: 50000\n",
      "End: 99999\n",
      "\n",
      "It took: 0.06779003 seconds!\n",
      "Pi: 3.14154065337\n"
     ]
    }
   ],
   "source": [
    "import sys\n",
    "print(sys.version)\n",
    "print('')\n",
    "\n",
    "import time\n",
    "import itertools\n",
    "from multiprocessing import Process, cpu_count, current_process, Pipe\n",
    "\n",
    "PROCS = cpu_count()\n",
    "print('Number of cores: {}\\n'.format(PROCS))\n",
    "\n",
    "def pi(start, end, step, conn):\n",
    "    print('Start: {}'.format(start))\n",
    "    print('End: {}'.format(end))\n",
    "    sum = 0.0\n",
    "    for i in range(start, end):\n",
    "        x = (i + 0.5) * step\n",
    "        sum = sum + 4.0 / (1.0 + x * x)\n",
    "    conn.send(sum)\n",
    "    conn.close()    \n",
    "    \n",
    "if __name__ == '__main__':    \n",
    "    num_steps = 100000\n",
    "    sum = 0.0\n",
    "    step = 1.0/num_steps\n",
    "    proc_size = num_steps/PROCS\n",
    "    \n",
    "    \n",
    "    pi_resultado = []\n",
    "    tic = time.time()\n",
    "    workers = []\n",
    "    for i in range(PROCS):\n",
    "        a, b = Pipe()\n",
    "        worker = Process(target = pi, args = (i * proc_size, int((i + 1) * proc_size - 1), step, b))\n",
    "        workers.append(worker)\n",
    "        workers[i].start()\n",
    "        pi_resultado.append(a.recv()/num_steps)\n",
    "        workers[i].join\n",
    "    \n",
    "    toc = time.time()\n",
    "    \n",
    "    pi_total = 0.0\n",
    "    for i in range(len(pi_resultado)):\n",
    "        pi_total = pi_total + pi_resultado[i]\n",
    "    \n",
    "    print('')\n",
    "    print('It took: {} seconds!'.format(round(toc - tic, 8)))\n",
    "    print('Pi: {}'.format(pi_total))"
   ]
  },
  {
   "cell_type": "code",
   "execution_count": null,
   "metadata": {},
   "outputs": [],
   "source": []
  },
  {
   "cell_type": "code",
   "execution_count": null,
   "metadata": {},
   "outputs": [],
   "source": []
  },
  {
   "cell_type": "code",
   "execution_count": null,
   "metadata": {},
   "outputs": [],
   "source": []
  },
  {
   "cell_type": "code",
   "execution_count": null,
   "metadata": {},
   "outputs": [],
   "source": []
  },
  {
   "cell_type": "code",
   "execution_count": null,
   "metadata": {},
   "outputs": [],
   "source": []
  },
  {
   "cell_type": "code",
   "execution_count": null,
   "metadata": {},
   "outputs": [],
   "source": []
  }
 ],
 "metadata": {
  "kernelspec": {
   "display_name": "Python 2",
   "language": "python",
   "name": "python2"
  },
  "language_info": {
   "codemirror_mode": {
    "name": "ipython",
    "version": 2
   },
   "file_extension": ".py",
   "mimetype": "text/x-python",
   "name": "python",
   "nbconvert_exporter": "python",
   "pygments_lexer": "ipython2",
   "version": "2.7.12"
  }
 },
 "nbformat": 4,
 "nbformat_minor": 2
}
