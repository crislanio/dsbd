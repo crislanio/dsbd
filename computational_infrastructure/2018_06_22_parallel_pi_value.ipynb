{
 "cells": [
  {
   "cell_type": "code",
   "execution_count": 1,
   "metadata": {},
   "outputs": [
    {
     "name": "stdout",
     "output_type": "stream",
     "text": [
      "2.7.12 (default, Dec  4 2017, 14:50:18) \n",
      "[GCC 5.4.0 20160609]\n",
      "\n",
      "Number of cores: 2\n",
      "\n",
      "Start: 0\n",
      "End: 499999\n",
      "Start: 500000\n",
      "End: 999999\n",
      "\n",
      "It took: 0.32793498 seconds!\n",
      "Pi: 3.1415875\n"
     ]
    }
   ],
   "source": [
    "import sys\n",
    "print(sys.version)\n",
    "print('')\n",
    "\n",
    "import time\n",
    "import itertools\n",
    "from multiprocessing import Process, cpu_count, current_process, Value\n",
    "\n",
    "PROCS = cpu_count()\n",
    "print('Number of cores: {}\\n'.format(PROCS))\n",
    "\n",
    "def pi(start, end, step, val):\n",
    "    print('Start: {}'.format(start))\n",
    "    print('End: {}'.format(end))\n",
    "    sum = 0.0\n",
    "    for i in range(start, end):\n",
    "        x = (i + 0.5) * step\n",
    "        sum = sum + 4.0 / (1.0 + x * x)\n",
    "    with val.get_lock():\n",
    "        val.value += sum    \n",
    "    \n",
    "if __name__ == '__main__':    \n",
    "    num_steps = 1000000\n",
    "    sum = 0.0\n",
    "    step = 1.0/num_steps\n",
    "    proc_size = num_steps/PROCS\n",
    "    v = Value('f', 0.0, lock = True)\n",
    "    \n",
    "    \n",
    "#     pi_resultado = []\n",
    "    tic = time.time()\n",
    "    workers = []\n",
    "    for i in range(PROCS):\n",
    "        worker = Process(target = pi, args = (i * proc_size, int((i + 1) * proc_size - 1), step, v, ))\n",
    "        workers.append(worker)\n",
    "        workers[i].start()\n",
    "        \n",
    "    for i in range(PROCS):\n",
    "        workers[i].join()\n",
    "    \n",
    "    toc = time.time()\n",
    "    \n",
    "    \n",
    "    print('')\n",
    "    print('It took: {} seconds!'.format(round(toc - tic, 8)))\n",
    "    print('Pi: {}'.format(v.value * step))"
   ]
  }
 ],
 "metadata": {
  "kernelspec": {
   "display_name": "Python 2",
   "language": "python",
   "name": "python2"
  },
  "language_info": {
   "codemirror_mode": {
    "name": "ipython",
    "version": 2
   },
   "file_extension": ".py",
   "mimetype": "text/x-python",
   "name": "python",
   "nbconvert_exporter": "python",
   "pygments_lexer": "ipython2",
   "version": "2.7.12"
  }
 },
 "nbformat": 4,
 "nbformat_minor": 2
}
