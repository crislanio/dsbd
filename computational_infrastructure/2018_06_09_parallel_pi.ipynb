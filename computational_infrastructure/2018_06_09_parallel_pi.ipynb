{
 "cells": [
  {
   "cell_type": "code",
   "execution_count": 87,
   "metadata": {},
   "outputs": [
    {
     "name": "stdout",
     "output_type": "stream",
     "text": [
      "2.7.15 |Anaconda, Inc.| (default, May  1 2018, 23:32:55) \n",
      "[GCC 7.2.0]\n",
      "\n",
      "Process number: 0\n",
      "Start: 0\n",
      "Process number: 1\n",
      "End: 2499999\n",
      "Start: 2500000\n",
      "End: 4999999\n",
      "Process number: 2\n",
      "Start: 5000000\n",
      "Process number: 3\n",
      "Start: 7500000\n",
      "End: 9999999\n",
      "End: 7499999\n",
      "\n",
      "It took: 1.42431903 seconds!\n",
      "Pi: 3.14159150112\n"
     ]
    }
   ],
   "source": [
    "import sys\n",
    "print(sys.version)\n",
    "print('')\n",
    "\n",
    "import time\n",
    "from multiprocessing import Process, Manager, cpu_count\n",
    "\n",
    "procs = cpu_count()\n",
    "\n",
    "def pi(start, end, step, procnum, return_dict):\n",
    "    print('Process number: {}'.format(procnum))\n",
    "    print('Start: {}'.format(start))\n",
    "    print('End: {}'.format(end))\n",
    "    sum = 0.0\n",
    "    for i in range(start, end):\n",
    "        x = (i + 0.5) * step\n",
    "        sum = sum + 4.0 / (1.0 + x * x)\n",
    "    return_dict[procnum] = sum / num_steps\n",
    "    \n",
    "if __name__ == '__main__':\n",
    "    \n",
    "    manager = Manager()\n",
    "    return_dict = manager.dict()\n",
    "    \n",
    "    num_steps = 10000000\n",
    "    sums = 0.0\n",
    "    step = 1.0/num_steps\n",
    "    proc_size = num_steps/procs\n",
    "    \n",
    "    tic = time.time()\n",
    "    workers = []\n",
    "    for i in range(procs):\n",
    "        worker = Process(target = pi, args = (i * proc_size, int((i + 1) * proc_size - 1), step, i, return_dict, ))\n",
    "        workers.append(worker)\n",
    "    for worker in workers:\n",
    "        worker.start()\n",
    "    for worker in workers:\n",
    "        worker.join()\n",
    "    toc = time.time()\n",
    "    \n",
    "    print('')\n",
    "    print('It took: {} seconds!'.format(round(toc - tic, 8)))\n",
    "    print('Pi: {}'.format(sum(return_dict.values())))"
   ]
  }
 ],
 "metadata": {
  "kernelspec": {
   "display_name": "Python 2",
   "language": "python",
   "name": "python2"
  },
  "language_info": {
   "codemirror_mode": {
    "name": "ipython",
    "version": 2
   },
   "file_extension": ".py",
   "mimetype": "text/x-python",
   "name": "python",
   "nbconvert_exporter": "python",
   "pygments_lexer": "ipython2",
   "version": "2.7.15"
  }
 },
 "nbformat": 4,
 "nbformat_minor": 2
}
