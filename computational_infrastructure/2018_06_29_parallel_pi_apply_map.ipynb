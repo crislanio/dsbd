{
 "cells": [
  {
   "cell_type": "code",
   "execution_count": 1,
   "metadata": {},
   "outputs": [
    {
     "name": "stdout",
     "output_type": "stream",
     "text": [
      "2.7.12 (default, Dec  4 2017, 14:50:18) \n",
      "[GCC 5.4.0 20160609]\n",
      "\n",
      "Number of cores: 2\n",
      "\n",
      "Start: 0\n",
      "End: 499999\n",
      "Start: 500000\n",
      "End: 999999\n",
      "\n",
      "It took: 0.41358495 seconds!\n",
      "Pi: 3.14158745359\n"
     ]
    }
   ],
   "source": [
    "import sys\n",
    "print(sys.version)\n",
    "print('')\n",
    "\n",
    "import time\n",
    "import itertools\n",
    "from multiprocessing import Process, cpu_count, Pool\n",
    "\n",
    "PROCS = cpu_count()\n",
    "print('Number of cores: {}\\n'.format(PROCS))\n",
    "\n",
    "def pi(start, end, step):\n",
    "    print('Start: {}'.format(start))\n",
    "    print('End: {}'.format(end))\n",
    "    sum = 0.0\n",
    "    for i in range(start, end):\n",
    "        x = (i + 0.5) * step\n",
    "        sum = sum + 4.0 / (1.0 + x * x)\n",
    "    return sum\n",
    "    \n",
    "if __name__ == '__main__':    \n",
    "    num_steps = 1000000\n",
    "    sum = 0.0\n",
    "    step = 1.0/num_steps\n",
    "    proc_size = num_steps/PROCS\n",
    "    pool = Pool(processes = PROCS)\n",
    "    \n",
    "    tic = time.time()\n",
    "    \n",
    "    pi_value = [pool.apply(pi, args = (i * proc_size, int((i + 1) * proc_size - 1), step,)) for i in range(PROCS)]\n",
    "    \n",
    "    toc = time.time()\n",
    "    \n",
    "    pi_total = 0.0\n",
    "    for i in range(len(pi_value)):\n",
    "        pi_total = pi_total + pi_value[i]\n",
    "    \n",
    "    print('')\n",
    "    print('It took: {} seconds!'.format(round(toc - tic, 8)))\n",
    "    print('Pi: {}'.format(pi_total * step))"
   ]
  },
  {
   "cell_type": "code",
   "execution_count": 2,
   "metadata": {},
   "outputs": [
    {
     "ename": "SyntaxError",
     "evalue": "Generator expression must be parenthesized if not sole argument (<ipython-input-2-bd1a7b6bf882>, line 30)",
     "output_type": "error",
     "traceback": [
      "\u001b[0;36m  File \u001b[0;32m\"<ipython-input-2-bd1a7b6bf882>\"\u001b[0;36m, line \u001b[0;32m30\u001b[0m\n\u001b[0;31m    pi_value = pool.map(pi(i * proc_size, int((i + 1) * proc_size - 1), step for i in range(PROCS)), range(num_steps))\u001b[0m\n\u001b[0;31mSyntaxError\u001b[0m\u001b[0;31m:\u001b[0m Generator expression must be parenthesized if not sole argument\n"
     ]
    }
   ],
   "source": [
    "import sys\n",
    "print(sys.version)\n",
    "print('')\n",
    "\n",
    "import time\n",
    "import itertools\n",
    "from multiprocessing import Process, cpu_count, Pool\n",
    "\n",
    "PROCS = cpu_count()\n",
    "print('Number of cores: {}\\n'.format(PROCS))\n",
    "\n",
    "def pi(start, end, step):\n",
    "    print('Start: {}'.format(start))\n",
    "    print('End: {}'.format(end))\n",
    "    sum = 0.0\n",
    "    for i in range(start, end):\n",
    "        x = (i + 0.5) * step\n",
    "        sum = sum + 4.0 / (1.0 + x * x)\n",
    "    return sum\n",
    "    \n",
    "if __name__ == '__main__':    \n",
    "    num_steps = 1000000\n",
    "    sum = 0.0\n",
    "    step = 1.0/num_steps\n",
    "    proc_size = num_steps/PROCS\n",
    "    pool = Pool(processes = PROCS)\n",
    "    \n",
    "    tic = time.time()\n",
    "    \n",
    "    pi_value = pool.map(pi(i * proc_size, int((i + 1) * proc_size - 1), step for i in range(PROCS)), range(num_steps))\n",
    "    \n",
    "    toc = time.time()\n",
    "    \n",
    "    pi_total = 0.0\n",
    "    for i in range(len(pi_value)):\n",
    "        pi_total = pi_total + pi_value[i]\n",
    "    \n",
    "    print('')\n",
    "    print('It took: {} seconds!'.format(round(toc - tic, 8)))\n",
    "    print('Pi: {}'.format(pi_total * step))"
   ]
  }
 ],
 "metadata": {
  "kernelspec": {
   "display_name": "Python 2",
   "language": "python",
   "name": "python2"
  },
  "language_info": {
   "codemirror_mode": {
    "name": "ipython",
    "version": 2
   },
   "file_extension": ".py",
   "mimetype": "text/x-python",
   "name": "python",
   "nbconvert_exporter": "python",
   "pygments_lexer": "ipython2",
   "version": "2.7.12"
  }
 },
 "nbformat": 4,
 "nbformat_minor": 2
}
