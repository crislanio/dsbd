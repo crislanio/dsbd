{
 "cells": [
  {
   "cell_type": "code",
   "execution_count": 1,
   "metadata": {},
   "outputs": [
    {
     "data": {
      "text/html": [
       "<time datetime=\"2018-05-06\">2018-05-06</time>"
      ],
      "text/latex": [
       "2018-05-06"
      ],
      "text/markdown": [
       "2018-05-06"
      ],
      "text/plain": [
       "[1] \"2018-05-06\""
      ]
     },
     "metadata": {},
     "output_type": "display_data"
    }
   ],
   "source": [
    "# Author: Jayme Anchante\n",
    "# Date:\n",
    "Sys.Date()"
   ]
  },
  {
   "cell_type": "markdown",
   "metadata": {},
   "source": [
    "# 1. Functions and arguments\n",
    "In R, functions are defined as:\n",
    "\n",
    "`function(arg1, arg2, ...)`\n",
    "\n",
    "For example `runif()` returns random numbers from an uniform distribution:\n",
    "\n",
    "`runif(n, min=0, max=1)`"
   ]
  },
  {
   "cell_type": "code",
   "execution_count": 2,
   "metadata": {},
   "outputs": [
    {
     "data": {
      "text/html": [
       "<ol class=list-inline>\n",
       "\t<li>1.9023057220038</li>\n",
       "\t<li>8.89049199293368</li>\n",
       "\t<li>1.43360421829857</li>\n",
       "\t<li>4.76003194018267</li>\n",
       "\t<li>4.80892997886986</li>\n",
       "\t<li>8.63075794442557</li>\n",
       "\t<li>5.23570484458469</li>\n",
       "\t<li>8.03734243451618</li>\n",
       "\t<li>3.74938093521632</li>\n",
       "\t<li>7.65775781776756</li>\n",
       "</ol>\n"
      ],
      "text/latex": [
       "\\begin{enumerate*}\n",
       "\\item 1.9023057220038\n",
       "\\item 8.89049199293368\n",
       "\\item 1.43360421829857\n",
       "\\item 4.76003194018267\n",
       "\\item 4.80892997886986\n",
       "\\item 8.63075794442557\n",
       "\\item 5.23570484458469\n",
       "\\item 8.03734243451618\n",
       "\\item 3.74938093521632\n",
       "\\item 7.65775781776756\n",
       "\\end{enumerate*}\n"
      ],
      "text/markdown": [
       "1. 1.9023057220038\n",
       "2. 8.89049199293368\n",
       "3. 1.43360421829857\n",
       "4. 4.76003194018267\n",
       "5. 4.80892997886986\n",
       "6. 8.63075794442557\n",
       "7. 5.23570484458469\n",
       "8. 8.03734243451618\n",
       "9. 3.74938093521632\n",
       "10. 7.65775781776756\n",
       "\n",
       "\n"
      ],
      "text/plain": [
       " [1] 1.902306 8.890492 1.433604 4.760032 4.808930 8.630758 5.235705 8.037342\n",
       " [9] 3.749381 7.657758"
      ]
     },
     "metadata": {},
     "output_type": "display_data"
    }
   ],
   "source": [
    "runif(n=10, min=1, max=10)"
   ]
  },
  {
   "cell_type": "markdown",
   "metadata": {},
   "source": [
    "Arguments with default values could be omitted:"
   ]
  },
  {
   "cell_type": "code",
   "execution_count": 3,
   "metadata": {},
   "outputs": [
    {
     "data": {
      "text/html": [
       "<ol class=list-inline>\n",
       "\t<li>0.862245255149901</li>\n",
       "\t<li>0.872718965169042</li>\n",
       "\t<li>0.909354362403974</li>\n",
       "\t<li>0.531579125206918</li>\n",
       "\t<li>0.295369543135166</li>\n",
       "\t<li>0.127152591245249</li>\n",
       "\t<li>0.107549734180793</li>\n",
       "\t<li>0.931303231744096</li>\n",
       "\t<li>0.65599479409866</li>\n",
       "\t<li>0.561883305897936</li>\n",
       "</ol>\n"
      ],
      "text/latex": [
       "\\begin{enumerate*}\n",
       "\\item 0.862245255149901\n",
       "\\item 0.872718965169042\n",
       "\\item 0.909354362403974\n",
       "\\item 0.531579125206918\n",
       "\\item 0.295369543135166\n",
       "\\item 0.127152591245249\n",
       "\\item 0.107549734180793\n",
       "\\item 0.931303231744096\n",
       "\\item 0.65599479409866\n",
       "\\item 0.561883305897936\n",
       "\\end{enumerate*}\n"
      ],
      "text/markdown": [
       "1. 0.862245255149901\n",
       "2. 0.872718965169042\n",
       "3. 0.909354362403974\n",
       "4. 0.531579125206918\n",
       "5. 0.295369543135166\n",
       "6. 0.127152591245249\n",
       "7. 0.107549734180793\n",
       "8. 0.931303231744096\n",
       "9. 0.65599479409866\n",
       "10. 0.561883305897936\n",
       "\n",
       "\n"
      ],
      "text/plain": [
       " [1] 0.8622453 0.8727190 0.9093544 0.5315791 0.2953695 0.1271526 0.1075497\n",
       " [8] 0.9313032 0.6559948 0.5618833"
      ]
     },
     "metadata": {},
     "output_type": "display_data"
    }
   ],
   "source": [
    "runif(10)"
   ]
  },
  {
   "cell_type": "markdown",
   "metadata": {},
   "source": [
    "If arguments are named, the order is unimportant:"
   ]
  },
  {
   "cell_type": "code",
   "execution_count": 4,
   "metadata": {},
   "outputs": [
    {
     "data": {
      "text/html": [
       "<ol class=list-inline>\n",
       "\t<li>89.5482367959339</li>\n",
       "\t<li>98.7856753089</li>\n",
       "\t<li>28.0349688159768</li>\n",
       "\t<li>77.0620360604953</li>\n",
       "\t<li>38.4524321889039</li>\n",
       "\t<li>6.74103216291405</li>\n",
       "\t<li>64.0851969474461</li>\n",
       "\t<li>82.7745401707944</li>\n",
       "\t<li>87.7842025936116</li>\n",
       "\t<li>99.7955785873346</li>\n",
       "</ol>\n"
      ],
      "text/latex": [
       "\\begin{enumerate*}\n",
       "\\item 89.5482367959339\n",
       "\\item 98.7856753089\n",
       "\\item 28.0349688159768\n",
       "\\item 77.0620360604953\n",
       "\\item 38.4524321889039\n",
       "\\item 6.74103216291405\n",
       "\\item 64.0851969474461\n",
       "\\item 82.7745401707944\n",
       "\\item 87.7842025936116\n",
       "\\item 99.7955785873346\n",
       "\\end{enumerate*}\n"
      ],
      "text/markdown": [
       "1. 89.5482367959339\n",
       "2. 98.7856753089\n",
       "3. 28.0349688159768\n",
       "4. 77.0620360604953\n",
       "5. 38.4524321889039\n",
       "6. 6.74103216291405\n",
       "7. 64.0851969474461\n",
       "8. 82.7745401707944\n",
       "9. 87.7842025936116\n",
       "10. 99.7955785873346\n",
       "\n",
       "\n"
      ],
      "text/plain": [
       " [1] 89.548237 98.785675 28.034969 77.062036 38.452432  6.741032 64.085197\n",
       " [8] 82.774540 87.784203 99.795579"
      ]
     },
     "metadata": {},
     "output_type": "display_data"
    }
   ],
   "source": [
    "runif(min=1, max=100, n=10)"
   ]
  },
  {
   "cell_type": "markdown",
   "metadata": {},
   "source": [
    "Named and unnamed arguments can be used, since unnamed ones are in the correct position:"
   ]
  },
  {
   "cell_type": "code",
   "execution_count": 5,
   "metadata": {},
   "outputs": [
    {
     "data": {
      "text/html": [
       "<ol class=list-inline>\n",
       "\t<li>76.9983316685539</li>\n",
       "\t<li>58.5867815178353</li>\n",
       "\t<li>28.0277253722306</li>\n",
       "\t<li>60.4267344770487</li>\n",
       "\t<li>74.6740575248841</li>\n",
       "\t<li>93.4154082760215</li>\n",
       "\t<li>44.7283279912081</li>\n",
       "\t<li>78.558608005289</li>\n",
       "\t<li>97.7666994354222</li>\n",
       "\t<li>28.7636544946581</li>\n",
       "</ol>\n"
      ],
      "text/latex": [
       "\\begin{enumerate*}\n",
       "\\item 76.9983316685539\n",
       "\\item 58.5867815178353\n",
       "\\item 28.0277253722306\n",
       "\\item 60.4267344770487\n",
       "\\item 74.6740575248841\n",
       "\\item 93.4154082760215\n",
       "\\item 44.7283279912081\n",
       "\\item 78.558608005289\n",
       "\\item 97.7666994354222\n",
       "\\item 28.7636544946581\n",
       "\\end{enumerate*}\n"
      ],
      "text/markdown": [
       "1. 76.9983316685539\n",
       "2. 58.5867815178353\n",
       "3. 28.0277253722306\n",
       "4. 60.4267344770487\n",
       "5. 74.6740575248841\n",
       "6. 93.4154082760215\n",
       "7. 44.7283279912081\n",
       "8. 78.558608005289\n",
       "9. 97.7666994354222\n",
       "10. 28.7636544946581\n",
       "\n",
       "\n"
      ],
      "text/plain": [
       " [1] 76.99833 58.58678 28.02773 60.42673 74.67406 93.41541 44.72833 78.55861\n",
       " [9] 97.76670 28.76365"
      ]
     },
     "metadata": {},
     "output_type": "display_data"
    }
   ],
   "source": [
    "runif(10, max=100, min=1)"
   ]
  },
  {
   "cell_type": "markdown",
   "metadata": {},
   "source": [
    "## 1.1. Other types of arguments"
   ]
  },
  {
   "cell_type": "markdown",
   "metadata": {},
   "source": [
    "For example: `sample()`function:\n",
    "\n",
    "```sample(x, size, replace=FALSE, prob=NULL)```\n",
    "\n",
    "> `x` and `size` must be specified\n",
    "\n",
    "> `replace` is logical: `TRUE` (`T`) or `FALSE` (`F`)\n",
    "\n",
    "> `prob` is oprtional\n",
    "\n",
    "For example: `plot()` function:\n",
    "\n",
    "```plot(x, y, ...)```\n",
    "\n",
    "> \"`...`\" allow specify arguments from other functions\n",
    "\n",
    "To see all arguments from a function, use `args()`:"
   ]
  },
  {
   "cell_type": "code",
   "execution_count": 6,
   "metadata": {},
   "outputs": [
    {
     "data": {
      "text/html": [
       "<pre class=language-r><code>function (x, size, replace = FALSE, prob = NULL) \n",
       "NULL</code></pre>"
      ],
      "text/latex": [
       "\\begin{minted}{r}\n",
       "function (x, size, replace = FALSE, prob = NULL) \n",
       "NULL\n",
       "\\end{minted}"
      ],
      "text/markdown": [
       "```r\n",
       "function (x, size, replace = FALSE, prob = NULL) \n",
       "NULL\n",
       "```"
      ],
      "text/plain": [
       "function (x, size, replace = FALSE, prob = NULL) \n",
       "NULL"
      ]
     },
     "metadata": {},
     "output_type": "display_data"
    }
   ],
   "source": [
    "args(sample)"
   ]
  },
  {
   "cell_type": "markdown",
   "metadata": {},
   "source": [
    "# 2. Help"
   ]
  },
  {
   "cell_type": "code",
   "execution_count": 7,
   "metadata": {},
   "outputs": [],
   "source": [
    "?runif"
   ]
  },
  {
   "cell_type": "code",
   "execution_count": 8,
   "metadata": {},
   "outputs": [],
   "source": [
    "help(runif)"
   ]
  },
  {
   "cell_type": "code",
   "execution_count": 9,
   "metadata": {},
   "outputs": [
    {
     "data": {
      "text/html": [
       "<ol class=list-inline>\n",
       "\t<li>'!.hexmode'</li>\n",
       "\t<li>'!.octmode'</li>\n",
       "\t<li>'[.hexmode'</li>\n",
       "\t<li>'[.octmode'</li>\n",
       "\t<li>'&amp;.hexmode'</li>\n",
       "\t<li>'&amp;.octmode'</li>\n",
       "\t<li>'|.hexmode'</li>\n",
       "\t<li>'|.octmode'</li>\n",
       "\t<li>'as.character.hexmode'</li>\n",
       "\t<li>'as.character.octmode'</li>\n",
       "\t<li>'as.data.frame.model.matrix'</li>\n",
       "\t<li>'as.hexmode'</li>\n",
       "\t<li>'as.octmode'</li>\n",
       "\t<li>'expand.model.frame'</li>\n",
       "\t<li>'file.mode'</li>\n",
       "\t<li>'format.hexmode'</li>\n",
       "\t<li>'format.octmode'</li>\n",
       "\t<li>'is.empty.model'</li>\n",
       "\t<li>'Mod'</li>\n",
       "\t<li>'mode'</li>\n",
       "\t<li>'mode&lt;-'</li>\n",
       "\t<li>'model.extract'</li>\n",
       "\t<li>'model.frame'</li>\n",
       "\t<li>'model.frame.default'</li>\n",
       "\t<li>'model.matrix'</li>\n",
       "\t<li>'model.matrix.default'</li>\n",
       "\t<li>'model.matrix.lm'</li>\n",
       "\t<li>'model.offset'</li>\n",
       "\t<li>'model.response'</li>\n",
       "\t<li>'model.tables'</li>\n",
       "\t<li>'model.weights'</li>\n",
       "\t<li>'modifyList'</li>\n",
       "\t<li>'print.hexmode'</li>\n",
       "\t<li>'print.octmode'</li>\n",
       "\t<li>'storage.mode'</li>\n",
       "\t<li>'storage.mode&lt;-'</li>\n",
       "\t<li>'Sys.chmod'</li>\n",
       "\t<li>'xor.hexmode'</li>\n",
       "\t<li>'xor.octmode'</li>\n",
       "</ol>\n"
      ],
      "text/latex": [
       "\\begin{enumerate*}\n",
       "\\item '!.hexmode'\n",
       "\\item '!.octmode'\n",
       "\\item '{[}.hexmode'\n",
       "\\item '{[}.octmode'\n",
       "\\item '\\&.hexmode'\n",
       "\\item '\\&.octmode'\n",
       "\\item '\\textbar{}.hexmode'\n",
       "\\item '\\textbar{}.octmode'\n",
       "\\item 'as.character.hexmode'\n",
       "\\item 'as.character.octmode'\n",
       "\\item 'as.data.frame.model.matrix'\n",
       "\\item 'as.hexmode'\n",
       "\\item 'as.octmode'\n",
       "\\item 'expand.model.frame'\n",
       "\\item 'file.mode'\n",
       "\\item 'format.hexmode'\n",
       "\\item 'format.octmode'\n",
       "\\item 'is.empty.model'\n",
       "\\item 'Mod'\n",
       "\\item 'mode'\n",
       "\\item 'mode<-'\n",
       "\\item 'model.extract'\n",
       "\\item 'model.frame'\n",
       "\\item 'model.frame.default'\n",
       "\\item 'model.matrix'\n",
       "\\item 'model.matrix.default'\n",
       "\\item 'model.matrix.lm'\n",
       "\\item 'model.offset'\n",
       "\\item 'model.response'\n",
       "\\item 'model.tables'\n",
       "\\item 'model.weights'\n",
       "\\item 'modifyList'\n",
       "\\item 'print.hexmode'\n",
       "\\item 'print.octmode'\n",
       "\\item 'storage.mode'\n",
       "\\item 'storage.mode<-'\n",
       "\\item 'Sys.chmod'\n",
       "\\item 'xor.hexmode'\n",
       "\\item 'xor.octmode'\n",
       "\\end{enumerate*}\n"
      ],
      "text/markdown": [
       "1. '!.hexmode'\n",
       "2. '!.octmode'\n",
       "3. '[.hexmode'\n",
       "4. '[.octmode'\n",
       "5. '&amp;.hexmode'\n",
       "6. '&amp;.octmode'\n",
       "7. '|.hexmode'\n",
       "8. '|.octmode'\n",
       "9. 'as.character.hexmode'\n",
       "10. 'as.character.octmode'\n",
       "11. 'as.data.frame.model.matrix'\n",
       "12. 'as.hexmode'\n",
       "13. 'as.octmode'\n",
       "14. 'expand.model.frame'\n",
       "15. 'file.mode'\n",
       "16. 'format.hexmode'\n",
       "17. 'format.octmode'\n",
       "18. 'is.empty.model'\n",
       "19. 'Mod'\n",
       "20. 'mode'\n",
       "21. 'mode&lt;-'\n",
       "22. 'model.extract'\n",
       "23. 'model.frame'\n",
       "24. 'model.frame.default'\n",
       "25. 'model.matrix'\n",
       "26. 'model.matrix.default'\n",
       "27. 'model.matrix.lm'\n",
       "28. 'model.offset'\n",
       "29. 'model.response'\n",
       "30. 'model.tables'\n",
       "31. 'model.weights'\n",
       "32. 'modifyList'\n",
       "33. 'print.hexmode'\n",
       "34. 'print.octmode'\n",
       "35. 'storage.mode'\n",
       "36. 'storage.mode&lt;-'\n",
       "37. 'Sys.chmod'\n",
       "38. 'xor.hexmode'\n",
       "39. 'xor.octmode'\n",
       "\n",
       "\n"
      ],
      "text/plain": [
       " [1] \"!.hexmode\"                  \"!.octmode\"                 \n",
       " [3] \"[.hexmode\"                  \"[.octmode\"                 \n",
       " [5] \"&.hexmode\"                  \"&.octmode\"                 \n",
       " [7] \"|.hexmode\"                  \"|.octmode\"                 \n",
       " [9] \"as.character.hexmode\"       \"as.character.octmode\"      \n",
       "[11] \"as.data.frame.model.matrix\" \"as.hexmode\"                \n",
       "[13] \"as.octmode\"                 \"expand.model.frame\"        \n",
       "[15] \"file.mode\"                  \"format.hexmode\"            \n",
       "[17] \"format.octmode\"             \"is.empty.model\"            \n",
       "[19] \"Mod\"                        \"mode\"                      \n",
       "[21] \"mode<-\"                     \"model.extract\"             \n",
       "[23] \"model.frame\"                \"model.frame.default\"       \n",
       "[25] \"model.matrix\"               \"model.matrix.default\"      \n",
       "[27] \"model.matrix.lm\"            \"model.offset\"              \n",
       "[29] \"model.response\"             \"model.tables\"              \n",
       "[31] \"model.weights\"              \"modifyList\"                \n",
       "[33] \"print.hexmode\"              \"print.octmode\"             \n",
       "[35] \"storage.mode\"               \"storage.mode<-\"            \n",
       "[37] \"Sys.chmod\"                  \"xor.hexmode\"               \n",
       "[39] \"xor.octmode\"               "
      ]
     },
     "metadata": {},
     "output_type": "display_data"
    }
   ],
   "source": [
    "# searching for function names which contain some word:\n",
    "apropos('mod')"
   ]
  },
  {
   "cell_type": "code",
   "execution_count": 10,
   "metadata": {},
   "outputs": [
    {
     "data": {
      "text/html": [
       "<ol class=list-inline>\n",
       "\t<li>'as.data.frame.model.matrix'</li>\n",
       "\t<li>'expand.model.frame'</li>\n",
       "\t<li>'is.empty.model'</li>\n",
       "\t<li>'model.extract'</li>\n",
       "\t<li>'model.frame'</li>\n",
       "\t<li>'model.frame.default'</li>\n",
       "\t<li>'model.matrix'</li>\n",
       "\t<li>'model.matrix.default'</li>\n",
       "\t<li>'model.matrix.lm'</li>\n",
       "\t<li>'model.offset'</li>\n",
       "\t<li>'model.response'</li>\n",
       "\t<li>'model.tables'</li>\n",
       "\t<li>'model.weights'</li>\n",
       "</ol>\n"
      ],
      "text/latex": [
       "\\begin{enumerate*}\n",
       "\\item 'as.data.frame.model.matrix'\n",
       "\\item 'expand.model.frame'\n",
       "\\item 'is.empty.model'\n",
       "\\item 'model.extract'\n",
       "\\item 'model.frame'\n",
       "\\item 'model.frame.default'\n",
       "\\item 'model.matrix'\n",
       "\\item 'model.matrix.default'\n",
       "\\item 'model.matrix.lm'\n",
       "\\item 'model.offset'\n",
       "\\item 'model.response'\n",
       "\\item 'model.tables'\n",
       "\\item 'model.weights'\n",
       "\\end{enumerate*}\n"
      ],
      "text/markdown": [
       "1. 'as.data.frame.model.matrix'\n",
       "2. 'expand.model.frame'\n",
       "3. 'is.empty.model'\n",
       "4. 'model.extract'\n",
       "5. 'model.frame'\n",
       "6. 'model.frame.default'\n",
       "7. 'model.matrix'\n",
       "8. 'model.matrix.default'\n",
       "9. 'model.matrix.lm'\n",
       "10. 'model.offset'\n",
       "11. 'model.response'\n",
       "12. 'model.tables'\n",
       "13. 'model.weights'\n",
       "\n",
       "\n"
      ],
      "text/plain": [
       " [1] \"as.data.frame.model.matrix\" \"expand.model.frame\"        \n",
       " [3] \"is.empty.model\"             \"model.extract\"             \n",
       " [5] \"model.frame\"                \"model.frame.default\"       \n",
       " [7] \"model.matrix\"               \"model.matrix.default\"      \n",
       " [9] \"model.matrix.lm\"            \"model.offset\"              \n",
       "[11] \"model.response\"             \"model.tables\"              \n",
       "[13] \"model.weights\"             "
      ]
     },
     "metadata": {},
     "output_type": "display_data"
    }
   ],
   "source": [
    "apropos('model')"
   ]
  },
  {
   "cell_type": "code",
   "execution_count": 11,
   "metadata": {},
   "outputs": [
    {
     "data": {
      "text/plain": [
       "No vignettes or demos or help files found with alias or concept or\n",
       "title matching ‘palavra’ using fuzzy matching."
      ]
     },
     "metadata": {},
     "output_type": "display_data"
    }
   ],
   "source": [
    "# search for functions that contain a word in any part of its documentation\n",
    "\n",
    "help.search('palavra')"
   ]
  },
  {
   "cell_type": "code",
   "execution_count": 12,
   "metadata": {},
   "outputs": [
    {
     "name": "stderr",
     "output_type": "stream",
     "text": [
      "starting httpd help server ... done\n"
     ]
    },
    {
     "name": "stdout",
     "output_type": "stream",
     "text": [
      "If the browser launched by '/usr/bin/xdg-open' is already running, it\n",
      "    is *not* restarted, and you must switch to its window.\n",
      "Otherwise, be patient ...\n"
     ]
    }
   ],
   "source": [
    "# In-browser help\n",
    "\n",
    "help.start()"
   ]
  },
  {
   "cell_type": "markdown",
   "metadata": {},
   "source": [
    "The R-core contains some basic packages (not all are loaded in the default R initialization). To list all loaded packages:"
   ]
  },
  {
   "cell_type": "code",
   "execution_count": 13,
   "metadata": {},
   "outputs": [
    {
     "data": {
      "text/html": [
       "<ol class=list-inline>\n",
       "\t<li>'.GlobalEnv'</li>\n",
       "\t<li>'jupyter:irkernel'</li>\n",
       "\t<li>'package:stats'</li>\n",
       "\t<li>'package:graphics'</li>\n",
       "\t<li>'package:grDevices'</li>\n",
       "\t<li>'package:utils'</li>\n",
       "\t<li>'package:datasets'</li>\n",
       "\t<li>'package:methods'</li>\n",
       "\t<li>'Autoloads'</li>\n",
       "\t<li>'package:base'</li>\n",
       "</ol>\n"
      ],
      "text/latex": [
       "\\begin{enumerate*}\n",
       "\\item '.GlobalEnv'\n",
       "\\item 'jupyter:irkernel'\n",
       "\\item 'package:stats'\n",
       "\\item 'package:graphics'\n",
       "\\item 'package:grDevices'\n",
       "\\item 'package:utils'\n",
       "\\item 'package:datasets'\n",
       "\\item 'package:methods'\n",
       "\\item 'Autoloads'\n",
       "\\item 'package:base'\n",
       "\\end{enumerate*}\n"
      ],
      "text/markdown": [
       "1. '.GlobalEnv'\n",
       "2. 'jupyter:irkernel'\n",
       "3. 'package:stats'\n",
       "4. 'package:graphics'\n",
       "5. 'package:grDevices'\n",
       "6. 'package:utils'\n",
       "7. 'package:datasets'\n",
       "8. 'package:methods'\n",
       "9. 'Autoloads'\n",
       "10. 'package:base'\n",
       "\n",
       "\n"
      ],
      "text/plain": [
       " [1] \".GlobalEnv\"        \"jupyter:irkernel\"  \"package:stats\"    \n",
       " [4] \"package:graphics\"  \"package:grDevices\" \"package:utils\"    \n",
       " [7] \"package:datasets\"  \"package:methods\"   \"Autoloads\"        \n",
       "[10] \"package:base\"     "
      ]
     },
     "metadata": {},
     "output_type": "display_data"
    }
   ],
   "source": [
    "search()"
   ]
  },
  {
   "cell_type": "markdown",
   "metadata": {},
   "source": [
    "To load a package:"
   ]
  },
  {
   "cell_type": "code",
   "execution_count": 14,
   "metadata": {},
   "outputs": [],
   "source": [
    "library(lattice)"
   ]
  },
  {
   "cell_type": "code",
   "execution_count": 15,
   "metadata": {},
   "outputs": [
    {
     "name": "stderr",
     "output_type": "stream",
     "text": [
      "Loading required package: MASS\n"
     ]
    }
   ],
   "source": [
    "require(MASS)"
   ]
  },
  {
   "cell_type": "code",
   "execution_count": 16,
   "metadata": {},
   "outputs": [
    {
     "data": {
      "text/html": [
       "<ol class=list-inline>\n",
       "\t<li>'.GlobalEnv'</li>\n",
       "\t<li>'package:MASS'</li>\n",
       "\t<li>'package:lattice'</li>\n",
       "\t<li>'jupyter:irkernel'</li>\n",
       "\t<li>'package:stats'</li>\n",
       "\t<li>'package:graphics'</li>\n",
       "\t<li>'package:grDevices'</li>\n",
       "\t<li>'package:utils'</li>\n",
       "\t<li>'package:datasets'</li>\n",
       "\t<li>'package:methods'</li>\n",
       "\t<li>'Autoloads'</li>\n",
       "\t<li>'package:base'</li>\n",
       "</ol>\n"
      ],
      "text/latex": [
       "\\begin{enumerate*}\n",
       "\\item '.GlobalEnv'\n",
       "\\item 'package:MASS'\n",
       "\\item 'package:lattice'\n",
       "\\item 'jupyter:irkernel'\n",
       "\\item 'package:stats'\n",
       "\\item 'package:graphics'\n",
       "\\item 'package:grDevices'\n",
       "\\item 'package:utils'\n",
       "\\item 'package:datasets'\n",
       "\\item 'package:methods'\n",
       "\\item 'Autoloads'\n",
       "\\item 'package:base'\n",
       "\\end{enumerate*}\n"
      ],
      "text/markdown": [
       "1. '.GlobalEnv'\n",
       "2. 'package:MASS'\n",
       "3. 'package:lattice'\n",
       "4. 'jupyter:irkernel'\n",
       "5. 'package:stats'\n",
       "6. 'package:graphics'\n",
       "7. 'package:grDevices'\n",
       "8. 'package:utils'\n",
       "9. 'package:datasets'\n",
       "10. 'package:methods'\n",
       "11. 'Autoloads'\n",
       "12. 'package:base'\n",
       "\n",
       "\n"
      ],
      "text/plain": [
       " [1] \".GlobalEnv\"        \"package:MASS\"      \"package:lattice\"  \n",
       " [4] \"jupyter:irkernel\"  \"package:stats\"     \"package:graphics\" \n",
       " [7] \"package:grDevices\" \"package:utils\"     \"package:datasets\" \n",
       "[10] \"package:methods\"   \"Autoloads\"         \"package:base\"     "
      ]
     },
     "metadata": {},
     "output_type": "display_data"
    }
   ],
   "source": [
    "search()"
   ]
  },
  {
   "cell_type": "markdown",
   "metadata": {},
   "source": [
    "Loading a package makes all its functions available to use. To install a package:"
   ]
  },
  {
   "cell_type": "code",
   "execution_count": 17,
   "metadata": {},
   "outputs": [
    {
     "name": "stderr",
     "output_type": "stream",
     "text": [
      "Installing package into ‘/home/jayme/.R/library’\n",
      "(as ‘lib’ is unspecified)\n"
     ]
    }
   ],
   "source": [
    "install.packages('devtools')"
   ]
  },
  {
   "cell_type": "markdown",
   "metadata": {},
   "source": [
    "To verify available libraries and if packages can be updated:"
   ]
  },
  {
   "cell_type": "code",
   "execution_count": 18,
   "metadata": {},
   "outputs": [
    {
     "data": {
      "text/plain": [
       "Number of installed packages:\n",
       "                        \n",
       "                         ok upgrade unavailable\n",
       "  /home/jayme/.R/library 82       1           1\n",
       "  /usr/lib/R/library     23       6           0\n",
       "\n",
       "Number of available packages (each package counted only once):\n",
       "                                                 \n",
       "                                                  installed not installed\n",
       "  http://cran.revolutionanalytics.com/src/contrib        98         12400"
      ]
     },
     "metadata": {},
     "output_type": "display_data"
    }
   ],
   "source": [
    "packageStatus()"
   ]
  },
  {
   "cell_type": "markdown",
   "metadata": {},
   "source": [
    "To update all packages:"
   ]
  },
  {
   "cell_type": "code",
   "execution_count": 19,
   "metadata": {},
   "outputs": [],
   "source": [
    "# update.packages()"
   ]
  },
  {
   "cell_type": "markdown",
   "metadata": {},
   "source": [
    "# 3. Creating functions"
   ]
  },
  {
   "cell_type": "code",
   "execution_count": 20,
   "metadata": {},
   "outputs": [],
   "source": [
    "hello.world <- function() {\n",
    "    # writting a simple 'Hello world!' function\n",
    "    writeLines('Hello world!')\n",
    "}"
   ]
  },
  {
   "cell_type": "code",
   "execution_count": 21,
   "metadata": {},
   "outputs": [
    {
     "name": "stdout",
     "output_type": "stream",
     "text": [
      "Hello world!\n"
     ]
    }
   ],
   "source": [
    "hello.world()"
   ]
  },
  {
   "cell_type": "code",
   "execution_count": 22,
   "metadata": {},
   "outputs": [],
   "source": [
    "hello.world <- function(text) {\n",
    "    # 'Hello world!' function with an argument\n",
    "    writeLines(text)\n",
    "}"
   ]
  },
  {
   "cell_type": "code",
   "execution_count": 23,
   "metadata": {},
   "outputs": [
    {
     "name": "stdout",
     "output_type": "stream",
     "text": [
      "Function are cool!\n"
     ]
    }
   ],
   "source": [
    "hello.world('Function are cool!')"
   ]
  },
  {
   "cell_type": "markdown",
   "metadata": {},
   "source": [
    "## 3.1. Exercise 1"
   ]
  },
  {
   "cell_type": "code",
   "execution_count": 24,
   "metadata": {},
   "outputs": [
    {
     "data": {
      "text/html": [
       "<ol class=list-inline>\n",
       "\t<li>0.872982278233394</li>\n",
       "\t<li>0.695564138935879</li>\n",
       "\t<li>0.501311655854806</li>\n",
       "\t<li>0.627183807315305</li>\n",
       "\t<li>0.395181499654427</li>\n",
       "\t<li>0.913016979349777</li>\n",
       "\t<li>0.648826470132917</li>\n",
       "\t<li>0.734667993616313</li>\n",
       "\t<li>0.234525847947225</li>\n",
       "\t<li>0.220143705606461</li>\n",
       "\t<li>0.5097678930033</li>\n",
       "\t<li>0.0372391347773373</li>\n",
       "\t<li>0.174052827758715</li>\n",
       "\t<li>0.930530836572871</li>\n",
       "\t<li>0.140446228906512</li>\n",
       "\t<li>0.687360080191866</li>\n",
       "\t<li>0.763664719415829</li>\n",
       "\t<li>0.24609450227581</li>\n",
       "\t<li>0.885115504730493</li>\n",
       "\t<li>0.888883556239307</li>\n",
       "\t<li>0.483687222236767</li>\n",
       "\t<li>0.414011895889416</li>\n",
       "\t<li>0.863456740509719</li>\n",
       "\t<li>0.98174417228438</li>\n",
       "\t<li>0.334438427584246</li>\n",
       "\t<li>0.000597930047661066</li>\n",
       "\t<li>0.604175669606775</li>\n",
       "\t<li>0.0363972906488925</li>\n",
       "\t<li>0.85714033129625</li>\n",
       "\t<li>0.00865045352838933</li>\n",
       "</ol>\n"
      ],
      "text/latex": [
       "\\begin{enumerate*}\n",
       "\\item 0.872982278233394\n",
       "\\item 0.695564138935879\n",
       "\\item 0.501311655854806\n",
       "\\item 0.627183807315305\n",
       "\\item 0.395181499654427\n",
       "\\item 0.913016979349777\n",
       "\\item 0.648826470132917\n",
       "\\item 0.734667993616313\n",
       "\\item 0.234525847947225\n",
       "\\item 0.220143705606461\n",
       "\\item 0.5097678930033\n",
       "\\item 0.0372391347773373\n",
       "\\item 0.174052827758715\n",
       "\\item 0.930530836572871\n",
       "\\item 0.140446228906512\n",
       "\\item 0.687360080191866\n",
       "\\item 0.763664719415829\n",
       "\\item 0.24609450227581\n",
       "\\item 0.885115504730493\n",
       "\\item 0.888883556239307\n",
       "\\item 0.483687222236767\n",
       "\\item 0.414011895889416\n",
       "\\item 0.863456740509719\n",
       "\\item 0.98174417228438\n",
       "\\item 0.334438427584246\n",
       "\\item 0.000597930047661066\n",
       "\\item 0.604175669606775\n",
       "\\item 0.0363972906488925\n",
       "\\item 0.85714033129625\n",
       "\\item 0.00865045352838933\n",
       "\\end{enumerate*}\n"
      ],
      "text/markdown": [
       "1. 0.872982278233394\n",
       "2. 0.695564138935879\n",
       "3. 0.501311655854806\n",
       "4. 0.627183807315305\n",
       "5. 0.395181499654427\n",
       "6. 0.913016979349777\n",
       "7. 0.648826470132917\n",
       "8. 0.734667993616313\n",
       "9. 0.234525847947225\n",
       "10. 0.220143705606461\n",
       "11. 0.5097678930033\n",
       "12. 0.0372391347773373\n",
       "13. 0.174052827758715\n",
       "14. 0.930530836572871\n",
       "15. 0.140446228906512\n",
       "16. 0.687360080191866\n",
       "17. 0.763664719415829\n",
       "18. 0.24609450227581\n",
       "19. 0.885115504730493\n",
       "20. 0.888883556239307\n",
       "21. 0.483687222236767\n",
       "22. 0.414011895889416\n",
       "23. 0.863456740509719\n",
       "24. 0.98174417228438\n",
       "25. 0.334438427584246\n",
       "26. 0.000597930047661066\n",
       "27. 0.604175669606775\n",
       "28. 0.0363972906488925\n",
       "29. 0.85714033129625\n",
       "30. 0.00865045352838933\n",
       "\n",
       "\n"
      ],
      "text/plain": [
       " [1] 0.872982278 0.695564139 0.501311656 0.627183807 0.395181500 0.913016979\n",
       " [7] 0.648826470 0.734667994 0.234525848 0.220143706 0.509767893 0.037239135\n",
       "[13] 0.174052828 0.930530837 0.140446229 0.687360080 0.763664719 0.246094502\n",
       "[19] 0.885115505 0.888883556 0.483687222 0.414011896 0.863456741 0.981744172\n",
       "[25] 0.334438428 0.000597930 0.604175670 0.036397291 0.857140331 0.008650454"
      ]
     },
     "metadata": {},
     "output_type": "display_data"
    }
   ],
   "source": [
    "runif(n=30, min=0, max=1)"
   ]
  },
  {
   "cell_type": "code",
   "execution_count": 25,
   "metadata": {},
   "outputs": [
    {
     "data": {
      "text/html": [
       "<ol class=list-inline>\n",
       "\t<li>-1.57355897128582</li>\n",
       "\t<li>0.840907504316419</li>\n",
       "\t<li>2.7139305905439</li>\n",
       "\t<li>0.0306903314776719</li>\n",
       "\t<li>3.5257227695547</li>\n",
       "\t<li>-3.83266530698165</li>\n",
       "\t<li>-2.25460163783282</li>\n",
       "\t<li>0.682119911070913</li>\n",
       "\t<li>-3.83087686263025</li>\n",
       "\t<li>1.13898173207417</li>\n",
       "\t<li>-0.849616199266165</li>\n",
       "\t<li>-2.74863190716133</li>\n",
       "\t<li>1.25686958432198</li>\n",
       "\t<li>0.685107442550361</li>\n",
       "\t<li>0.824237430933863</li>\n",
       "\t<li>-0.023591136559844</li>\n",
       "\t<li>-0.666095330379903</li>\n",
       "\t<li>-1.04920012177899</li>\n",
       "\t<li>3.14938871189952</li>\n",
       "\t<li>-2.81708397436887</li>\n",
       "\t<li>-3.10669175349176</li>\n",
       "\t<li>0.400399910286069</li>\n",
       "\t<li>-0.833565192297101</li>\n",
       "\t<li>-0.164366019889712</li>\n",
       "\t<li>0.94276862218976</li>\n",
       "\t<li>1.74947217106819</li>\n",
       "\t<li>-4.07857176847756</li>\n",
       "\t<li>-4.72582790302113</li>\n",
       "\t<li>0.470663416199386</li>\n",
       "\t<li>4.88147899974138</li>\n",
       "</ol>\n"
      ],
      "text/latex": [
       "\\begin{enumerate*}\n",
       "\\item -1.57355897128582\n",
       "\\item 0.840907504316419\n",
       "\\item 2.7139305905439\n",
       "\\item 0.0306903314776719\n",
       "\\item 3.5257227695547\n",
       "\\item -3.83266530698165\n",
       "\\item -2.25460163783282\n",
       "\\item 0.682119911070913\n",
       "\\item -3.83087686263025\n",
       "\\item 1.13898173207417\n",
       "\\item -0.849616199266165\n",
       "\\item -2.74863190716133\n",
       "\\item 1.25686958432198\n",
       "\\item 0.685107442550361\n",
       "\\item 0.824237430933863\n",
       "\\item -0.023591136559844\n",
       "\\item -0.666095330379903\n",
       "\\item -1.04920012177899\n",
       "\\item 3.14938871189952\n",
       "\\item -2.81708397436887\n",
       "\\item -3.10669175349176\n",
       "\\item 0.400399910286069\n",
       "\\item -0.833565192297101\n",
       "\\item -0.164366019889712\n",
       "\\item 0.94276862218976\n",
       "\\item 1.74947217106819\n",
       "\\item -4.07857176847756\n",
       "\\item -4.72582790302113\n",
       "\\item 0.470663416199386\n",
       "\\item 4.88147899974138\n",
       "\\end{enumerate*}\n"
      ],
      "text/markdown": [
       "1. -1.57355897128582\n",
       "2. 0.840907504316419\n",
       "3. 2.7139305905439\n",
       "4. 0.0306903314776719\n",
       "5. 3.5257227695547\n",
       "6. -3.83266530698165\n",
       "7. -2.25460163783282\n",
       "8. 0.682119911070913\n",
       "9. -3.83087686263025\n",
       "10. 1.13898173207417\n",
       "11. -0.849616199266165\n",
       "12. -2.74863190716133\n",
       "13. 1.25686958432198\n",
       "14. 0.685107442550361\n",
       "15. 0.824237430933863\n",
       "16. -0.023591136559844\n",
       "17. -0.666095330379903\n",
       "18. -1.04920012177899\n",
       "19. 3.14938871189952\n",
       "20. -2.81708397436887\n",
       "21. -3.10669175349176\n",
       "22. 0.400399910286069\n",
       "23. -0.833565192297101\n",
       "24. -0.164366019889712\n",
       "25. 0.94276862218976\n",
       "26. 1.74947217106819\n",
       "27. -4.07857176847756\n",
       "28. -4.72582790302113\n",
       "29. 0.470663416199386\n",
       "30. 4.88147899974138\n",
       "\n",
       "\n"
      ],
      "text/plain": [
       " [1] -1.57355897  0.84090750  2.71393059  0.03069033  3.52572277 -3.83266531\n",
       " [7] -2.25460164  0.68211991 -3.83087686  1.13898173 -0.84961620 -2.74863191\n",
       "[13]  1.25686958  0.68510744  0.82423743 -0.02359114 -0.66609533 -1.04920012\n",
       "[19]  3.14938871 -2.81708397 -3.10669175  0.40039991 -0.83356519 -0.16436602\n",
       "[25]  0.94276862  1.74947217 -4.07857177 -4.72582790  0.47066342  4.88147900"
      ]
     },
     "metadata": {},
     "output_type": "display_data"
    }
   ],
   "source": [
    "runif(n=30, min=-5, max=5)"
   ]
  },
  {
   "cell_type": "code",
   "execution_count": 26,
   "metadata": {},
   "outputs": [
    {
     "data": {
      "text/html": [
       "<ol class=list-inline>\n",
       "\t<li>94.6241465723142</li>\n",
       "\t<li>476.411467154976</li>\n",
       "\t<li>12.1311816130765</li>\n",
       "\t<li>465.281912812497</li>\n",
       "\t<li>199.29836712312</li>\n",
       "\t<li>42.5748019688763</li>\n",
       "\t<li>457.956335926428</li>\n",
       "\t<li>356.234310846776</li>\n",
       "\t<li>24.8876952868886</li>\n",
       "\t<li>12.4913308187388</li>\n",
       "\t<li>214.956947118044</li>\n",
       "\t<li>144.955897240434</li>\n",
       "\t<li>92.9068753891625</li>\n",
       "\t<li>452.466068528593</li>\n",
       "\t<li>336.627509987447</li>\n",
       "\t<li>484.069633132312</li>\n",
       "\t<li>118.121616987046</li>\n",
       "\t<li>357.098139622249</li>\n",
       "\t<li>281.082831979729</li>\n",
       "\t<li>193.510859468952</li>\n",
       "\t<li>431.492605963722</li>\n",
       "\t<li>84.5432647876441</li>\n",
       "\t<li>492.775696674362</li>\n",
       "\t<li>375.81257147016</li>\n",
       "\t<li>142.798759576399</li>\n",
       "\t<li>37.8399352752604</li>\n",
       "\t<li>418.820139851887</li>\n",
       "\t<li>417.222257649992</li>\n",
       "\t<li>469.152449660469</li>\n",
       "\t<li>43.3535530907102</li>\n",
       "</ol>\n"
      ],
      "text/latex": [
       "\\begin{enumerate*}\n",
       "\\item 94.6241465723142\n",
       "\\item 476.411467154976\n",
       "\\item 12.1311816130765\n",
       "\\item 465.281912812497\n",
       "\\item 199.29836712312\n",
       "\\item 42.5748019688763\n",
       "\\item 457.956335926428\n",
       "\\item 356.234310846776\n",
       "\\item 24.8876952868886\n",
       "\\item 12.4913308187388\n",
       "\\item 214.956947118044\n",
       "\\item 144.955897240434\n",
       "\\item 92.9068753891625\n",
       "\\item 452.466068528593\n",
       "\\item 336.627509987447\n",
       "\\item 484.069633132312\n",
       "\\item 118.121616987046\n",
       "\\item 357.098139622249\n",
       "\\item 281.082831979729\n",
       "\\item 193.510859468952\n",
       "\\item 431.492605963722\n",
       "\\item 84.5432647876441\n",
       "\\item 492.775696674362\n",
       "\\item 375.81257147016\n",
       "\\item 142.798759576399\n",
       "\\item 37.8399352752604\n",
       "\\item 418.820139851887\n",
       "\\item 417.222257649992\n",
       "\\item 469.152449660469\n",
       "\\item 43.3535530907102\n",
       "\\end{enumerate*}\n"
      ],
      "text/markdown": [
       "1. 94.6241465723142\n",
       "2. 476.411467154976\n",
       "3. 12.1311816130765\n",
       "4. 465.281912812497\n",
       "5. 199.29836712312\n",
       "6. 42.5748019688763\n",
       "7. 457.956335926428\n",
       "8. 356.234310846776\n",
       "9. 24.8876952868886\n",
       "10. 12.4913308187388\n",
       "11. 214.956947118044\n",
       "12. 144.955897240434\n",
       "13. 92.9068753891625\n",
       "14. 452.466068528593\n",
       "15. 336.627509987447\n",
       "16. 484.069633132312\n",
       "17. 118.121616987046\n",
       "18. 357.098139622249\n",
       "19. 281.082831979729\n",
       "20. 193.510859468952\n",
       "21. 431.492605963722\n",
       "22. 84.5432647876441\n",
       "23. 492.775696674362\n",
       "24. 375.81257147016\n",
       "25. 142.798759576399\n",
       "26. 37.8399352752604\n",
       "27. 418.820139851887\n",
       "28. 417.222257649992\n",
       "29. 469.152449660469\n",
       "30. 43.3535530907102\n",
       "\n",
       "\n"
      ],
      "text/plain": [
       " [1]  94.62415 476.41147  12.13118 465.28191 199.29837  42.57480 457.95634\n",
       " [8] 356.23431  24.88770  12.49133 214.95695 144.95590  92.90688 452.46607\n",
       "[15] 336.62751 484.06963 118.12162 357.09814 281.08283 193.51086 431.49261\n",
       "[22]  84.54326 492.77570 375.81257 142.79876  37.83994 418.82014 417.22226\n",
       "[29] 469.15245  43.35355"
      ]
     },
     "metadata": {},
     "output_type": "display_data"
    }
   ],
   "source": [
    "runif(n=30, min=10, max=500)"
   ]
  },
  {
   "cell_type": "code",
   "execution_count": 27,
   "metadata": {},
   "outputs": [],
   "source": [
    "?\"+\""
   ]
  },
  {
   "cell_type": "code",
   "execution_count": 28,
   "metadata": {},
   "outputs": [],
   "source": [
    "sum_function <- function(x, y) {\n",
    "    # sum two numbers, x and y\n",
    "    sum(x, y)\n",
    "}"
   ]
  },
  {
   "cell_type": "code",
   "execution_count": 29,
   "metadata": {},
   "outputs": [
    {
     "data": {
      "text/html": [
       "12"
      ],
      "text/latex": [
       "12"
      ],
      "text/markdown": [
       "12"
      ],
      "text/plain": [
       "[1] 12"
      ]
     },
     "metadata": {},
     "output_type": "display_data"
    }
   ],
   "source": [
    "sum_function(4, 8)"
   ]
  },
  {
   "cell_type": "code",
   "execution_count": 30,
   "metadata": {},
   "outputs": [],
   "source": [
    "dice <- function(n) {\n",
    "     # simulate the throws of a dice\n",
    "     sample(x=1:6, size=n, replace=TRUE)\n",
    "}"
   ]
  },
  {
   "cell_type": "code",
   "execution_count": 31,
   "metadata": {},
   "outputs": [
    {
     "data": {
      "text/html": [
       "<ol class=list-inline>\n",
       "\t<li>6</li>\n",
       "\t<li>6</li>\n",
       "\t<li>6</li>\n",
       "\t<li>5</li>\n",
       "\t<li>1</li>\n",
       "</ol>\n"
      ],
      "text/latex": [
       "\\begin{enumerate*}\n",
       "\\item 6\n",
       "\\item 6\n",
       "\\item 6\n",
       "\\item 5\n",
       "\\item 1\n",
       "\\end{enumerate*}\n"
      ],
      "text/markdown": [
       "1. 6\n",
       "2. 6\n",
       "3. 6\n",
       "4. 5\n",
       "5. 1\n",
       "\n",
       "\n"
      ],
      "text/plain": [
       "[1] 6 6 6 5 1"
      ]
     },
     "metadata": {},
     "output_type": "display_data"
    }
   ],
   "source": [
    "dice(5)"
   ]
  },
  {
   "cell_type": "code",
   "execution_count": 32,
   "metadata": {},
   "outputs": [],
   "source": [
    "dices <- function(n) {\n",
    "    # simulate the throws of a dice\n",
    "    first_dice <- sample(x=1:6, size=n, replace=TRUE)\n",
    "    second_dice <- sample(x=1:6, size=n, replace=TRUE)\n",
    "    print(paste(first_dice, ', ', second_dice, sep=''))\n",
    "}"
   ]
  },
  {
   "cell_type": "code",
   "execution_count": 33,
   "metadata": {},
   "outputs": [
    {
     "name": "stdout",
     "output_type": "stream",
     "text": [
      "[1] \"6, 3\" \"5, 5\" \"5, 3\" \"1, 6\" \"5, 3\"\n"
     ]
    }
   ],
   "source": [
    "dices(5)"
   ]
  },
  {
   "cell_type": "markdown",
   "metadata": {},
   "source": [
    "# 4. Objects\n",
    "*Object* is a symbol or a variable capable of storing values or data structures\n",
    "\n",
    "*Class* if the definition of an object, it describes it and how it is going to be manipulated by different functions\n",
    "\n",
    "*Method* are generic functions that execute tasks according to each class"
   ]
  },
  {
   "cell_type": "code",
   "execution_count": 34,
   "metadata": {},
   "outputs": [
    {
     "data": {
      "text/plain": [
       " [1] plot.acf*            plot.correspondence* plot.data.frame*    \n",
       " [4] plot.decomposed.ts*  plot.default         plot.dendrogram*    \n",
       " [7] plot.density*        plot.ecdf            plot.factor*        \n",
       "[10] plot.formula*        plot.function        plot.hclust*        \n",
       "[13] plot.histogram*      plot.HoltWinters*    plot.isoreg*        \n",
       "[16] plot.lda*            plot.lm*             plot.mca*           \n",
       "[19] plot.medpolish*      plot.mlm*            plot.ppr*           \n",
       "[22] plot.prcomp*         plot.princomp*       plot.profile*       \n",
       "[25] plot.profile.nls*    plot.raster*         plot.ridgelm*       \n",
       "[28] plot.shingle*        plot.spec*           plot.stepfun        \n",
       "[31] plot.stl*            plot.table*          plot.trellis*       \n",
       "[34] plot.ts              plot.tskernel*       plot.TukeyHSD*      \n",
       "see '?methods' for accessing help and source code"
      ]
     },
     "metadata": {},
     "output_type": "display_data"
    }
   ],
   "source": [
    "methods(plot)"
   ]
  },
  {
   "cell_type": "code",
   "execution_count": 35,
   "metadata": {},
   "outputs": [],
   "source": [
    "# x recieves 2, becoming an object\n",
    "# <- is the attribution operator\n",
    "\n",
    "x <- 2"
   ]
  },
  {
   "cell_type": "code",
   "execution_count": 36,
   "metadata": {},
   "outputs": [
    {
     "data": {
      "text/html": [
       "2"
      ],
      "text/latex": [
       "2"
      ],
      "text/markdown": [
       "2"
      ],
      "text/plain": [
       "[1] 2"
      ]
     },
     "metadata": {},
     "output_type": "display_data"
    }
   ],
   "source": [
    "# to see x contents, simply:\n",
    "\n",
    "x"
   ]
  },
  {
   "cell_type": "code",
   "execution_count": 37,
   "metadata": {},
   "outputs": [],
   "source": [
    "x <- 2\n",
    "y <- 4\n",
    "\n",
    "# the same as:\n",
    "x <- 2; y <- 4"
   ]
  },
  {
   "cell_type": "code",
   "execution_count": 38,
   "metadata": {},
   "outputs": [
    {
     "data": {
      "text/html": [
       "6"
      ],
      "text/latex": [
       "6"
      ],
      "text/markdown": [
       "6"
      ],
      "text/plain": [
       "[1] 6"
      ]
     },
     "metadata": {},
     "output_type": "display_data"
    }
   ],
   "source": [
    "# arithmetic operation\n",
    "\n",
    "x + y"
   ]
  },
  {
   "cell_type": "code",
   "execution_count": 39,
   "metadata": {},
   "outputs": [],
   "source": [
    "# objects can store different data structure\n",
    "# y prior value is supercripted\n",
    "\n",
    "y <- runif(10)"
   ]
  },
  {
   "cell_type": "code",
   "execution_count": 40,
   "metadata": {},
   "outputs": [
    {
     "data": {
      "text/html": [
       "<ol class=list-inline>\n",
       "\t<li>0.798473833827302</li>\n",
       "\t<li>0.540938747581095</li>\n",
       "\t<li>0.292512468993664</li>\n",
       "\t<li>0.917270743753761</li>\n",
       "\t<li>0.431247071130201</li>\n",
       "\t<li>0.716000089421868</li>\n",
       "\t<li>0.79251418239437</li>\n",
       "\t<li>0.964221688685939</li>\n",
       "\t<li>0.797083268873394</li>\n",
       "\t<li>0.889272120548412</li>\n",
       "</ol>\n"
      ],
      "text/latex": [
       "\\begin{enumerate*}\n",
       "\\item 0.798473833827302\n",
       "\\item 0.540938747581095\n",
       "\\item 0.292512468993664\n",
       "\\item 0.917270743753761\n",
       "\\item 0.431247071130201\n",
       "\\item 0.716000089421868\n",
       "\\item 0.79251418239437\n",
       "\\item 0.964221688685939\n",
       "\\item 0.797083268873394\n",
       "\\item 0.889272120548412\n",
       "\\end{enumerate*}\n"
      ],
      "text/markdown": [
       "1. 0.798473833827302\n",
       "2. 0.540938747581095\n",
       "3. 0.292512468993664\n",
       "4. 0.917270743753761\n",
       "5. 0.431247071130201\n",
       "6. 0.716000089421868\n",
       "7. 0.79251418239437\n",
       "8. 0.964221688685939\n",
       "9. 0.797083268873394\n",
       "10. 0.889272120548412\n",
       "\n",
       "\n"
      ],
      "text/plain": [
       " [1] 0.7984738 0.5409387 0.2925125 0.9172707 0.4312471 0.7160001 0.7925142\n",
       " [8] 0.9642217 0.7970833 0.8892721"
      ]
     },
     "metadata": {},
     "output_type": "display_data"
    }
   ],
   "source": [
    "y"
   ]
  },
  {
   "cell_type": "markdown",
   "metadata": {},
   "source": [
    "## 4.1. Object names\n",
    "\n",
    "* Can be letters, numbers, \"_\" and \".\"\n",
    "\n",
    "* Can't begin with a number and/or dot\n",
    "\n",
    "* Can't have spaces\n",
    "\n",
    "* Avoid accents\n",
    "\n",
    "* Avoid already declared function names\n",
    "\n",
    "* Object names are case sensitive"
   ]
  },
  {
   "cell_type": "markdown",
   "metadata": {},
   "source": [
    "# 4.2. Managing the desktop"
   ]
  },
  {
   "cell_type": "code",
   "execution_count": 41,
   "metadata": {},
   "outputs": [
    {
     "data": {
      "text/html": [
       "<ol class=list-inline>\n",
       "\t<li>'dice'</li>\n",
       "\t<li>'dices'</li>\n",
       "\t<li>'hello.world'</li>\n",
       "\t<li>'sum_function'</li>\n",
       "\t<li>'x'</li>\n",
       "\t<li>'y'</li>\n",
       "</ol>\n"
      ],
      "text/latex": [
       "\\begin{enumerate*}\n",
       "\\item 'dice'\n",
       "\\item 'dices'\n",
       "\\item 'hello.world'\n",
       "\\item 'sum\\_function'\n",
       "\\item 'x'\n",
       "\\item 'y'\n",
       "\\end{enumerate*}\n"
      ],
      "text/markdown": [
       "1. 'dice'\n",
       "2. 'dices'\n",
       "3. 'hello.world'\n",
       "4. 'sum_function'\n",
       "5. 'x'\n",
       "6. 'y'\n",
       "\n",
       "\n"
      ],
      "text/plain": [
       "[1] \"dice\"         \"dices\"        \"hello.world\"  \"sum_function\" \"x\"           \n",
       "[6] \"y\"           "
      ]
     },
     "metadata": {},
     "output_type": "display_data"
    }
   ],
   "source": [
    "# list objects created\n",
    "\n",
    "ls()"
   ]
  },
  {
   "cell_type": "code",
   "execution_count": 42,
   "metadata": {},
   "outputs": [],
   "source": [
    "# removes an object\n",
    "\n",
    "rm(x)"
   ]
  },
  {
   "cell_type": "code",
   "execution_count": 43,
   "metadata": {},
   "outputs": [
    {
     "name": "stderr",
     "output_type": "stream",
     "text": [
      "Warning message in rm(x, y):\n",
      "“object 'x' not found”"
     ]
    }
   ],
   "source": [
    "rm(x, y)"
   ]
  },
  {
   "cell_type": "code",
   "execution_count": 44,
   "metadata": {},
   "outputs": [],
   "source": [
    "# removes all objects:\n",
    "\n",
    "rm(list = ls())"
   ]
  },
  {
   "cell_type": "markdown",
   "metadata": {},
   "source": [
    "## 4.2. Exercise 2"
   ]
  },
  {
   "cell_type": "code",
   "execution_count": 45,
   "metadata": {},
   "outputs": [],
   "source": [
    "# 1.\n",
    "\n",
    "x <- 32 + 16 ** 2 - 25 ** 3"
   ]
  },
  {
   "cell_type": "code",
   "execution_count": 46,
   "metadata": {},
   "outputs": [],
   "source": [
    "# 2.\n",
    "\n",
    "y <- x / 345"
   ]
  },
  {
   "cell_type": "code",
   "execution_count": 47,
   "metadata": {},
   "outputs": [],
   "source": [
    "# 3.\n",
    "\n",
    "random_values <- runif(n=30, min=10, max=50)"
   ]
  },
  {
   "cell_type": "code",
   "execution_count": 48,
   "metadata": {},
   "outputs": [],
   "source": [
    "# 4.\n",
    "\n",
    "rm(y)"
   ]
  },
  {
   "cell_type": "code",
   "execution_count": 49,
   "metadata": {},
   "outputs": [],
   "source": [
    "# 5.\n",
    "\n",
    "rm(list = ls())"
   ]
  },
  {
   "cell_type": "code",
   "execution_count": 50,
   "metadata": {},
   "outputs": [
    {
     "data": {
      "text/html": [
       "<ol class=list-inline>\n",
       "\t<li>'dpois'</li>\n",
       "\t<li>'poisson'</li>\n",
       "\t<li>'poisson.test'</li>\n",
       "\t<li>'ppois'</li>\n",
       "\t<li>'qpois'</li>\n",
       "\t<li>'quasipoisson'</li>\n",
       "\t<li>'rpois'</li>\n",
       "</ol>\n"
      ],
      "text/latex": [
       "\\begin{enumerate*}\n",
       "\\item 'dpois'\n",
       "\\item 'poisson'\n",
       "\\item 'poisson.test'\n",
       "\\item 'ppois'\n",
       "\\item 'qpois'\n",
       "\\item 'quasipoisson'\n",
       "\\item 'rpois'\n",
       "\\end{enumerate*}\n"
      ],
      "text/markdown": [
       "1. 'dpois'\n",
       "2. 'poisson'\n",
       "3. 'poisson.test'\n",
       "4. 'ppois'\n",
       "5. 'qpois'\n",
       "6. 'quasipoisson'\n",
       "7. 'rpois'\n",
       "\n",
       "\n"
      ],
      "text/plain": [
       "[1] \"dpois\"        \"poisson\"      \"poisson.test\" \"ppois\"        \"qpois\"       \n",
       "[6] \"quasipoisson\" \"rpois\"       "
      ]
     },
     "metadata": {},
     "output_type": "display_data"
    },
    {
     "data": {
      "text/html": [
       "<ol class=list-inline>\n",
       "\t<li>8</li>\n",
       "\t<li>4</li>\n",
       "\t<li>7</li>\n",
       "\t<li>4</li>\n",
       "\t<li>4</li>\n",
       "\t<li>7</li>\n",
       "\t<li>7</li>\n",
       "\t<li>4</li>\n",
       "\t<li>8</li>\n",
       "\t<li>5</li>\n",
       "\t<li>6</li>\n",
       "\t<li>7</li>\n",
       "\t<li>5</li>\n",
       "\t<li>6</li>\n",
       "\t<li>2</li>\n",
       "\t<li>2</li>\n",
       "\t<li>5</li>\n",
       "\t<li>7</li>\n",
       "\t<li>2</li>\n",
       "\t<li>5</li>\n",
       "\t<li>3</li>\n",
       "\t<li>4</li>\n",
       "\t<li>9</li>\n",
       "\t<li>5</li>\n",
       "\t<li>7</li>\n",
       "\t<li>7</li>\n",
       "\t<li>5</li>\n",
       "\t<li>3</li>\n",
       "\t<li>3</li>\n",
       "\t<li>1</li>\n",
       "\t<li>10</li>\n",
       "\t<li>3</li>\n",
       "\t<li>4</li>\n",
       "\t<li>5</li>\n",
       "\t<li>8</li>\n",
       "\t<li>1</li>\n",
       "\t<li>3</li>\n",
       "\t<li>2</li>\n",
       "\t<li>4</li>\n",
       "\t<li>5</li>\n",
       "\t<li>6</li>\n",
       "\t<li>4</li>\n",
       "\t<li>4</li>\n",
       "\t<li>3</li>\n",
       "\t<li>7</li>\n",
       "\t<li>6</li>\n",
       "\t<li>6</li>\n",
       "\t<li>4</li>\n",
       "\t<li>3</li>\n",
       "\t<li>4</li>\n",
       "\t<li>3</li>\n",
       "\t<li>2</li>\n",
       "\t<li>5</li>\n",
       "\t<li>5</li>\n",
       "\t<li>7</li>\n",
       "\t<li>6</li>\n",
       "\t<li>3</li>\n",
       "\t<li>7</li>\n",
       "\t<li>1</li>\n",
       "\t<li>4</li>\n",
       "\t<li>12</li>\n",
       "\t<li>6</li>\n",
       "\t<li>4</li>\n",
       "\t<li>5</li>\n",
       "\t<li>7</li>\n",
       "\t<li>2</li>\n",
       "\t<li>5</li>\n",
       "\t<li>4</li>\n",
       "\t<li>4</li>\n",
       "\t<li>3</li>\n",
       "\t<li>4</li>\n",
       "\t<li>4</li>\n",
       "\t<li>6</li>\n",
       "\t<li>3</li>\n",
       "\t<li>4</li>\n",
       "\t<li>5</li>\n",
       "\t<li>6</li>\n",
       "\t<li>4</li>\n",
       "\t<li>4</li>\n",
       "\t<li>6</li>\n",
       "\t<li>4</li>\n",
       "\t<li>6</li>\n",
       "\t<li>1</li>\n",
       "\t<li>8</li>\n",
       "\t<li>5</li>\n",
       "\t<li>3</li>\n",
       "\t<li>6</li>\n",
       "\t<li>1</li>\n",
       "\t<li>7</li>\n",
       "\t<li>5</li>\n",
       "\t<li>8</li>\n",
       "\t<li>7</li>\n",
       "\t<li>6</li>\n",
       "\t<li>3</li>\n",
       "\t<li>6</li>\n",
       "\t<li>2</li>\n",
       "\t<li>7</li>\n",
       "\t<li>6</li>\n",
       "\t<li>4</li>\n",
       "\t<li>6</li>\n",
       "</ol>\n"
      ],
      "text/latex": [
       "\\begin{enumerate*}\n",
       "\\item 8\n",
       "\\item 4\n",
       "\\item 7\n",
       "\\item 4\n",
       "\\item 4\n",
       "\\item 7\n",
       "\\item 7\n",
       "\\item 4\n",
       "\\item 8\n",
       "\\item 5\n",
       "\\item 6\n",
       "\\item 7\n",
       "\\item 5\n",
       "\\item 6\n",
       "\\item 2\n",
       "\\item 2\n",
       "\\item 5\n",
       "\\item 7\n",
       "\\item 2\n",
       "\\item 5\n",
       "\\item 3\n",
       "\\item 4\n",
       "\\item 9\n",
       "\\item 5\n",
       "\\item 7\n",
       "\\item 7\n",
       "\\item 5\n",
       "\\item 3\n",
       "\\item 3\n",
       "\\item 1\n",
       "\\item 10\n",
       "\\item 3\n",
       "\\item 4\n",
       "\\item 5\n",
       "\\item 8\n",
       "\\item 1\n",
       "\\item 3\n",
       "\\item 2\n",
       "\\item 4\n",
       "\\item 5\n",
       "\\item 6\n",
       "\\item 4\n",
       "\\item 4\n",
       "\\item 3\n",
       "\\item 7\n",
       "\\item 6\n",
       "\\item 6\n",
       "\\item 4\n",
       "\\item 3\n",
       "\\item 4\n",
       "\\item 3\n",
       "\\item 2\n",
       "\\item 5\n",
       "\\item 5\n",
       "\\item 7\n",
       "\\item 6\n",
       "\\item 3\n",
       "\\item 7\n",
       "\\item 1\n",
       "\\item 4\n",
       "\\item 12\n",
       "\\item 6\n",
       "\\item 4\n",
       "\\item 5\n",
       "\\item 7\n",
       "\\item 2\n",
       "\\item 5\n",
       "\\item 4\n",
       "\\item 4\n",
       "\\item 3\n",
       "\\item 4\n",
       "\\item 4\n",
       "\\item 6\n",
       "\\item 3\n",
       "\\item 4\n",
       "\\item 5\n",
       "\\item 6\n",
       "\\item 4\n",
       "\\item 4\n",
       "\\item 6\n",
       "\\item 4\n",
       "\\item 6\n",
       "\\item 1\n",
       "\\item 8\n",
       "\\item 5\n",
       "\\item 3\n",
       "\\item 6\n",
       "\\item 1\n",
       "\\item 7\n",
       "\\item 5\n",
       "\\item 8\n",
       "\\item 7\n",
       "\\item 6\n",
       "\\item 3\n",
       "\\item 6\n",
       "\\item 2\n",
       "\\item 7\n",
       "\\item 6\n",
       "\\item 4\n",
       "\\item 6\n",
       "\\end{enumerate*}\n"
      ],
      "text/markdown": [
       "1. 8\n",
       "2. 4\n",
       "3. 7\n",
       "4. 4\n",
       "5. 4\n",
       "6. 7\n",
       "7. 7\n",
       "8. 4\n",
       "9. 8\n",
       "10. 5\n",
       "11. 6\n",
       "12. 7\n",
       "13. 5\n",
       "14. 6\n",
       "15. 2\n",
       "16. 2\n",
       "17. 5\n",
       "18. 7\n",
       "19. 2\n",
       "20. 5\n",
       "21. 3\n",
       "22. 4\n",
       "23. 9\n",
       "24. 5\n",
       "25. 7\n",
       "26. 7\n",
       "27. 5\n",
       "28. 3\n",
       "29. 3\n",
       "30. 1\n",
       "31. 10\n",
       "32. 3\n",
       "33. 4\n",
       "34. 5\n",
       "35. 8\n",
       "36. 1\n",
       "37. 3\n",
       "38. 2\n",
       "39. 4\n",
       "40. 5\n",
       "41. 6\n",
       "42. 4\n",
       "43. 4\n",
       "44. 3\n",
       "45. 7\n",
       "46. 6\n",
       "47. 6\n",
       "48. 4\n",
       "49. 3\n",
       "50. 4\n",
       "51. 3\n",
       "52. 2\n",
       "53. 5\n",
       "54. 5\n",
       "55. 7\n",
       "56. 6\n",
       "57. 3\n",
       "58. 7\n",
       "59. 1\n",
       "60. 4\n",
       "61. 12\n",
       "62. 6\n",
       "63. 4\n",
       "64. 5\n",
       "65. 7\n",
       "66. 2\n",
       "67. 5\n",
       "68. 4\n",
       "69. 4\n",
       "70. 3\n",
       "71. 4\n",
       "72. 4\n",
       "73. 6\n",
       "74. 3\n",
       "75. 4\n",
       "76. 5\n",
       "77. 6\n",
       "78. 4\n",
       "79. 4\n",
       "80. 6\n",
       "81. 4\n",
       "82. 6\n",
       "83. 1\n",
       "84. 8\n",
       "85. 5\n",
       "86. 3\n",
       "87. 6\n",
       "88. 1\n",
       "89. 7\n",
       "90. 5\n",
       "91. 8\n",
       "92. 7\n",
       "93. 6\n",
       "94. 3\n",
       "95. 6\n",
       "96. 2\n",
       "97. 7\n",
       "98. 6\n",
       "99. 4\n",
       "100. 6\n",
       "\n",
       "\n"
      ],
      "text/plain": [
       "  [1]  8  4  7  4  4  7  7  4  8  5  6  7  5  6  2  2  5  7  2  5  3  4  9  5  7\n",
       " [26]  7  5  3  3  1 10  3  4  5  8  1  3  2  4  5  6  4  4  3  7  6  6  4  3  4\n",
       " [51]  3  2  5  5  7  6  3  7  1  4 12  6  4  5  7  2  5  4  4  3  4  4  6  3  4\n",
       " [76]  5  6  4  4  6  4  6  1  8  5  3  6  1  7  5  8  7  6  3  6  2  7  6  4  6"
      ]
     },
     "metadata": {},
     "output_type": "display_data"
    }
   ],
   "source": [
    "# 6.\n",
    "\n",
    "apropos('pois')\n",
    "help(rpois)\n",
    "rpois(n=100, lambda=5)"
   ]
  },
  {
   "cell_type": "markdown",
   "metadata": {},
   "source": [
    "# 5. Types and object classes\n",
    "\n",
    "R has two basic types of vectors:\n",
    "\n",
    "* Atomic vectors: can only contain one type of element\n",
    "\n",
    "> double\n",
    "\n",
    "> integer\n",
    "\n",
    "> character\n",
    "\n",
    "> logical\n",
    "\n",
    "> complex\n",
    "\n",
    "> raw\n",
    "\n",
    "* Lists aka recursive vectors because they can contain other lists, can contain mixed types of elements\n",
    "\n",
    "A vector is an unidimensional structure, but we can work with structures of more than one dimension, created from unidimensional structures. An object with several dimensions has a class. The `typeof()` function determines the object type, whereas the `class()` determines the object class:"
   ]
  },
  {
   "cell_type": "code",
   "execution_count": 51,
   "metadata": {},
   "outputs": [
    {
     "data": {
      "text/html": [
       "'double'"
      ],
      "text/latex": [
       "'double'"
      ],
      "text/markdown": [
       "'double'"
      ],
      "text/plain": [
       "[1] \"double\""
      ]
     },
     "metadata": {},
     "output_type": "display_data"
    }
   ],
   "source": [
    "x <- c(2, 4, 6)\n",
    "typeof(x)"
   ]
  },
  {
   "cell_type": "code",
   "execution_count": 52,
   "metadata": {},
   "outputs": [
    {
     "data": {
      "text/html": [
       "'numeric'"
      ],
      "text/latex": [
       "'numeric'"
      ],
      "text/markdown": [
       "'numeric'"
      ],
      "text/plain": [
       "[1] \"numeric\""
      ]
     },
     "metadata": {},
     "output_type": "display_data"
    }
   ],
   "source": [
    "class(x)"
   ]
  },
  {
   "cell_type": "code",
   "execution_count": 53,
   "metadata": {},
   "outputs": [
    {
     "data": {
      "text/html": [
       "'integer'"
      ],
      "text/latex": [
       "'integer'"
      ],
      "text/markdown": [
       "'integer'"
      ],
      "text/plain": [
       "[1] \"integer\""
      ]
     },
     "metadata": {},
     "output_type": "display_data"
    }
   ],
   "source": [
    "x <- c(2L, 4L, 6L)\n",
    "typeof(x)"
   ]
  },
  {
   "cell_type": "code",
   "execution_count": 54,
   "metadata": {},
   "outputs": [
    {
     "data": {
      "text/html": [
       "'integer'"
      ],
      "text/latex": [
       "'integer'"
      ],
      "text/markdown": [
       "'integer'"
      ],
      "text/plain": [
       "[1] \"integer\""
      ]
     },
     "metadata": {},
     "output_type": "display_data"
    }
   ],
   "source": [
    "class(x)"
   ]
  },
  {
   "cell_type": "code",
   "execution_count": 55,
   "metadata": {},
   "outputs": [
    {
     "data": {
      "text/html": [
       "'character'"
      ],
      "text/latex": [
       "'character'"
      ],
      "text/markdown": [
       "'character'"
      ],
      "text/plain": [
       "[1] \"character\""
      ]
     },
     "metadata": {},
     "output_type": "display_data"
    }
   ],
   "source": [
    "x <- c('a', 'b', 'c')\n",
    "typeof(x)"
   ]
  },
  {
   "cell_type": "code",
   "execution_count": 56,
   "metadata": {},
   "outputs": [
    {
     "data": {
      "text/html": [
       "'character'"
      ],
      "text/latex": [
       "'character'"
      ],
      "text/markdown": [
       "'character'"
      ],
      "text/plain": [
       "[1] \"character\""
      ]
     },
     "metadata": {},
     "output_type": "display_data"
    }
   ],
   "source": [
    "class(x)"
   ]
  },
  {
   "cell_type": "code",
   "execution_count": 57,
   "metadata": {},
   "outputs": [
    {
     "data": {
      "text/html": [
       "'logical'"
      ],
      "text/latex": [
       "'logical'"
      ],
      "text/markdown": [
       "'logical'"
      ],
      "text/plain": [
       "[1] \"logical\""
      ]
     },
     "metadata": {},
     "output_type": "display_data"
    }
   ],
   "source": [
    "x <- c(TRUE, FALSE, TRUE)\n",
    "typeof(x)"
   ]
  },
  {
   "cell_type": "code",
   "execution_count": 58,
   "metadata": {},
   "outputs": [
    {
     "data": {
      "text/html": [
       "'logical'"
      ],
      "text/latex": [
       "'logical'"
      ],
      "text/markdown": [
       "'logical'"
      ],
      "text/plain": [
       "[1] \"logical\""
      ]
     },
     "metadata": {},
     "output_type": "display_data"
    }
   ],
   "source": [
    "class(x)"
   ]
  },
  {
   "cell_type": "code",
   "execution_count": 59,
   "metadata": {},
   "outputs": [
    {
     "data": {
      "text/html": [
       "'complex'"
      ],
      "text/latex": [
       "'complex'"
      ],
      "text/markdown": [
       "'complex'"
      ],
      "text/plain": [
       "[1] \"complex\""
      ]
     },
     "metadata": {},
     "output_type": "display_data"
    }
   ],
   "source": [
    "x <- c(2 + 1i, 4 + 1i, 6 + 1i)\n",
    "typeof(x)"
   ]
  },
  {
   "cell_type": "code",
   "execution_count": 60,
   "metadata": {},
   "outputs": [
    {
     "data": {
      "text/html": [
       "'complex'"
      ],
      "text/latex": [
       "'complex'"
      ],
      "text/markdown": [
       "'complex'"
      ],
      "text/plain": [
       "[1] \"complex\""
      ]
     },
     "metadata": {},
     "output_type": "display_data"
    }
   ],
   "source": [
    "class(x)"
   ]
  },
  {
   "cell_type": "code",
   "execution_count": 61,
   "metadata": {},
   "outputs": [
    {
     "data": {
      "text/html": [
       "'raw'"
      ],
      "text/latex": [
       "'raw'"
      ],
      "text/markdown": [
       "'raw'"
      ],
      "text/plain": [
       "[1] \"raw\""
      ]
     },
     "metadata": {},
     "output_type": "display_data"
    }
   ],
   "source": [
    "x <- raw(3)\n",
    "typeof(x)"
   ]
  },
  {
   "cell_type": "code",
   "execution_count": 62,
   "metadata": {},
   "outputs": [
    {
     "data": {
      "text/html": [
       "'raw'"
      ],
      "text/latex": [
       "'raw'"
      ],
      "text/markdown": [
       "'raw'"
      ],
      "text/plain": [
       "[1] \"raw\""
      ]
     },
     "metadata": {},
     "output_type": "display_data"
    }
   ],
   "source": [
    "class(x)"
   ]
  },
  {
   "cell_type": "markdown",
   "metadata": {},
   "source": [
    "## 5.1. Numeric vectors\n",
    "\n",
    "Ordered collection of numbers, unidimenional structure\n",
    "\n",
    "Using the `c()`function to create vectors:"
   ]
  },
  {
   "cell_type": "code",
   "execution_count": 63,
   "metadata": {},
   "outputs": [
    {
     "data": {
      "text/html": [
       "<ol class=list-inline>\n",
       "\t<li>10</li>\n",
       "\t<li>5</li>\n",
       "\t<li>2</li>\n",
       "\t<li>4</li>\n",
       "\t<li>8</li>\n",
       "\t<li>9</li>\n",
       "</ol>\n"
      ],
      "text/latex": [
       "\\begin{enumerate*}\n",
       "\\item 10\n",
       "\\item 5\n",
       "\\item 2\n",
       "\\item 4\n",
       "\\item 8\n",
       "\\item 9\n",
       "\\end{enumerate*}\n"
      ],
      "text/markdown": [
       "1. 10\n",
       "2. 5\n",
       "3. 2\n",
       "4. 4\n",
       "5. 8\n",
       "6. 9\n",
       "\n",
       "\n"
      ],
      "text/plain": [
       "[1] 10  5  2  4  8  9"
      ]
     },
     "metadata": {},
     "output_type": "display_data"
    }
   ],
   "source": [
    "num <- c(10, 5, 2, 4, 8, 9)\n",
    "num"
   ]
  },
  {
   "cell_type": "code",
   "execution_count": 64,
   "metadata": {},
   "outputs": [
    {
     "data": {
      "text/html": [
       "'double'"
      ],
      "text/latex": [
       "'double'"
      ],
      "text/markdown": [
       "'double'"
      ],
      "text/plain": [
       "[1] \"double\""
      ]
     },
     "metadata": {},
     "output_type": "display_data"
    }
   ],
   "source": [
    "typeof(num)"
   ]
  },
  {
   "cell_type": "code",
   "execution_count": 65,
   "metadata": {},
   "outputs": [
    {
     "data": {
      "text/html": [
       "'numeric'"
      ],
      "text/latex": [
       "'numeric'"
      ],
      "text/markdown": [
       "'numeric'"
      ],
      "text/plain": [
       "[1] \"numeric\""
      ]
     },
     "metadata": {},
     "output_type": "display_data"
    }
   ],
   "source": [
    "class(num)"
   ]
  },
  {
   "cell_type": "markdown",
   "metadata": {},
   "source": [
    "To force a number into integer we need the *L* suffix"
   ]
  },
  {
   "cell_type": "code",
   "execution_count": 66,
   "metadata": {},
   "outputs": [
    {
     "data": {
      "text/html": [
       "<ol class=list-inline>\n",
       "\t<li>10</li>\n",
       "\t<li>5</li>\n",
       "\t<li>2</li>\n",
       "\t<li>4</li>\n",
       "\t<li>8</li>\n",
       "\t<li>9</li>\n",
       "</ol>\n"
      ],
      "text/latex": [
       "\\begin{enumerate*}\n",
       "\\item 10\n",
       "\\item 5\n",
       "\\item 2\n",
       "\\item 4\n",
       "\\item 8\n",
       "\\item 9\n",
       "\\end{enumerate*}\n"
      ],
      "text/markdown": [
       "1. 10\n",
       "2. 5\n",
       "3. 2\n",
       "4. 4\n",
       "5. 8\n",
       "6. 9\n",
       "\n",
       "\n"
      ],
      "text/plain": [
       "[1] 10  5  2  4  8  9"
      ]
     },
     "metadata": {},
     "output_type": "display_data"
    }
   ],
   "source": [
    "x <- c(10L, 5L, 2L, 4L, 8L, 9L)\n",
    "x"
   ]
  },
  {
   "cell_type": "code",
   "execution_count": 67,
   "metadata": {},
   "outputs": [
    {
     "data": {
      "text/html": [
       "'integer'"
      ],
      "text/latex": [
       "'integer'"
      ],
      "text/markdown": [
       "'integer'"
      ],
      "text/plain": [
       "[1] \"integer\""
      ]
     },
     "metadata": {},
     "output_type": "display_data"
    }
   ],
   "source": [
    "typeof(x)"
   ]
  },
  {
   "cell_type": "code",
   "execution_count": 68,
   "metadata": {},
   "outputs": [
    {
     "data": {
      "text/html": [
       "'integer'"
      ],
      "text/latex": [
       "'integer'"
      ],
      "text/markdown": [
       "'integer'"
      ],
      "text/plain": [
       "[1] \"integer\""
      ]
     },
     "metadata": {},
     "output_type": "display_data"
    }
   ],
   "source": [
    "class(x)"
   ]
  },
  {
   "cell_type": "markdown",
   "metadata": {},
   "source": [
    "One of the differences between *numeric* and *integer* is that integer uses less storage space"
   ]
  },
  {
   "cell_type": "code",
   "execution_count": 69,
   "metadata": {},
   "outputs": [
    {
     "data": {
      "text/plain": [
       "88 bytes"
      ]
     },
     "metadata": {},
     "output_type": "display_data"
    }
   ],
   "source": [
    "object.size(num)"
   ]
  },
  {
   "cell_type": "code",
   "execution_count": 70,
   "metadata": {},
   "outputs": [
    {
     "data": {
      "text/plain": [
       "72 bytes"
      ]
     },
     "metadata": {},
     "output_type": "display_data"
    }
   ],
   "source": [
    "object.size(x)"
   ]
  },
  {
   "cell_type": "markdown",
   "metadata": {},
   "source": [
    "### 5.1.1. Numeric representation\n",
    "\n",
    "The numbers displayed are a simplified representation of the numbers stored in memory"
   ]
  },
  {
   "cell_type": "code",
   "execution_count": 71,
   "metadata": {},
   "outputs": [
    {
     "data": {
      "text/html": [
       "<ol class=list-inline>\n",
       "\t<li>0.529069456271827</li>\n",
       "\t<li>0.725864585256204</li>\n",
       "\t<li>0.927174946293235</li>\n",
       "\t<li>0.298250075196847</li>\n",
       "\t<li>0.873894275864586</li>\n",
       "\t<li>0.375160162337124</li>\n",
       "\t<li>0.0287297386676073</li>\n",
       "\t<li>0.755577126750723</li>\n",
       "\t<li>0.0939902872778475</li>\n",
       "\t<li>0.40960838040337</li>\n",
       "</ol>\n"
      ],
      "text/latex": [
       "\\begin{enumerate*}\n",
       "\\item 0.529069456271827\n",
       "\\item 0.725864585256204\n",
       "\\item 0.927174946293235\n",
       "\\item 0.298250075196847\n",
       "\\item 0.873894275864586\n",
       "\\item 0.375160162337124\n",
       "\\item 0.0287297386676073\n",
       "\\item 0.755577126750723\n",
       "\\item 0.0939902872778475\n",
       "\\item 0.40960838040337\n",
       "\\end{enumerate*}\n"
      ],
      "text/markdown": [
       "1. 0.529069456271827\n",
       "2. 0.725864585256204\n",
       "3. 0.927174946293235\n",
       "4. 0.298250075196847\n",
       "5. 0.873894275864586\n",
       "6. 0.375160162337124\n",
       "7. 0.0287297386676073\n",
       "8. 0.755577126750723\n",
       "9. 0.0939902872778475\n",
       "10. 0.40960838040337\n",
       "\n",
       "\n"
      ],
      "text/plain": [
       " [1] 0.52906946 0.72586459 0.92717495 0.29825008 0.87389428 0.37516016\n",
       " [7] 0.02872974 0.75557713 0.09399029 0.40960838"
      ]
     },
     "metadata": {},
     "output_type": "display_data"
    }
   ],
   "source": [
    "x <- runif(10)\n",
    "x"
   ]
  },
  {
   "cell_type": "code",
   "execution_count": 72,
   "metadata": {},
   "outputs": [
    {
     "data": {
      "text/html": [
       "7"
      ],
      "text/latex": [
       "7"
      ],
      "text/markdown": [
       "7"
      ],
      "text/plain": [
       "[1] 7"
      ]
     },
     "metadata": {},
     "output_type": "display_data"
    }
   ],
   "source": [
    "# get the default number of decimals\n",
    "\n",
    "getOption('digits')"
   ]
  },
  {
   "cell_type": "markdown",
   "metadata": {},
   "source": [
    "7 is the number of significant decimals. Internally, however, each number is stored with a 64 bits precision (up to 16 significant decimals). It can introduce errors sometimes:"
   ]
  },
  {
   "cell_type": "code",
   "execution_count": 73,
   "metadata": {},
   "outputs": [
    {
     "data": {
      "text/html": [
       "4.44089209850063e-16"
      ],
      "text/latex": [
       "4.44089209850063e-16"
      ],
      "text/markdown": [
       "4.44089209850063e-16"
      ],
      "text/plain": [
       "[1] 4.440892e-16"
      ]
     },
     "metadata": {},
     "output_type": "display_data"
    }
   ],
   "source": [
    "sqrt(2) ^ 2 - 2"
   ]
  },
  {
   "cell_type": "code",
   "execution_count": 74,
   "metadata": {},
   "outputs": [
    {
     "name": "stdout",
     "output_type": "stream",
     "text": [
      "[1] 2.000000000000000444089\n"
     ]
    }
   ],
   "source": [
    "print(sqrt(2) ^ 2, digits = 22)"
   ]
  },
  {
   "cell_type": "markdown",
   "metadata": {},
   "source": [
    "This is not exactly zero because the precision is 16 decimals. This kind of error is known as floating-point error. In R, numbers can be represented to up to 22 decimals:"
   ]
  },
  {
   "cell_type": "code",
   "execution_count": 75,
   "metadata": {},
   "outputs": [
    {
     "name": "stdout",
     "output_type": "stream",
     "text": [
      " [1] 0.53 0.73 0.93 0.30 0.87 0.38 0.03 0.76 0.09 0.41\n"
     ]
    }
   ],
   "source": [
    "print(x, digits=1)"
   ]
  },
  {
   "cell_type": "code",
   "execution_count": 76,
   "metadata": {},
   "outputs": [
    {
     "name": "stdout",
     "output_type": "stream",
     "text": [
      " [1] 0.52906946 0.72586459 0.92717495 0.29825008 0.87389428 0.37516016\n",
      " [7] 0.02872974 0.75557713 0.09399029 0.40960838\n"
     ]
    }
   ],
   "source": [
    "print(x, digits=7)"
   ]
  },
  {
   "cell_type": "code",
   "execution_count": 77,
   "metadata": {},
   "outputs": [
    {
     "name": "stdout",
     "output_type": "stream",
     "text": [
      " [1] 0.52906945627182722091675 0.72586458525620400905609\n",
      " [3] 0.92717494629323482513428 0.29825007519684731960297\n",
      " [5] 0.87389427586458623409271 0.37516016233712434768677\n",
      " [7] 0.02872973866760730743408 0.75557712675072252750397\n",
      " [9] 0.09399028727784752845764 0.40960838040336966514587\n"
     ]
    }
   ],
   "source": [
    "print(x, digits=22)"
   ]
  },
  {
   "cell_type": "code",
   "execution_count": 78,
   "metadata": {},
   "outputs": [
    {
     "name": "stdout",
     "output_type": "stream",
     "text": [
      " [1] 0.52906946 0.72586459 0.92717495 0.29825008 0.87389428 0.37516016\n",
      " [7] 0.02872974 0.75557713 0.09399029 0.40960838\n"
     ]
    }
   ],
   "source": [
    "# changing the display to scientific:\n",
    "\n",
    "print(x, scientific=TRUE)"
   ]
  },
  {
   "cell_type": "markdown",
   "metadata": {},
   "source": [
    "### 5.1.2. Sequence of numbers"
   ]
  },
  {
   "cell_type": "code",
   "execution_count": 79,
   "metadata": {},
   "outputs": [
    {
     "data": {
      "text/html": [
       "<ol class=list-inline>\n",
       "\t<li>1</li>\n",
       "\t<li>2</li>\n",
       "\t<li>3</li>\n",
       "\t<li>4</li>\n",
       "\t<li>5</li>\n",
       "\t<li>6</li>\n",
       "\t<li>7</li>\n",
       "\t<li>8</li>\n",
       "\t<li>9</li>\n",
       "\t<li>10</li>\n",
       "</ol>\n"
      ],
      "text/latex": [
       "\\begin{enumerate*}\n",
       "\\item 1\n",
       "\\item 2\n",
       "\\item 3\n",
       "\\item 4\n",
       "\\item 5\n",
       "\\item 6\n",
       "\\item 7\n",
       "\\item 8\n",
       "\\item 9\n",
       "\\item 10\n",
       "\\end{enumerate*}\n"
      ],
      "text/markdown": [
       "1. 1\n",
       "2. 2\n",
       "3. 3\n",
       "4. 4\n",
       "5. 5\n",
       "6. 6\n",
       "7. 7\n",
       "8. 8\n",
       "9. 9\n",
       "10. 10\n",
       "\n",
       "\n"
      ],
      "text/plain": [
       " [1]  1  2  3  4  5  6  7  8  9 10"
      ]
     },
     "metadata": {},
     "output_type": "display_data"
    }
   ],
   "source": [
    "seq(1, 10)"
   ]
  },
  {
   "cell_type": "code",
   "execution_count": 80,
   "metadata": {},
   "outputs": [
    {
     "data": {
      "text/html": [
       "<ol class=list-inline>\n",
       "\t<li>1</li>\n",
       "\t<li>2</li>\n",
       "\t<li>3</li>\n",
       "\t<li>4</li>\n",
       "\t<li>5</li>\n",
       "\t<li>6</li>\n",
       "\t<li>7</li>\n",
       "\t<li>8</li>\n",
       "\t<li>9</li>\n",
       "\t<li>10</li>\n",
       "</ol>\n"
      ],
      "text/latex": [
       "\\begin{enumerate*}\n",
       "\\item 1\n",
       "\\item 2\n",
       "\\item 3\n",
       "\\item 4\n",
       "\\item 5\n",
       "\\item 6\n",
       "\\item 7\n",
       "\\item 8\n",
       "\\item 9\n",
       "\\item 10\n",
       "\\end{enumerate*}\n"
      ],
      "text/markdown": [
       "1. 1\n",
       "2. 2\n",
       "3. 3\n",
       "4. 4\n",
       "5. 5\n",
       "6. 6\n",
       "7. 7\n",
       "8. 8\n",
       "9. 9\n",
       "10. 10\n",
       "\n",
       "\n"
      ],
      "text/plain": [
       " [1]  1  2  3  4  5  6  7  8  9 10"
      ]
     },
     "metadata": {},
     "output_type": "display_data"
    }
   ],
   "source": [
    "# same as\n",
    "\n",
    "1:10"
   ]
  },
  {
   "cell_type": "code",
   "execution_count": 81,
   "metadata": {},
   "outputs": [
    {
     "data": {
      "text/html": [
       "<ol class=list-inline>\n",
       "\t<li>1</li>\n",
       "\t<li>3</li>\n",
       "\t<li>5</li>\n",
       "\t<li>7</li>\n",
       "\t<li>9</li>\n",
       "</ol>\n"
      ],
      "text/latex": [
       "\\begin{enumerate*}\n",
       "\\item 1\n",
       "\\item 3\n",
       "\\item 5\n",
       "\\item 7\n",
       "\\item 9\n",
       "\\end{enumerate*}\n"
      ],
      "text/markdown": [
       "1. 1\n",
       "2. 3\n",
       "3. 5\n",
       "4. 7\n",
       "5. 9\n",
       "\n",
       "\n"
      ],
      "text/plain": [
       "[1] 1 3 5 7 9"
      ]
     },
     "metadata": {},
     "output_type": "display_data"
    }
   ],
   "source": [
    "seq(from=1, to=10, by=2)"
   ]
  },
  {
   "cell_type": "code",
   "execution_count": 82,
   "metadata": {},
   "outputs": [
    {
     "data": {
      "text/html": [
       "<ol class=list-inline>\n",
       "\t<li>1</li>\n",
       "\t<li>1.64285714285714</li>\n",
       "\t<li>2.28571428571429</li>\n",
       "\t<li>2.92857142857143</li>\n",
       "\t<li>3.57142857142857</li>\n",
       "\t<li>4.21428571428571</li>\n",
       "\t<li>4.85714285714286</li>\n",
       "\t<li>5.5</li>\n",
       "\t<li>6.14285714285714</li>\n",
       "\t<li>6.78571428571429</li>\n",
       "\t<li>7.42857142857143</li>\n",
       "\t<li>8.07142857142857</li>\n",
       "\t<li>8.71428571428572</li>\n",
       "\t<li>9.35714285714286</li>\n",
       "\t<li>10</li>\n",
       "</ol>\n"
      ],
      "text/latex": [
       "\\begin{enumerate*}\n",
       "\\item 1\n",
       "\\item 1.64285714285714\n",
       "\\item 2.28571428571429\n",
       "\\item 2.92857142857143\n",
       "\\item 3.57142857142857\n",
       "\\item 4.21428571428571\n",
       "\\item 4.85714285714286\n",
       "\\item 5.5\n",
       "\\item 6.14285714285714\n",
       "\\item 6.78571428571429\n",
       "\\item 7.42857142857143\n",
       "\\item 8.07142857142857\n",
       "\\item 8.71428571428572\n",
       "\\item 9.35714285714286\n",
       "\\item 10\n",
       "\\end{enumerate*}\n"
      ],
      "text/markdown": [
       "1. 1\n",
       "2. 1.64285714285714\n",
       "3. 2.28571428571429\n",
       "4. 2.92857142857143\n",
       "5. 3.57142857142857\n",
       "6. 4.21428571428571\n",
       "7. 4.85714285714286\n",
       "8. 5.5\n",
       "9. 6.14285714285714\n",
       "10. 6.78571428571429\n",
       "11. 7.42857142857143\n",
       "12. 8.07142857142857\n",
       "13. 8.71428571428572\n",
       "14. 9.35714285714286\n",
       "15. 10\n",
       "\n",
       "\n"
      ],
      "text/plain": [
       " [1]  1.000000  1.642857  2.285714  2.928571  3.571429  4.214286  4.857143\n",
       " [8]  5.500000  6.142857  6.785714  7.428571  8.071429  8.714286  9.357143\n",
       "[15] 10.000000"
      ]
     },
     "metadata": {},
     "output_type": "display_data"
    }
   ],
   "source": [
    "# 15 values between 1 and 10\n",
    "\n",
    "seq(1, 10, length.out=15)"
   ]
  },
  {
   "cell_type": "code",
   "execution_count": 83,
   "metadata": {},
   "outputs": [
    {
     "data": {
      "text/html": [
       "<ol class=list-inline>\n",
       "\t<li>1</li>\n",
       "\t<li>1</li>\n",
       "\t<li>1</li>\n",
       "\t<li>1</li>\n",
       "\t<li>1</li>\n",
       "\t<li>1</li>\n",
       "\t<li>1</li>\n",
       "\t<li>1</li>\n",
       "\t<li>1</li>\n",
       "\t<li>1</li>\n",
       "</ol>\n"
      ],
      "text/latex": [
       "\\begin{enumerate*}\n",
       "\\item 1\n",
       "\\item 1\n",
       "\\item 1\n",
       "\\item 1\n",
       "\\item 1\n",
       "\\item 1\n",
       "\\item 1\n",
       "\\item 1\n",
       "\\item 1\n",
       "\\item 1\n",
       "\\end{enumerate*}\n"
      ],
      "text/markdown": [
       "1. 1\n",
       "2. 1\n",
       "3. 1\n",
       "4. 1\n",
       "5. 1\n",
       "6. 1\n",
       "7. 1\n",
       "8. 1\n",
       "9. 1\n",
       "10. 1\n",
       "\n",
       "\n"
      ],
      "text/plain": [
       " [1] 1 1 1 1 1 1 1 1 1 1"
      ]
     },
     "metadata": {},
     "output_type": "display_data"
    }
   ],
   "source": [
    "rep(1, 10)"
   ]
  },
  {
   "cell_type": "code",
   "execution_count": 84,
   "metadata": {},
   "outputs": [
    {
     "data": {
      "text/html": [
       "<ol class=list-inline>\n",
       "\t<li>1</li>\n",
       "\t<li>2</li>\n",
       "\t<li>3</li>\n",
       "\t<li>1</li>\n",
       "\t<li>2</li>\n",
       "\t<li>3</li>\n",
       "\t<li>1</li>\n",
       "\t<li>2</li>\n",
       "\t<li>3</li>\n",
       "\t<li>1</li>\n",
       "\t<li>2</li>\n",
       "\t<li>3</li>\n",
       "\t<li>1</li>\n",
       "\t<li>2</li>\n",
       "\t<li>3</li>\n",
       "</ol>\n"
      ],
      "text/latex": [
       "\\begin{enumerate*}\n",
       "\\item 1\n",
       "\\item 2\n",
       "\\item 3\n",
       "\\item 1\n",
       "\\item 2\n",
       "\\item 3\n",
       "\\item 1\n",
       "\\item 2\n",
       "\\item 3\n",
       "\\item 1\n",
       "\\item 2\n",
       "\\item 3\n",
       "\\item 1\n",
       "\\item 2\n",
       "\\item 3\n",
       "\\end{enumerate*}\n"
      ],
      "text/markdown": [
       "1. 1\n",
       "2. 2\n",
       "3. 3\n",
       "4. 1\n",
       "5. 2\n",
       "6. 3\n",
       "7. 1\n",
       "8. 2\n",
       "9. 3\n",
       "10. 1\n",
       "11. 2\n",
       "12. 3\n",
       "13. 1\n",
       "14. 2\n",
       "15. 3\n",
       "\n",
       "\n"
      ],
      "text/plain": [
       " [1] 1 2 3 1 2 3 1 2 3 1 2 3 1 2 3"
      ]
     },
     "metadata": {},
     "output_type": "display_data"
    }
   ],
   "source": [
    "rep(c(1, 2, 3), times = 5)"
   ]
  },
  {
   "cell_type": "code",
   "execution_count": 85,
   "metadata": {},
   "outputs": [
    {
     "data": {
      "text/html": [
       "<ol class=list-inline>\n",
       "\t<li>1</li>\n",
       "\t<li>1</li>\n",
       "\t<li>1</li>\n",
       "\t<li>1</li>\n",
       "\t<li>1</li>\n",
       "\t<li>2</li>\n",
       "\t<li>2</li>\n",
       "\t<li>2</li>\n",
       "\t<li>2</li>\n",
       "\t<li>2</li>\n",
       "\t<li>3</li>\n",
       "\t<li>3</li>\n",
       "\t<li>3</li>\n",
       "\t<li>3</li>\n",
       "\t<li>3</li>\n",
       "</ol>\n"
      ],
      "text/latex": [
       "\\begin{enumerate*}\n",
       "\\item 1\n",
       "\\item 1\n",
       "\\item 1\n",
       "\\item 1\n",
       "\\item 1\n",
       "\\item 2\n",
       "\\item 2\n",
       "\\item 2\n",
       "\\item 2\n",
       "\\item 2\n",
       "\\item 3\n",
       "\\item 3\n",
       "\\item 3\n",
       "\\item 3\n",
       "\\item 3\n",
       "\\end{enumerate*}\n"
      ],
      "text/markdown": [
       "1. 1\n",
       "2. 1\n",
       "3. 1\n",
       "4. 1\n",
       "5. 1\n",
       "6. 2\n",
       "7. 2\n",
       "8. 2\n",
       "9. 2\n",
       "10. 2\n",
       "11. 3\n",
       "12. 3\n",
       "13. 3\n",
       "14. 3\n",
       "15. 3\n",
       "\n",
       "\n"
      ],
      "text/plain": [
       " [1] 1 1 1 1 1 2 2 2 2 2 3 3 3 3 3"
      ]
     },
     "metadata": {},
     "output_type": "display_data"
    }
   ],
   "source": [
    "rep(c(1, 2, 3), each=5)"
   ]
  },
  {
   "cell_type": "markdown",
   "metadata": {},
   "source": [
    "### 5.1.3. Mathematical operations with numeric vectors"
   ]
  },
  {
   "cell_type": "code",
   "execution_count": 86,
   "metadata": {},
   "outputs": [
    {
     "data": {
      "text/html": [
       "<ol class=list-inline>\n",
       "\t<li>20</li>\n",
       "\t<li>10</li>\n",
       "\t<li>4</li>\n",
       "\t<li>8</li>\n",
       "\t<li>16</li>\n",
       "\t<li>18</li>\n",
       "</ol>\n"
      ],
      "text/latex": [
       "\\begin{enumerate*}\n",
       "\\item 20\n",
       "\\item 10\n",
       "\\item 4\n",
       "\\item 8\n",
       "\\item 16\n",
       "\\item 18\n",
       "\\end{enumerate*}\n"
      ],
      "text/markdown": [
       "1. 20\n",
       "2. 10\n",
       "3. 4\n",
       "4. 8\n",
       "5. 16\n",
       "6. 18\n",
       "\n",
       "\n"
      ],
      "text/plain": [
       "[1] 20 10  4  8 16 18"
      ]
     },
     "metadata": {},
     "output_type": "display_data"
    }
   ],
   "source": [
    "# betweem vector and number\n",
    "\n",
    "num * 2"
   ]
  },
  {
   "cell_type": "code",
   "execution_count": 87,
   "metadata": {},
   "outputs": [
    {
     "data": {
      "text/html": [
       "<ol class=list-inline>\n",
       "\t<li>100</li>\n",
       "\t<li>25</li>\n",
       "\t<li>4</li>\n",
       "\t<li>16</li>\n",
       "\t<li>64</li>\n",
       "\t<li>81</li>\n",
       "</ol>\n"
      ],
      "text/latex": [
       "\\begin{enumerate*}\n",
       "\\item 100\n",
       "\\item 25\n",
       "\\item 4\n",
       "\\item 16\n",
       "\\item 64\n",
       "\\item 81\n",
       "\\end{enumerate*}\n"
      ],
      "text/markdown": [
       "1. 100\n",
       "2. 25\n",
       "3. 4\n",
       "4. 16\n",
       "5. 64\n",
       "6. 81\n",
       "\n",
       "\n"
      ],
      "text/plain": [
       "[1] 100  25   4  16  64  81"
      ]
     },
     "metadata": {},
     "output_type": "display_data"
    }
   ],
   "source": [
    "# two vectors of the same size\n",
    "\n",
    "num * num"
   ]
  },
  {
   "cell_type": "code",
   "execution_count": 88,
   "metadata": {},
   "outputs": [
    {
     "data": {
      "text/html": [
       "<ol class=list-inline>\n",
       "\t<li>20</li>\n",
       "\t<li>20</li>\n",
       "\t<li>2</li>\n",
       "\t<li>8</li>\n",
       "\t<li>32</li>\n",
       "\t<li>9</li>\n",
       "</ol>\n"
      ],
      "text/latex": [
       "\\begin{enumerate*}\n",
       "\\item 20\n",
       "\\item 20\n",
       "\\item 2\n",
       "\\item 8\n",
       "\\item 32\n",
       "\\item 9\n",
       "\\end{enumerate*}\n"
      ],
      "text/markdown": [
       "1. 20\n",
       "2. 20\n",
       "3. 2\n",
       "4. 8\n",
       "5. 32\n",
       "6. 9\n",
       "\n",
       "\n"
      ],
      "text/plain": [
       "[1] 20 20  2  8 32  9"
      ]
     },
     "metadata": {},
     "output_type": "display_data"
    }
   ],
   "source": [
    "# or multiple length\n",
    "\n",
    "num * c(2, 4, 1)"
   ]
  },
  {
   "cell_type": "markdown",
   "metadata": {},
   "source": [
    "### 5.1.4. Recycling rules"
   ]
  },
  {
   "cell_type": "code",
   "execution_count": 89,
   "metadata": {},
   "outputs": [
    {
     "name": "stderr",
     "output_type": "stream",
     "text": [
      "Warning message in num/c(2, 4, 1, 3):\n",
      "“longer object length is not a multiple of shorter object length”"
     ]
    },
    {
     "data": {
      "text/html": [
       "<ol class=list-inline>\n",
       "\t<li>5</li>\n",
       "\t<li>1.25</li>\n",
       "\t<li>2</li>\n",
       "\t<li>1.33333333333333</li>\n",
       "\t<li>4</li>\n",
       "\t<li>2.25</li>\n",
       "</ol>\n"
      ],
      "text/latex": [
       "\\begin{enumerate*}\n",
       "\\item 5\n",
       "\\item 1.25\n",
       "\\item 2\n",
       "\\item 1.33333333333333\n",
       "\\item 4\n",
       "\\item 2.25\n",
       "\\end{enumerate*}\n"
      ],
      "text/markdown": [
       "1. 5\n",
       "2. 1.25\n",
       "3. 2\n",
       "4. 1.33333333333333\n",
       "5. 4\n",
       "6. 2.25\n",
       "\n",
       "\n"
      ],
      "text/plain": [
       "[1] 5.000000 1.250000 2.000000 1.333333 4.000000 2.250000"
      ]
     },
     "metadata": {},
     "output_type": "display_data"
    }
   ],
   "source": [
    "num / c(2, 4, 1, 3)"
   ]
  },
  {
   "cell_type": "markdown",
   "metadata": {},
   "source": [
    "## 5.2. Other types of vectors"
   ]
  },
  {
   "cell_type": "code",
   "execution_count": 90,
   "metadata": {},
   "outputs": [
    {
     "data": {
      "text/html": [
       "<ol class=list-inline>\n",
       "\t<li>'brava'</li>\n",
       "\t<li>'joaquina'</li>\n",
       "\t<li>'armação'</li>\n",
       "</ol>\n"
      ],
      "text/latex": [
       "\\begin{enumerate*}\n",
       "\\item 'brava'\n",
       "\\item 'joaquina'\n",
       "\\item 'armação'\n",
       "\\end{enumerate*}\n"
      ],
      "text/markdown": [
       "1. 'brava'\n",
       "2. 'joaquina'\n",
       "3. 'armação'\n",
       "\n",
       "\n"
      ],
      "text/plain": [
       "[1] \"brava\"    \"joaquina\" \"armação\" "
      ]
     },
     "metadata": {},
     "output_type": "display_data"
    }
   ],
   "source": [
    "# characters\n",
    "\n",
    "characters <- c('brava', 'joaquina', 'armação')\n",
    "characters"
   ]
  },
  {
   "cell_type": "code",
   "execution_count": 91,
   "metadata": {},
   "outputs": [
    {
     "data": {
      "text/html": [
       "'character'"
      ],
      "text/latex": [
       "'character'"
      ],
      "text/markdown": [
       "'character'"
      ],
      "text/plain": [
       "[1] \"character\""
      ]
     },
     "metadata": {},
     "output_type": "display_data"
    }
   ],
   "source": [
    "typeof(characters)"
   ]
  },
  {
   "cell_type": "code",
   "execution_count": 92,
   "metadata": {},
   "outputs": [
    {
     "data": {
      "text/html": [
       "'character'"
      ],
      "text/latex": [
       "'character'"
      ],
      "text/markdown": [
       "'character'"
      ],
      "text/plain": [
       "[1] \"character\""
      ]
     },
     "metadata": {},
     "output_type": "display_data"
    }
   ],
   "source": [
    "class(characters)"
   ]
  },
  {
   "cell_type": "code",
   "execution_count": 93,
   "metadata": {},
   "outputs": [
    {
     "data": {
      "text/html": [
       "<ol class=list-inline>\n",
       "\t<li>TRUE</li>\n",
       "\t<li>TRUE</li>\n",
       "\t<li>FALSE</li>\n",
       "\t<li>FALSE</li>\n",
       "\t<li>TRUE</li>\n",
       "\t<li>TRUE</li>\n",
       "</ol>\n"
      ],
      "text/latex": [
       "\\begin{enumerate*}\n",
       "\\item TRUE\n",
       "\\item TRUE\n",
       "\\item FALSE\n",
       "\\item FALSE\n",
       "\\item TRUE\n",
       "\\item TRUE\n",
       "\\end{enumerate*}\n"
      ],
      "text/markdown": [
       "1. TRUE\n",
       "2. TRUE\n",
       "3. FALSE\n",
       "4. FALSE\n",
       "5. TRUE\n",
       "6. TRUE\n",
       "\n",
       "\n"
      ],
      "text/plain": [
       "[1]  TRUE  TRUE FALSE FALSE  TRUE  TRUE"
      ]
     },
     "metadata": {},
     "output_type": "display_data"
    }
   ],
   "source": [
    "# logical\n",
    "\n",
    "logical <- num > 4\n",
    "logical"
   ]
  },
  {
   "cell_type": "markdown",
   "metadata": {},
   "source": [
    "Some logical operators:\n",
    "\n",
    "|||\n",
    "|------------|\n",
    "|**Operator**|**Test**|\n",
    "|<|less than|\n",
    "|<=|less than or equal to|\n",
    "|>|greater than|\n",
    "|>=|greater than or equal to|\n",
    "|==|equal to|\n",
    "|!=|different than|\n",
    "|%in%|is contained in |"
   ]
  },
  {
   "cell_type": "markdown",
   "metadata": {},
   "source": [
    "## 5.3. Mixing classes of objects"
   ]
  },
  {
   "cell_type": "code",
   "execution_count": 94,
   "metadata": {},
   "outputs": [],
   "source": [
    "w <- c(5L, 'a')\n",
    "x <- c(1.7, 'a')\n",
    "y <- c(TRUE, 2)\n",
    "z <- c('a', TRUE)"
   ]
  },
  {
   "cell_type": "markdown",
   "metadata": {},
   "source": [
    "When different types are mixed up, **coercion** occurs, so that all elements are of the same class. Above we saw R's implicit coercion, but we can explicitly coerce elements using the `as.*` functions"
   ]
  },
  {
   "cell_type": "code",
   "execution_count": 95,
   "metadata": {},
   "outputs": [
    {
     "data": {
      "text/html": [
       "'integer'"
      ],
      "text/latex": [
       "'integer'"
      ],
      "text/markdown": [
       "'integer'"
      ],
      "text/plain": [
       "[1] \"integer\""
      ]
     },
     "metadata": {},
     "output_type": "display_data"
    }
   ],
   "source": [
    "x <- 0:6\n",
    "typeof(x)"
   ]
  },
  {
   "cell_type": "code",
   "execution_count": 96,
   "metadata": {},
   "outputs": [
    {
     "data": {
      "text/html": [
       "'integer'"
      ],
      "text/latex": [
       "'integer'"
      ],
      "text/markdown": [
       "'integer'"
      ],
      "text/plain": [
       "[1] \"integer\""
      ]
     },
     "metadata": {},
     "output_type": "display_data"
    }
   ],
   "source": [
    "class(x)"
   ]
  },
  {
   "cell_type": "code",
   "execution_count": 97,
   "metadata": {},
   "outputs": [
    {
     "data": {
      "text/html": [
       "<ol class=list-inline>\n",
       "\t<li>0</li>\n",
       "\t<li>1</li>\n",
       "\t<li>2</li>\n",
       "\t<li>3</li>\n",
       "\t<li>4</li>\n",
       "\t<li>5</li>\n",
       "\t<li>6</li>\n",
       "</ol>\n"
      ],
      "text/latex": [
       "\\begin{enumerate*}\n",
       "\\item 0\n",
       "\\item 1\n",
       "\\item 2\n",
       "\\item 3\n",
       "\\item 4\n",
       "\\item 5\n",
       "\\item 6\n",
       "\\end{enumerate*}\n"
      ],
      "text/markdown": [
       "1. 0\n",
       "2. 1\n",
       "3. 2\n",
       "4. 3\n",
       "5. 4\n",
       "6. 5\n",
       "7. 6\n",
       "\n",
       "\n"
      ],
      "text/plain": [
       "[1] 0 1 2 3 4 5 6"
      ]
     },
     "metadata": {},
     "output_type": "display_data"
    }
   ],
   "source": [
    "as.numeric(x)"
   ]
  },
  {
   "cell_type": "code",
   "execution_count": 98,
   "metadata": {},
   "outputs": [
    {
     "data": {
      "text/html": [
       "<ol class=list-inline>\n",
       "\t<li>FALSE</li>\n",
       "\t<li>TRUE</li>\n",
       "\t<li>TRUE</li>\n",
       "\t<li>TRUE</li>\n",
       "\t<li>TRUE</li>\n",
       "\t<li>TRUE</li>\n",
       "\t<li>TRUE</li>\n",
       "</ol>\n"
      ],
      "text/latex": [
       "\\begin{enumerate*}\n",
       "\\item FALSE\n",
       "\\item TRUE\n",
       "\\item TRUE\n",
       "\\item TRUE\n",
       "\\item TRUE\n",
       "\\item TRUE\n",
       "\\item TRUE\n",
       "\\end{enumerate*}\n"
      ],
      "text/markdown": [
       "1. FALSE\n",
       "2. TRUE\n",
       "3. TRUE\n",
       "4. TRUE\n",
       "5. TRUE\n",
       "6. TRUE\n",
       "7. TRUE\n",
       "\n",
       "\n"
      ],
      "text/plain": [
       "[1] FALSE  TRUE  TRUE  TRUE  TRUE  TRUE  TRUE"
      ]
     },
     "metadata": {},
     "output_type": "display_data"
    }
   ],
   "source": [
    "as.logical(x)"
   ]
  },
  {
   "cell_type": "code",
   "execution_count": 99,
   "metadata": {},
   "outputs": [
    {
     "data": {
      "text/html": [
       "<ol class=list-inline>\n",
       "\t<li>'0'</li>\n",
       "\t<li>'1'</li>\n",
       "\t<li>'2'</li>\n",
       "\t<li>'3'</li>\n",
       "\t<li>'4'</li>\n",
       "\t<li>'5'</li>\n",
       "\t<li>'6'</li>\n",
       "</ol>\n"
      ],
      "text/latex": [
       "\\begin{enumerate*}\n",
       "\\item '0'\n",
       "\\item '1'\n",
       "\\item '2'\n",
       "\\item '3'\n",
       "\\item '4'\n",
       "\\item '5'\n",
       "\\item '6'\n",
       "\\end{enumerate*}\n"
      ],
      "text/markdown": [
       "1. '0'\n",
       "2. '1'\n",
       "3. '2'\n",
       "4. '3'\n",
       "5. '4'\n",
       "6. '5'\n",
       "7. '6'\n",
       "\n",
       "\n"
      ],
      "text/plain": [
       "[1] \"0\" \"1\" \"2\" \"3\" \"4\" \"5\" \"6\""
      ]
     },
     "metadata": {},
     "output_type": "display_data"
    }
   ],
   "source": [
    "as.character(x)"
   ]
  },
  {
   "cell_type": "code",
   "execution_count": 100,
   "metadata": {},
   "outputs": [
    {
     "data": {
      "text/html": [
       "<ol class=list-inline>\n",
       "\t<li>0</li>\n",
       "\t<li>1</li>\n",
       "\t<li>2</li>\n",
       "\t<li>3</li>\n",
       "\t<li>4</li>\n",
       "\t<li>5</li>\n",
       "\t<li>6</li>\n",
       "</ol>\n",
       "\n",
       "<details>\n",
       "\t<summary style=display:list-item;cursor:pointer>\n",
       "\t\t<strong>Levels</strong>:\n",
       "\t</summary>\n",
       "\t<ol class=list-inline>\n",
       "\t\t<li>'0'</li>\n",
       "\t\t<li>'1'</li>\n",
       "\t\t<li>'2'</li>\n",
       "\t\t<li>'3'</li>\n",
       "\t\t<li>'4'</li>\n",
       "\t\t<li>'5'</li>\n",
       "\t\t<li>'6'</li>\n",
       "\t</ol>\n",
       "</details>"
      ],
      "text/latex": [
       "\\begin{enumerate*}\n",
       "\\item 0\n",
       "\\item 1\n",
       "\\item 2\n",
       "\\item 3\n",
       "\\item 4\n",
       "\\item 5\n",
       "\\item 6\n",
       "\\end{enumerate*}\n",
       "\n",
       "\\emph{Levels}: \\begin{enumerate*}\n",
       "\\item '0'\n",
       "\\item '1'\n",
       "\\item '2'\n",
       "\\item '3'\n",
       "\\item '4'\n",
       "\\item '5'\n",
       "\\item '6'\n",
       "\\end{enumerate*}\n"
      ],
      "text/markdown": [
       "1. 0\n",
       "2. 1\n",
       "3. 2\n",
       "4. 3\n",
       "5. 4\n",
       "6. 5\n",
       "7. 6\n",
       "\n",
       "\n",
       "\n",
       "**Levels**: 1. '0'\n",
       "2. '1'\n",
       "3. '2'\n",
       "4. '3'\n",
       "5. '4'\n",
       "6. '5'\n",
       "7. '6'\n",
       "\n",
       "\n"
      ],
      "text/plain": [
       "[1] 0 1 2 3 4 5 6\n",
       "Levels: 0 1 2 3 4 5 6"
      ]
     },
     "metadata": {},
     "output_type": "display_data"
    }
   ],
   "source": [
    "as.factor(x)"
   ]
  },
  {
   "cell_type": "code",
   "execution_count": 101,
   "metadata": {},
   "outputs": [
    {
     "data": {
      "text/html": [
       "<ol class=list-inline>\n",
       "\t<li>FALSE</li>\n",
       "\t<li>TRUE</li>\n",
       "</ol>\n"
      ],
      "text/latex": [
       "\\begin{enumerate*}\n",
       "\\item FALSE\n",
       "\\item TRUE\n",
       "\\end{enumerate*}\n"
      ],
      "text/markdown": [
       "1. FALSE\n",
       "2. TRUE\n",
       "\n",
       "\n"
      ],
      "text/plain": [
       "[1] FALSE  TRUE"
      ]
     },
     "metadata": {},
     "output_type": "display_data"
    }
   ],
   "source": [
    "(x <- c(FALSE, TRUE))"
   ]
  },
  {
   "cell_type": "code",
   "execution_count": 102,
   "metadata": {},
   "outputs": [
    {
     "data": {
      "text/html": [
       "'logical'"
      ],
      "text/latex": [
       "'logical'"
      ],
      "text/markdown": [
       "'logical'"
      ],
      "text/plain": [
       "[1] \"logical\""
      ]
     },
     "metadata": {},
     "output_type": "display_data"
    }
   ],
   "source": [
    "class(x)"
   ]
  },
  {
   "cell_type": "code",
   "execution_count": 103,
   "metadata": {},
   "outputs": [
    {
     "data": {
      "text/html": [
       "<ol class=list-inline>\n",
       "\t<li>0</li>\n",
       "\t<li>1</li>\n",
       "</ol>\n"
      ],
      "text/latex": [
       "\\begin{enumerate*}\n",
       "\\item 0\n",
       "\\item 1\n",
       "\\end{enumerate*}\n"
      ],
      "text/markdown": [
       "1. 0\n",
       "2. 1\n",
       "\n",
       "\n"
      ],
      "text/plain": [
       "[1] 0 1"
      ]
     },
     "metadata": {},
     "output_type": "display_data"
    }
   ],
   "source": [
    "as.numeric(x)"
   ]
  },
  {
   "cell_type": "code",
   "execution_count": 104,
   "metadata": {},
   "outputs": [
    {
     "name": "stderr",
     "output_type": "stream",
     "text": [
      "Warning message in eval(expr, envir, enclos):\n",
      "“NAs introduced by coercion”"
     ]
    },
    {
     "data": {
      "text/html": [
       "<ol class=list-inline>\n",
       "\t<li>&lt;NA&gt;</li>\n",
       "\t<li>&lt;NA&gt;</li>\n",
       "\t<li>&lt;NA&gt;</li>\n",
       "</ol>\n"
      ],
      "text/latex": [
       "\\begin{enumerate*}\n",
       "\\item <NA>\n",
       "\\item <NA>\n",
       "\\item <NA>\n",
       "\\end{enumerate*}\n"
      ],
      "text/markdown": [
       "1. &lt;NA&gt;\n",
       "2. &lt;NA&gt;\n",
       "3. &lt;NA&gt;\n",
       "\n",
       "\n"
      ],
      "text/plain": [
       "[1] NA NA NA"
      ]
     },
     "metadata": {},
     "output_type": "display_data"
    }
   ],
   "source": [
    "# sometimes it is not possible to coerce\n",
    "\n",
    "x <- c('a', 'b', 'c')\n",
    "as.numeric(x)"
   ]
  },
  {
   "cell_type": "code",
   "execution_count": 105,
   "metadata": {},
   "outputs": [
    {
     "data": {
      "text/html": [
       "<ol class=list-inline>\n",
       "\t<li>&lt;NA&gt;</li>\n",
       "\t<li>&lt;NA&gt;</li>\n",
       "\t<li>&lt;NA&gt;</li>\n",
       "</ol>\n"
      ],
      "text/latex": [
       "\\begin{enumerate*}\n",
       "\\item <NA>\n",
       "\\item <NA>\n",
       "\\item <NA>\n",
       "\\end{enumerate*}\n"
      ],
      "text/markdown": [
       "1. &lt;NA&gt;\n",
       "2. &lt;NA&gt;\n",
       "3. &lt;NA&gt;\n",
       "\n",
       "\n"
      ],
      "text/plain": [
       "[1] NA NA NA"
      ]
     },
     "metadata": {},
     "output_type": "display_data"
    }
   ],
   "source": [
    "as.logical(x)"
   ]
  },
  {
   "cell_type": "markdown",
   "metadata": {},
   "source": [
    "## 5.4. Lost values and specials\n",
    "\n",
    "Lost values are defined as `NA` (not available)"
   ]
  },
  {
   "cell_type": "code",
   "execution_count": 106,
   "metadata": {},
   "outputs": [
    {
     "data": {
      "text/html": [
       "<ol class=list-inline>\n",
       "\t<li>3</li>\n",
       "\t<li>5</li>\n",
       "\t<li>&lt;NA&gt;</li>\n",
       "\t<li>2</li>\n",
       "</ol>\n"
      ],
      "text/latex": [
       "\\begin{enumerate*}\n",
       "\\item 3\n",
       "\\item 5\n",
       "\\item <NA>\n",
       "\\item 2\n",
       "\\end{enumerate*}\n"
      ],
      "text/markdown": [
       "1. 3\n",
       "2. 5\n",
       "3. &lt;NA&gt;\n",
       "4. 2\n",
       "\n",
       "\n"
      ],
      "text/plain": [
       "[1]  3  5 NA  2"
      ]
     },
     "metadata": {},
     "output_type": "display_data"
    }
   ],
   "source": [
    "lost <- c(3, 5, NA, 2)\n",
    "lost"
   ]
  },
  {
   "cell_type": "code",
   "execution_count": 107,
   "metadata": {},
   "outputs": [
    {
     "data": {
      "text/html": [
       "'numeric'"
      ],
      "text/latex": [
       "'numeric'"
      ],
      "text/markdown": [
       "'numeric'"
      ],
      "text/plain": [
       "[1] \"numeric\""
      ]
     },
     "metadata": {},
     "output_type": "display_data"
    }
   ],
   "source": [
    "class(lost)"
   ]
  },
  {
   "cell_type": "code",
   "execution_count": 108,
   "metadata": {},
   "outputs": [
    {
     "data": {
      "text/html": [
       "<ol class=list-inline>\n",
       "\t<li>FALSE</li>\n",
       "\t<li>FALSE</li>\n",
       "\t<li>TRUE</li>\n",
       "\t<li>FALSE</li>\n",
       "</ol>\n"
      ],
      "text/latex": [
       "\\begin{enumerate*}\n",
       "\\item FALSE\n",
       "\\item FALSE\n",
       "\\item TRUE\n",
       "\\item FALSE\n",
       "\\end{enumerate*}\n"
      ],
      "text/markdown": [
       "1. FALSE\n",
       "2. FALSE\n",
       "3. TRUE\n",
       "4. FALSE\n",
       "\n",
       "\n"
      ],
      "text/plain": [
       "[1] FALSE FALSE  TRUE FALSE"
      ]
     },
     "metadata": {},
     "output_type": "display_data"
    }
   ],
   "source": [
    "# check to see if there are any NAs:\n",
    "\n",
    "is.na(lost)"
   ]
  },
  {
   "cell_type": "code",
   "execution_count": 109,
   "metadata": {},
   "outputs": [
    {
     "data": {
      "text/html": [
       "TRUE"
      ],
      "text/latex": [
       "TRUE"
      ],
      "text/markdown": [
       "TRUE"
      ],
      "text/plain": [
       "[1] TRUE"
      ]
     },
     "metadata": {},
     "output_type": "display_data"
    }
   ],
   "source": [
    "any(is.na(lost))"
   ]
  },
  {
   "cell_type": "markdown",
   "metadata": {},
   "source": [
    "Other special values are `NaN` (not a number), e.g. `0/0` and `-Inf` and `+Inf`, e.g. `1/0`, `is.na` also tests the presence of `NaN`"
   ]
  },
  {
   "cell_type": "code",
   "execution_count": 110,
   "metadata": {},
   "outputs": [
    {
     "data": {
      "text/html": [
       "<ol class=list-inline>\n",
       "\t<li>-Inf</li>\n",
       "\t<li>NaN</li>\n",
       "\t<li>Inf</li>\n",
       "</ol>\n"
      ],
      "text/latex": [
       "\\begin{enumerate*}\n",
       "\\item -Inf\n",
       "\\item NaN\n",
       "\\item Inf\n",
       "\\end{enumerate*}\n"
      ],
      "text/markdown": [
       "1. -Inf\n",
       "2. NaN\n",
       "3. Inf\n",
       "\n",
       "\n"
      ],
      "text/plain": [
       "[1] -Inf  NaN  Inf"
      ]
     },
     "metadata": {},
     "output_type": "display_data"
    }
   ],
   "source": [
    "lost <- c(-1, 0, 1)/0\n",
    "lost"
   ]
  },
  {
   "cell_type": "code",
   "execution_count": 111,
   "metadata": {},
   "outputs": [
    {
     "data": {
      "text/html": [
       "<ol class=list-inline>\n",
       "\t<li>FALSE</li>\n",
       "\t<li>TRUE</li>\n",
       "\t<li>FALSE</li>\n",
       "</ol>\n"
      ],
      "text/latex": [
       "\\begin{enumerate*}\n",
       "\\item FALSE\n",
       "\\item TRUE\n",
       "\\item FALSE\n",
       "\\end{enumerate*}\n"
      ],
      "text/markdown": [
       "1. FALSE\n",
       "2. TRUE\n",
       "3. FALSE\n",
       "\n",
       "\n"
      ],
      "text/plain": [
       "[1] FALSE  TRUE FALSE"
      ]
     },
     "metadata": {},
     "output_type": "display_data"
    }
   ],
   "source": [
    "is.na(lost)"
   ]
  },
  {
   "cell_type": "code",
   "execution_count": 112,
   "metadata": {},
   "outputs": [
    {
     "data": {
      "text/html": [
       "<ol class=list-inline>\n",
       "\t<li>TRUE</li>\n",
       "\t<li>FALSE</li>\n",
       "\t<li>TRUE</li>\n",
       "</ol>\n"
      ],
      "text/latex": [
       "\\begin{enumerate*}\n",
       "\\item TRUE\n",
       "\\item FALSE\n",
       "\\item TRUE\n",
       "\\end{enumerate*}\n"
      ],
      "text/markdown": [
       "1. TRUE\n",
       "2. FALSE\n",
       "3. TRUE\n",
       "\n",
       "\n"
      ],
      "text/plain": [
       "[1]  TRUE FALSE  TRUE"
      ]
     },
     "metadata": {},
     "output_type": "display_data"
    }
   ],
   "source": [
    "# test if there are infinite values\n",
    "\n",
    "is.infinite(lost)"
   ]
  },
  {
   "cell_type": "markdown",
   "metadata": {},
   "source": [
    "## 5.5. Exercise 3"
   ]
  },
  {
   "cell_type": "code",
   "execution_count": 113,
   "metadata": {},
   "outputs": [],
   "source": [
    "# 1.\n",
    "\n",
    "obj <- c(54, 0, 17, 94, 12.5, 2, 0.9, 15)"
   ]
  },
  {
   "cell_type": "code",
   "execution_count": 114,
   "metadata": {},
   "outputs": [
    {
     "data": {
      "text/html": [
       "<ol class=list-inline>\n",
       "\t<li>59</li>\n",
       "\t<li>6</li>\n",
       "\t<li>22</li>\n",
       "\t<li>100</li>\n",
       "\t<li>17.5</li>\n",
       "\t<li>8</li>\n",
       "\t<li>5.9</li>\n",
       "\t<li>21</li>\n",
       "</ol>\n"
      ],
      "text/latex": [
       "\\begin{enumerate*}\n",
       "\\item 59\n",
       "\\item 6\n",
       "\\item 22\n",
       "\\item 100\n",
       "\\item 17.5\n",
       "\\item 8\n",
       "\\item 5.9\n",
       "\\item 21\n",
       "\\end{enumerate*}\n"
      ],
      "text/markdown": [
       "1. 59\n",
       "2. 6\n",
       "3. 22\n",
       "4. 100\n",
       "5. 17.5\n",
       "6. 8\n",
       "7. 5.9\n",
       "8. 21\n",
       "\n",
       "\n"
      ],
      "text/plain": [
       "[1]  59.0   6.0  22.0 100.0  17.5   8.0   5.9  21.0"
      ]
     },
     "metadata": {},
     "output_type": "display_data"
    }
   ],
   "source": [
    "obj + c(5, 6)"
   ]
  },
  {
   "cell_type": "code",
   "execution_count": 115,
   "metadata": {},
   "outputs": [
    {
     "name": "stderr",
     "output_type": "stream",
     "text": [
      "Warning message in obj + c(5, 6, 7):\n",
      "“longer object length is not a multiple of shorter object length”"
     ]
    },
    {
     "data": {
      "text/html": [
       "<ol class=list-inline>\n",
       "\t<li>59</li>\n",
       "\t<li>6</li>\n",
       "\t<li>24</li>\n",
       "\t<li>99</li>\n",
       "\t<li>18.5</li>\n",
       "\t<li>9</li>\n",
       "\t<li>5.9</li>\n",
       "\t<li>21</li>\n",
       "</ol>\n"
      ],
      "text/latex": [
       "\\begin{enumerate*}\n",
       "\\item 59\n",
       "\\item 6\n",
       "\\item 24\n",
       "\\item 99\n",
       "\\item 18.5\n",
       "\\item 9\n",
       "\\item 5.9\n",
       "\\item 21\n",
       "\\end{enumerate*}\n"
      ],
      "text/markdown": [
       "1. 59\n",
       "2. 6\n",
       "3. 24\n",
       "4. 99\n",
       "5. 18.5\n",
       "6. 9\n",
       "7. 5.9\n",
       "8. 21\n",
       "\n",
       "\n"
      ],
      "text/plain": [
       "[1] 59.0  6.0 24.0 99.0 18.5  9.0  5.9 21.0"
      ]
     },
     "metadata": {},
     "output_type": "display_data"
    }
   ],
   "source": [
    "obj + c(5, 6, 7)"
   ]
  },
  {
   "cell_type": "code",
   "execution_count": 116,
   "metadata": {},
   "outputs": [],
   "source": [
    "# 2.\n",
    "\n",
    "obj <- rep(c('A', 'B', 'C'), times=c(15, 12, 8))"
   ]
  },
  {
   "cell_type": "code",
   "execution_count": 117,
   "metadata": {},
   "outputs": [
    {
     "data": {
      "text/html": [
       "<ol class=list-inline>\n",
       "\t<li>FALSE</li>\n",
       "\t<li>FALSE</li>\n",
       "\t<li>FALSE</li>\n",
       "\t<li>FALSE</li>\n",
       "\t<li>FALSE</li>\n",
       "\t<li>FALSE</li>\n",
       "\t<li>FALSE</li>\n",
       "\t<li>FALSE</li>\n",
       "\t<li>FALSE</li>\n",
       "\t<li>FALSE</li>\n",
       "\t<li>FALSE</li>\n",
       "\t<li>FALSE</li>\n",
       "\t<li>FALSE</li>\n",
       "\t<li>FALSE</li>\n",
       "\t<li>FALSE</li>\n",
       "\t<li>TRUE</li>\n",
       "\t<li>TRUE</li>\n",
       "\t<li>TRUE</li>\n",
       "\t<li>TRUE</li>\n",
       "\t<li>TRUE</li>\n",
       "\t<li>TRUE</li>\n",
       "\t<li>TRUE</li>\n",
       "\t<li>TRUE</li>\n",
       "\t<li>TRUE</li>\n",
       "\t<li>TRUE</li>\n",
       "\t<li>TRUE</li>\n",
       "\t<li>TRUE</li>\n",
       "\t<li>FALSE</li>\n",
       "\t<li>FALSE</li>\n",
       "\t<li>FALSE</li>\n",
       "\t<li>FALSE</li>\n",
       "\t<li>FALSE</li>\n",
       "\t<li>FALSE</li>\n",
       "\t<li>FALSE</li>\n",
       "\t<li>FALSE</li>\n",
       "</ol>\n"
      ],
      "text/latex": [
       "\\begin{enumerate*}\n",
       "\\item FALSE\n",
       "\\item FALSE\n",
       "\\item FALSE\n",
       "\\item FALSE\n",
       "\\item FALSE\n",
       "\\item FALSE\n",
       "\\item FALSE\n",
       "\\item FALSE\n",
       "\\item FALSE\n",
       "\\item FALSE\n",
       "\\item FALSE\n",
       "\\item FALSE\n",
       "\\item FALSE\n",
       "\\item FALSE\n",
       "\\item FALSE\n",
       "\\item TRUE\n",
       "\\item TRUE\n",
       "\\item TRUE\n",
       "\\item TRUE\n",
       "\\item TRUE\n",
       "\\item TRUE\n",
       "\\item TRUE\n",
       "\\item TRUE\n",
       "\\item TRUE\n",
       "\\item TRUE\n",
       "\\item TRUE\n",
       "\\item TRUE\n",
       "\\item FALSE\n",
       "\\item FALSE\n",
       "\\item FALSE\n",
       "\\item FALSE\n",
       "\\item FALSE\n",
       "\\item FALSE\n",
       "\\item FALSE\n",
       "\\item FALSE\n",
       "\\end{enumerate*}\n"
      ],
      "text/markdown": [
       "1. FALSE\n",
       "2. FALSE\n",
       "3. FALSE\n",
       "4. FALSE\n",
       "5. FALSE\n",
       "6. FALSE\n",
       "7. FALSE\n",
       "8. FALSE\n",
       "9. FALSE\n",
       "10. FALSE\n",
       "11. FALSE\n",
       "12. FALSE\n",
       "13. FALSE\n",
       "14. FALSE\n",
       "15. FALSE\n",
       "16. TRUE\n",
       "17. TRUE\n",
       "18. TRUE\n",
       "19. TRUE\n",
       "20. TRUE\n",
       "21. TRUE\n",
       "22. TRUE\n",
       "23. TRUE\n",
       "24. TRUE\n",
       "25. TRUE\n",
       "26. TRUE\n",
       "27. TRUE\n",
       "28. FALSE\n",
       "29. FALSE\n",
       "30. FALSE\n",
       "31. FALSE\n",
       "32. FALSE\n",
       "33. FALSE\n",
       "34. FALSE\n",
       "35. FALSE\n",
       "\n",
       "\n"
      ],
      "text/plain": [
       " [1] FALSE FALSE FALSE FALSE FALSE FALSE FALSE FALSE FALSE FALSE FALSE FALSE\n",
       "[13] FALSE FALSE FALSE  TRUE  TRUE  TRUE  TRUE  TRUE  TRUE  TRUE  TRUE  TRUE\n",
       "[25]  TRUE  TRUE  TRUE FALSE FALSE FALSE FALSE FALSE FALSE FALSE FALSE"
      ]
     },
     "metadata": {},
     "output_type": "display_data"
    }
   ],
   "source": [
    "obj == 'B'"
   ]
  },
  {
   "cell_type": "code",
   "execution_count": 118,
   "metadata": {},
   "outputs": [],
   "source": [
    "?sum"
   ]
  },
  {
   "cell_type": "code",
   "execution_count": 119,
   "metadata": {},
   "outputs": [
    {
     "data": {
      "text/html": [
       "12"
      ],
      "text/latex": [
       "12"
      ],
      "text/markdown": [
       "12"
      ],
      "text/plain": [
       "[1] 12"
      ]
     },
     "metadata": {},
     "output_type": "display_data"
    }
   ],
   "source": [
    "sum(obj == 'B')"
   ]
  },
  {
   "cell_type": "code",
   "execution_count": 120,
   "metadata": {},
   "outputs": [],
   "source": [
    "# 3.\n",
    "\n",
    "obj <- runif(n=100)"
   ]
  },
  {
   "cell_type": "code",
   "execution_count": 121,
   "metadata": {},
   "outputs": [
    {
     "data": {
      "text/html": [
       "46"
      ],
      "text/latex": [
       "46"
      ],
      "text/markdown": [
       "46"
      ],
      "text/plain": [
       "[1] 46"
      ]
     },
     "metadata": {},
     "output_type": "display_data"
    }
   ],
   "source": [
    "sum(obj >= 0.5)"
   ]
  },
  {
   "cell_type": "code",
   "execution_count": 122,
   "metadata": {},
   "outputs": [
    {
     "data": {
      "text/html": [
       "<ol class=list-inline>\n",
       "\t<li>2</li>\n",
       "\t<li>4</li>\n",
       "\t<li>8</li>\n",
       "\t<li>16</li>\n",
       "\t<li>32</li>\n",
       "\t<li>64</li>\n",
       "\t<li>128</li>\n",
       "\t<li>256</li>\n",
       "\t<li>512</li>\n",
       "\t<li>1024</li>\n",
       "\t<li>2048</li>\n",
       "\t<li>4096</li>\n",
       "\t<li>8192</li>\n",
       "\t<li>16384</li>\n",
       "\t<li>32768</li>\n",
       "\t<li>65536</li>\n",
       "\t<li>131072</li>\n",
       "\t<li>262144</li>\n",
       "\t<li>524288</li>\n",
       "\t<li>1048576</li>\n",
       "\t<li>2097152</li>\n",
       "\t<li>4194304</li>\n",
       "\t<li>8388608</li>\n",
       "\t<li>16777216</li>\n",
       "\t<li>33554432</li>\n",
       "\t<li>67108864</li>\n",
       "\t<li>134217728</li>\n",
       "\t<li>268435456</li>\n",
       "\t<li>536870912</li>\n",
       "\t<li>1073741824</li>\n",
       "\t<li>2147483648</li>\n",
       "\t<li>4294967296</li>\n",
       "\t<li>8589934592</li>\n",
       "\t<li>17179869184</li>\n",
       "\t<li>34359738368</li>\n",
       "\t<li>68719476736</li>\n",
       "\t<li>137438953472</li>\n",
       "\t<li>274877906944</li>\n",
       "\t<li>549755813888</li>\n",
       "\t<li>1099511627776</li>\n",
       "\t<li>2199023255552</li>\n",
       "\t<li>4398046511104</li>\n",
       "\t<li>8796093022208</li>\n",
       "\t<li>17592186044416</li>\n",
       "\t<li>35184372088832</li>\n",
       "\t<li>70368744177664</li>\n",
       "\t<li>140737488355328</li>\n",
       "\t<li>281474976710656</li>\n",
       "\t<li>562949953421312</li>\n",
       "\t<li>1125899906842624</li>\n",
       "</ol>\n"
      ],
      "text/latex": [
       "\\begin{enumerate*}\n",
       "\\item 2\n",
       "\\item 4\n",
       "\\item 8\n",
       "\\item 16\n",
       "\\item 32\n",
       "\\item 64\n",
       "\\item 128\n",
       "\\item 256\n",
       "\\item 512\n",
       "\\item 1024\n",
       "\\item 2048\n",
       "\\item 4096\n",
       "\\item 8192\n",
       "\\item 16384\n",
       "\\item 32768\n",
       "\\item 65536\n",
       "\\item 131072\n",
       "\\item 262144\n",
       "\\item 524288\n",
       "\\item 1048576\n",
       "\\item 2097152\n",
       "\\item 4194304\n",
       "\\item 8388608\n",
       "\\item 16777216\n",
       "\\item 33554432\n",
       "\\item 67108864\n",
       "\\item 134217728\n",
       "\\item 268435456\n",
       "\\item 536870912\n",
       "\\item 1073741824\n",
       "\\item 2147483648\n",
       "\\item 4294967296\n",
       "\\item 8589934592\n",
       "\\item 17179869184\n",
       "\\item 34359738368\n",
       "\\item 68719476736\n",
       "\\item 137438953472\n",
       "\\item 274877906944\n",
       "\\item 549755813888\n",
       "\\item 1099511627776\n",
       "\\item 2199023255552\n",
       "\\item 4398046511104\n",
       "\\item 8796093022208\n",
       "\\item 17592186044416\n",
       "\\item 35184372088832\n",
       "\\item 70368744177664\n",
       "\\item 140737488355328\n",
       "\\item 281474976710656\n",
       "\\item 562949953421312\n",
       "\\item 1125899906842624\n",
       "\\end{enumerate*}\n"
      ],
      "text/markdown": [
       "1. 2\n",
       "2. 4\n",
       "3. 8\n",
       "4. 16\n",
       "5. 32\n",
       "6. 64\n",
       "7. 128\n",
       "8. 256\n",
       "9. 512\n",
       "10. 1024\n",
       "11. 2048\n",
       "12. 4096\n",
       "13. 8192\n",
       "14. 16384\n",
       "15. 32768\n",
       "16. 65536\n",
       "17. 131072\n",
       "18. 262144\n",
       "19. 524288\n",
       "20. 1048576\n",
       "21. 2097152\n",
       "22. 4194304\n",
       "23. 8388608\n",
       "24. 16777216\n",
       "25. 33554432\n",
       "26. 67108864\n",
       "27. 134217728\n",
       "28. 268435456\n",
       "29. 536870912\n",
       "30. 1073741824\n",
       "31. 2147483648\n",
       "32. 4294967296\n",
       "33. 8589934592\n",
       "34. 17179869184\n",
       "35. 34359738368\n",
       "36. 68719476736\n",
       "37. 137438953472\n",
       "38. 274877906944\n",
       "39. 549755813888\n",
       "40. 1099511627776\n",
       "41. 2199023255552\n",
       "42. 4398046511104\n",
       "43. 8796093022208\n",
       "44. 17592186044416\n",
       "45. 35184372088832\n",
       "46. 70368744177664\n",
       "47. 140737488355328\n",
       "48. 281474976710656\n",
       "49. 562949953421312\n",
       "50. 1125899906842624\n",
       "\n",
       "\n"
      ],
      "text/plain": [
       " [1] 2.000000e+00 4.000000e+00 8.000000e+00 1.600000e+01 3.200000e+01\n",
       " [6] 6.400000e+01 1.280000e+02 2.560000e+02 5.120000e+02 1.024000e+03\n",
       "[11] 2.048000e+03 4.096000e+03 8.192000e+03 1.638400e+04 3.276800e+04\n",
       "[16] 6.553600e+04 1.310720e+05 2.621440e+05 5.242880e+05 1.048576e+06\n",
       "[21] 2.097152e+06 4.194304e+06 8.388608e+06 1.677722e+07 3.355443e+07\n",
       "[26] 6.710886e+07 1.342177e+08 2.684355e+08 5.368709e+08 1.073742e+09\n",
       "[31] 2.147484e+09 4.294967e+09 8.589935e+09 1.717987e+10 3.435974e+10\n",
       "[36] 6.871948e+10 1.374390e+11 2.748779e+11 5.497558e+11 1.099512e+12\n",
       "[41] 2.199023e+12 4.398047e+12 8.796093e+12 1.759219e+13 3.518437e+13\n",
       "[46] 7.036874e+13 1.407375e+14 2.814750e+14 5.629500e+14 1.125900e+15"
      ]
     },
     "metadata": {},
     "output_type": "display_data"
    }
   ],
   "source": [
    "# 4.\n",
    "\n",
    "seq1 <- 2 ** seq(1, 50)\n",
    "seq1"
   ]
  },
  {
   "cell_type": "code",
   "execution_count": 123,
   "metadata": {},
   "outputs": [
    {
     "data": {
      "text/html": [
       "<ol class=list-inline>\n",
       "\t<li>1</li>\n",
       "\t<li>4</li>\n",
       "\t<li>9</li>\n",
       "\t<li>16</li>\n",
       "\t<li>25</li>\n",
       "\t<li>36</li>\n",
       "\t<li>49</li>\n",
       "\t<li>64</li>\n",
       "\t<li>81</li>\n",
       "\t<li>100</li>\n",
       "\t<li>121</li>\n",
       "\t<li>144</li>\n",
       "\t<li>169</li>\n",
       "\t<li>196</li>\n",
       "\t<li>225</li>\n",
       "\t<li>256</li>\n",
       "\t<li>289</li>\n",
       "\t<li>324</li>\n",
       "\t<li>361</li>\n",
       "\t<li>400</li>\n",
       "\t<li>441</li>\n",
       "\t<li>484</li>\n",
       "\t<li>529</li>\n",
       "\t<li>576</li>\n",
       "\t<li>625</li>\n",
       "\t<li>676</li>\n",
       "\t<li>729</li>\n",
       "\t<li>784</li>\n",
       "\t<li>841</li>\n",
       "\t<li>900</li>\n",
       "\t<li>961</li>\n",
       "\t<li>1024</li>\n",
       "\t<li>1089</li>\n",
       "\t<li>1156</li>\n",
       "\t<li>1225</li>\n",
       "\t<li>1296</li>\n",
       "\t<li>1369</li>\n",
       "\t<li>1444</li>\n",
       "\t<li>1521</li>\n",
       "\t<li>1600</li>\n",
       "\t<li>1681</li>\n",
       "\t<li>1764</li>\n",
       "\t<li>1849</li>\n",
       "\t<li>1936</li>\n",
       "\t<li>2025</li>\n",
       "\t<li>2116</li>\n",
       "\t<li>2209</li>\n",
       "\t<li>2304</li>\n",
       "\t<li>2401</li>\n",
       "\t<li>2500</li>\n",
       "</ol>\n"
      ],
      "text/latex": [
       "\\begin{enumerate*}\n",
       "\\item 1\n",
       "\\item 4\n",
       "\\item 9\n",
       "\\item 16\n",
       "\\item 25\n",
       "\\item 36\n",
       "\\item 49\n",
       "\\item 64\n",
       "\\item 81\n",
       "\\item 100\n",
       "\\item 121\n",
       "\\item 144\n",
       "\\item 169\n",
       "\\item 196\n",
       "\\item 225\n",
       "\\item 256\n",
       "\\item 289\n",
       "\\item 324\n",
       "\\item 361\n",
       "\\item 400\n",
       "\\item 441\n",
       "\\item 484\n",
       "\\item 529\n",
       "\\item 576\n",
       "\\item 625\n",
       "\\item 676\n",
       "\\item 729\n",
       "\\item 784\n",
       "\\item 841\n",
       "\\item 900\n",
       "\\item 961\n",
       "\\item 1024\n",
       "\\item 1089\n",
       "\\item 1156\n",
       "\\item 1225\n",
       "\\item 1296\n",
       "\\item 1369\n",
       "\\item 1444\n",
       "\\item 1521\n",
       "\\item 1600\n",
       "\\item 1681\n",
       "\\item 1764\n",
       "\\item 1849\n",
       "\\item 1936\n",
       "\\item 2025\n",
       "\\item 2116\n",
       "\\item 2209\n",
       "\\item 2304\n",
       "\\item 2401\n",
       "\\item 2500\n",
       "\\end{enumerate*}\n"
      ],
      "text/markdown": [
       "1. 1\n",
       "2. 4\n",
       "3. 9\n",
       "4. 16\n",
       "5. 25\n",
       "6. 36\n",
       "7. 49\n",
       "8. 64\n",
       "9. 81\n",
       "10. 100\n",
       "11. 121\n",
       "12. 144\n",
       "13. 169\n",
       "14. 196\n",
       "15. 225\n",
       "16. 256\n",
       "17. 289\n",
       "18. 324\n",
       "19. 361\n",
       "20. 400\n",
       "21. 441\n",
       "22. 484\n",
       "23. 529\n",
       "24. 576\n",
       "25. 625\n",
       "26. 676\n",
       "27. 729\n",
       "28. 784\n",
       "29. 841\n",
       "30. 900\n",
       "31. 961\n",
       "32. 1024\n",
       "33. 1089\n",
       "34. 1156\n",
       "35. 1225\n",
       "36. 1296\n",
       "37. 1369\n",
       "38. 1444\n",
       "39. 1521\n",
       "40. 1600\n",
       "41. 1681\n",
       "42. 1764\n",
       "43. 1849\n",
       "44. 1936\n",
       "45. 2025\n",
       "46. 2116\n",
       "47. 2209\n",
       "48. 2304\n",
       "49. 2401\n",
       "50. 2500\n",
       "\n",
       "\n"
      ],
      "text/plain": [
       " [1]    1    4    9   16   25   36   49   64   81  100  121  144  169  196  225\n",
       "[16]  256  289  324  361  400  441  484  529  576  625  676  729  784  841  900\n",
       "[31]  961 1024 1089 1156 1225 1296 1369 1444 1521 1600 1681 1764 1849 1936 2025\n",
       "[46] 2116 2209 2304 2401 2500"
      ]
     },
     "metadata": {},
     "output_type": "display_data"
    }
   ],
   "source": [
    "seq2 <- seq(1, 50) ** 2\n",
    "seq2"
   ]
  },
  {
   "cell_type": "code",
   "execution_count": 124,
   "metadata": {},
   "outputs": [
    {
     "data": {
      "text/html": [
       "<ol class=list-inline>\n",
       "\t<li>4</li>\n",
       "\t<li>16</li>\n",
       "</ol>\n"
      ],
      "text/latex": [
       "\\begin{enumerate*}\n",
       "\\item 4\n",
       "\\item 16\n",
       "\\end{enumerate*}\n"
      ],
      "text/markdown": [
       "1. 4\n",
       "2. 16\n",
       "\n",
       "\n"
      ],
      "text/plain": [
       "[1]  4 16"
      ]
     },
     "metadata": {},
     "output_type": "display_data"
    }
   ],
   "source": [
    "seq1[seq1 == seq2]"
   ]
  },
  {
   "cell_type": "code",
   "execution_count": 125,
   "metadata": {},
   "outputs": [
    {
     "data": {
      "text/html": [
       "2"
      ],
      "text/latex": [
       "2"
      ],
      "text/markdown": [
       "2"
      ],
      "text/plain": [
       "[1] 2"
      ]
     },
     "metadata": {},
     "output_type": "display_data"
    }
   ],
   "source": [
    "sum(seq1 == seq2)"
   ]
  },
  {
   "cell_type": "code",
   "execution_count": 126,
   "metadata": {},
   "outputs": [],
   "source": [
    "sin <- sin(seq(0, 2 * pi, by=0.1))\n",
    "cos <- cos(seq(0, 2 * pi, by=0.1))\n",
    "tan <- tan(seq(0, 2 * pi, by=0.1))"
   ]
  },
  {
   "cell_type": "code",
   "execution_count": 127,
   "metadata": {},
   "outputs": [],
   "source": [
    "tan2 <- sin / cos"
   ]
  },
  {
   "cell_type": "code",
   "execution_count": 128,
   "metadata": {},
   "outputs": [
    {
     "data": {
      "text/html": [
       "<ol class=list-inline>\n",
       "\t<li>0</li>\n",
       "\t<li>1.38777878078145e-17</li>\n",
       "\t<li>2.77555756156289e-17</li>\n",
       "\t<li>5.55111512312578e-17</li>\n",
       "\t<li>0</li>\n",
       "\t<li>0</li>\n",
       "\t<li>-1.11022302462516e-16</li>\n",
       "\t<li>-1.11022302462516e-16</li>\n",
       "\t<li>0</li>\n",
       "\t<li>-2.22044604925031e-16</li>\n",
       "\t<li>2.22044604925031e-16</li>\n",
       "\t<li>-2.22044604925031e-16</li>\n",
       "\t<li>-4.44089209850063e-16</li>\n",
       "\t<li>-4.44089209850063e-16</li>\n",
       "\t<li>0</li>\n",
       "\t<li>-1.77635683940025e-15</li>\n",
       "\t<li>0</li>\n",
       "\t<li>0</li>\n",
       "\t<li>0</li>\n",
       "\t<li>0</li>\n",
       "\t<li>0</li>\n",
       "\t<li>0</li>\n",
       "\t<li>2.22044604925031e-16</li>\n",
       "\t<li>0</li>\n",
       "\t<li>0</li>\n",
       "\t<li>0</li>\n",
       "\t<li>-1.11022302462516e-16</li>\n",
       "\t<li>0</li>\n",
       "\t<li>0</li>\n",
       "\t<li>0</li>\n",
       "\t<li>0</li>\n",
       "\t<li>0</li>\n",
       "\t<li>0</li>\n",
       "\t<li>0</li>\n",
       "\t<li>0</li>\n",
       "\t<li>5.55111512312578e-17</li>\n",
       "\t<li>0</li>\n",
       "\t<li>0</li>\n",
       "\t<li>0</li>\n",
       "\t<li>-1.11022302462516e-16</li>\n",
       "\t<li>0</li>\n",
       "\t<li>0</li>\n",
       "\t<li>0</li>\n",
       "\t<li>-4.44089209850063e-16</li>\n",
       "\t<li>4.44089209850063e-16</li>\n",
       "\t<li>0</li>\n",
       "\t<li>0</li>\n",
       "\t<li>1.4210854715202e-14</li>\n",
       "\t<li>0</li>\n",
       "\t<li>0</li>\n",
       "\t<li>0</li>\n",
       "\t<li>0</li>\n",
       "\t<li>0</li>\n",
       "\t<li>0</li>\n",
       "\t<li>0</li>\n",
       "\t<li>0</li>\n",
       "\t<li>-1.11022302462516e-16</li>\n",
       "\t<li>0</li>\n",
       "\t<li>0</li>\n",
       "\t<li>-5.55111512312578e-17</li>\n",
       "\t<li>0</li>\n",
       "\t<li>0</li>\n",
       "\t<li>0</li>\n",
       "</ol>\n"
      ],
      "text/latex": [
       "\\begin{enumerate*}\n",
       "\\item 0\n",
       "\\item 1.38777878078145e-17\n",
       "\\item 2.77555756156289e-17\n",
       "\\item 5.55111512312578e-17\n",
       "\\item 0\n",
       "\\item 0\n",
       "\\item -1.11022302462516e-16\n",
       "\\item -1.11022302462516e-16\n",
       "\\item 0\n",
       "\\item -2.22044604925031e-16\n",
       "\\item 2.22044604925031e-16\n",
       "\\item -2.22044604925031e-16\n",
       "\\item -4.44089209850063e-16\n",
       "\\item -4.44089209850063e-16\n",
       "\\item 0\n",
       "\\item -1.77635683940025e-15\n",
       "\\item 0\n",
       "\\item 0\n",
       "\\item 0\n",
       "\\item 0\n",
       "\\item 0\n",
       "\\item 0\n",
       "\\item 2.22044604925031e-16\n",
       "\\item 0\n",
       "\\item 0\n",
       "\\item 0\n",
       "\\item -1.11022302462516e-16\n",
       "\\item 0\n",
       "\\item 0\n",
       "\\item 0\n",
       "\\item 0\n",
       "\\item 0\n",
       "\\item 0\n",
       "\\item 0\n",
       "\\item 0\n",
       "\\item 5.55111512312578e-17\n",
       "\\item 0\n",
       "\\item 0\n",
       "\\item 0\n",
       "\\item -1.11022302462516e-16\n",
       "\\item 0\n",
       "\\item 0\n",
       "\\item 0\n",
       "\\item -4.44089209850063e-16\n",
       "\\item 4.44089209850063e-16\n",
       "\\item 0\n",
       "\\item 0\n",
       "\\item 1.4210854715202e-14\n",
       "\\item 0\n",
       "\\item 0\n",
       "\\item 0\n",
       "\\item 0\n",
       "\\item 0\n",
       "\\item 0\n",
       "\\item 0\n",
       "\\item 0\n",
       "\\item -1.11022302462516e-16\n",
       "\\item 0\n",
       "\\item 0\n",
       "\\item -5.55111512312578e-17\n",
       "\\item 0\n",
       "\\item 0\n",
       "\\item 0\n",
       "\\end{enumerate*}\n"
      ],
      "text/markdown": [
       "1. 0\n",
       "2. 1.38777878078145e-17\n",
       "3. 2.77555756156289e-17\n",
       "4. 5.55111512312578e-17\n",
       "5. 0\n",
       "6. 0\n",
       "7. -1.11022302462516e-16\n",
       "8. -1.11022302462516e-16\n",
       "9. 0\n",
       "10. -2.22044604925031e-16\n",
       "11. 2.22044604925031e-16\n",
       "12. -2.22044604925031e-16\n",
       "13. -4.44089209850063e-16\n",
       "14. -4.44089209850063e-16\n",
       "15. 0\n",
       "16. -1.77635683940025e-15\n",
       "17. 0\n",
       "18. 0\n",
       "19. 0\n",
       "20. 0\n",
       "21. 0\n",
       "22. 0\n",
       "23. 2.22044604925031e-16\n",
       "24. 0\n",
       "25. 0\n",
       "26. 0\n",
       "27. -1.11022302462516e-16\n",
       "28. 0\n",
       "29. 0\n",
       "30. 0\n",
       "31. 0\n",
       "32. 0\n",
       "33. 0\n",
       "34. 0\n",
       "35. 0\n",
       "36. 5.55111512312578e-17\n",
       "37. 0\n",
       "38. 0\n",
       "39. 0\n",
       "40. -1.11022302462516e-16\n",
       "41. 0\n",
       "42. 0\n",
       "43. 0\n",
       "44. -4.44089209850063e-16\n",
       "45. 4.44089209850063e-16\n",
       "46. 0\n",
       "47. 0\n",
       "48. 1.4210854715202e-14\n",
       "49. 0\n",
       "50. 0\n",
       "51. 0\n",
       "52. 0\n",
       "53. 0\n",
       "54. 0\n",
       "55. 0\n",
       "56. 0\n",
       "57. -1.11022302462516e-16\n",
       "58. 0\n",
       "59. 0\n",
       "60. -5.55111512312578e-17\n",
       "61. 0\n",
       "62. 0\n",
       "63. 0\n",
       "\n",
       "\n"
      ],
      "text/plain": [
       " [1]  0.000000e+00  1.387779e-17  2.775558e-17  5.551115e-17  0.000000e+00\n",
       " [6]  0.000000e+00 -1.110223e-16 -1.110223e-16  0.000000e+00 -2.220446e-16\n",
       "[11]  2.220446e-16 -2.220446e-16 -4.440892e-16 -4.440892e-16  0.000000e+00\n",
       "[16] -1.776357e-15  0.000000e+00  0.000000e+00  0.000000e+00  0.000000e+00\n",
       "[21]  0.000000e+00  0.000000e+00  2.220446e-16  0.000000e+00  0.000000e+00\n",
       "[26]  0.000000e+00 -1.110223e-16  0.000000e+00  0.000000e+00  0.000000e+00\n",
       "[31]  0.000000e+00  0.000000e+00  0.000000e+00  0.000000e+00  0.000000e+00\n",
       "[36]  5.551115e-17  0.000000e+00  0.000000e+00  0.000000e+00 -1.110223e-16\n",
       "[41]  0.000000e+00  0.000000e+00  0.000000e+00 -4.440892e-16  4.440892e-16\n",
       "[46]  0.000000e+00  0.000000e+00  1.421085e-14  0.000000e+00  0.000000e+00\n",
       "[51]  0.000000e+00  0.000000e+00  0.000000e+00  0.000000e+00  0.000000e+00\n",
       "[56]  0.000000e+00 -1.110223e-16  0.000000e+00  0.000000e+00 -5.551115e-17\n",
       "[61]  0.000000e+00  0.000000e+00  0.000000e+00"
      ]
     },
     "metadata": {},
     "output_type": "display_data"
    }
   ],
   "source": [
    "tan - tan2"
   ]
  },
  {
   "cell_type": "code",
   "execution_count": 129,
   "metadata": {},
   "outputs": [
    {
     "data": {
      "text/html": [
       "<ol class=list-inline>\n",
       "\t<li>0</li>\n",
       "\t<li>0.422793218738162</li>\n",
       "\t<li>0.54630248984379</li>\n",
       "\t<li>1.02963855705036</li>\n",
       "\t<li>5.79788371548289</li>\n",
       "\t<li>-34.2325327355573</li>\n",
       "\t<li>-7.69660213945915</li>\n",
       "\t<li>-4.28626167462806</li>\n",
       "\t<li>-2.92709751467777</li>\n",
       "\t<li>-2.18503986326152</li>\n",
       "\t<li>-1.70984654290451</li>\n",
       "\t<li>-1.11921364173413</li>\n",
       "\t<li>-0.91601428967341</li>\n",
       "\t<li>-0.74702229723866</li>\n",
       "\t<li>-0.472727629103037</li>\n",
       "\t<li>-0.355529831651176</li>\n",
       "\t<li>-0.246405393971966</li>\n",
       "\t<li>-0.142546543074278</li>\n",
       "\t<li>-0.0416166545856359</li>\n",
       "\t<li>0.0584738544595786</li>\n",
       "\t<li>0.159745747660033</li>\n",
       "\t<li>0.264316900867426</li>\n",
       "\t<li>0.493466729984904</li>\n",
       "\t<li>0.624733075224564</li>\n",
       "\t<li>0.773556090503126</li>\n",
       "\t<li>1.15782128234958</li>\n",
       "\t<li>1.42352648319437</li>\n",
       "\t<li>1.77777977450884</li>\n",
       "\t<li>4.63733205455118</li>\n",
       "\t<li>8.86017489564812</li>\n",
       "\t<li>-11.3848706542428</li>\n",
       "\t<li>-5.26749306582674</li>\n",
       "\t<li>-3.38051500624659</li>\n",
       "\t<li>-2.44938941558459</li>\n",
       "\t<li>-1.88564187751976</li>\n",
       "\t<li>-1.50127339580693</li>\n",
       "\t<li>-1.21754082462056</li>\n",
       "\t<li>-0.995584052213885</li>\n",
       "\t<li>-0.659730571520776</li>\n",
       "\t<li>-0.524666221946799</li>\n",
       "\t<li>-0.291006191384749</li>\n",
       "\t<li>-0.185262230689134</li>\n",
       "\t<li>-0.0833777148659286</li>\n",
       "</ol>\n"
      ],
      "text/latex": [
       "\\begin{enumerate*}\n",
       "\\item 0\n",
       "\\item 0.422793218738162\n",
       "\\item 0.54630248984379\n",
       "\\item 1.02963855705036\n",
       "\\item 5.79788371548289\n",
       "\\item -34.2325327355573\n",
       "\\item -7.69660213945915\n",
       "\\item -4.28626167462806\n",
       "\\item -2.92709751467777\n",
       "\\item -2.18503986326152\n",
       "\\item -1.70984654290451\n",
       "\\item -1.11921364173413\n",
       "\\item -0.91601428967341\n",
       "\\item -0.74702229723866\n",
       "\\item -0.472727629103037\n",
       "\\item -0.355529831651176\n",
       "\\item -0.246405393971966\n",
       "\\item -0.142546543074278\n",
       "\\item -0.0416166545856359\n",
       "\\item 0.0584738544595786\n",
       "\\item 0.159745747660033\n",
       "\\item 0.264316900867426\n",
       "\\item 0.493466729984904\n",
       "\\item 0.624733075224564\n",
       "\\item 0.773556090503126\n",
       "\\item 1.15782128234958\n",
       "\\item 1.42352648319437\n",
       "\\item 1.77777977450884\n",
       "\\item 4.63733205455118\n",
       "\\item 8.86017489564812\n",
       "\\item -11.3848706542428\n",
       "\\item -5.26749306582674\n",
       "\\item -3.38051500624659\n",
       "\\item -2.44938941558459\n",
       "\\item -1.88564187751976\n",
       "\\item -1.50127339580693\n",
       "\\item -1.21754082462056\n",
       "\\item -0.995584052213885\n",
       "\\item -0.659730571520776\n",
       "\\item -0.524666221946799\n",
       "\\item -0.291006191384749\n",
       "\\item -0.185262230689134\n",
       "\\item -0.0833777148659286\n",
       "\\end{enumerate*}\n"
      ],
      "text/markdown": [
       "1. 0\n",
       "2. 0.422793218738162\n",
       "3. 0.54630248984379\n",
       "4. 1.02963855705036\n",
       "5. 5.79788371548289\n",
       "6. -34.2325327355573\n",
       "7. -7.69660213945915\n",
       "8. -4.28626167462806\n",
       "9. -2.92709751467777\n",
       "10. -2.18503986326152\n",
       "11. -1.70984654290451\n",
       "12. -1.11921364173413\n",
       "13. -0.91601428967341\n",
       "14. -0.74702229723866\n",
       "15. -0.472727629103037\n",
       "16. -0.355529831651176\n",
       "17. -0.246405393971966\n",
       "18. -0.142546543074278\n",
       "19. -0.0416166545856359\n",
       "20. 0.0584738544595786\n",
       "21. 0.159745747660033\n",
       "22. 0.264316900867426\n",
       "23. 0.493466729984904\n",
       "24. 0.624733075224564\n",
       "25. 0.773556090503126\n",
       "26. 1.15782128234958\n",
       "27. 1.42352648319437\n",
       "28. 1.77777977450884\n",
       "29. 4.63733205455118\n",
       "30. 8.86017489564812\n",
       "31. -11.3848706542428\n",
       "32. -5.26749306582674\n",
       "33. -3.38051500624659\n",
       "34. -2.44938941558459\n",
       "35. -1.88564187751976\n",
       "36. -1.50127339580693\n",
       "37. -1.21754082462056\n",
       "38. -0.995584052213885\n",
       "39. -0.659730571520776\n",
       "40. -0.524666221946799\n",
       "41. -0.291006191384749\n",
       "42. -0.185262230689134\n",
       "43. -0.0833777148659286\n",
       "\n",
       "\n"
      ],
      "text/plain": [
       " [1]   0.00000000   0.42279322   0.54630249   1.02963856   5.79788372\n",
       " [6] -34.23253274  -7.69660214  -4.28626167  -2.92709751  -2.18503986\n",
       "[11]  -1.70984654  -1.11921364  -0.91601429  -0.74702230  -0.47272763\n",
       "[16]  -0.35552983  -0.24640539  -0.14254654  -0.04161665   0.05847385\n",
       "[21]   0.15974575   0.26431690   0.49346673   0.62473308   0.77355609\n",
       "[26]   1.15782128   1.42352648   1.77777977   4.63733205   8.86017490\n",
       "[31] -11.38487065  -5.26749307  -3.38051501  -2.44938942  -1.88564188\n",
       "[36]  -1.50127340  -1.21754082  -0.99558405  -0.65973057  -0.52466622\n",
       "[41]  -0.29100619  -0.18526223  -0.08337771"
      ]
     },
     "metadata": {},
     "output_type": "display_data"
    }
   ],
   "source": [
    "tan[tan == tan2]"
   ]
  },
  {
   "cell_type": "code",
   "execution_count": 130,
   "metadata": {},
   "outputs": [
    {
     "data": {
      "text/html": [
       "1.4210854715202e-14"
      ],
      "text/latex": [
       "1.4210854715202e-14"
      ],
      "text/markdown": [
       "1.4210854715202e-14"
      ],
      "text/plain": [
       "[1] 1.421085e-14"
      ]
     },
     "metadata": {},
     "output_type": "display_data"
    }
   ],
   "source": [
    "max(abs(tan - tan2))"
   ]
  },
  {
   "cell_type": "markdown",
   "metadata": {},
   "source": [
    "# 6. Other classes"
   ]
  },
  {
   "cell_type": "markdown",
   "metadata": {},
   "source": [
    "## 6.1. Factor\n",
    "\n",
    "Similar to `characters`, but stored and treated differently. `Factors` are a collection of categories or *levels*, unidimensional structure"
   ]
  },
  {
   "cell_type": "code",
   "execution_count": 131,
   "metadata": {},
   "outputs": [
    {
     "data": {
      "text/html": [
       "<ol class=list-inline>\n",
       "\t<li>high</li>\n",
       "\t<li>low</li>\n",
       "\t<li>low</li>\n",
       "\t<li>average</li>\n",
       "\t<li>high</li>\n",
       "\t<li>average</li>\n",
       "\t<li>low</li>\n",
       "\t<li>average</li>\n",
       "\t<li>average</li>\n",
       "</ol>\n",
       "\n",
       "<details>\n",
       "\t<summary style=display:list-item;cursor:pointer>\n",
       "\t\t<strong>Levels</strong>:\n",
       "\t</summary>\n",
       "\t<ol class=list-inline>\n",
       "\t\t<li>'average'</li>\n",
       "\t\t<li>'high'</li>\n",
       "\t\t<li>'low'</li>\n",
       "\t</ol>\n",
       "</details>"
      ],
      "text/latex": [
       "\\begin{enumerate*}\n",
       "\\item high\n",
       "\\item low\n",
       "\\item low\n",
       "\\item average\n",
       "\\item high\n",
       "\\item average\n",
       "\\item low\n",
       "\\item average\n",
       "\\item average\n",
       "\\end{enumerate*}\n",
       "\n",
       "\\emph{Levels}: \\begin{enumerate*}\n",
       "\\item 'average'\n",
       "\\item 'high'\n",
       "\\item 'low'\n",
       "\\end{enumerate*}\n"
      ],
      "text/markdown": [
       "1. high\n",
       "2. low\n",
       "3. low\n",
       "4. average\n",
       "5. high\n",
       "6. average\n",
       "7. low\n",
       "8. average\n",
       "9. average\n",
       "\n",
       "\n",
       "\n",
       "**Levels**: 1. 'average'\n",
       "2. 'high'\n",
       "3. 'low'\n",
       "\n",
       "\n"
      ],
      "text/plain": [
       "[1] high    low     low     average high    average low     average average\n",
       "Levels: average high low"
      ]
     },
     "metadata": {},
     "output_type": "display_data"
    }
   ],
   "source": [
    "factor <- factor(c('high', 'low', 'low', 'average',\n",
    "                   'high', 'average', 'low', 'average', 'average'))\n",
    "factor"
   ]
  },
  {
   "cell_type": "code",
   "execution_count": 132,
   "metadata": {},
   "outputs": [
    {
     "data": {
      "text/html": [
       "'factor'"
      ],
      "text/latex": [
       "'factor'"
      ],
      "text/markdown": [
       "'factor'"
      ],
      "text/plain": [
       "[1] \"factor\""
      ]
     },
     "metadata": {},
     "output_type": "display_data"
    }
   ],
   "source": [
    "class(factor)"
   ]
  },
  {
   "cell_type": "code",
   "execution_count": 133,
   "metadata": {},
   "outputs": [
    {
     "data": {
      "text/html": [
       "'integer'"
      ],
      "text/latex": [
       "'integer'"
      ],
      "text/markdown": [
       "'integer'"
      ],
      "text/plain": [
       "[1] \"integer\""
      ]
     },
     "metadata": {},
     "output_type": "display_data"
    }
   ],
   "source": [
    "typeof(factor)"
   ]
  },
  {
   "cell_type": "markdown",
   "metadata": {},
   "source": [
    "Its class is factor, but its type is integer. Each class is internally represented as a number and factors have an ordering. When we remove a class from an object"
   ]
  },
  {
   "cell_type": "code",
   "execution_count": 134,
   "metadata": {},
   "outputs": [
    {
     "data": {
      "text/html": [
       "<ol class=list-inline>\n",
       "\t<li>2</li>\n",
       "\t<li>3</li>\n",
       "\t<li>3</li>\n",
       "\t<li>1</li>\n",
       "\t<li>2</li>\n",
       "\t<li>1</li>\n",
       "\t<li>3</li>\n",
       "\t<li>1</li>\n",
       "\t<li>1</li>\n",
       "</ol>\n"
      ],
      "text/latex": [
       "\\begin{enumerate*}\n",
       "\\item 2\n",
       "\\item 3\n",
       "\\item 3\n",
       "\\item 1\n",
       "\\item 2\n",
       "\\item 1\n",
       "\\item 3\n",
       "\\item 1\n",
       "\\item 1\n",
       "\\end{enumerate*}\n"
      ],
      "text/markdown": [
       "1. 2\n",
       "2. 3\n",
       "3. 3\n",
       "4. 1\n",
       "5. 2\n",
       "6. 1\n",
       "7. 3\n",
       "8. 1\n",
       "9. 1\n",
       "\n",
       "\n"
      ],
      "text/plain": [
       "[1] 2 3 3 1 2 1 3 1 1\n",
       "attr(,\"levels\")\n",
       "[1] \"average\" \"high\"    \"low\"    "
      ]
     },
     "metadata": {},
     "output_type": "display_data"
    }
   ],
   "source": [
    "unclass(factor)"
   ]
  },
  {
   "cell_type": "code",
   "execution_count": 135,
   "metadata": {},
   "outputs": [
    {
     "data": {
      "text/html": [
       "<ol class=list-inline>\n",
       "\t<li>'high'</li>\n",
       "\t<li>'low'</li>\n",
       "\t<li>'low'</li>\n",
       "\t<li>'average'</li>\n",
       "\t<li>'high'</li>\n",
       "\t<li>'average'</li>\n",
       "\t<li>'low'</li>\n",
       "\t<li>'average'</li>\n",
       "\t<li>'average'</li>\n",
       "</ol>\n"
      ],
      "text/latex": [
       "\\begin{enumerate*}\n",
       "\\item 'high'\n",
       "\\item 'low'\n",
       "\\item 'low'\n",
       "\\item 'average'\n",
       "\\item 'high'\n",
       "\\item 'average'\n",
       "\\item 'low'\n",
       "\\item 'average'\n",
       "\\item 'average'\n",
       "\\end{enumerate*}\n"
      ],
      "text/markdown": [
       "1. 'high'\n",
       "2. 'low'\n",
       "3. 'low'\n",
       "4. 'average'\n",
       "5. 'high'\n",
       "6. 'average'\n",
       "7. 'low'\n",
       "8. 'average'\n",
       "9. 'average'\n",
       "\n",
       "\n"
      ],
      "text/plain": [
       "[1] \"high\"    \"low\"     \"low\"     \"average\" \"high\"    \"average\" \"low\"    \n",
       "[8] \"average\" \"average\""
      ]
     },
     "metadata": {},
     "output_type": "display_data"
    }
   ],
   "source": [
    "as.character(factor)"
   ]
  },
  {
   "cell_type": "code",
   "execution_count": 136,
   "metadata": {},
   "outputs": [
    {
     "data": {
      "text/html": [
       "<ol class=list-inline>\n",
       "\t<li>2</li>\n",
       "\t<li>3</li>\n",
       "\t<li>3</li>\n",
       "\t<li>1</li>\n",
       "\t<li>2</li>\n",
       "\t<li>1</li>\n",
       "\t<li>3</li>\n",
       "\t<li>1</li>\n",
       "\t<li>1</li>\n",
       "</ol>\n"
      ],
      "text/latex": [
       "\\begin{enumerate*}\n",
       "\\item 2\n",
       "\\item 3\n",
       "\\item 3\n",
       "\\item 1\n",
       "\\item 2\n",
       "\\item 1\n",
       "\\item 3\n",
       "\\item 1\n",
       "\\item 1\n",
       "\\end{enumerate*}\n"
      ],
      "text/markdown": [
       "1. 2\n",
       "2. 3\n",
       "3. 3\n",
       "4. 1\n",
       "5. 2\n",
       "6. 1\n",
       "7. 3\n",
       "8. 1\n",
       "9. 1\n",
       "\n",
       "\n"
      ],
      "text/plain": [
       "[1] 2 3 3 1 2 1 3 1 1"
      ]
     },
     "metadata": {},
     "output_type": "display_data"
    }
   ],
   "source": [
    "as.integer(factor)"
   ]
  },
  {
   "cell_type": "code",
   "execution_count": 137,
   "metadata": {},
   "outputs": [
    {
     "data": {
      "text/html": [
       "<ol class=list-inline>\n",
       "\t<li>high</li>\n",
       "\t<li>low</li>\n",
       "\t<li>low</li>\n",
       "\t<li>average</li>\n",
       "\t<li>high</li>\n",
       "\t<li>average</li>\n",
       "\t<li>low</li>\n",
       "\t<li>average</li>\n",
       "\t<li>average</li>\n",
       "</ol>\n",
       "\n",
       "<details>\n",
       "\t<summary style=display:list-item;cursor:pointer>\n",
       "\t\t<strong>Levels</strong>:\n",
       "\t</summary>\n",
       "\t<ol class=list-inline>\n",
       "\t\t<li>'high'</li>\n",
       "\t\t<li>'average'</li>\n",
       "\t\t<li>'low'</li>\n",
       "\t</ol>\n",
       "</details>"
      ],
      "text/latex": [
       "\\begin{enumerate*}\n",
       "\\item high\n",
       "\\item low\n",
       "\\item low\n",
       "\\item average\n",
       "\\item high\n",
       "\\item average\n",
       "\\item low\n",
       "\\item average\n",
       "\\item average\n",
       "\\end{enumerate*}\n",
       "\n",
       "\\emph{Levels}: \\begin{enumerate*}\n",
       "\\item 'high'\n",
       "\\item 'average'\n",
       "\\item 'low'\n",
       "\\end{enumerate*}\n"
      ],
      "text/markdown": [
       "1. high\n",
       "2. low\n",
       "3. low\n",
       "4. average\n",
       "5. high\n",
       "6. average\n",
       "7. low\n",
       "8. average\n",
       "9. average\n",
       "\n",
       "\n",
       "\n",
       "**Levels**: 1. 'high'\n",
       "2. 'average'\n",
       "3. 'low'\n",
       "\n",
       "\n"
      ],
      "text/plain": [
       "[1] high    low     low     average high    average low     average average\n",
       "Levels: high average low"
      ]
     },
     "metadata": {},
     "output_type": "display_data"
    }
   ],
   "source": [
    "# explicitly declaring levels\n",
    "\n",
    "factor <- factor(c('high', 'low', 'low', 'average',\n",
    "                   'high', 'average', 'low', 'average', 'average'),\n",
    "                 levels = c('high', 'average', 'low'))\n",
    "factor"
   ]
  },
  {
   "cell_type": "code",
   "execution_count": 138,
   "metadata": {},
   "outputs": [
    {
     "data": {
      "text/html": [
       "<ol class=list-inline>\n",
       "\t<li>high</li>\n",
       "\t<li>low</li>\n",
       "\t<li>low</li>\n",
       "\t<li>average</li>\n",
       "\t<li>high</li>\n",
       "\t<li>average</li>\n",
       "\t<li>low</li>\n",
       "\t<li>average</li>\n",
       "\t<li>average</li>\n",
       "</ol>\n",
       "\n",
       "<details>\n",
       "\t<summary style=display:list-item;cursor:pointer>\n",
       "\t\t<strong>Levels</strong>:\n",
       "\t</summary>\n",
       "\t<ol class=list-inline>\n",
       "\t\t<li>'high'</li>\n",
       "\t\t<li>'average'</li>\n",
       "\t\t<li>'low'</li>\n",
       "\t</ol>\n",
       "</details>"
      ],
      "text/latex": [
       "\\begin{enumerate*}\n",
       "\\item high\n",
       "\\item low\n",
       "\\item low\n",
       "\\item average\n",
       "\\item high\n",
       "\\item average\n",
       "\\item low\n",
       "\\item average\n",
       "\\item average\n",
       "\\end{enumerate*}\n",
       "\n",
       "\\emph{Levels}: \\begin{enumerate*}\n",
       "\\item 'high'\n",
       "\\item 'average'\n",
       "\\item 'low'\n",
       "\\end{enumerate*}\n"
      ],
      "text/markdown": [
       "1. high\n",
       "2. low\n",
       "3. low\n",
       "4. average\n",
       "5. high\n",
       "6. average\n",
       "7. low\n",
       "8. average\n",
       "9. average\n",
       "\n",
       "\n",
       "\n",
       "**Levels**: 1. 'high'\n",
       "2. 'average'\n",
       "3. 'low'\n",
       "\n",
       "\n"
      ],
      "text/plain": [
       "[1] high    low     low     average high    average low     average average\n",
       "Levels: high < average < low"
      ]
     },
     "metadata": {},
     "output_type": "display_data"
    }
   ],
   "source": [
    "# explicitly declaring levels and order\n",
    "\n",
    "factor <- factor(c('high', 'low', 'low', 'average',\n",
    "                   'high', 'average', 'low', 'average', 'average'),\n",
    "                 levels = c('high', 'average', 'low'),\n",
    "                 ordered=TRUE)\n",
    "factor"
   ]
  },
  {
   "cell_type": "code",
   "execution_count": 139,
   "metadata": {},
   "outputs": [
    {
     "data": {
      "text/html": [
       "'integer'"
      ],
      "text/latex": [
       "'integer'"
      ],
      "text/markdown": [
       "'integer'"
      ],
      "text/plain": [
       "[1] \"integer\""
      ]
     },
     "metadata": {},
     "output_type": "display_data"
    }
   ],
   "source": [
    "typeof(factor)"
   ]
  },
  {
   "cell_type": "code",
   "execution_count": 140,
   "metadata": {},
   "outputs": [
    {
     "data": {
      "text/html": [
       "<ol class=list-inline>\n",
       "\t<li>'ordered'</li>\n",
       "\t<li>'factor'</li>\n",
       "</ol>\n"
      ],
      "text/latex": [
       "\\begin{enumerate*}\n",
       "\\item 'ordered'\n",
       "\\item 'factor'\n",
       "\\end{enumerate*}\n"
      ],
      "text/markdown": [
       "1. 'ordered'\n",
       "2. 'factor'\n",
       "\n",
       "\n"
      ],
      "text/plain": [
       "[1] \"ordered\" \"factor\" "
      ]
     },
     "metadata": {},
     "output_type": "display_data"
    }
   ],
   "source": [
    "class(factor)"
   ]
  },
  {
   "cell_type": "code",
   "execution_count": 141,
   "metadata": {},
   "outputs": [
    {
     "data": {
      "text/html": [
       "<ol class=list-inline>\n",
       "\t<li>'high'</li>\n",
       "\t<li>'average'</li>\n",
       "\t<li>'low'</li>\n",
       "</ol>\n"
      ],
      "text/latex": [
       "\\begin{enumerate*}\n",
       "\\item 'high'\n",
       "\\item 'average'\n",
       "\\item 'low'\n",
       "\\end{enumerate*}\n"
      ],
      "text/markdown": [
       "1. 'high'\n",
       "2. 'average'\n",
       "3. 'low'\n",
       "\n",
       "\n"
      ],
      "text/plain": [
       "[1] \"high\"    \"average\" \"low\"    "
      ]
     },
     "metadata": {},
     "output_type": "display_data"
    }
   ],
   "source": [
    "levels(factor)"
   ]
  },
  {
   "cell_type": "code",
   "execution_count": 142,
   "metadata": {},
   "outputs": [
    {
     "data": {
      "text/html": [
       "3"
      ],
      "text/latex": [
       "3"
      ],
      "text/markdown": [
       "3"
      ],
      "text/plain": [
       "[1] 3"
      ]
     },
     "metadata": {},
     "output_type": "display_data"
    }
   ],
   "source": [
    "nlevels(factor)"
   ]
  },
  {
   "cell_type": "markdown",
   "metadata": {},
   "source": [
    "## 6.2. Matrix\n",
    "\n",
    "Matrices are two-dimensional vectors, they can contain only one type of elements"
   ]
  },
  {
   "cell_type": "code",
   "execution_count": 143,
   "metadata": {},
   "outputs": [
    {
     "data": {
      "text/html": [
       "<table>\n",
       "<tbody>\n",
       "\t<tr><td>1 </td><td>4 </td><td>7 </td><td>10</td></tr>\n",
       "\t<tr><td>2 </td><td>5 </td><td>8 </td><td>11</td></tr>\n",
       "\t<tr><td>3 </td><td>6 </td><td>9 </td><td>12</td></tr>\n",
       "</tbody>\n",
       "</table>\n"
      ],
      "text/latex": [
       "\\begin{tabular}{llll}\n",
       "\t 1  & 4  & 7  & 10\\\\\n",
       "\t 2  & 5  & 8  & 11\\\\\n",
       "\t 3  & 6  & 9  & 12\\\\\n",
       "\\end{tabular}\n"
      ],
      "text/markdown": [
       "\n",
       "| 1  | 4  | 7  | 10 | \n",
       "| 2  | 5  | 8  | 11 | \n",
       "| 3  | 6  | 9  | 12 | \n",
       "\n",
       "\n"
      ],
      "text/plain": [
       "     [,1] [,2] [,3] [,4]\n",
       "[1,] 1    4    7    10  \n",
       "[2,] 2    5    8    11  \n",
       "[3,] 3    6    9    12  "
      ]
     },
     "metadata": {},
     "output_type": "display_data"
    }
   ],
   "source": [
    "matrix <- matrix(1:12, nrow=3, ncol=4)\n",
    "matrix"
   ]
  },
  {
   "cell_type": "code",
   "execution_count": 144,
   "metadata": {},
   "outputs": [
    {
     "data": {
      "text/html": [
       "'matrix'"
      ],
      "text/latex": [
       "'matrix'"
      ],
      "text/markdown": [
       "'matrix'"
      ],
      "text/plain": [
       "[1] \"matrix\""
      ]
     },
     "metadata": {},
     "output_type": "display_data"
    }
   ],
   "source": [
    "class(matrix)"
   ]
  },
  {
   "cell_type": "code",
   "execution_count": 145,
   "metadata": {},
   "outputs": [
    {
     "data": {
      "text/html": [
       "'integer'"
      ],
      "text/latex": [
       "'integer'"
      ],
      "text/markdown": [
       "'integer'"
      ],
      "text/plain": [
       "[1] \"integer\""
      ]
     },
     "metadata": {},
     "output_type": "display_data"
    }
   ],
   "source": [
    "typeof(matrix)"
   ]
  },
  {
   "cell_type": "code",
   "execution_count": 146,
   "metadata": {},
   "outputs": [
    {
     "data": {
      "text/html": [
       "<table>\n",
       "<tbody>\n",
       "\t<tr><td>1 </td><td> 2</td><td> 3</td><td> 4</td></tr>\n",
       "\t<tr><td>5 </td><td> 6</td><td> 7</td><td> 8</td></tr>\n",
       "\t<tr><td>9 </td><td>10</td><td>11</td><td>12</td></tr>\n",
       "</tbody>\n",
       "</table>\n"
      ],
      "text/latex": [
       "\\begin{tabular}{llll}\n",
       "\t 1  &  2 &  3 &  4\\\\\n",
       "\t 5  &  6 &  7 &  8\\\\\n",
       "\t 9  & 10 & 11 & 12\\\\\n",
       "\\end{tabular}\n"
      ],
      "text/markdown": [
       "\n",
       "| 1  |  2 |  3 |  4 | \n",
       "| 5  |  6 |  7 |  8 | \n",
       "| 9  | 10 | 11 | 12 | \n",
       "\n",
       "\n"
      ],
      "text/plain": [
       "     [,1] [,2] [,3] [,4]\n",
       "[1,] 1     2    3    4  \n",
       "[2,] 5     6    7    8  \n",
       "[3,] 9    10   11   12  "
      ]
     },
     "metadata": {},
     "output_type": "display_data"
    }
   ],
   "source": [
    "# changing the filling order\n",
    "\n",
    "matrix <- matrix(1:12, nrow=3, ncol=4, byrow=TRUE)\n",
    "matrix"
   ]
  },
  {
   "cell_type": "code",
   "execution_count": 147,
   "metadata": {},
   "outputs": [
    {
     "data": {
      "text/html": [
       "<ol class=list-inline>\n",
       "\t<li>3</li>\n",
       "\t<li>4</li>\n",
       "</ol>\n"
      ],
      "text/latex": [
       "\\begin{enumerate*}\n",
       "\\item 3\n",
       "\\item 4\n",
       "\\end{enumerate*}\n"
      ],
      "text/markdown": [
       "1. 3\n",
       "2. 4\n",
       "\n",
       "\n"
      ],
      "text/plain": [
       "[1] 3 4"
      ]
     },
     "metadata": {},
     "output_type": "display_data"
    }
   ],
   "source": [
    "# dimensions\n",
    "\n",
    "dim(matrix)"
   ]
  },
  {
   "cell_type": "code",
   "execution_count": 148,
   "metadata": {},
   "outputs": [
    {
     "data": {
      "text/html": [
       "<table>\n",
       "<tbody>\n",
       "\t<tr><td>1 </td><td> 2</td><td> 3</td><td> 4</td><td>99</td></tr>\n",
       "\t<tr><td>5 </td><td> 6</td><td> 7</td><td> 8</td><td>99</td></tr>\n",
       "\t<tr><td>9 </td><td>10</td><td>11</td><td>12</td><td>99</td></tr>\n",
       "</tbody>\n",
       "</table>\n"
      ],
      "text/latex": [
       "\\begin{tabular}{lllll}\n",
       "\t 1  &  2 &  3 &  4 & 99\\\\\n",
       "\t 5  &  6 &  7 &  8 & 99\\\\\n",
       "\t 9  & 10 & 11 & 12 & 99\\\\\n",
       "\\end{tabular}\n"
      ],
      "text/markdown": [
       "\n",
       "| 1  |  2 |  3 |  4 | 99 | \n",
       "| 5  |  6 |  7 |  8 | 99 | \n",
       "| 9  | 10 | 11 | 12 | 99 | \n",
       "\n",
       "\n"
      ],
      "text/plain": [
       "     [,1] [,2] [,3] [,4] [,5]\n",
       "[1,] 1     2    3    4   99  \n",
       "[2,] 5     6    7    8   99  \n",
       "[3,] 9    10   11   12   99  "
      ]
     },
     "metadata": {},
     "output_type": "display_data"
    }
   ],
   "source": [
    "# addind columns\n",
    "\n",
    "cbind(matrix, rep(99, 3))"
   ]
  },
  {
   "cell_type": "code",
   "execution_count": 149,
   "metadata": {},
   "outputs": [
    {
     "data": {
      "text/html": [
       "<table>\n",
       "<tbody>\n",
       "\t<tr><td> 1</td><td> 2</td><td> 3</td><td> 4</td></tr>\n",
       "\t<tr><td> 5</td><td> 6</td><td> 7</td><td> 8</td></tr>\n",
       "\t<tr><td> 9</td><td>10</td><td>11</td><td>12</td></tr>\n",
       "\t<tr><td>99</td><td>99</td><td>99</td><td>99</td></tr>\n",
       "</tbody>\n",
       "</table>\n"
      ],
      "text/latex": [
       "\\begin{tabular}{llll}\n",
       "\t  1 &  2 &  3 &  4\\\\\n",
       "\t  5 &  6 &  7 &  8\\\\\n",
       "\t  9 & 10 & 11 & 12\\\\\n",
       "\t 99 & 99 & 99 & 99\\\\\n",
       "\\end{tabular}\n"
      ],
      "text/markdown": [
       "\n",
       "|  1 |  2 |  3 |  4 | \n",
       "|  5 |  6 |  7 |  8 | \n",
       "|  9 | 10 | 11 | 12 | \n",
       "| 99 | 99 | 99 | 99 | \n",
       "\n",
       "\n"
      ],
      "text/plain": [
       "     [,1] [,2] [,3] [,4]\n",
       "[1,]  1    2    3    4  \n",
       "[2,]  5    6    7    8  \n",
       "[3,]  9   10   11   12  \n",
       "[4,] 99   99   99   99  "
      ]
     },
     "metadata": {},
     "output_type": "display_data"
    }
   ],
   "source": [
    "# adding rows\n",
    "\n",
    "rbind(matrix, rep(99, 4))"
   ]
  },
  {
   "cell_type": "markdown",
   "metadata": {},
   "source": [
    "matrices can be created from vectors by adding an dimensions attribute:"
   ]
  },
  {
   "cell_type": "code",
   "execution_count": 150,
   "metadata": {},
   "outputs": [
    {
     "data": {
      "text/html": [
       "<ol class=list-inline>\n",
       "\t<li>1</li>\n",
       "\t<li>2</li>\n",
       "\t<li>3</li>\n",
       "\t<li>4</li>\n",
       "\t<li>5</li>\n",
       "\t<li>6</li>\n",
       "\t<li>7</li>\n",
       "\t<li>8</li>\n",
       "\t<li>9</li>\n",
       "\t<li>10</li>\n",
       "</ol>\n"
      ],
      "text/latex": [
       "\\begin{enumerate*}\n",
       "\\item 1\n",
       "\\item 2\n",
       "\\item 3\n",
       "\\item 4\n",
       "\\item 5\n",
       "\\item 6\n",
       "\\item 7\n",
       "\\item 8\n",
       "\\item 9\n",
       "\\item 10\n",
       "\\end{enumerate*}\n"
      ],
      "text/markdown": [
       "1. 1\n",
       "2. 2\n",
       "3. 3\n",
       "4. 4\n",
       "5. 5\n",
       "6. 6\n",
       "7. 7\n",
       "8. 8\n",
       "9. 9\n",
       "10. 10\n",
       "\n",
       "\n"
      ],
      "text/plain": [
       " [1]  1  2  3  4  5  6  7  8  9 10"
      ]
     },
     "metadata": {},
     "output_type": "display_data"
    }
   ],
   "source": [
    "m <- 1:10\n",
    "m"
   ]
  },
  {
   "cell_type": "code",
   "execution_count": 151,
   "metadata": {},
   "outputs": [
    {
     "data": {
      "text/html": [
       "'integer'"
      ],
      "text/latex": [
       "'integer'"
      ],
      "text/markdown": [
       "'integer'"
      ],
      "text/plain": [
       "[1] \"integer\""
      ]
     },
     "metadata": {},
     "output_type": "display_data"
    }
   ],
   "source": [
    "class(m)"
   ]
  },
  {
   "cell_type": "code",
   "execution_count": 152,
   "metadata": {},
   "outputs": [
    {
     "data": {
      "text/plain": [
       "NULL"
      ]
     },
     "metadata": {},
     "output_type": "display_data"
    }
   ],
   "source": [
    "dim(m)"
   ]
  },
  {
   "cell_type": "code",
   "execution_count": 153,
   "metadata": {},
   "outputs": [
    {
     "data": {
      "text/html": [
       "<table>\n",
       "<tbody>\n",
       "\t<tr><td>1 </td><td>3 </td><td>5 </td><td>7 </td><td> 9</td></tr>\n",
       "\t<tr><td>2 </td><td>4 </td><td>6 </td><td>8 </td><td>10</td></tr>\n",
       "</tbody>\n",
       "</table>\n"
      ],
      "text/latex": [
       "\\begin{tabular}{lllll}\n",
       "\t 1  & 3  & 5  & 7  &  9\\\\\n",
       "\t 2  & 4  & 6  & 8  & 10\\\\\n",
       "\\end{tabular}\n"
      ],
      "text/markdown": [
       "\n",
       "| 1  | 3  | 5  | 7  |  9 | \n",
       "| 2  | 4  | 6  | 8  | 10 | \n",
       "\n",
       "\n"
      ],
      "text/plain": [
       "     [,1] [,2] [,3] [,4] [,5]\n",
       "[1,] 1    3    5    7     9  \n",
       "[2,] 2    4    6    8    10  "
      ]
     },
     "metadata": {},
     "output_type": "display_data"
    }
   ],
   "source": [
    "dim(m) <- c(2, 5)\n",
    "m"
   ]
  },
  {
   "cell_type": "code",
   "execution_count": 154,
   "metadata": {},
   "outputs": [
    {
     "data": {
      "text/html": [
       "'matrix'"
      ],
      "text/latex": [
       "'matrix'"
      ],
      "text/markdown": [
       "'matrix'"
      ],
      "text/plain": [
       "[1] \"matrix\""
      ]
     },
     "metadata": {},
     "output_type": "display_data"
    }
   ],
   "source": [
    "class(m)"
   ]
  },
  {
   "cell_type": "code",
   "execution_count": 155,
   "metadata": {},
   "outputs": [
    {
     "data": {
      "text/html": [
       "'integer'"
      ],
      "text/latex": [
       "'integer'"
      ],
      "text/markdown": [
       "'integer'"
      ],
      "text/plain": [
       "[1] \"integer\""
      ]
     },
     "metadata": {},
     "output_type": "display_data"
    }
   ],
   "source": [
    "typeof(m)"
   ]
  },
  {
   "cell_type": "markdown",
   "metadata": {},
   "source": [
    "### 6.2.1. Matrices operations"
   ]
  },
  {
   "cell_type": "code",
   "execution_count": 156,
   "metadata": {},
   "outputs": [
    {
     "data": {
      "text/html": [
       "<table>\n",
       "<tbody>\n",
       "\t<tr><td> 2</td><td> 4</td><td> 6</td><td> 8</td></tr>\n",
       "\t<tr><td>10</td><td>12</td><td>14</td><td>16</td></tr>\n",
       "\t<tr><td>18</td><td>20</td><td>22</td><td>24</td></tr>\n",
       "</tbody>\n",
       "</table>\n"
      ],
      "text/latex": [
       "\\begin{tabular}{llll}\n",
       "\t  2 &  4 &  6 &  8\\\\\n",
       "\t 10 & 12 & 14 & 16\\\\\n",
       "\t 18 & 20 & 22 & 24\\\\\n",
       "\\end{tabular}\n"
      ],
      "text/markdown": [
       "\n",
       "|  2 |  4 |  6 |  8 | \n",
       "| 10 | 12 | 14 | 16 | \n",
       "| 18 | 20 | 22 | 24 | \n",
       "\n",
       "\n"
      ],
      "text/plain": [
       "     [,1] [,2] [,3] [,4]\n",
       "[1,]  2    4    6    8  \n",
       "[2,] 10   12   14   16  \n",
       "[3,] 18   20   22   24  "
      ]
     },
     "metadata": {},
     "output_type": "display_data"
    }
   ],
   "source": [
    "# multiply by scalar\n",
    "\n",
    "matrix * 2"
   ]
  },
  {
   "cell_type": "code",
   "execution_count": 157,
   "metadata": {},
   "outputs": [
    {
     "data": {
      "text/html": [
       "<table>\n",
       "<tbody>\n",
       "\t<tr><td>10</td><td>10</td><td>10</td></tr>\n",
       "\t<tr><td>26</td><td>26</td><td>26</td></tr>\n",
       "\t<tr><td>42</td><td>42</td><td>42</td></tr>\n",
       "</tbody>\n",
       "</table>\n"
      ],
      "text/latex": [
       "\\begin{tabular}{lll}\n",
       "\t 10 & 10 & 10\\\\\n",
       "\t 26 & 26 & 26\\\\\n",
       "\t 42 & 42 & 42\\\\\n",
       "\\end{tabular}\n"
      ],
      "text/markdown": [
       "\n",
       "| 10 | 10 | 10 | \n",
       "| 26 | 26 | 26 | \n",
       "| 42 | 42 | 42 | \n",
       "\n",
       "\n"
      ],
      "text/plain": [
       "     [,1] [,2] [,3]\n",
       "[1,] 10   10   10  \n",
       "[2,] 26   26   26  \n",
       "[3,] 42   42   42  "
      ]
     },
     "metadata": {},
     "output_type": "display_data"
    }
   ],
   "source": [
    "# multiply by matrix\n",
    "\n",
    "matrix2 <- matrix(1, nrow=4, ncol=3)\n",
    "matrix %*% matrix2"
   ]
  },
  {
   "cell_type": "markdown",
   "metadata": {},
   "source": [
    "## 6.3. Array\n",
    "\n",
    "An array is a matrix with n dimensions"
   ]
  },
  {
   "cell_type": "code",
   "execution_count": 158,
   "metadata": {},
   "outputs": [
    {
     "data": {
      "text/html": [
       "<ol class=list-inline>\n",
       "\t<li>1</li>\n",
       "\t<li>2</li>\n",
       "\t<li>3</li>\n",
       "\t<li>4</li>\n",
       "\t<li>5</li>\n",
       "\t<li>6</li>\n",
       "\t<li>7</li>\n",
       "\t<li>8</li>\n",
       "\t<li>9</li>\n",
       "\t<li>10</li>\n",
       "\t<li>11</li>\n",
       "\t<li>12</li>\n",
       "</ol>\n"
      ],
      "text/latex": [
       "\\begin{enumerate*}\n",
       "\\item 1\n",
       "\\item 2\n",
       "\\item 3\n",
       "\\item 4\n",
       "\\item 5\n",
       "\\item 6\n",
       "\\item 7\n",
       "\\item 8\n",
       "\\item 9\n",
       "\\item 10\n",
       "\\item 11\n",
       "\\item 12\n",
       "\\end{enumerate*}\n"
      ],
      "text/markdown": [
       "1. 1\n",
       "2. 2\n",
       "3. 3\n",
       "4. 4\n",
       "5. 5\n",
       "6. 6\n",
       "7. 7\n",
       "8. 8\n",
       "9. 9\n",
       "10. 10\n",
       "11. 11\n",
       "12. 12\n",
       "\n",
       "\n"
      ],
      "text/plain": [
       ", , 1\n",
       "\n",
       "     [,1] [,2]\n",
       "[1,]    1    3\n",
       "[2,]    2    4\n",
       "\n",
       ", , 2\n",
       "\n",
       "     [,1] [,2]\n",
       "[1,]    5    7\n",
       "[2,]    6    8\n",
       "\n",
       ", , 3\n",
       "\n",
       "     [,1] [,2]\n",
       "[1,]    9   11\n",
       "[2,]   10   12\n"
      ]
     },
     "metadata": {},
     "output_type": "display_data"
    }
   ],
   "source": [
    "ar <- array(1:12, dim=c(2, 2, 3))\n",
    "ar"
   ]
  },
  {
   "cell_type": "code",
   "execution_count": 159,
   "metadata": {},
   "outputs": [
    {
     "data": {
      "text/html": [
       "<ol class=list-inline>\n",
       "\t<li>1</li>\n",
       "\t<li>2</li>\n",
       "\t<li>3</li>\n",
       "\t<li>4</li>\n",
       "\t<li>5</li>\n",
       "\t<li>6</li>\n",
       "\t<li>7</li>\n",
       "\t<li>8</li>\n",
       "\t<li>9</li>\n",
       "\t<li>10</li>\n",
       "\t<li>11</li>\n",
       "\t<li>12</li>\n",
       "</ol>\n"
      ],
      "text/latex": [
       "\\begin{enumerate*}\n",
       "\\item 1\n",
       "\\item 2\n",
       "\\item 3\n",
       "\\item 4\n",
       "\\item 5\n",
       "\\item 6\n",
       "\\item 7\n",
       "\\item 8\n",
       "\\item 9\n",
       "\\item 10\n",
       "\\item 11\n",
       "\\item 12\n",
       "\\end{enumerate*}\n"
      ],
      "text/markdown": [
       "1. 1\n",
       "2. 2\n",
       "3. 3\n",
       "4. 4\n",
       "5. 5\n",
       "6. 6\n",
       "7. 7\n",
       "8. 8\n",
       "9. 9\n",
       "10. 10\n",
       "11. 11\n",
       "12. 12\n",
       "\n",
       "\n"
      ],
      "text/plain": [
       ", , 1\n",
       "\n",
       "     [,1] [,2]\n",
       "[1,]    1    4\n",
       "[2,]    2    5\n",
       "[3,]    3    6\n",
       "\n",
       ", , 2\n",
       "\n",
       "     [,1] [,2]\n",
       "[1,]    7   10\n",
       "[2,]    8   11\n",
       "[3,]    9   12\n"
      ]
     },
     "metadata": {},
     "output_type": "display_data"
    }
   ],
   "source": [
    "ar <- array(1:12, dim=c(3, 2, 2))\n",
    "ar"
   ]
  },
  {
   "cell_type": "markdown",
   "metadata": {},
   "source": [
    "## 6.4. List"
   ]
  },
  {
   "cell_type": "code",
   "execution_count": 160,
   "metadata": {},
   "outputs": [
    {
     "data": {
      "text/html": [
       "<ol>\n",
       "\t<li><ol class=list-inline>\n",
       "\t<li>1</li>\n",
       "\t<li>2</li>\n",
       "\t<li>3</li>\n",
       "\t<li>4</li>\n",
       "\t<li>5</li>\n",
       "\t<li>6</li>\n",
       "\t<li>7</li>\n",
       "\t<li>8</li>\n",
       "\t<li>9</li>\n",
       "\t<li>10</li>\n",
       "\t<li>11</li>\n",
       "\t<li>12</li>\n",
       "\t<li>13</li>\n",
       "\t<li>14</li>\n",
       "\t<li>15</li>\n",
       "\t<li>16</li>\n",
       "\t<li>17</li>\n",
       "\t<li>18</li>\n",
       "\t<li>19</li>\n",
       "\t<li>20</li>\n",
       "\t<li>21</li>\n",
       "\t<li>22</li>\n",
       "\t<li>23</li>\n",
       "\t<li>24</li>\n",
       "\t<li>25</li>\n",
       "\t<li>26</li>\n",
       "\t<li>27</li>\n",
       "\t<li>28</li>\n",
       "\t<li>29</li>\n",
       "\t<li>30</li>\n",
       "</ol>\n",
       "</li>\n",
       "\t<li>'R'</li>\n",
       "\t<li><ol>\n",
       "\t<li>TRUE</li>\n",
       "\t<li>FALSE</li>\n",
       "</ol>\n",
       "</li>\n",
       "</ol>\n"
      ],
      "text/latex": [
       "\\begin{enumerate}\n",
       "\\item \\begin{enumerate*}\n",
       "\\item 1\n",
       "\\item 2\n",
       "\\item 3\n",
       "\\item 4\n",
       "\\item 5\n",
       "\\item 6\n",
       "\\item 7\n",
       "\\item 8\n",
       "\\item 9\n",
       "\\item 10\n",
       "\\item 11\n",
       "\\item 12\n",
       "\\item 13\n",
       "\\item 14\n",
       "\\item 15\n",
       "\\item 16\n",
       "\\item 17\n",
       "\\item 18\n",
       "\\item 19\n",
       "\\item 20\n",
       "\\item 21\n",
       "\\item 22\n",
       "\\item 23\n",
       "\\item 24\n",
       "\\item 25\n",
       "\\item 26\n",
       "\\item 27\n",
       "\\item 28\n",
       "\\item 29\n",
       "\\item 30\n",
       "\\end{enumerate*}\n",
       "\n",
       "\\item 'R'\n",
       "\\item \\begin{enumerate}\n",
       "\\item TRUE\n",
       "\\item FALSE\n",
       "\\end{enumerate}\n",
       "\n",
       "\\end{enumerate}\n"
      ],
      "text/markdown": [
       "1. 1. 1\n",
       "2. 2\n",
       "3. 3\n",
       "4. 4\n",
       "5. 5\n",
       "6. 6\n",
       "7. 7\n",
       "8. 8\n",
       "9. 9\n",
       "10. 10\n",
       "11. 11\n",
       "12. 12\n",
       "13. 13\n",
       "14. 14\n",
       "15. 15\n",
       "16. 16\n",
       "17. 17\n",
       "18. 18\n",
       "19. 19\n",
       "20. 20\n",
       "21. 21\n",
       "22. 22\n",
       "23. 23\n",
       "24. 24\n",
       "25. 25\n",
       "26. 26\n",
       "27. 27\n",
       "28. 28\n",
       "29. 29\n",
       "30. 30\n",
       "\n",
       "\n",
       "\n",
       "2. 'R'\n",
       "3. 1. TRUE\n",
       "2. FALSE\n",
       "\n",
       "\n",
       "\n",
       "\n",
       "\n"
      ],
      "text/plain": [
       "[[1]]\n",
       " [1]  1  2  3  4  5  6  7  8  9 10 11 12 13 14 15 16 17 18 19 20 21 22 23 24 25\n",
       "[26] 26 27 28 29 30\n",
       "\n",
       "[[2]]\n",
       "[1] \"R\"\n",
       "\n",
       "[[3]]\n",
       "[[3]][[1]]\n",
       "[1] TRUE\n",
       "\n",
       "[[3]][[2]]\n",
       "[1] FALSE\n",
       "\n"
      ]
     },
     "metadata": {},
     "output_type": "display_data"
    }
   ],
   "source": [
    "list1 <- list(1:30, 'R', list(TRUE, FALSE))\n",
    "list1"
   ]
  },
  {
   "cell_type": "code",
   "execution_count": 161,
   "metadata": {},
   "outputs": [
    {
     "name": "stdout",
     "output_type": "stream",
     "text": [
      "List of 3\n",
      " $ : int [1:30] 1 2 3 4 5 6 7 8 9 10 ...\n",
      " $ : chr \"R\"\n",
      " $ :List of 2\n",
      "  ..$ : logi TRUE\n",
      "  ..$ : logi FALSE\n"
     ]
    }
   ],
   "source": [
    "# check the structure\n",
    "\n",
    "str(list1)"
   ]
  },
  {
   "cell_type": "code",
   "execution_count": 162,
   "metadata": {},
   "outputs": [
    {
     "data": {
      "text/plain": [
       "NULL"
      ]
     },
     "metadata": {},
     "output_type": "display_data"
    }
   ],
   "source": [
    "# unidimensional\n",
    "\n",
    "dim(list1)"
   ]
  },
  {
   "cell_type": "code",
   "execution_count": 163,
   "metadata": {},
   "outputs": [
    {
     "data": {
      "text/html": [
       "3"
      ],
      "text/latex": [
       "3"
      ],
      "text/markdown": [
       "3"
      ],
      "text/plain": [
       "[1] 3"
      ]
     },
     "metadata": {},
     "output_type": "display_data"
    }
   ],
   "source": [
    "length(list1)"
   ]
  },
  {
   "cell_type": "code",
   "execution_count": 164,
   "metadata": {},
   "outputs": [
    {
     "data": {
      "text/html": [
       "<ol>\n",
       "\t<li><ol class=list-inline>\n",
       "\t<li>high</li>\n",
       "\t<li>low</li>\n",
       "\t<li>low</li>\n",
       "\t<li>average</li>\n",
       "\t<li>high</li>\n",
       "\t<li>average</li>\n",
       "\t<li>low</li>\n",
       "\t<li>average</li>\n",
       "\t<li>average</li>\n",
       "</ol>\n",
       "\n",
       "<details>\n",
       "\t<summary style=display:list-item;cursor:pointer>\n",
       "\t\t<strong>Levels</strong>:\n",
       "\t</summary>\n",
       "\t<ol class=list-inline>\n",
       "\t\t<li>'high'</li>\n",
       "\t\t<li>'average'</li>\n",
       "\t\t<li>'low'</li>\n",
       "\t</ol>\n",
       "</details></li>\n",
       "\t<li><table>\n",
       "<tbody>\n",
       "\t<tr><td>1 </td><td> 2</td><td> 3</td><td> 4</td></tr>\n",
       "\t<tr><td>5 </td><td> 6</td><td> 7</td><td> 8</td></tr>\n",
       "\t<tr><td>9 </td><td>10</td><td>11</td><td>12</td></tr>\n",
       "</tbody>\n",
       "</table>\n",
       "</li>\n",
       "</ol>\n"
      ],
      "text/latex": [
       "\\begin{enumerate}\n",
       "\\item \\begin{enumerate*}\n",
       "\\item high\n",
       "\\item low\n",
       "\\item low\n",
       "\\item average\n",
       "\\item high\n",
       "\\item average\n",
       "\\item low\n",
       "\\item average\n",
       "\\item average\n",
       "\\end{enumerate*}\n",
       "\n",
       "\\emph{Levels}: \\begin{enumerate*}\n",
       "\\item 'high'\n",
       "\\item 'average'\n",
       "\\item 'low'\n",
       "\\end{enumerate*}\n",
       "\n",
       "\\item \\begin{tabular}{llll}\n",
       "\t 1  &  2 &  3 &  4\\\\\n",
       "\t 5  &  6 &  7 &  8\\\\\n",
       "\t 9  & 10 & 11 & 12\\\\\n",
       "\\end{tabular}\n",
       "\n",
       "\\end{enumerate}\n"
      ],
      "text/markdown": [
       "1. 1. high\n",
       "2. low\n",
       "3. low\n",
       "4. average\n",
       "5. high\n",
       "6. average\n",
       "7. low\n",
       "8. average\n",
       "9. average\n",
       "\n",
       "\n",
       "\n",
       "**Levels**: 1. 'high'\n",
       "2. 'average'\n",
       "3. 'low'\n",
       "\n",
       "\n",
       "\n",
       "2. \n",
       "| 1  |  2 |  3 |  4 | \n",
       "| 5  |  6 |  7 |  8 | \n",
       "| 9  | 10 | 11 | 12 | \n",
       "\n",
       "\n",
       "\n",
       "\n",
       "\n"
      ],
      "text/plain": [
       "[[1]]\n",
       "[1] high    low     low     average high    average low     average average\n",
       "Levels: high < average < low\n",
       "\n",
       "[[2]]\n",
       "     [,1] [,2] [,3] [,4]\n",
       "[1,]    1    2    3    4\n",
       "[2,]    5    6    7    8\n",
       "[3,]    9   10   11   12\n"
      ]
     },
     "metadata": {},
     "output_type": "display_data"
    }
   ],
   "source": [
    "list2 <- list(factor, matrix)\n",
    "list2"
   ]
  },
  {
   "cell_type": "markdown",
   "metadata": {},
   "source": [
    "## 6.5. Dataframe\n",
    "\n",
    "Dataframe is a bidimensional list in which each element must have the same length, each vector of the list becomes a column"
   ]
  },
  {
   "cell_type": "code",
   "execution_count": 165,
   "metadata": {},
   "outputs": [
    {
     "data": {
      "text/html": [
       "<table>\n",
       "<thead><tr><th scope=col>nome</th><th scope=col>sexo</th><th scope=col>idade</th></tr></thead>\n",
       "<tbody>\n",
       "\t<tr><td>João </td><td>M    </td><td>32   </td></tr>\n",
       "\t<tr><td>José </td><td>M    </td><td>34   </td></tr>\n",
       "\t<tr><td>Maria</td><td>F    </td><td>30   </td></tr>\n",
       "</tbody>\n",
       "</table>\n"
      ],
      "text/latex": [
       "\\begin{tabular}{r|lll}\n",
       " nome & sexo & idade\\\\\n",
       "\\hline\n",
       "\t João  & M     & 32   \\\\\n",
       "\t José  & M     & 34   \\\\\n",
       "\t Maria & F     & 30   \\\\\n",
       "\\end{tabular}\n"
      ],
      "text/markdown": [
       "\n",
       "nome | sexo | idade | \n",
       "|---|---|---|\n",
       "| João  | M     | 32    | \n",
       "| José  | M     | 34    | \n",
       "| Maria | F     | 30    | \n",
       "\n",
       "\n"
      ],
      "text/plain": [
       "  nome  sexo idade\n",
       "1 João  M    32   \n",
       "2 José  M    34   \n",
       "3 Maria F    30   "
      ]
     },
     "metadata": {},
     "output_type": "display_data"
    }
   ],
   "source": [
    "df <- data.frame(nome=c('João', 'José', 'Maria'),\n",
    "                 sexo=c('M', 'M', 'F'),\n",
    "                 idade=c(32, 34, 30))\n",
    "df"
   ]
  },
  {
   "cell_type": "code",
   "execution_count": 166,
   "metadata": {},
   "outputs": [
    {
     "data": {
      "text/html": [
       "'data.frame'"
      ],
      "text/latex": [
       "'data.frame'"
      ],
      "text/markdown": [
       "'data.frame'"
      ],
      "text/plain": [
       "[1] \"data.frame\""
      ]
     },
     "metadata": {},
     "output_type": "display_data"
    }
   ],
   "source": [
    "class(df)"
   ]
  },
  {
   "cell_type": "code",
   "execution_count": 167,
   "metadata": {},
   "outputs": [
    {
     "data": {
      "text/html": [
       "'list'"
      ],
      "text/latex": [
       "'list'"
      ],
      "text/markdown": [
       "'list'"
      ],
      "text/plain": [
       "[1] \"list\""
      ]
     },
     "metadata": {},
     "output_type": "display_data"
    }
   ],
   "source": [
    "typeof(df)"
   ]
  },
  {
   "cell_type": "code",
   "execution_count": 168,
   "metadata": {},
   "outputs": [
    {
     "data": {
      "text/html": [
       "<ol class=list-inline>\n",
       "\t<li>3</li>\n",
       "\t<li>3</li>\n",
       "</ol>\n"
      ],
      "text/latex": [
       "\\begin{enumerate*}\n",
       "\\item 3\n",
       "\\item 3\n",
       "\\end{enumerate*}\n"
      ],
      "text/markdown": [
       "1. 3\n",
       "2. 3\n",
       "\n",
       "\n"
      ],
      "text/plain": [
       "[1] 3 3"
      ]
     },
     "metadata": {},
     "output_type": "display_data"
    }
   ],
   "source": [
    "dim(df)"
   ]
  },
  {
   "cell_type": "code",
   "execution_count": 169,
   "metadata": {},
   "outputs": [
    {
     "name": "stdout",
     "output_type": "stream",
     "text": [
      "'data.frame':\t3 obs. of  3 variables:\n",
      " $ nome : Factor w/ 3 levels \"João\",\"José\",..: 1 2 3\n",
      " $ sexo : Factor w/ 2 levels \"F\",\"M\": 2 2 1\n",
      " $ idade: num  32 34 30\n"
     ]
    }
   ],
   "source": [
    "str(df)"
   ]
  },
  {
   "cell_type": "code",
   "execution_count": 170,
   "metadata": {},
   "outputs": [
    {
     "data": {
      "text/html": [
       "6"
      ],
      "text/latex": [
       "6"
      ],
      "text/markdown": [
       "6"
      ],
      "text/plain": [
       "[1] 6"
      ]
     },
     "metadata": {},
     "output_type": "display_data"
    },
    {
     "data": {
      "text/html": [
       "9"
      ],
      "text/latex": [
       "9"
      ],
      "text/markdown": [
       "9"
      ],
      "text/plain": [
       "[1] 9"
      ]
     },
     "metadata": {},
     "output_type": "display_data"
    }
   ],
   "source": [
    "length(num); length(factor)"
   ]
  },
  {
   "cell_type": "code",
   "execution_count": 171,
   "metadata": {},
   "outputs": [
    {
     "data": {
      "text/html": [
       "<table>\n",
       "<thead><tr><th scope=col>numeric</th><th scope=col>factor</th></tr></thead>\n",
       "<tbody>\n",
       "\t<tr><td>10     </td><td>high   </td></tr>\n",
       "\t<tr><td> 5     </td><td>low    </td></tr>\n",
       "\t<tr><td> 2     </td><td>low    </td></tr>\n",
       "\t<tr><td> 4     </td><td>average</td></tr>\n",
       "\t<tr><td> 8     </td><td>high   </td></tr>\n",
       "\t<tr><td> 9     </td><td>average</td></tr>\n",
       "\t<tr><td>NA     </td><td>low    </td></tr>\n",
       "\t<tr><td>NA     </td><td>average</td></tr>\n",
       "\t<tr><td>NA     </td><td>average</td></tr>\n",
       "</tbody>\n",
       "</table>\n"
      ],
      "text/latex": [
       "\\begin{tabular}{r|ll}\n",
       " numeric & factor\\\\\n",
       "\\hline\n",
       "\t 10      & high   \\\\\n",
       "\t  5      & low    \\\\\n",
       "\t  2      & low    \\\\\n",
       "\t  4      & average\\\\\n",
       "\t  8      & high   \\\\\n",
       "\t  9      & average\\\\\n",
       "\t NA      & low    \\\\\n",
       "\t NA      & average\\\\\n",
       "\t NA      & average\\\\\n",
       "\\end{tabular}\n"
      ],
      "text/markdown": [
       "\n",
       "numeric | factor | \n",
       "|---|---|---|---|---|---|---|---|---|\n",
       "| 10      | high    | \n",
       "|  5      | low     | \n",
       "|  2      | low     | \n",
       "|  4      | average | \n",
       "|  8      | high    | \n",
       "|  9      | average | \n",
       "| NA      | low     | \n",
       "| NA      | average | \n",
       "| NA      | average | \n",
       "\n",
       "\n"
      ],
      "text/plain": [
       "  numeric factor \n",
       "1 10      high   \n",
       "2  5      low    \n",
       "3  2      low    \n",
       "4  4      average\n",
       "5  8      high   \n",
       "6  9      average\n",
       "7 NA      low    \n",
       "8 NA      average\n",
       "9 NA      average"
      ]
     },
     "metadata": {},
     "output_type": "display_data"
    }
   ],
   "source": [
    "df2 <- data.frame(numeric=c(num, NA, NA, NA),\n",
    "                  factor=factor)\n",
    "df2"
   ]
  },
  {
   "cell_type": "code",
   "execution_count": 172,
   "metadata": {},
   "outputs": [
    {
     "name": "stdout",
     "output_type": "stream",
     "text": [
      "'data.frame':\t9 obs. of  2 variables:\n",
      " $ numeric: num  10 5 2 4 8 9 NA NA NA\n",
      " $ factor : Ord.factor w/ 3 levels \"high\"<\"average\"<..: 1 3 3 2 1 2 3 2 2\n"
     ]
    }
   ],
   "source": [
    "str(df2)"
   ]
  },
  {
   "cell_type": "code",
   "execution_count": 173,
   "metadata": {},
   "outputs": [
    {
     "data": {
      "text/html": [
       "<table>\n",
       "<thead><tr><th scope=col>numeric</th><th scope=col>factor</th></tr></thead>\n",
       "<tbody>\n",
       "\t<tr><td>10     </td><td>high   </td></tr>\n",
       "\t<tr><td> 5     </td><td>low    </td></tr>\n",
       "\t<tr><td> 2     </td><td>low    </td></tr>\n",
       "\t<tr><td> 4     </td><td>average</td></tr>\n",
       "\t<tr><td> 8     </td><td>high   </td></tr>\n",
       "\t<tr><td> 9     </td><td>average</td></tr>\n",
       "\t<tr><td>NA     </td><td>low    </td></tr>\n",
       "\t<tr><td>NA     </td><td>average</td></tr>\n",
       "\t<tr><td>NA     </td><td>average</td></tr>\n",
       "</tbody>\n",
       "</table>\n"
      ],
      "text/latex": [
       "\\begin{tabular}{ll}\n",
       " numeric & factor\\\\\n",
       "\\hline\n",
       "\t 10      & high   \\\\\n",
       "\t  5      & low    \\\\\n",
       "\t  2      & low    \\\\\n",
       "\t  4      & average\\\\\n",
       "\t  8      & high   \\\\\n",
       "\t  9      & average\\\\\n",
       "\t NA      & low    \\\\\n",
       "\t NA      & average\\\\\n",
       "\t NA      & average\\\\\n",
       "\\end{tabular}\n"
      ],
      "text/markdown": [
       "\n",
       "numeric | factor | \n",
       "|---|---|---|---|---|---|---|---|---|\n",
       "| 10      | high    | \n",
       "|  5      | low     | \n",
       "|  2      | low     | \n",
       "|  4      | average | \n",
       "|  8      | high    | \n",
       "|  9      | average | \n",
       "| NA      | low     | \n",
       "| NA      | average | \n",
       "| NA      | average | \n",
       "\n",
       "\n"
      ],
      "text/plain": [
       "      numeric factor \n",
       " [1,] 10      high   \n",
       " [2,]  5      low    \n",
       " [3,]  2      low    \n",
       " [4,]  4      average\n",
       " [5,]  8      high   \n",
       " [6,]  9      average\n",
       " [7,] NA      low    \n",
       " [8,] NA      average\n",
       " [9,] NA      average"
      ]
     },
     "metadata": {},
     "output_type": "display_data"
    }
   ],
   "source": [
    "# converting a data.frame to matrix\n",
    "# converts to character\n",
    "\n",
    "as.matrix(df2)"
   ]
  },
  {
   "cell_type": "code",
   "execution_count": 174,
   "metadata": {},
   "outputs": [
    {
     "data": {
      "text/html": [
       "<table>\n",
       "<thead><tr><th scope=col>numeric</th><th scope=col>factor</th></tr></thead>\n",
       "<tbody>\n",
       "\t<tr><td>10</td><td>1 </td></tr>\n",
       "\t<tr><td> 5</td><td>3 </td></tr>\n",
       "\t<tr><td> 2</td><td>3 </td></tr>\n",
       "\t<tr><td> 4</td><td>2 </td></tr>\n",
       "\t<tr><td> 8</td><td>1 </td></tr>\n",
       "\t<tr><td> 9</td><td>2 </td></tr>\n",
       "\t<tr><td>NA</td><td>3 </td></tr>\n",
       "\t<tr><td>NA</td><td>2 </td></tr>\n",
       "\t<tr><td>NA</td><td>2 </td></tr>\n",
       "</tbody>\n",
       "</table>\n"
      ],
      "text/latex": [
       "\\begin{tabular}{ll}\n",
       " numeric & factor\\\\\n",
       "\\hline\n",
       "\t 10 & 1 \\\\\n",
       "\t  5 & 3 \\\\\n",
       "\t  2 & 3 \\\\\n",
       "\t  4 & 2 \\\\\n",
       "\t  8 & 1 \\\\\n",
       "\t  9 & 2 \\\\\n",
       "\t NA & 3 \\\\\n",
       "\t NA & 2 \\\\\n",
       "\t NA & 2 \\\\\n",
       "\\end{tabular}\n"
      ],
      "text/markdown": [
       "\n",
       "numeric | factor | \n",
       "|---|---|---|---|---|---|---|---|---|\n",
       "| 10 | 1  | \n",
       "|  5 | 3  | \n",
       "|  2 | 3  | \n",
       "|  4 | 2  | \n",
       "|  8 | 1  | \n",
       "|  9 | 2  | \n",
       "| NA | 3  | \n",
       "| NA | 2  | \n",
       "| NA | 2  | \n",
       "\n",
       "\n"
      ],
      "text/plain": [
       "      numeric factor\n",
       " [1,] 10      1     \n",
       " [2,]  5      3     \n",
       " [3,]  2      3     \n",
       " [4,]  4      2     \n",
       " [5,]  8      1     \n",
       " [6,]  9      2     \n",
       " [7,] NA      3     \n",
       " [8,] NA      2     \n",
       " [9,] NA      2     "
      ]
     },
     "metadata": {},
     "output_type": "display_data"
    }
   ],
   "source": [
    "# converts to integer\n",
    "\n",
    "data.matrix(df2)"
   ]
  },
  {
   "cell_type": "markdown",
   "metadata": {},
   "source": [
    "# 7. Object attributes\n",
    "\n",
    "It is a piece of information that can be attributed to an object without interfering with the actual values, they are seen as metadata. For example: `names`, `dimnames`, `dim`, `class`. They can all be seen with the `attributes()` function"
   ]
  },
  {
   "cell_type": "code",
   "execution_count": 175,
   "metadata": {},
   "outputs": [
    {
     "data": {
      "text/plain": [
       "NULL"
      ]
     },
     "metadata": {},
     "output_type": "display_data"
    }
   ],
   "source": [
    "x <- 1:6\n",
    "attributes(x)"
   ]
  },
  {
   "cell_type": "code",
   "execution_count": 176,
   "metadata": {},
   "outputs": [
    {
     "data": {
      "text/html": [
       "<ol class=list-inline>\n",
       "\t<li>'um'</li>\n",
       "\t<li>'dois'</li>\n",
       "\t<li>'três'</li>\n",
       "\t<li>'quatro'</li>\n",
       "\t<li>'cinco'</li>\n",
       "\t<li>'seis'</li>\n",
       "</ol>\n"
      ],
      "text/latex": [
       "\\begin{enumerate*}\n",
       "\\item 'um'\n",
       "\\item 'dois'\n",
       "\\item 'três'\n",
       "\\item 'quatro'\n",
       "\\item 'cinco'\n",
       "\\item 'seis'\n",
       "\\end{enumerate*}\n"
      ],
      "text/markdown": [
       "1. 'um'\n",
       "2. 'dois'\n",
       "3. 'três'\n",
       "4. 'quatro'\n",
       "5. 'cinco'\n",
       "6. 'seis'\n",
       "\n",
       "\n"
      ],
      "text/plain": [
       "[1] \"um\"     \"dois\"   \"três\"   \"quatro\" \"cinco\"  \"seis\"  "
      ]
     },
     "metadata": {},
     "output_type": "display_data"
    }
   ],
   "source": [
    "names(x) <- c('um', 'dois', 'três', 'quatro', 'cinco', 'seis')\n",
    "names(x)"
   ]
  },
  {
   "cell_type": "code",
   "execution_count": 177,
   "metadata": {},
   "outputs": [
    {
     "data": {
      "text/html": [
       "<strong>$names</strong> = <ol class=list-inline>\n",
       "\t<li>'um'</li>\n",
       "\t<li>'dois'</li>\n",
       "\t<li>'três'</li>\n",
       "\t<li>'quatro'</li>\n",
       "\t<li>'cinco'</li>\n",
       "\t<li>'seis'</li>\n",
       "</ol>\n"
      ],
      "text/latex": [
       "\\textbf{\\$names} = \\begin{enumerate*}\n",
       "\\item 'um'\n",
       "\\item 'dois'\n",
       "\\item 'três'\n",
       "\\item 'quatro'\n",
       "\\item 'cinco'\n",
       "\\item 'seis'\n",
       "\\end{enumerate*}\n"
      ],
      "text/markdown": [
       "**$names** = 1. 'um'\n",
       "2. 'dois'\n",
       "3. 'três'\n",
       "4. 'quatro'\n",
       "5. 'cinco'\n",
       "6. 'seis'\n",
       "\n",
       "\n"
      ],
      "text/plain": [
       "$names\n",
       "[1] \"um\"     \"dois\"   \"três\"   \"quatro\" \"cinco\"  \"seis\"  \n"
      ]
     },
     "metadata": {},
     "output_type": "display_data"
    }
   ],
   "source": [
    "attributes(x)"
   ]
  },
  {
   "cell_type": "code",
   "execution_count": 178,
   "metadata": {},
   "outputs": [
    {
     "data": {
      "text/html": [
       "<dl class=dl-horizontal>\n",
       "\t<dt>um</dt>\n",
       "\t\t<dd>1</dd>\n",
       "\t<dt>dois</dt>\n",
       "\t\t<dd>2</dd>\n",
       "\t<dt>três</dt>\n",
       "\t\t<dd>3</dd>\n",
       "\t<dt>quatro</dt>\n",
       "\t\t<dd>4</dd>\n",
       "\t<dt>cinco</dt>\n",
       "\t\t<dd>5</dd>\n",
       "\t<dt>seis</dt>\n",
       "\t\t<dd>6</dd>\n",
       "</dl>\n"
      ],
      "text/latex": [
       "\\begin{description*}\n",
       "\\item[um] 1\n",
       "\\item[dois] 2\n",
       "\\item[três] 3\n",
       "\\item[quatro] 4\n",
       "\\item[cinco] 5\n",
       "\\item[seis] 6\n",
       "\\end{description*}\n"
      ],
      "text/markdown": [
       "um\n",
       ":   1dois\n",
       ":   2três\n",
       ":   3quatro\n",
       ":   4cinco\n",
       ":   5seis\n",
       ":   6\n",
       "\n"
      ],
      "text/plain": [
       "    um   dois   três quatro  cinco   seis \n",
       "     1      2      3      4      5      6 "
      ]
     },
     "metadata": {},
     "output_type": "display_data"
    }
   ],
   "source": [
    "x"
   ]
  },
  {
   "cell_type": "code",
   "execution_count": 179,
   "metadata": {},
   "outputs": [
    {
     "data": {
      "text/plain": [
       "NULL"
      ]
     },
     "metadata": {},
     "output_type": "display_data"
    }
   ],
   "source": [
    "# attributes can be removed using the NULL\n",
    "\n",
    "names(x) <- NULL\n",
    "attributes(x)"
   ]
  },
  {
   "cell_type": "code",
   "execution_count": 180,
   "metadata": {},
   "outputs": [
    {
     "data": {
      "text/html": [
       "<ol class=list-inline>\n",
       "\t<li>1</li>\n",
       "\t<li>2</li>\n",
       "\t<li>3</li>\n",
       "\t<li>4</li>\n",
       "\t<li>5</li>\n",
       "\t<li>6</li>\n",
       "</ol>\n"
      ],
      "text/latex": [
       "\\begin{enumerate*}\n",
       "\\item 1\n",
       "\\item 2\n",
       "\\item 3\n",
       "\\item 4\n",
       "\\item 5\n",
       "\\item 6\n",
       "\\end{enumerate*}\n"
      ],
      "text/markdown": [
       "1. 1\n",
       "2. 2\n",
       "3. 3\n",
       "4. 4\n",
       "5. 5\n",
       "6. 6\n",
       "\n",
       "\n"
      ],
      "text/plain": [
       "[1] 1 2 3 4 5 6"
      ]
     },
     "metadata": {},
     "output_type": "display_data"
    }
   ],
   "source": [
    "x"
   ]
  },
  {
   "cell_type": "code",
   "execution_count": 181,
   "metadata": {},
   "outputs": [
    {
     "data": {
      "text/html": [
       "6"
      ],
      "text/latex": [
       "6"
      ],
      "text/markdown": [
       "6"
      ],
      "text/plain": [
       "[1] 6"
      ]
     },
     "metadata": {},
     "output_type": "display_data"
    }
   ],
   "source": [
    "length(x)"
   ]
  },
  {
   "cell_type": "code",
   "execution_count": 182,
   "metadata": {},
   "outputs": [
    {
     "data": {
      "text/html": [
       "<ol class=list-inline>\n",
       "\t<li>1</li>\n",
       "\t<li>2</li>\n",
       "\t<li>3</li>\n",
       "\t<li>4</li>\n",
       "\t<li>5</li>\n",
       "\t<li>6</li>\n",
       "\t<li>&lt;NA&gt;</li>\n",
       "\t<li>&lt;NA&gt;</li>\n",
       "\t<li>&lt;NA&gt;</li>\n",
       "\t<li>&lt;NA&gt;</li>\n",
       "</ol>\n"
      ],
      "text/latex": [
       "\\begin{enumerate*}\n",
       "\\item 1\n",
       "\\item 2\n",
       "\\item 3\n",
       "\\item 4\n",
       "\\item 5\n",
       "\\item 6\n",
       "\\item <NA>\n",
       "\\item <NA>\n",
       "\\item <NA>\n",
       "\\item <NA>\n",
       "\\end{enumerate*}\n"
      ],
      "text/markdown": [
       "1. 1\n",
       "2. 2\n",
       "3. 3\n",
       "4. 4\n",
       "5. 5\n",
       "6. 6\n",
       "7. &lt;NA&gt;\n",
       "8. &lt;NA&gt;\n",
       "9. &lt;NA&gt;\n",
       "10. &lt;NA&gt;\n",
       "\n",
       "\n"
      ],
      "text/plain": [
       " [1]  1  2  3  4  5  6 NA NA NA NA"
      ]
     },
     "metadata": {},
     "output_type": "display_data"
    }
   ],
   "source": [
    "length(x) <- 10\n",
    "x"
   ]
  },
  {
   "cell_type": "code",
   "execution_count": 183,
   "metadata": {},
   "outputs": [
    {
     "data": {
      "text/plain": [
       "NULL"
      ]
     },
     "metadata": {},
     "output_type": "display_data"
    }
   ],
   "source": [
    "length(x) <- 6\n",
    "dim(x)"
   ]
  },
  {
   "cell_type": "code",
   "execution_count": 184,
   "metadata": {},
   "outputs": [
    {
     "data": {
      "text/html": [
       "<table>\n",
       "<tbody>\n",
       "\t<tr><td>1</td><td>4</td></tr>\n",
       "\t<tr><td>2</td><td>5</td></tr>\n",
       "\t<tr><td>3</td><td>6</td></tr>\n",
       "</tbody>\n",
       "</table>\n"
      ],
      "text/latex": [
       "\\begin{tabular}{ll}\n",
       "\t 1 & 4\\\\\n",
       "\t 2 & 5\\\\\n",
       "\t 3 & 6\\\\\n",
       "\\end{tabular}\n"
      ],
      "text/markdown": [
       "\n",
       "| 1 | 4 | \n",
       "| 2 | 5 | \n",
       "| 3 | 6 | \n",
       "\n",
       "\n"
      ],
      "text/plain": [
       "     [,1] [,2]\n",
       "[1,] 1    4   \n",
       "[2,] 2    5   \n",
       "[3,] 3    6   "
      ]
     },
     "metadata": {},
     "output_type": "display_data"
    }
   ],
   "source": [
    "dim(x) <- c(3, 2)\n",
    "x"
   ]
  },
  {
   "cell_type": "code",
   "execution_count": 185,
   "metadata": {},
   "outputs": [
    {
     "data": {
      "text/html": [
       "<strong>$dim</strong> = <ol class=list-inline>\n",
       "\t<li>3</li>\n",
       "\t<li>2</li>\n",
       "</ol>\n"
      ],
      "text/latex": [
       "\\textbf{\\$dim} = \\begin{enumerate*}\n",
       "\\item 3\n",
       "\\item 2\n",
       "\\end{enumerate*}\n"
      ],
      "text/markdown": [
       "**$dim** = 1. 3\n",
       "2. 2\n",
       "\n",
       "\n"
      ],
      "text/plain": [
       "$dim\n",
       "[1] 3 2\n"
      ]
     },
     "metadata": {},
     "output_type": "display_data"
    }
   ],
   "source": [
    "attributes(x)"
   ]
  },
  {
   "cell_type": "code",
   "execution_count": 186,
   "metadata": {},
   "outputs": [
    {
     "data": {
      "text/html": [
       "<ol class=list-inline>\n",
       "\t<li>1</li>\n",
       "\t<li>2</li>\n",
       "\t<li>3</li>\n",
       "\t<li>4</li>\n",
       "\t<li>5</li>\n",
       "\t<li>6</li>\n",
       "</ol>\n"
      ],
      "text/latex": [
       "\\begin{enumerate*}\n",
       "\\item 1\n",
       "\\item 2\n",
       "\\item 3\n",
       "\\item 4\n",
       "\\item 5\n",
       "\\item 6\n",
       "\\end{enumerate*}\n"
      ],
      "text/markdown": [
       "1. 1\n",
       "2. 2\n",
       "3. 3\n",
       "4. 4\n",
       "5. 5\n",
       "6. 6\n",
       "\n",
       "\n"
      ],
      "text/plain": [
       "[1] 1 2 3 4 5 6"
      ]
     },
     "metadata": {},
     "output_type": "display_data"
    }
   ],
   "source": [
    "dim(x) <- NULL\n",
    "x"
   ]
  },
  {
   "cell_type": "code",
   "execution_count": 187,
   "metadata": {},
   "outputs": [
    {
     "data": {
      "text/html": [
       "<dl>\n",
       "\t<dt>$Curitiba</dt>\n",
       "\t\t<dd>1</dd>\n",
       "\t<dt>$Paraná</dt>\n",
       "\t\t<dd>2</dd>\n",
       "\t<dt>$Brasil</dt>\n",
       "\t\t<dd>3</dd>\n",
       "</dl>\n"
      ],
      "text/latex": [
       "\\begin{description}\n",
       "\\item[\\$Curitiba] 1\n",
       "\\item[\\$Paraná] 2\n",
       "\\item[\\$Brasil] 3\n",
       "\\end{description}\n"
      ],
      "text/markdown": [
       "$Curitiba\n",
       ":   1\n",
       "$Paraná\n",
       ":   2\n",
       "$Brasil\n",
       ":   3\n",
       "\n",
       "\n"
      ],
      "text/plain": [
       "$Curitiba\n",
       "[1] 1\n",
       "\n",
       "$Paraná\n",
       "[1] 2\n",
       "\n",
       "$Brasil\n",
       "[1] 3\n"
      ]
     },
     "metadata": {},
     "output_type": "display_data"
    }
   ],
   "source": [
    "# lists can also have names\n",
    "\n",
    "x <- list(Curitiba = 1, Paraná = 2, Brasil = 3)\n",
    "x"
   ]
  },
  {
   "cell_type": "code",
   "execution_count": 188,
   "metadata": {},
   "outputs": [
    {
     "data": {
      "text/html": [
       "<ol class=list-inline>\n",
       "\t<li>'Curitiba'</li>\n",
       "\t<li>'Paraná'</li>\n",
       "\t<li>'Brasil'</li>\n",
       "</ol>\n"
      ],
      "text/latex": [
       "\\begin{enumerate*}\n",
       "\\item 'Curitiba'\n",
       "\\item 'Paraná'\n",
       "\\item 'Brasil'\n",
       "\\end{enumerate*}\n"
      ],
      "text/markdown": [
       "1. 'Curitiba'\n",
       "2. 'Paraná'\n",
       "3. 'Brasil'\n",
       "\n",
       "\n"
      ],
      "text/plain": [
       "[1] \"Curitiba\" \"Paraná\"   \"Brasil\"  "
      ]
     },
     "metadata": {},
     "output_type": "display_data"
    }
   ],
   "source": [
    "names(x)"
   ]
  },
  {
   "cell_type": "code",
   "execution_count": 189,
   "metadata": {},
   "outputs": [
    {
     "data": {
      "text/html": [
       "<table>\n",
       "<tbody>\n",
       "\t<tr><td>1 </td><td> 2</td><td> 3</td><td> 4</td></tr>\n",
       "\t<tr><td>5 </td><td> 6</td><td> 7</td><td> 8</td></tr>\n",
       "\t<tr><td>9 </td><td>10</td><td>11</td><td>12</td></tr>\n",
       "</tbody>\n",
       "</table>\n"
      ],
      "text/latex": [
       "\\begin{tabular}{llll}\n",
       "\t 1  &  2 &  3 &  4\\\\\n",
       "\t 5  &  6 &  7 &  8\\\\\n",
       "\t 9  & 10 & 11 & 12\\\\\n",
       "\\end{tabular}\n"
      ],
      "text/markdown": [
       "\n",
       "| 1  |  2 |  3 |  4 | \n",
       "| 5  |  6 |  7 |  8 | \n",
       "| 9  | 10 | 11 | 12 | \n",
       "\n",
       "\n"
      ],
      "text/plain": [
       "     [,1] [,2] [,3] [,4]\n",
       "[1,] 1     2    3    4  \n",
       "[2,] 5     6    7    8  \n",
       "[3,] 9    10   11   12  "
      ]
     },
     "metadata": {},
     "output_type": "display_data"
    }
   ],
   "source": [
    "# associated names with matrices rows and columns\n",
    "\n",
    "matrix"
   ]
  },
  {
   "cell_type": "code",
   "execution_count": 190,
   "metadata": {},
   "outputs": [
    {
     "data": {
      "text/html": [
       "<strong>$dim</strong> = <ol class=list-inline>\n",
       "\t<li>3</li>\n",
       "\t<li>4</li>\n",
       "</ol>\n"
      ],
      "text/latex": [
       "\\textbf{\\$dim} = \\begin{enumerate*}\n",
       "\\item 3\n",
       "\\item 4\n",
       "\\end{enumerate*}\n"
      ],
      "text/markdown": [
       "**$dim** = 1. 3\n",
       "2. 4\n",
       "\n",
       "\n"
      ],
      "text/plain": [
       "$dim\n",
       "[1] 3 4\n"
      ]
     },
     "metadata": {},
     "output_type": "display_data"
    }
   ],
   "source": [
    "attributes(matrix)"
   ]
  },
  {
   "cell_type": "code",
   "execution_count": 191,
   "metadata": {},
   "outputs": [
    {
     "data": {
      "text/html": [
       "<table>\n",
       "<thead><tr><th></th><th scope=col>T1</th><th scope=col>T2</th><th scope=col>T3</th><th scope=col>T4</th></tr></thead>\n",
       "<tbody>\n",
       "\t<tr><th scope=row>A</th><td>1 </td><td> 2</td><td> 3</td><td> 4</td></tr>\n",
       "\t<tr><th scope=row>B</th><td>5 </td><td> 6</td><td> 7</td><td> 8</td></tr>\n",
       "\t<tr><th scope=row>C</th><td>9 </td><td>10</td><td>11</td><td>12</td></tr>\n",
       "</tbody>\n",
       "</table>\n"
      ],
      "text/latex": [
       "\\begin{tabular}{r|llll}\n",
       "  & T1 & T2 & T3 & T4\\\\\n",
       "\\hline\n",
       "\tA & 1  &  2 &  3 &  4\\\\\n",
       "\tB & 5  &  6 &  7 &  8\\\\\n",
       "\tC & 9  & 10 & 11 & 12\\\\\n",
       "\\end{tabular}\n"
      ],
      "text/markdown": [
       "\n",
       "| <!--/--> | T1 | T2 | T3 | T4 | \n",
       "|---|---|---|\n",
       "| A | 1  |  2 |  3 |  4 | \n",
       "| B | 5  |  6 |  7 |  8 | \n",
       "| C | 9  | 10 | 11 | 12 | \n",
       "\n",
       "\n"
      ],
      "text/plain": [
       "  T1 T2 T3 T4\n",
       "A 1   2  3  4\n",
       "B 5   6  7  8\n",
       "C 9  10 11 12"
      ]
     },
     "metadata": {},
     "output_type": "display_data"
    }
   ],
   "source": [
    "rownames(matrix) <- c('A', 'B', 'C')\n",
    "colnames(matrix) <- c('T1', 'T2', 'T3', 'T4')\n",
    "matrix"
   ]
  },
  {
   "cell_type": "code",
   "execution_count": 192,
   "metadata": {},
   "outputs": [
    {
     "data": {
      "text/html": [
       "<dl>\n",
       "\t<dt>$dim</dt>\n",
       "\t\t<dd><ol class=list-inline>\n",
       "\t<li>3</li>\n",
       "\t<li>4</li>\n",
       "</ol>\n",
       "</dd>\n",
       "\t<dt>$dimnames</dt>\n",
       "\t\t<dd><ol>\n",
       "\t<li><ol class=list-inline>\n",
       "\t<li>'A'</li>\n",
       "\t<li>'B'</li>\n",
       "\t<li>'C'</li>\n",
       "</ol>\n",
       "</li>\n",
       "\t<li><ol class=list-inline>\n",
       "\t<li>'T1'</li>\n",
       "\t<li>'T2'</li>\n",
       "\t<li>'T3'</li>\n",
       "\t<li>'T4'</li>\n",
       "</ol>\n",
       "</li>\n",
       "</ol>\n",
       "</dd>\n",
       "</dl>\n"
      ],
      "text/latex": [
       "\\begin{description}\n",
       "\\item[\\$dim] \\begin{enumerate*}\n",
       "\\item 3\n",
       "\\item 4\n",
       "\\end{enumerate*}\n",
       "\n",
       "\\item[\\$dimnames] \\begin{enumerate}\n",
       "\\item \\begin{enumerate*}\n",
       "\\item 'A'\n",
       "\\item 'B'\n",
       "\\item 'C'\n",
       "\\end{enumerate*}\n",
       "\n",
       "\\item \\begin{enumerate*}\n",
       "\\item 'T1'\n",
       "\\item 'T2'\n",
       "\\item 'T3'\n",
       "\\item 'T4'\n",
       "\\end{enumerate*}\n",
       "\n",
       "\\end{enumerate}\n",
       "\n",
       "\\end{description}\n"
      ],
      "text/markdown": [
       "$dim\n",
       ":   1. 3\n",
       "2. 4\n",
       "\n",
       "\n",
       "\n",
       "$dimnames\n",
       ":   1. 1. 'A'\n",
       "2. 'B'\n",
       "3. 'C'\n",
       "\n",
       "\n",
       "\n",
       "2. 1. 'T1'\n",
       "2. 'T2'\n",
       "3. 'T3'\n",
       "4. 'T4'\n",
       "\n",
       "\n",
       "\n",
       "\n",
       "\n",
       "\n",
       "\n",
       "\n"
      ],
      "text/plain": [
       "$dim\n",
       "[1] 3 4\n",
       "\n",
       "$dimnames\n",
       "$dimnames[[1]]\n",
       "[1] \"A\" \"B\" \"C\"\n",
       "\n",
       "$dimnames[[2]]\n",
       "[1] \"T1\" \"T2\" \"T3\" \"T4\"\n",
       "\n"
      ]
     },
     "metadata": {},
     "output_type": "display_data"
    }
   ],
   "source": [
    "attributes(matrix)"
   ]
  },
  {
   "cell_type": "code",
   "execution_count": 193,
   "metadata": {},
   "outputs": [
    {
     "data": {
      "text/html": [
       "<table>\n",
       "<thead><tr><th scope=col>nome</th><th scope=col>sexo</th><th scope=col>idade</th></tr></thead>\n",
       "<tbody>\n",
       "\t<tr><td>João </td><td>M    </td><td>32   </td></tr>\n",
       "\t<tr><td>José </td><td>M    </td><td>34   </td></tr>\n",
       "\t<tr><td>Maria</td><td>F    </td><td>30   </td></tr>\n",
       "</tbody>\n",
       "</table>\n"
      ],
      "text/latex": [
       "\\begin{tabular}{r|lll}\n",
       " nome & sexo & idade\\\\\n",
       "\\hline\n",
       "\t João  & M     & 32   \\\\\n",
       "\t José  & M     & 34   \\\\\n",
       "\t Maria & F     & 30   \\\\\n",
       "\\end{tabular}\n"
      ],
      "text/markdown": [
       "\n",
       "nome | sexo | idade | \n",
       "|---|---|---|\n",
       "| João  | M     | 32    | \n",
       "| José  | M     | 34    | \n",
       "| Maria | F     | 30    | \n",
       "\n",
       "\n"
      ],
      "text/plain": [
       "  nome  sexo idade\n",
       "1 João  M    32   \n",
       "2 José  M    34   \n",
       "3 Maria F    30   "
      ]
     },
     "metadata": {},
     "output_type": "display_data"
    }
   ],
   "source": [
    "# data.frames\n",
    "\n",
    "df"
   ]
  },
  {
   "cell_type": "code",
   "execution_count": 194,
   "metadata": {},
   "outputs": [
    {
     "data": {
      "text/html": [
       "<dl>\n",
       "\t<dt>$names</dt>\n",
       "\t\t<dd><ol class=list-inline>\n",
       "\t<li>'nome'</li>\n",
       "\t<li>'sexo'</li>\n",
       "\t<li>'idade'</li>\n",
       "</ol>\n",
       "</dd>\n",
       "\t<dt>$row.names</dt>\n",
       "\t\t<dd><ol class=list-inline>\n",
       "\t<li>1</li>\n",
       "\t<li>2</li>\n",
       "\t<li>3</li>\n",
       "</ol>\n",
       "</dd>\n",
       "\t<dt>$class</dt>\n",
       "\t\t<dd>'data.frame'</dd>\n",
       "</dl>\n"
      ],
      "text/latex": [
       "\\begin{description}\n",
       "\\item[\\$names] \\begin{enumerate*}\n",
       "\\item 'nome'\n",
       "\\item 'sexo'\n",
       "\\item 'idade'\n",
       "\\end{enumerate*}\n",
       "\n",
       "\\item[\\$row.names] \\begin{enumerate*}\n",
       "\\item 1\n",
       "\\item 2\n",
       "\\item 3\n",
       "\\end{enumerate*}\n",
       "\n",
       "\\item[\\$class] 'data.frame'\n",
       "\\end{description}\n"
      ],
      "text/markdown": [
       "$names\n",
       ":   1. 'nome'\n",
       "2. 'sexo'\n",
       "3. 'idade'\n",
       "\n",
       "\n",
       "\n",
       "$row.names\n",
       ":   1. 1\n",
       "2. 2\n",
       "3. 3\n",
       "\n",
       "\n",
       "\n",
       "$class\n",
       ":   'data.frame'\n",
       "\n",
       "\n"
      ],
      "text/plain": [
       "$names\n",
       "[1] \"nome\"  \"sexo\"  \"idade\"\n",
       "\n",
       "$row.names\n",
       "[1] 1 2 3\n",
       "\n",
       "$class\n",
       "[1] \"data.frame\"\n"
      ]
     },
     "metadata": {},
     "output_type": "display_data"
    }
   ],
   "source": [
    "attributes(df)"
   ]
  },
  {
   "cell_type": "code",
   "execution_count": 195,
   "metadata": {},
   "outputs": [
    {
     "data": {
      "text/html": [
       "<ol class=list-inline>\n",
       "\t<li>'nome'</li>\n",
       "\t<li>'sexo'</li>\n",
       "\t<li>'idade'</li>\n",
       "</ol>\n"
      ],
      "text/latex": [
       "\\begin{enumerate*}\n",
       "\\item 'nome'\n",
       "\\item 'sexo'\n",
       "\\item 'idade'\n",
       "\\end{enumerate*}\n"
      ],
      "text/markdown": [
       "1. 'nome'\n",
       "2. 'sexo'\n",
       "3. 'idade'\n",
       "\n",
       "\n"
      ],
      "text/plain": [
       "[1] \"nome\"  \"sexo\"  \"idade\""
      ]
     },
     "metadata": {},
     "output_type": "display_data"
    }
   ],
   "source": [
    "names(df)"
   ]
  },
  {
   "cell_type": "code",
   "execution_count": 196,
   "metadata": {},
   "outputs": [
    {
     "data": {
      "text/html": [
       "<ol class=list-inline>\n",
       "\t<li>'1'</li>\n",
       "\t<li>'2'</li>\n",
       "\t<li>'3'</li>\n",
       "</ol>\n"
      ],
      "text/latex": [
       "\\begin{enumerate*}\n",
       "\\item '1'\n",
       "\\item '2'\n",
       "\\item '3'\n",
       "\\end{enumerate*}\n"
      ],
      "text/markdown": [
       "1. '1'\n",
       "2. '2'\n",
       "3. '3'\n",
       "\n",
       "\n"
      ],
      "text/plain": [
       "[1] \"1\" \"2\" \"3\""
      ]
     },
     "metadata": {},
     "output_type": "display_data"
    }
   ],
   "source": [
    "row.names(df)"
   ]
  },
  {
   "cell_type": "markdown",
   "metadata": {},
   "source": [
    "## 7.1. Exercise 4"
   ]
  },
  {
   "cell_type": "code",
   "execution_count": 197,
   "metadata": {},
   "outputs": [
    {
     "data": {
      "text/html": [
       "<table>\n",
       "<tbody>\n",
       "\t<tr><td>2</td><td>8</td><td>4</td></tr>\n",
       "\t<tr><td>0</td><td>4</td><td>1</td></tr>\n",
       "\t<tr><td>9</td><td>7</td><td>5</td></tr>\n",
       "</tbody>\n",
       "</table>\n"
      ],
      "text/latex": [
       "\\begin{tabular}{lll}\n",
       "\t 2 & 8 & 4\\\\\n",
       "\t 0 & 4 & 1\\\\\n",
       "\t 9 & 7 & 5\\\\\n",
       "\\end{tabular}\n"
      ],
      "text/markdown": [
       "\n",
       "| 2 | 8 | 4 | \n",
       "| 0 | 4 | 1 | \n",
       "| 9 | 7 | 5 | \n",
       "\n",
       "\n"
      ],
      "text/plain": [
       "     [,1] [,2] [,3]\n",
       "[1,] 2    8    4   \n",
       "[2,] 0    4    1   \n",
       "[3,] 9    7    5   "
      ]
     },
     "metadata": {},
     "output_type": "display_data"
    }
   ],
   "source": [
    "# 1.\n",
    "\n",
    "matrix <- matrix(c(2, 8, 4, 0, 4, 1, 9, 7, 5), nrow=3, ncol=3, byrow=T)\n",
    "matrix"
   ]
  },
  {
   "cell_type": "code",
   "execution_count": 198,
   "metadata": {},
   "outputs": [
    {
     "data": {
      "text/html": [
       "<table>\n",
       "<thead><tr><th></th><th scope=col>col1</th><th scope=col>col2</th><th scope=col>col3</th></tr></thead>\n",
       "<tbody>\n",
       "\t<tr><th scope=row>1</th><td>2</td><td>8</td><td>4</td></tr>\n",
       "\t<tr><th scope=row>2</th><td>0</td><td>4</td><td>1</td></tr>\n",
       "\t<tr><th scope=row>3</th><td>9</td><td>7</td><td>5</td></tr>\n",
       "</tbody>\n",
       "</table>\n"
      ],
      "text/latex": [
       "\\begin{tabular}{r|lll}\n",
       "  & col1 & col2 & col3\\\\\n",
       "\\hline\n",
       "\t1 & 2 & 8 & 4\\\\\n",
       "\t2 & 0 & 4 & 1\\\\\n",
       "\t3 & 9 & 7 & 5\\\\\n",
       "\\end{tabular}\n"
      ],
      "text/markdown": [
       "\n",
       "| <!--/--> | col1 | col2 | col3 | \n",
       "|---|---|---|\n",
       "| 1 | 2 | 8 | 4 | \n",
       "| 2 | 0 | 4 | 1 | \n",
       "| 3 | 9 | 7 | 5 | \n",
       "\n",
       "\n"
      ],
      "text/plain": [
       "  col1 col2 col3\n",
       "1 2    8    4   \n",
       "2 0    4    1   \n",
       "3 9    7    5   "
      ]
     },
     "metadata": {},
     "output_type": "display_data"
    }
   ],
   "source": [
    "# 2.\n",
    "\n",
    "rownames(matrix) <- c(1, 2, 3)\n",
    "colnames(matrix) <- c('col1', 'col2', 'col3')\n",
    "matrix"
   ]
  },
  {
   "cell_type": "code",
   "execution_count": 199,
   "metadata": {},
   "outputs": [
    {
     "data": {
      "text/html": [
       "<ol>\n",
       "\t<li><ol class=list-inline>\n",
       "\t<li>'A'</li>\n",
       "\t<li>'A'</li>\n",
       "\t<li>'B'</li>\n",
       "\t<li>'B'</li>\n",
       "\t<li>'B'</li>\n",
       "\t<li>'B'</li>\n",
       "\t<li>'B'</li>\n",
       "\t<li>'C'</li>\n",
       "\t<li>'C'</li>\n",
       "\t<li>'C'</li>\n",
       "\t<li>'C'</li>\n",
       "</ol>\n",
       "</li>\n",
       "\t<li><table>\n",
       "<thead><tr><th></th><th scope=col>col1</th><th scope=col>col2</th><th scope=col>col3</th></tr></thead>\n",
       "<tbody>\n",
       "\t<tr><th scope=row>1</th><td>2</td><td>8</td><td>4</td></tr>\n",
       "\t<tr><th scope=row>2</th><td>0</td><td>4</td><td>1</td></tr>\n",
       "\t<tr><th scope=row>3</th><td>9</td><td>7</td><td>5</td></tr>\n",
       "</tbody>\n",
       "</table>\n",
       "</li>\n",
       "</ol>\n"
      ],
      "text/latex": [
       "\\begin{enumerate}\n",
       "\\item \\begin{enumerate*}\n",
       "\\item 'A'\n",
       "\\item 'A'\n",
       "\\item 'B'\n",
       "\\item 'B'\n",
       "\\item 'B'\n",
       "\\item 'B'\n",
       "\\item 'B'\n",
       "\\item 'C'\n",
       "\\item 'C'\n",
       "\\item 'C'\n",
       "\\item 'C'\n",
       "\\end{enumerate*}\n",
       "\n",
       "\\item \\begin{tabular}{r|lll}\n",
       "  & col1 & col2 & col3\\\\\n",
       "\\hline\n",
       "\t1 & 2 & 8 & 4\\\\\n",
       "\t2 & 0 & 4 & 1\\\\\n",
       "\t3 & 9 & 7 & 5\\\\\n",
       "\\end{tabular}\n",
       "\n",
       "\\end{enumerate}\n"
      ],
      "text/markdown": [
       "1. 1. 'A'\n",
       "2. 'A'\n",
       "3. 'B'\n",
       "4. 'B'\n",
       "5. 'B'\n",
       "6. 'B'\n",
       "7. 'B'\n",
       "8. 'C'\n",
       "9. 'C'\n",
       "10. 'C'\n",
       "11. 'C'\n",
       "\n",
       "\n",
       "\n",
       "2. \n",
       "| <!--/--> | col1 | col2 | col3 | \n",
       "|---|---|---|\n",
       "| 1 | 2 | 8 | 4 | \n",
       "| 2 | 0 | 4 | 1 | \n",
       "| 3 | 9 | 7 | 5 | \n",
       "\n",
       "\n",
       "\n",
       "\n",
       "\n"
      ],
      "text/plain": [
       "[[1]]\n",
       " [1] \"A\" \"A\" \"B\" \"B\" \"B\" \"B\" \"B\" \"C\" \"C\" \"C\" \"C\"\n",
       "\n",
       "[[2]]\n",
       "  col1 col2 col3\n",
       "1    2    8    4\n",
       "2    0    4    1\n",
       "3    9    7    5\n"
      ]
     },
     "metadata": {},
     "output_type": "display_data"
    }
   ],
   "source": [
    "# 3.\n",
    "\n",
    "list3 <- list(rep(c('A', 'B', 'C'), times=c(2, 5, 4)), matrix)\n",
    "list3"
   ]
  },
  {
   "cell_type": "code",
   "execution_count": 200,
   "metadata": {},
   "outputs": [
    {
     "data": {
      "text/html": [
       "<dl>\n",
       "\t<dt>$comp1</dt>\n",
       "\t\t<dd><ol class=list-inline>\n",
       "\t<li>'A'</li>\n",
       "\t<li>'A'</li>\n",
       "\t<li>'B'</li>\n",
       "\t<li>'B'</li>\n",
       "\t<li>'B'</li>\n",
       "\t<li>'B'</li>\n",
       "\t<li>'B'</li>\n",
       "\t<li>'C'</li>\n",
       "\t<li>'C'</li>\n",
       "\t<li>'C'</li>\n",
       "\t<li>'C'</li>\n",
       "</ol>\n",
       "</dd>\n",
       "\t<dt>$comp2</dt>\n",
       "\t\t<dd><table>\n",
       "<thead><tr><th></th><th scope=col>col1</th><th scope=col>col2</th><th scope=col>col3</th></tr></thead>\n",
       "<tbody>\n",
       "\t<tr><th scope=row>1</th><td>2</td><td>8</td><td>4</td></tr>\n",
       "\t<tr><th scope=row>2</th><td>0</td><td>4</td><td>1</td></tr>\n",
       "\t<tr><th scope=row>3</th><td>9</td><td>7</td><td>5</td></tr>\n",
       "</tbody>\n",
       "</table>\n",
       "</dd>\n",
       "</dl>\n"
      ],
      "text/latex": [
       "\\begin{description}\n",
       "\\item[\\$comp1] \\begin{enumerate*}\n",
       "\\item 'A'\n",
       "\\item 'A'\n",
       "\\item 'B'\n",
       "\\item 'B'\n",
       "\\item 'B'\n",
       "\\item 'B'\n",
       "\\item 'B'\n",
       "\\item 'C'\n",
       "\\item 'C'\n",
       "\\item 'C'\n",
       "\\item 'C'\n",
       "\\end{enumerate*}\n",
       "\n",
       "\\item[\\$comp2] \\begin{tabular}{r|lll}\n",
       "  & col1 & col2 & col3\\\\\n",
       "\\hline\n",
       "\t1 & 2 & 8 & 4\\\\\n",
       "\t2 & 0 & 4 & 1\\\\\n",
       "\t3 & 9 & 7 & 5\\\\\n",
       "\\end{tabular}\n",
       "\n",
       "\\end{description}\n"
      ],
      "text/markdown": [
       "$comp1\n",
       ":   1. 'A'\n",
       "2. 'A'\n",
       "3. 'B'\n",
       "4. 'B'\n",
       "5. 'B'\n",
       "6. 'B'\n",
       "7. 'B'\n",
       "8. 'C'\n",
       "9. 'C'\n",
       "10. 'C'\n",
       "11. 'C'\n",
       "\n",
       "\n",
       "\n",
       "$comp2\n",
       ":   \n",
       "| <!--/--> | col1 | col2 | col3 | \n",
       "|---|---|---|\n",
       "| 1 | 2 | 8 | 4 | \n",
       "| 2 | 0 | 4 | 1 | \n",
       "| 3 | 9 | 7 | 5 | \n",
       "\n",
       "\n",
       "\n",
       "\n",
       "\n"
      ],
      "text/plain": [
       "$comp1\n",
       " [1] \"A\" \"A\" \"B\" \"B\" \"B\" \"B\" \"B\" \"C\" \"C\" \"C\" \"C\"\n",
       "\n",
       "$comp2\n",
       "  col1 col2 col3\n",
       "1    2    8    4\n",
       "2    0    4    1\n",
       "3    9    7    5\n"
      ]
     },
     "metadata": {},
     "output_type": "display_data"
    }
   ],
   "source": [
    "# 4.\n",
    "\n",
    "names(list3) <- c('comp1', 'comp2')\n",
    "list3"
   ]
  },
  {
   "cell_type": "code",
   "execution_count": 201,
   "metadata": {},
   "outputs": [
    {
     "name": "stderr",
     "output_type": "stream",
     "text": [
      "ERROR while rich displaying an object: Error in FUN(X[[i]], ...): attempt to use zero-length variable name\n",
      "\n",
      "Traceback:\n",
      "1. FUN(X[[i]], ...)\n",
      "2. tryCatch(withCallingHandlers({\n",
      " .     rpr <- mime2repr[[mime]](obj)\n",
      " .     if (is.null(rpr)) \n",
      " .         return(NULL)\n",
      " .     prepare_content(is.raw(rpr), rpr)\n",
      " . }, error = error_handler), error = outer_handler)\n",
      "3. tryCatchList(expr, classes, parentenv, handlers)\n",
      "4. tryCatchOne(expr, names, parentenv, handlers[[1L]])\n",
      "5. doTryCatch(return(expr), name, parentenv, handler)\n",
      "6. withCallingHandlers({\n",
      " .     rpr <- mime2repr[[mime]](obj)\n",
      " .     if (is.null(rpr)) \n",
      " .         return(NULL)\n",
      " .     prepare_content(is.raw(rpr), rpr)\n",
      " . }, error = error_handler)\n",
      "7. mime2repr[[mime]](obj)\n",
      "8. repr_html.list(obj)\n",
      "9. repr_list_generic(obj, \"html\", \"\\t<li>%s</li>\\n\", \"\\t<dt>$%s</dt>\\n\\t\\t<dd>%s</dd>\\n\", \n",
      " .     \"<strong>$%s</strong> = %s\", \"<ol>\\n%s</ol>\\n\", \"<dl>\\n%s</dl>\\n\", \n",
      " .     numeric_item = \"\\t<dt>[[%s]]</dt>\\n\\t\\t<dd>%s</dd>\\n\", escape_fun = html_escape)\n",
      "10. sapply(nms, as.name, USE.NAMES = FALSE)\n",
      "11. lapply(X = X, FUN = FUN, ...)\n",
      "12. FUN(X[[i]], ...)\n",
      "ERROR while rich displaying an object: Error in FUN(X[[i]], ...): attempt to use zero-length variable name\n",
      "\n",
      "Traceback:\n",
      "1. FUN(X[[i]], ...)\n",
      "2. tryCatch(withCallingHandlers({\n",
      " .     rpr <- mime2repr[[mime]](obj)\n",
      " .     if (is.null(rpr)) \n",
      " .         return(NULL)\n",
      " .     prepare_content(is.raw(rpr), rpr)\n",
      " . }, error = error_handler), error = outer_handler)\n",
      "3. tryCatchList(expr, classes, parentenv, handlers)\n",
      "4. tryCatchOne(expr, names, parentenv, handlers[[1L]])\n",
      "5. doTryCatch(return(expr), name, parentenv, handler)\n",
      "6. withCallingHandlers({\n",
      " .     rpr <- mime2repr[[mime]](obj)\n",
      " .     if (is.null(rpr)) \n",
      " .         return(NULL)\n",
      " .     prepare_content(is.raw(rpr), rpr)\n",
      " . }, error = error_handler)\n",
      "7. mime2repr[[mime]](obj)\n",
      "8. repr_markdown.list(obj)\n",
      "9. repr_list_generic(obj, \"markdown\", \"%s. %s\\n\", \"$%s\\n:   %s\\n\", \n",
      " .     \"**$%s** = %s\", \"%s\\n\\n\", numeric_item = \"[[%s]]\\n:   %s\\n\", \n",
      " .     item_uses_numbers = TRUE, escape_fun = html_escape)\n",
      "10. sapply(nms, as.name, USE.NAMES = FALSE)\n",
      "11. lapply(X = X, FUN = FUN, ...)\n",
      "12. FUN(X[[i]], ...)\n",
      "ERROR while rich displaying an object: Error in FUN(X[[i]], ...): attempt to use zero-length variable name\n",
      "\n",
      "Traceback:\n",
      "1. FUN(X[[i]], ...)\n",
      "2. tryCatch(withCallingHandlers({\n",
      " .     rpr <- mime2repr[[mime]](obj)\n",
      " .     if (is.null(rpr)) \n",
      " .         return(NULL)\n",
      " .     prepare_content(is.raw(rpr), rpr)\n",
      " . }, error = error_handler), error = outer_handler)\n",
      "3. tryCatchList(expr, classes, parentenv, handlers)\n",
      "4. tryCatchOne(expr, names, parentenv, handlers[[1L]])\n",
      "5. doTryCatch(return(expr), name, parentenv, handler)\n",
      "6. withCallingHandlers({\n",
      " .     rpr <- mime2repr[[mime]](obj)\n",
      " .     if (is.null(rpr)) \n",
      " .         return(NULL)\n",
      " .     prepare_content(is.raw(rpr), rpr)\n",
      " . }, error = error_handler)\n",
      "7. mime2repr[[mime]](obj)\n",
      "8. repr_latex.list(obj)\n",
      "9. repr_list_generic(obj, \"latex\", \"\\\\item %s\\n\", \"\\\\item[\\\\$%s] %s\\n\", \n",
      " .     \"\\\\textbf{\\\\$%s} = %s\", enum_wrap = \"\\\\begin{enumerate}\\n%s\\\\end{enumerate}\\n\", \n",
      " .     named_wrap = \"\\\\begin{description}\\n%s\\\\end{description}\\n\", \n",
      " .     numeric_item = \"\\\\item[{[[%s]]}] %s\\n\", escape_fun = latex_escape)\n",
      "10. sapply(nms, as.name, USE.NAMES = FALSE)\n",
      "11. lapply(X = X, FUN = FUN, ...)\n",
      "12. FUN(X[[i]], ...)\n"
     ]
    },
    {
     "data": {
      "text/plain": [
       "[[1]]\n",
       "[[1]]$comp1\n",
       " [1] \"A\" \"A\" \"B\" \"B\" \"B\" \"B\" \"B\" \"C\" \"C\" \"C\" \"C\"\n",
       "\n",
       "[[1]]$comp2\n",
       "  col1 col2 col3\n",
       "1    2    8    4\n",
       "2    0    4    1\n",
       "3    9    7    5\n",
       "\n",
       "\n",
       "$fator\n",
       "[1] brava    joaquina armação \n",
       "Levels: armação brava joaquina\n"
      ]
     },
     "metadata": {},
     "output_type": "display_data"
    }
   ],
   "source": [
    "list3 <- list(list3, fator = factor(c('brava', 'joaquina', 'armação')))\n",
    "list3"
   ]
  },
  {
   "cell_type": "code",
   "execution_count": 202,
   "metadata": {},
   "outputs": [
    {
     "data": {
      "text/html": [
       "<table>\n",
       "<thead><tr><th scope=col>nome</th><th scope=col>sobrenome</th><th scope=col>animal</th><th scope=col>quantidadeAnimal</th></tr></thead>\n",
       "<tbody>\n",
       "\t<tr><td>João </td><td>Silva</td><td> TRUE</td><td>2    </td></tr>\n",
       "\t<tr><td>Maria</td><td>Sauro</td><td>FALSE</td><td>0    </td></tr>\n",
       "</tbody>\n",
       "</table>\n"
      ],
      "text/latex": [
       "\\begin{tabular}{r|llll}\n",
       " nome & sobrenome & animal & quantidadeAnimal\\\\\n",
       "\\hline\n",
       "\t João  & Silva &  TRUE & 2    \\\\\n",
       "\t Maria & Sauro & FALSE & 0    \\\\\n",
       "\\end{tabular}\n"
      ],
      "text/markdown": [
       "\n",
       "nome | sobrenome | animal | quantidadeAnimal | \n",
       "|---|---|\n",
       "| João  | Silva |  TRUE | 2     | \n",
       "| Maria | Sauro | FALSE | 0     | \n",
       "\n",
       "\n"
      ],
      "text/plain": [
       "  nome  sobrenome animal quantidadeAnimal\n",
       "1 João  Silva      TRUE  2               \n",
       "2 Maria Sauro     FALSE  0               "
      ]
     },
     "metadata": {},
     "output_type": "display_data"
    }
   ],
   "source": [
    "df <- data.frame(nome=c('João', 'Maria'),\n",
    "                 sobrenome=c('Silva', 'Sauro'),\n",
    "                 animal=c(TRUE, FALSE),\n",
    "                 quantidadeAnimal=c(2,0))\n",
    "df"
   ]
  },
  {
   "cell_type": "code",
   "execution_count": 203,
   "metadata": {},
   "outputs": [
    {
     "data": {
      "text/html": [
       "<table>\n",
       "<thead><tr><th scope=col>nome</th><th scope=col>sobrenome</th><th scope=col>animal</th><th scope=col>quantidadeAnimal</th></tr></thead>\n",
       "<tbody>\n",
       "\t<tr><td>João  </td><td>Silva </td><td> TRUE </td><td>2     </td></tr>\n",
       "\t<tr><td>Maria </td><td>Sauro </td><td>FALSE </td><td>0     </td></tr>\n",
       "\t<tr><td>José  </td><td>Santos</td><td> TRUE </td><td>5     </td></tr>\n",
       "</tbody>\n",
       "</table>\n"
      ],
      "text/latex": [
       "\\begin{tabular}{r|llll}\n",
       " nome & sobrenome & animal & quantidadeAnimal\\\\\n",
       "\\hline\n",
       "\t João   & Silva  &  TRUE  & 2     \\\\\n",
       "\t Maria  & Sauro  & FALSE  & 0     \\\\\n",
       "\t José   & Santos &  TRUE  & 5     \\\\\n",
       "\\end{tabular}\n"
      ],
      "text/markdown": [
       "\n",
       "nome | sobrenome | animal | quantidadeAnimal | \n",
       "|---|---|---|\n",
       "| João   | Silva  |  TRUE  | 2      | \n",
       "| Maria  | Sauro  | FALSE  | 0      | \n",
       "| José   | Santos |  TRUE  | 5      | \n",
       "\n",
       "\n"
      ],
      "text/plain": [
       "  nome  sobrenome animal quantidadeAnimal\n",
       "1 João  Silva      TRUE  2               \n",
       "2 Maria Sauro     FALSE  0               \n",
       "3 José  Santos     TRUE  5               "
      ]
     },
     "metadata": {},
     "output_type": "display_data"
    }
   ],
   "source": [
    "df <- rbind(df, data.frame(nome='José', sobrenome='Santos', animal=TRUE, quantidadeAnimal=5))\n",
    "df"
   ]
  },
  {
   "cell_type": "code",
   "execution_count": 204,
   "metadata": {},
   "outputs": [
    {
     "data": {
      "text/html": [
       "<table>\n",
       "<thead><tr><th scope=col>nome</th><th scope=col>sobrenome</th><th scope=col>animal</th><th scope=col>quantidadeAnimal</th><th scope=col>time</th></tr></thead>\n",
       "<tbody>\n",
       "\t<tr><td>João     </td><td>Silva    </td><td> TRUE    </td><td>2        </td><td>Inter    </td></tr>\n",
       "\t<tr><td>Maria    </td><td>Sauro    </td><td>FALSE    </td><td>0        </td><td>Grêmio   </td></tr>\n",
       "\t<tr><td>José     </td><td>Santos   </td><td> TRUE    </td><td>5        </td><td>Juventude</td></tr>\n",
       "</tbody>\n",
       "</table>\n"
      ],
      "text/latex": [
       "\\begin{tabular}{r|lllll}\n",
       " nome & sobrenome & animal & quantidadeAnimal & time\\\\\n",
       "\\hline\n",
       "\t João      & Silva     &  TRUE     & 2         & Inter    \\\\\n",
       "\t Maria     & Sauro     & FALSE     & 0         & Grêmio   \\\\\n",
       "\t José      & Santos    &  TRUE     & 5         & Juventude\\\\\n",
       "\\end{tabular}\n"
      ],
      "text/markdown": [
       "\n",
       "nome | sobrenome | animal | quantidadeAnimal | time | \n",
       "|---|---|---|\n",
       "| João      | Silva     |  TRUE     | 2         | Inter     | \n",
       "| Maria     | Sauro     | FALSE     | 0         | Grêmio    | \n",
       "| José      | Santos    |  TRUE     | 5         | Juventude | \n",
       "\n",
       "\n"
      ],
      "text/plain": [
       "  nome  sobrenome animal quantidadeAnimal time     \n",
       "1 João  Silva      TRUE  2                Inter    \n",
       "2 Maria Sauro     FALSE  0                Grêmio   \n",
       "3 José  Santos     TRUE  5                Juventude"
      ]
     },
     "metadata": {},
     "output_type": "display_data"
    }
   ],
   "source": [
    "df <- cbind(df, data.frame(time=c('Inter', 'Grêmio', 'Juventude')))\n",
    "df"
   ]
  },
  {
   "cell_type": "markdown",
   "metadata": {},
   "source": [
    "# 8. Object-oriented programming"
   ]
  },
  {
   "cell_type": "code",
   "execution_count": 205,
   "metadata": {},
   "outputs": [
    {
     "data": {
      "text/plain": [
       "[1] mean.Date     mean.default  mean.difftime mean.POSIXct  mean.POSIXlt \n",
       "see '?methods' for accessing help and source code"
      ]
     },
     "metadata": {},
     "output_type": "display_data"
    }
   ],
   "source": [
    "methods(mean)"
   ]
  },
  {
   "cell_type": "code",
   "execution_count": 206,
   "metadata": {},
   "outputs": [
    {
     "data": {
      "text/html": [
       "'numeric'"
      ],
      "text/latex": [
       "'numeric'"
      ],
      "text/markdown": [
       "'numeric'"
      ],
      "text/plain": [
       "[1] \"numeric\""
      ]
     },
     "metadata": {},
     "output_type": "display_data"
    }
   ],
   "source": [
    "set.seed(42)\n",
    "vec <- rnorm(100)\n",
    "class(vec)"
   ]
  },
  {
   "cell_type": "code",
   "execution_count": 207,
   "metadata": {},
   "outputs": [
    {
     "data": {
      "text/html": [
       "0.0325148156130118"
      ],
      "text/latex": [
       "0.0325148156130118"
      ],
      "text/markdown": [
       "0.0325148156130118"
      ],
      "text/plain": [
       "[1] 0.03251482"
      ]
     },
     "metadata": {},
     "output_type": "display_data"
    }
   ],
   "source": [
    "mean(vec)"
   ]
  },
  {
   "cell_type": "markdown",
   "metadata": {},
   "source": [
    "There is a specific method defined to the numeric class, which is the mean.default. The generic function is the `mean()` and the method function is the `mean.default()`"
   ]
  },
  {
   "cell_type": "code",
   "execution_count": 208,
   "metadata": {},
   "outputs": [
    {
     "data": {
      "text/html": [
       "0.0325148156130118"
      ],
      "text/latex": [
       "0.0325148156130118"
      ],
      "text/markdown": [
       "0.0325148156130118"
      ],
      "text/plain": [
       "[1] 0.03251482"
      ]
     },
     "metadata": {},
     "output_type": "display_data"
    }
   ],
   "source": [
    "mean.default(vec)"
   ]
  },
  {
   "cell_type": "code",
   "execution_count": 209,
   "metadata": {},
   "outputs": [
    {
     "data": {
      "text/html": [
       "<time datetime=\"1970-01-01\">1970-01-01</time>"
      ],
      "text/latex": [
       "1970-01-01"
      ],
      "text/markdown": [
       "1970-01-01"
      ],
      "text/plain": [
       "[1] \"1970-01-01\""
      ]
     },
     "metadata": {},
     "output_type": "display_data"
    }
   ],
   "source": [
    "# we could force other method\n",
    "\n",
    "mean.Date(vec)"
   ]
  },
  {
   "cell_type": "code",
   "execution_count": 210,
   "metadata": {},
   "outputs": [
    {
     "data": {
      "text/html": [
       "<pre class=language-r><code>function (x, ...) \n",
       "UseMethod(\"mean\")</code></pre>"
      ],
      "text/latex": [
       "\\begin{minted}{r}\n",
       "function (x, ...) \n",
       "UseMethod(\"mean\")\n",
       "\\end{minted}"
      ],
      "text/markdown": [
       "```r\n",
       "function (x, ...) \n",
       "UseMethod(\"mean\")\n",
       "```"
      ],
      "text/plain": [
       "function (x, ...) \n",
       "UseMethod(\"mean\")\n",
       "<bytecode: 0x556056cc5c18>\n",
       "<environment: namespace:base>"
      ]
     },
     "metadata": {},
     "output_type": "display_data"
    }
   ],
   "source": [
    "mean"
   ]
  },
  {
   "cell_type": "code",
   "execution_count": 211,
   "metadata": {},
   "outputs": [
    {
     "data": {
      "text/html": [
       "<pre class=language-r><code>function (x, trim = 0, na.rm = FALSE, ...) \n",
       "{\n",
       "<span style=white-space:pre-wrap>    if (!is.numeric(x) &amp;&amp; !is.complex(x) &amp;&amp; !is.logical(x)) {</span>\n",
       "<span style=white-space:pre-wrap>        warning(\"argument is not numeric or logical: returning NA\")</span>\n",
       "<span style=white-space:pre-wrap>        return(NA_real_)</span>\n",
       "<span style=white-space:pre-wrap>    }</span>\n",
       "<span style=white-space:pre-wrap>    if (na.rm) </span>\n",
       "<span style=white-space:pre-wrap>        x &lt;- x[!is.na(x)]</span>\n",
       "<span style=white-space:pre-wrap>    if (!is.numeric(trim) || length(trim) != 1L) </span>\n",
       "<span style=white-space:pre-wrap>        stop(\"'trim' must be numeric of length one\")</span>\n",
       "<span style=white-space:pre-wrap>    n &lt;- length(x)</span>\n",
       "<span style=white-space:pre-wrap>    if (trim &gt; 0 &amp;&amp; n) {</span>\n",
       "<span style=white-space:pre-wrap>        if (is.complex(x)) </span>\n",
       "<span style=white-space:pre-wrap>            stop(\"trimmed means are not defined for complex data\")</span>\n",
       "<span style=white-space:pre-wrap>        if (anyNA(x)) </span>\n",
       "<span style=white-space:pre-wrap>            return(NA_real_)</span>\n",
       "<span style=white-space:pre-wrap>        if (trim &gt;= 0.5) </span>\n",
       "<span style=white-space:pre-wrap>            return(stats::median(x, na.rm = FALSE))</span>\n",
       "<span style=white-space:pre-wrap>        lo &lt;- floor(n * trim) + 1</span>\n",
       "<span style=white-space:pre-wrap>        hi &lt;- n + 1 - lo</span>\n",
       "<span style=white-space:pre-wrap>        x &lt;- sort.int(x, partial = unique(c(lo, hi)))[lo:hi]</span>\n",
       "<span style=white-space:pre-wrap>    }</span>\n",
       "<span style=white-space:pre-wrap>    .Internal(mean(x))</span>\n",
       "}</code></pre>"
      ],
      "text/latex": [
       "\\begin{minted}{r}\n",
       "function (x, trim = 0, na.rm = FALSE, ...) \n",
       "\\{\n",
       "    if (!is.numeric(x) \\&\\& !is.complex(x) \\&\\& !is.logical(x)) \\{\n",
       "        warning(\"argument is not numeric or logical: returning NA\")\n",
       "        return(NA\\_real\\_)\n",
       "    \\}\n",
       "    if (na.rm) \n",
       "        x <- x{[}!is.na(x){]}\n",
       "    if (!is.numeric(trim) \\textbar{}\\textbar{} length(trim) != 1L) \n",
       "        stop(\"'trim' must be numeric of length one\")\n",
       "    n <- length(x)\n",
       "    if (trim > 0 \\&\\& n) \\{\n",
       "        if (is.complex(x)) \n",
       "            stop(\"trimmed means are not defined for complex data\")\n",
       "        if (anyNA(x)) \n",
       "            return(NA\\_real\\_)\n",
       "        if (trim >= 0.5) \n",
       "            return(stats::median(x, na.rm = FALSE))\n",
       "        lo <- floor(n * trim) + 1\n",
       "        hi <- n + 1 - lo\n",
       "        x <- sort.int(x, partial = unique(c(lo, hi))){[}lo:hi{]}\n",
       "    \\}\n",
       "    .Internal(mean(x))\n",
       "\\}\n",
       "\\end{minted}"
      ],
      "text/markdown": [
       "```r\n",
       "function (x, trim = 0, na.rm = FALSE, ...) \n",
       "{\n",
       "    if (!is.numeric(x) && !is.complex(x) && !is.logical(x)) {\n",
       "        warning(\"argument is not numeric or logical: returning NA\")\n",
       "        return(NA_real_)\n",
       "    }\n",
       "    if (na.rm) \n",
       "        x <- x[!is.na(x)]\n",
       "    if (!is.numeric(trim) || length(trim) != 1L) \n",
       "        stop(\"'trim' must be numeric of length one\")\n",
       "    n <- length(x)\n",
       "    if (trim > 0 && n) {\n",
       "        if (is.complex(x)) \n",
       "            stop(\"trimmed means are not defined for complex data\")\n",
       "        if (anyNA(x)) \n",
       "            return(NA_real_)\n",
       "        if (trim >= 0.5) \n",
       "            return(stats::median(x, na.rm = FALSE))\n",
       "        lo <- floor(n * trim) + 1\n",
       "        hi <- n + 1 - lo\n",
       "        x <- sort.int(x, partial = unique(c(lo, hi)))[lo:hi]\n",
       "    }\n",
       "    .Internal(mean(x))\n",
       "}\n",
       "```"
      ],
      "text/plain": [
       "function (x, trim = 0, na.rm = FALSE, ...) \n",
       "{\n",
       "    if (!is.numeric(x) && !is.complex(x) && !is.logical(x)) {\n",
       "        warning(\"argument is not numeric or logical: returning NA\")\n",
       "        return(NA_real_)\n",
       "    }\n",
       "    if (na.rm) \n",
       "        x <- x[!is.na(x)]\n",
       "    if (!is.numeric(trim) || length(trim) != 1L) \n",
       "        stop(\"'trim' must be numeric of length one\")\n",
       "    n <- length(x)\n",
       "    if (trim > 0 && n) {\n",
       "        if (is.complex(x)) \n",
       "            stop(\"trimmed means are not defined for complex data\")\n",
       "        if (anyNA(x)) \n",
       "            return(NA_real_)\n",
       "        if (trim >= 0.5) \n",
       "            return(stats::median(x, na.rm = FALSE))\n",
       "        lo <- floor(n * trim) + 1\n",
       "        hi <- n + 1 - lo\n",
       "        x <- sort.int(x, partial = unique(c(lo, hi)))[lo:hi]\n",
       "    }\n",
       "    .Internal(mean(x))\n",
       "}\n",
       "<bytecode: 0x556056c59880>\n",
       "<environment: namespace:base>"
      ]
     },
     "metadata": {},
     "output_type": "display_data"
    }
   ],
   "source": [
    "mean.default"
   ]
  },
  {
   "cell_type": "code",
   "execution_count": 212,
   "metadata": {},
   "outputs": [
    {
     "data": {
      "text/html": [
       "-0.151251088787034"
      ],
      "text/latex": [
       "-0.151251088787034"
      ],
      "text/markdown": [
       "-0.151251088787034"
      ],
      "text/plain": [
       "[1] -0.1512511"
      ]
     },
     "metadata": {},
     "output_type": "display_data"
    }
   ],
   "source": [
    "# suppose we want the row mean\n",
    "\n",
    "mat <- matrix(rnorm(50), nrow=5)\n",
    "mean(mat)\n",
    "# not what we want"
   ]
  },
  {
   "cell_type": "code",
   "execution_count": 213,
   "metadata": {},
   "outputs": [],
   "source": [
    "# we could define a custom function for that\n",
    "\n",
    "mean.matrix <- function(x, ...) rowMeans(x)"
   ]
  },
  {
   "cell_type": "code",
   "execution_count": 214,
   "metadata": {},
   "outputs": [
    {
     "data": {
      "text/plain": [
       "[1] mean.Date     mean.default  mean.difftime mean.matrix   mean.POSIXct \n",
       "[6] mean.POSIXlt \n",
       "see '?methods' for accessing help and source code"
      ]
     },
     "metadata": {},
     "output_type": "display_data"
    }
   ],
   "source": [
    "methods(mean)"
   ]
  },
  {
   "cell_type": "code",
   "execution_count": 215,
   "metadata": {},
   "outputs": [
    {
     "data": {
      "text/html": [
       "'matrix'"
      ],
      "text/latex": [
       "'matrix'"
      ],
      "text/markdown": [
       "'matrix'"
      ],
      "text/plain": [
       "[1] \"matrix\""
      ]
     },
     "metadata": {},
     "output_type": "display_data"
    }
   ],
   "source": [
    "class(mat)"
   ]
  },
  {
   "cell_type": "code",
   "execution_count": 216,
   "metadata": {},
   "outputs": [
    {
     "data": {
      "text/html": [
       "<ol class=list-inline>\n",
       "\t<li>-0.0525045487279936</li>\n",
       "\t<li>-0.384505844588726</li>\n",
       "\t<li>-0.0485370266019205</li>\n",
       "\t<li>-0.0730467750669871</li>\n",
       "\t<li>-0.197661248949542</li>\n",
       "</ol>\n"
      ],
      "text/latex": [
       "\\begin{enumerate*}\n",
       "\\item -0.0525045487279936\n",
       "\\item -0.384505844588726\n",
       "\\item -0.0485370266019205\n",
       "\\item -0.0730467750669871\n",
       "\\item -0.197661248949542\n",
       "\\end{enumerate*}\n"
      ],
      "text/markdown": [
       "1. -0.0525045487279936\n",
       "2. -0.384505844588726\n",
       "3. -0.0485370266019205\n",
       "4. -0.0730467750669871\n",
       "5. -0.197661248949542\n",
       "\n",
       "\n"
      ],
      "text/plain": [
       "[1] -0.05250455 -0.38450584 -0.04853703 -0.07304678 -0.19766125"
      ]
     },
     "metadata": {},
     "output_type": "display_data"
    }
   ],
   "source": [
    "mean(mat)"
   ]
  },
  {
   "cell_type": "markdown",
   "metadata": {},
   "source": [
    "We could do the same for other classes, such as dataframes, lists etc."
   ]
  }
 ],
 "metadata": {
  "kernelspec": {
   "display_name": "R",
   "language": "R",
   "name": "ir"
  },
  "language_info": {
   "codemirror_mode": "r",
   "file_extension": ".r",
   "mimetype": "text/x-r-source",
   "name": "R",
   "pygments_lexer": "r",
   "version": "3.4.4"
  }
 },
 "nbformat": 4,
 "nbformat_minor": 2
}
