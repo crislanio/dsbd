{
 "cells": [
  {
   "cell_type": "markdown",
   "metadata": {},
   "source": [
    "# 1. Imports"
   ]
  },
  {
   "cell_type": "code",
   "execution_count": 21,
   "metadata": {},
   "outputs": [
    {
     "ename": "ERROR",
     "evalue": "Error in library(rgdal): there is no package called ‘rgdal’\n",
     "output_type": "error",
     "traceback": [
      "Error in library(rgdal): there is no package called ‘rgdal’\nTraceback:\n",
      "1. library(rgdal)",
      "2. stop(txt, domain = NA)"
     ]
    }
   ],
   "source": [
    "library(foreign) # para importar a base .dbf\n",
    "library(rgdal)"
   ]
  },
  {
   "cell_type": "markdown",
   "metadata": {},
   "source": [
    "# 2. Importing the data.frames"
   ]
  },
  {
   "cell_type": "code",
   "execution_count": 8,
   "metadata": {},
   "outputs": [],
   "source": [
    "load('2018_04_28_data1_pesourbgradrend.RData')\n",
    "dbf_data <- read.dbf('2018_04_28_data2_RDPR1509.dbf', as.is = FALSE)"
   ]
  },
  {
   "cell_type": "code",
   "execution_count": 9,
   "metadata": {},
   "outputs": [
    {
     "data": {
      "text/html": [
       "<ol class=list-inline>\n",
       "\t<li>'dbf_data'</li>\n",
       "\t<li>'res'</li>\n",
       "</ol>\n"
      ],
      "text/latex": [
       "\\begin{enumerate*}\n",
       "\\item 'dbf\\_data'\n",
       "\\item 'res'\n",
       "\\end{enumerate*}\n"
      ],
      "text/markdown": [
       "1. 'dbf_data'\n",
       "2. 'res'\n",
       "\n",
       "\n"
      ],
      "text/plain": [
       "[1] \"dbf_data\" \"res\"     "
      ]
     },
     "metadata": {},
     "output_type": "display_data"
    }
   ],
   "source": [
    "ls()"
   ]
  },
  {
   "cell_type": "code",
   "execution_count": 15,
   "metadata": {},
   "outputs": [
    {
     "name": "stdout",
     "output_type": "stream",
     "text": [
      "[1] \"Paraná:\"\n"
     ]
    },
    {
     "data": {
      "text/html": [
       "<table>\n",
       "<thead><tr><th scope=col>mun</th><th scope=col>peso</th><th scope=col>urb</th><th scope=col>grad</th><th scope=col>rend</th><th scope=col>rendt</th></tr></thead>\n",
       "<tbody>\n",
       "\t<tr><td>4100103 </td><td>3.070993</td><td>1       </td><td>NA      </td><td>510     </td><td>   0    </td></tr>\n",
       "\t<tr><td>4100103 </td><td>3.070993</td><td>1       </td><td>NA      </td><td> NA     </td><td> 510    </td></tr>\n",
       "\t<tr><td>4100103 </td><td>3.070993</td><td>1       </td><td>NA      </td><td> NA     </td><td> 510    </td></tr>\n",
       "\t<tr><td>4100103 </td><td>3.153293</td><td>1       </td><td>NA      </td><td> NA     </td><td>1200    </td></tr>\n",
       "\t<tr><td>4100103 </td><td>2.374362</td><td>1       </td><td>NA      </td><td> NA     </td><td>  NA    </td></tr>\n",
       "\t<tr><td>4100103 </td><td>2.374362</td><td>1       </td><td>NA      </td><td>600     </td><td>   0    </td></tr>\n",
       "</tbody>\n",
       "</table>\n"
      ],
      "text/latex": [
       "\\begin{tabular}{r|llllll}\n",
       " mun & peso & urb & grad & rend & rendt\\\\\n",
       "\\hline\n",
       "\t 4100103  & 3.070993 & 1        & NA       & 510      &    0    \\\\\n",
       "\t 4100103  & 3.070993 & 1        & NA       &  NA      &  510    \\\\\n",
       "\t 4100103  & 3.070993 & 1        & NA       &  NA      &  510    \\\\\n",
       "\t 4100103  & 3.153293 & 1        & NA       &  NA      & 1200    \\\\\n",
       "\t 4100103  & 2.374362 & 1        & NA       &  NA      &   NA    \\\\\n",
       "\t 4100103  & 2.374362 & 1        & NA       & 600      &    0    \\\\\n",
       "\\end{tabular}\n"
      ],
      "text/markdown": [
       "\n",
       "mun | peso | urb | grad | rend | rendt | \n",
       "|---|---|---|---|---|---|\n",
       "| 4100103  | 3.070993 | 1        | NA       | 510      |    0     | \n",
       "| 4100103  | 3.070993 | 1        | NA       |  NA      |  510     | \n",
       "| 4100103  | 3.070993 | 1        | NA       |  NA      |  510     | \n",
       "| 4100103  | 3.153293 | 1        | NA       |  NA      | 1200     | \n",
       "| 4100103  | 2.374362 | 1        | NA       |  NA      |   NA     | \n",
       "| 4100103  | 2.374362 | 1        | NA       | 600      |    0     | \n",
       "\n",
       "\n"
      ],
      "text/plain": [
       "  mun     peso     urb grad rend rendt\n",
       "1 4100103 3.070993 1   NA   510     0 \n",
       "2 4100103 3.070993 1   NA    NA   510 \n",
       "3 4100103 3.070993 1   NA    NA   510 \n",
       "4 4100103 3.153293 1   NA    NA  1200 \n",
       "5 4100103 2.374362 1   NA    NA    NA \n",
       "6 4100103 2.374362 1   NA   600     0 "
      ]
     },
     "metadata": {},
     "output_type": "display_data"
    },
    {
     "name": "stdout",
     "output_type": "stream",
     "text": [
      "[1] \"Rio de Janeiro:\"\n"
     ]
    },
    {
     "data": {
      "text/html": [
       "<table>\n",
       "<thead><tr><th scope=col>mun</th><th scope=col>peso</th><th scope=col>urb</th><th scope=col>grad</th><th scope=col>rend</th><th scope=col>rendt</th></tr></thead>\n",
       "<tbody>\n",
       "\t<tr><td>3300100 </td><td>10.72009</td><td>1       </td><td>NA      </td><td>  NA    </td><td>2200    </td></tr>\n",
       "\t<tr><td>3300100 </td><td>10.72009</td><td>1       </td><td>NA      </td><td>  NA    </td><td> 600    </td></tr>\n",
       "\t<tr><td>3300100 </td><td>19.01061</td><td>2       </td><td>NA      </td><td>1000    </td><td>   0    </td></tr>\n",
       "\t<tr><td>3300100 </td><td>19.01061</td><td>2       </td><td>NA      </td><td>  NA    </td><td>   0    </td></tr>\n",
       "\t<tr><td>3300100 </td><td>19.01061</td><td>2       </td><td>NA      </td><td> 800    </td><td>   0    </td></tr>\n",
       "\t<tr><td>3300100 </td><td>19.01061</td><td>2       </td><td>NA      </td><td> 600    </td><td>   0    </td></tr>\n",
       "</tbody>\n",
       "</table>\n"
      ],
      "text/latex": [
       "\\begin{tabular}{r|llllll}\n",
       " mun & peso & urb & grad & rend & rendt\\\\\n",
       "\\hline\n",
       "\t 3300100  & 10.72009 & 1        & NA       &   NA     & 2200    \\\\\n",
       "\t 3300100  & 10.72009 & 1        & NA       &   NA     &  600    \\\\\n",
       "\t 3300100  & 19.01061 & 2        & NA       & 1000     &    0    \\\\\n",
       "\t 3300100  & 19.01061 & 2        & NA       &   NA     &    0    \\\\\n",
       "\t 3300100  & 19.01061 & 2        & NA       &  800     &    0    \\\\\n",
       "\t 3300100  & 19.01061 & 2        & NA       &  600     &    0    \\\\\n",
       "\\end{tabular}\n"
      ],
      "text/markdown": [
       "\n",
       "mun | peso | urb | grad | rend | rendt | \n",
       "|---|---|---|---|---|---|\n",
       "| 3300100  | 10.72009 | 1        | NA       |   NA     | 2200     | \n",
       "| 3300100  | 10.72009 | 1        | NA       |   NA     |  600     | \n",
       "| 3300100  | 19.01061 | 2        | NA       | 1000     |    0     | \n",
       "| 3300100  | 19.01061 | 2        | NA       |   NA     |    0     | \n",
       "| 3300100  | 19.01061 | 2        | NA       |  800     |    0     | \n",
       "| 3300100  | 19.01061 | 2        | NA       |  600     |    0     | \n",
       "\n",
       "\n"
      ],
      "text/plain": [
       "  mun     peso     urb grad rend rendt\n",
       "1 3300100 10.72009 1   NA     NA 2200 \n",
       "2 3300100 10.72009 1   NA     NA  600 \n",
       "3 3300100 19.01061 2   NA   1000    0 \n",
       "4 3300100 19.01061 2   NA     NA    0 \n",
       "5 3300100 19.01061 2   NA    800    0 \n",
       "6 3300100 19.01061 2   NA    600    0 "
      ]
     },
     "metadata": {},
     "output_type": "display_data"
    }
   ],
   "source": [
    "print('Paraná:'); head(res$PR); print('Rio de Janeiro:'); head(res$RJ)"
   ]
  },
  {
   "cell_type": "code",
   "execution_count": 16,
   "metadata": {},
   "outputs": [
    {
     "data": {
      "text/html": [
       "<table>\n",
       "<thead><tr><th scope=col>UF_ZI</th><th scope=col>ANO_CMPT</th><th scope=col>MES_CMPT</th><th scope=col>ESPEC</th><th scope=col>CGC_HOSP</th><th scope=col>N_AIH</th><th scope=col>IDENT</th><th scope=col>CEP</th><th scope=col>MUNIC_RES</th><th scope=col>NASC</th><th scope=col>⋯</th><th scope=col>DIAGSEC9</th><th scope=col>TPDISEC1</th><th scope=col>TPDISEC2</th><th scope=col>TPDISEC3</th><th scope=col>TPDISEC4</th><th scope=col>TPDISEC5</th><th scope=col>TPDISEC6</th><th scope=col>TPDISEC7</th><th scope=col>TPDISEC8</th><th scope=col>TPDISEC9</th></tr></thead>\n",
       "<tbody>\n",
       "\t<tr><td>410000        </td><td>2015          </td><td>09            </td><td>03            </td><td>04169712000190</td><td>4115108043563 </td><td>1             </td><td>86705667      </td><td>410150        </td><td>19430312      </td><td>⋯             </td><td>NA            </td><td>0             </td><td>0             </td><td>0             </td><td>0             </td><td>0             </td><td>0             </td><td>0             </td><td>0             </td><td>0             </td></tr>\n",
       "\t<tr><td>410000        </td><td>2015          </td><td>09            </td><td>03            </td><td>04169712000190</td><td>4115108043574 </td><td>1             </td><td>86709546      </td><td>410150        </td><td>19620322      </td><td>⋯             </td><td>NA            </td><td>0             </td><td>0             </td><td>0             </td><td>0             </td><td>0             </td><td>0             </td><td>0             </td><td>0             </td><td>0             </td></tr>\n",
       "\t<tr><td>410000        </td><td>2015          </td><td>09            </td><td>03            </td><td>04169712000190</td><td>4115108043585 </td><td>1             </td><td>86707440      </td><td>410150        </td><td>19920914      </td><td>⋯             </td><td>NA            </td><td>1             </td><td>0             </td><td>0             </td><td>0             </td><td>0             </td><td>0             </td><td>0             </td><td>0             </td><td>0             </td></tr>\n",
       "\t<tr><td>410000        </td><td>2015          </td><td>09            </td><td>03            </td><td>04169712000190</td><td>4115108043596 </td><td>1             </td><td>86702765      </td><td>410150        </td><td>19410725      </td><td>⋯             </td><td>NA            </td><td>0             </td><td>0             </td><td>0             </td><td>0             </td><td>0             </td><td>0             </td><td>0             </td><td>0             </td><td>0             </td></tr>\n",
       "\t<tr><td>410000        </td><td>2015          </td><td>09            </td><td>03            </td><td>04169712000190</td><td>4115108043607 </td><td>1             </td><td>86709290      </td><td>410150        </td><td>19400125      </td><td>⋯             </td><td>NA            </td><td>0             </td><td>0             </td><td>0             </td><td>0             </td><td>0             </td><td>0             </td><td>0             </td><td>0             </td><td>0             </td></tr>\n",
       "\t<tr><td>410000        </td><td>2015          </td><td>09            </td><td>03            </td><td>04169712000190</td><td>4115108043618 </td><td>1             </td><td>86708080      </td><td>410150        </td><td>19560122      </td><td>⋯             </td><td>NA            </td><td>0             </td><td>0             </td><td>0             </td><td>0             </td><td>0             </td><td>0             </td><td>0             </td><td>0             </td><td>0             </td></tr>\n",
       "</tbody>\n",
       "</table>\n"
      ],
      "text/latex": [
       "\\begin{tabular}{r|lllllllllllllllllllllllllllllllllllllllllllllllllllllllllllllllllllllllllllllllllllllllllllllllllllllllllllllllll}\n",
       " UF\\_ZI & ANO\\_CMPT & MES\\_CMPT & ESPEC & CGC\\_HOSP & N\\_AIH & IDENT & CEP & MUNIC\\_RES & NASC & ⋯ & DIAGSEC9 & TPDISEC1 & TPDISEC2 & TPDISEC3 & TPDISEC4 & TPDISEC5 & TPDISEC6 & TPDISEC7 & TPDISEC8 & TPDISEC9\\\\\n",
       "\\hline\n",
       "\t 410000         & 2015           & 09             & 03             & 04169712000190 & 4115108043563  & 1              & 86705667       & 410150         & 19430312       & ⋯              & NA             & 0              & 0              & 0              & 0              & 0              & 0              & 0              & 0              & 0             \\\\\n",
       "\t 410000         & 2015           & 09             & 03             & 04169712000190 & 4115108043574  & 1              & 86709546       & 410150         & 19620322       & ⋯              & NA             & 0              & 0              & 0              & 0              & 0              & 0              & 0              & 0              & 0             \\\\\n",
       "\t 410000         & 2015           & 09             & 03             & 04169712000190 & 4115108043585  & 1              & 86707440       & 410150         & 19920914       & ⋯              & NA             & 1              & 0              & 0              & 0              & 0              & 0              & 0              & 0              & 0             \\\\\n",
       "\t 410000         & 2015           & 09             & 03             & 04169712000190 & 4115108043596  & 1              & 86702765       & 410150         & 19410725       & ⋯              & NA             & 0              & 0              & 0              & 0              & 0              & 0              & 0              & 0              & 0             \\\\\n",
       "\t 410000         & 2015           & 09             & 03             & 04169712000190 & 4115108043607  & 1              & 86709290       & 410150         & 19400125       & ⋯              & NA             & 0              & 0              & 0              & 0              & 0              & 0              & 0              & 0              & 0             \\\\\n",
       "\t 410000         & 2015           & 09             & 03             & 04169712000190 & 4115108043618  & 1              & 86708080       & 410150         & 19560122       & ⋯              & NA             & 0              & 0              & 0              & 0              & 0              & 0              & 0              & 0              & 0             \\\\\n",
       "\\end{tabular}\n"
      ],
      "text/markdown": [
       "\n",
       "UF_ZI | ANO_CMPT | MES_CMPT | ESPEC | CGC_HOSP | N_AIH | IDENT | CEP | MUNIC_RES | NASC | ⋯ | DIAGSEC9 | TPDISEC1 | TPDISEC2 | TPDISEC3 | TPDISEC4 | TPDISEC5 | TPDISEC6 | TPDISEC7 | TPDISEC8 | TPDISEC9 | \n",
       "|---|---|---|---|---|---|\n",
       "| 410000         | 2015           | 09             | 03             | 04169712000190 | 4115108043563  | 1              | 86705667       | 410150         | 19430312       | ⋯              | NA             | 0              | 0              | 0              | 0              | 0              | 0              | 0              | 0              | 0              | \n",
       "| 410000         | 2015           | 09             | 03             | 04169712000190 | 4115108043574  | 1              | 86709546       | 410150         | 19620322       | ⋯              | NA             | 0              | 0              | 0              | 0              | 0              | 0              | 0              | 0              | 0              | \n",
       "| 410000         | 2015           | 09             | 03             | 04169712000190 | 4115108043585  | 1              | 86707440       | 410150         | 19920914       | ⋯              | NA             | 1              | 0              | 0              | 0              | 0              | 0              | 0              | 0              | 0              | \n",
       "| 410000         | 2015           | 09             | 03             | 04169712000190 | 4115108043596  | 1              | 86702765       | 410150         | 19410725       | ⋯              | NA             | 0              | 0              | 0              | 0              | 0              | 0              | 0              | 0              | 0              | \n",
       "| 410000         | 2015           | 09             | 03             | 04169712000190 | 4115108043607  | 1              | 86709290       | 410150         | 19400125       | ⋯              | NA             | 0              | 0              | 0              | 0              | 0              | 0              | 0              | 0              | 0              | \n",
       "| 410000         | 2015           | 09             | 03             | 04169712000190 | 4115108043618  | 1              | 86708080       | 410150         | 19560122       | ⋯              | NA             | 0              | 0              | 0              | 0              | 0              | 0              | 0              | 0              | 0              | \n",
       "\n",
       "\n"
      ],
      "text/plain": [
       "  UF_ZI  ANO_CMPT MES_CMPT ESPEC CGC_HOSP       N_AIH         IDENT CEP     \n",
       "1 410000 2015     09       03    04169712000190 4115108043563 1     86705667\n",
       "2 410000 2015     09       03    04169712000190 4115108043574 1     86709546\n",
       "3 410000 2015     09       03    04169712000190 4115108043585 1     86707440\n",
       "4 410000 2015     09       03    04169712000190 4115108043596 1     86702765\n",
       "5 410000 2015     09       03    04169712000190 4115108043607 1     86709290\n",
       "6 410000 2015     09       03    04169712000190 4115108043618 1     86708080\n",
       "  MUNIC_RES NASC     ⋯ DIAGSEC9 TPDISEC1 TPDISEC2 TPDISEC3 TPDISEC4 TPDISEC5\n",
       "1 410150    19430312 ⋯ NA       0        0        0        0        0       \n",
       "2 410150    19620322 ⋯ NA       0        0        0        0        0       \n",
       "3 410150    19920914 ⋯ NA       1        0        0        0        0       \n",
       "4 410150    19410725 ⋯ NA       0        0        0        0        0       \n",
       "5 410150    19400125 ⋯ NA       0        0        0        0        0       \n",
       "6 410150    19560122 ⋯ NA       0        0        0        0        0       \n",
       "  TPDISEC6 TPDISEC7 TPDISEC8 TPDISEC9\n",
       "1 0        0        0        0       \n",
       "2 0        0        0        0       \n",
       "3 0        0        0        0       \n",
       "4 0        0        0        0       \n",
       "5 0        0        0        0       \n",
       "6 0        0        0        0       "
      ]
     },
     "metadata": {},
     "output_type": "display_data"
    }
   ],
   "source": [
    "head(dbf_data)"
   ]
  },
  {
   "cell_type": "markdown",
   "metadata": {},
   "source": [
    "# 3. Shape files\n",
    "\n",
    "1. Go to the IBGE [website](https://downloads.ibge.gov.br/downloads_geociencias.htm)\n",
    "2. \"malhas territoriais\" --> \"malhas municipais\" --> \"municipio_2016\" --> \"UFs\" --> Choose either \"PR\" or \"RJ\" --> Choose either \"pr_municipio.zip\" or \"rj_municipio.zip\". Or if you are on Linux, in the terminal simply run: `wget http://servicodados.ibge.gov.br/Download/Download.ashx?u=geoftp.ibge.gov.br/organizacao_do_territorio/malhas_territoriais/malhas_municipais/municipio_2016/UFs/RJ/rj_municipios.zip` to download the `.zip` to the `$HOME`"
   ]
  },
  {
   "cell_type": "code",
   "execution_count": 17,
   "metadata": {},
   "outputs": [
    {
     "ename": "ERROR",
     "evalue": "Error in readOGR(): could not find function \"readOGR\"\n",
     "output_type": "error",
     "traceback": [
      "Error in readOGR(): could not find function \"readOGR\"\nTraceback:\n"
     ]
    }
   ],
   "source": [
    "readOGR()"
   ]
  }
 ],
 "metadata": {
  "kernelspec": {
   "display_name": "R",
   "language": "R",
   "name": "ir"
  },
  "language_info": {
   "codemirror_mode": "r",
   "file_extension": ".r",
   "mimetype": "text/x-r-source",
   "name": "R",
   "pygments_lexer": "r",
   "version": "3.4.4"
  }
 },
 "nbformat": 4,
 "nbformat_minor": 2
}
