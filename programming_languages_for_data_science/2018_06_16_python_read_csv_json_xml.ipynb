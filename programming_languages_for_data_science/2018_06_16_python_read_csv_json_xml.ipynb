{
 "cells": [
  {
   "cell_type": "code",
   "execution_count": 1,
   "metadata": {},
   "outputs": [],
   "source": [
    "import os\n",
    "import csv\n",
    "import json\n",
    "import requests"
   ]
  },
  {
   "cell_type": "code",
   "execution_count": 28,
   "metadata": {},
   "outputs": [
    {
     "name": "stdout",
     "output_type": "stream",
     "text": [
      "2018_04_28_evaluation_data_and_maps.html\n",
      "class\n",
      "2018_05_19_Functions_Python.ipynb\n",
      "2018_05_12_intro_Python.ipynb\n",
      "2018_06_09_array_numpy.ipynb\n",
      "2018_06_16_python_read_csv_json_xml.ipynb\n",
      ".ipynb_checkpoints\n",
      "2018_03_10_Funcoes_objetos_classes.ipynb\n",
      "2018_04_28_evaluation_data_and_maps.ipynb\n",
      "teste.txt\n",
      "data\n",
      "file.json\n",
      "2018_05_25_Python_lists_sort_functions.ipynb\n"
     ]
    }
   ],
   "source": [
    "for i in os.listdir('./'):\n",
    "    print(i)"
   ]
  },
  {
   "cell_type": "code",
   "execution_count": 34,
   "metadata": {},
   "outputs": [],
   "source": [
    "# !cp /etc/shadow /tmp\n",
    "# !chmod 555 /etc/shadow"
   ]
  },
  {
   "cell_type": "code",
   "execution_count": 8,
   "metadata": {},
   "outputs": [
    {
     "name": "stdout",
     "output_type": "stream",
     "text": [
      "root:x:0:0:root:/root:/bin/bash\r\n",
      "daemon:x:1:1:daemon:/usr/sbin:/usr/sbin/nologin\r\n",
      "bin:x:2:2:bin:/bin:/usr/sbin/nologin\r\n",
      "sys:x:3:3:sys:/dev:/usr/sbin/nologin\r\n",
      "sync:x:4:65534:sync:/bin:/bin/sync\r\n",
      "games:x:5:60:games:/usr/games:/usr/sbin/nologin\r\n",
      "man:x:6:12:man:/var/cache/man:/usr/sbin/nologin\r\n",
      "lp:x:7:7:lp:/var/spool/lpd:/usr/sbin/nologin\r\n",
      "mail:x:8:8:mail:/var/mail:/usr/sbin/nologin\r\n",
      "news:x:9:9:news:/var/spool/news:/usr/sbin/nologin\r\n",
      "uucp:x:10:10:uucp:/var/spool/uucp:/usr/sbin/nologin\r\n",
      "proxy:x:13:13:proxy:/bin:/usr/sbin/nologin\r\n",
      "www-data:x:33:33:www-data:/var/www:/usr/sbin/nologin\r\n",
      "backup:x:34:34:backup:/var/backups:/usr/sbin/nologin\r\n",
      "list:x:38:38:Mailing List Manager:/var/list:/usr/sbin/nologin\r\n",
      "irc:x:39:39:ircd:/var/run/ircd:/usr/sbin/nologin\r\n",
      "gnats:x:41:41:Gnats Bug-Reporting System (admin):/var/lib/gnats:/usr/sbin/nologin\r\n",
      "nobody:x:65534:65534:nobody:/nonexistent:/usr/sbin/nologin\r\n",
      "systemd-timesync:x:100:102:systemd Time Synchronization,,,:/run/systemd:/bin/false\r\n",
      "systemd-network:x:101:103:systemd Network Management,,,:/run/systemd/netif:/bin/false\r\n",
      "systemd-resolve:x:102:104:systemd Resolver,,,:/run/systemd/resolve:/bin/false\r\n",
      "systemd-bus-proxy:x:103:105:systemd Bus Proxy,,,:/run/systemd:/bin/false\r\n",
      "syslog:x:104:108::/home/syslog:/bin/false\r\n",
      "_apt:x:105:65534::/nonexistent:/bin/false\r\n",
      "messagebus:x:106:110::/var/run/dbus:/bin/false\r\n",
      "uuidd:x:107:111::/run/uuidd:/bin/false\r\n",
      "lightdm:x:108:114:Light Display Manager:/var/lib/lightdm:/bin/false\r\n",
      "whoopsie:x:109:116::/nonexistent:/bin/false\r\n",
      "avahi:x:110:119:Avahi mDNS daemon,,,:/var/run/avahi-daemon:/bin/false\r\n",
      "dnsmasq:x:111:65534:dnsmasq,,,:/var/lib/misc:/bin/false\r\n",
      "colord:x:112:122:colord colour management daemon,,,:/var/lib/colord:/bin/false\r\n",
      "speech-dispatcher:x:113:29:Speech Dispatcher,,,:/var/run/speech-dispatcher:/bin/false\r\n",
      "hplip:x:114:7:HPLIP system user,,,:/var/run/hplip:/bin/false\r\n",
      "kernoops:x:115:65534:Kernel Oops Tracking Daemon,,,:/:/bin/false\r\n",
      "pulse:x:116:123:PulseAudio daemon,,,:/var/run/pulse:/bin/false\r\n",
      "nm-openvpn:x:117:125:NetworkManager OpenVPN,,,:/var/lib/openvpn/chroot:/bin/false\r\n",
      "rtkit:x:118:126:RealtimeKit,,,:/proc:/bin/false\r\n",
      "saned:x:119:127::/var/lib/saned:/bin/false\r\n",
      "usbmux:x:120:46:usbmux daemon,,,:/var/lib/usbmux:/bin/false\r\n",
      "jayme:x:1000:1000:jayme,,,:/home/jayme:/bin/bash\r\n",
      "geoclue:x:121:129::/var/lib/geoclue:/bin/false\r\n"
     ]
    }
   ],
   "source": [
    "!cat /etc/passwd"
   ]
  },
  {
   "cell_type": "code",
   "execution_count": 12,
   "metadata": {},
   "outputs": [],
   "source": [
    "# !sudo cat /etc/shadow"
   ]
  },
  {
   "cell_type": "code",
   "execution_count": 2,
   "metadata": {},
   "outputs": [
    {
     "data": {
      "text/plain": [
       "['excel', 'excel-tab', 'unix']"
      ]
     },
     "execution_count": 2,
     "metadata": {},
     "output_type": "execute_result"
    }
   ],
   "source": [
    "csv.list_dialects()"
   ]
  },
  {
   "cell_type": "code",
   "execution_count": 4,
   "metadata": {},
   "outputs": [],
   "source": [
    "csv.register_dialect('unixpwd', delimiter = ':')"
   ]
  },
  {
   "cell_type": "code",
   "execution_count": 14,
   "metadata": {},
   "outputs": [
    {
     "data": {
      "text/plain": [
       "['excel', 'excel-tab', 'unix', 'unixpwd']"
      ]
     },
     "execution_count": 14,
     "metadata": {},
     "output_type": "execute_result"
    }
   ],
   "source": [
    "csv.list_dialects()"
   ]
  },
  {
   "cell_type": "code",
   "execution_count": 19,
   "metadata": {},
   "outputs": [
    {
     "name": "stdout",
     "output_type": "stream",
     "text": [
      "['root', 'x', '0', '0', 'root', '/root', '/bin/bash']\n",
      "['daemon', 'x', '1', '1', 'daemon', '/usr/sbin', '/usr/sbin/nologin']\n",
      "['bin', 'x', '2', '2', 'bin', '/bin', '/usr/sbin/nologin']\n",
      "['sys', 'x', '3', '3', 'sys', '/dev', '/usr/sbin/nologin']\n",
      "['sync', 'x', '4', '65534', 'sync', '/bin', '/bin/sync']\n",
      "['games', 'x', '5', '60', 'games', '/usr/games', '/usr/sbin/nologin']\n",
      "['man', 'x', '6', '12', 'man', '/var/cache/man', '/usr/sbin/nologin']\n",
      "['lp', 'x', '7', '7', 'lp', '/var/spool/lpd', '/usr/sbin/nologin']\n",
      "['mail', 'x', '8', '8', 'mail', '/var/mail', '/usr/sbin/nologin']\n",
      "['news', 'x', '9', '9', 'news', '/var/spool/news', '/usr/sbin/nologin']\n",
      "['uucp', 'x', '10', '10', 'uucp', '/var/spool/uucp', '/usr/sbin/nologin']\n",
      "['proxy', 'x', '13', '13', 'proxy', '/bin', '/usr/sbin/nologin']\n",
      "['www-data', 'x', '33', '33', 'www-data', '/var/www', '/usr/sbin/nologin']\n",
      "['backup', 'x', '34', '34', 'backup', '/var/backups', '/usr/sbin/nologin']\n",
      "['list', 'x', '38', '38', 'Mailing List Manager', '/var/list', '/usr/sbin/nologin']\n",
      "['irc', 'x', '39', '39', 'ircd', '/var/run/ircd', '/usr/sbin/nologin']\n",
      "['gnats', 'x', '41', '41', 'Gnats Bug-Reporting System (admin)', '/var/lib/gnats', '/usr/sbin/nologin']\n",
      "['nobody', 'x', '65534', '65534', 'nobody', '/nonexistent', '/usr/sbin/nologin']\n",
      "['systemd-timesync', 'x', '100', '102', 'systemd Time Synchronization,,,', '/run/systemd', '/bin/false']\n",
      "['systemd-network', 'x', '101', '103', 'systemd Network Management,,,', '/run/systemd/netif', '/bin/false']\n",
      "['systemd-resolve', 'x', '102', '104', 'systemd Resolver,,,', '/run/systemd/resolve', '/bin/false']\n",
      "['systemd-bus-proxy', 'x', '103', '105', 'systemd Bus Proxy,,,', '/run/systemd', '/bin/false']\n",
      "['syslog', 'x', '104', '108', '', '/home/syslog', '/bin/false']\n",
      "['_apt', 'x', '105', '65534', '', '/nonexistent', '/bin/false']\n",
      "['messagebus', 'x', '106', '110', '', '/var/run/dbus', '/bin/false']\n",
      "['uuidd', 'x', '107', '111', '', '/run/uuidd', '/bin/false']\n",
      "['lightdm', 'x', '108', '114', 'Light Display Manager', '/var/lib/lightdm', '/bin/false']\n",
      "['whoopsie', 'x', '109', '116', '', '/nonexistent', '/bin/false']\n",
      "['avahi', 'x', '110', '119', 'Avahi mDNS daemon,,,', '/var/run/avahi-daemon', '/bin/false']\n",
      "['dnsmasq', 'x', '111', '65534', 'dnsmasq,,,', '/var/lib/misc', '/bin/false']\n",
      "['colord', 'x', '112', '122', 'colord colour management daemon,,,', '/var/lib/colord', '/bin/false']\n",
      "['speech-dispatcher', 'x', '113', '29', 'Speech Dispatcher,,,', '/var/run/speech-dispatcher', '/bin/false']\n",
      "['hplip', 'x', '114', '7', 'HPLIP system user,,,', '/var/run/hplip', '/bin/false']\n",
      "['kernoops', 'x', '115', '65534', 'Kernel Oops Tracking Daemon,,,', '/', '/bin/false']\n",
      "['pulse', 'x', '116', '123', 'PulseAudio daemon,,,', '/var/run/pulse', '/bin/false']\n",
      "['nm-openvpn', 'x', '117', '125', 'NetworkManager OpenVPN,,,', '/var/lib/openvpn/chroot', '/bin/false']\n",
      "['rtkit', 'x', '118', '126', 'RealtimeKit,,,', '/proc', '/bin/false']\n",
      "['saned', 'x', '119', '127', '', '/var/lib/saned', '/bin/false']\n",
      "['usbmux', 'x', '120', '46', 'usbmux daemon,,,', '/var/lib/usbmux', '/bin/false']\n",
      "['jayme', 'x', '1000', '1000', 'jayme,,,', '/home/jayme', '/bin/bash']\n",
      "['geoclue', 'x', '121', '129', '', '/var/lib/geoclue', '/bin/false']\n"
     ]
    }
   ],
   "source": [
    "with open('/etc/passwd') as csvfile:\n",
    "    spamreader = csv.reader(csvfile, dialect = 'unixpwd')\n",
    "    for row in spamreader:\n",
    "        print(row)"
   ]
  },
  {
   "cell_type": "code",
   "execution_count": 49,
   "metadata": {},
   "outputs": [],
   "source": [
    "file = {'user': [], 'pass': []}\n",
    "\n",
    "with open('/tmp/shadow') as csvfile:\n",
    "    spamreader = csv.reader(csvfile, dialect = 'unixpwd')\n",
    "    for row in spamreader:\n",
    "        if row[1] not in ['!', '*']:\n",
    "            file['user'].append(row[0])\n",
    "            file['pass'].append(row[1])"
   ]
  },
  {
   "cell_type": "code",
   "execution_count": 56,
   "metadata": {},
   "outputs": [],
   "source": [
    "grafitti = {'REGION': [],\n",
    "            'SUBURB': [],\n",
    "            'LOCATION': [],\n",
    "            'TYPE': [],\n",
    "            'SURFACE': [],\n",
    "            'IMAGE_LINK': [],\n",
    "            'Location 1': [],\n",
    "            'LATITUDE': [],\n",
    "            'LONGITUDE': []}\n",
    "url = 'https://www.data.act.gov.au/api/views/wdpz-r2ns/rows.csv?accessType=DOWNLOAD'\n",
    "\n",
    "with requests.Session() as session:\n",
    "    download = session.get(url)\n",
    "    \n",
    "    decoded_content = download.content.decode('utf-8')\n",
    "    \n",
    "    csvreader = csv.reader(decoded_content.splitlines(), delimiter = ',')\n",
    "    \n",
    "    for row in csvreader:\n",
    "        grafitti['REGION'].append(row[0])\n",
    "        grafitti['SUBURB'].append(row[1])\n",
    "        grafitti['LOCATION'].append(row[2])\n",
    "        grafitti['TYPE'].append(row[3])\n",
    "        grafitti['SURFACE'].append(row[4])\n",
    "        grafitti['IMAGE_LINK'].append(row[5])\n",
    "        grafitti['Location 1'].append(row[6])\n",
    "        grafitti['LATITUDE'].append(row[7])\n",
    "        grafitti['LONGITUDE'].append(row[8])"
   ]
  },
  {
   "cell_type": "code",
   "execution_count": 65,
   "metadata": {},
   "outputs": [
    {
     "data": {
      "text/plain": [
       "['REGION',\n",
       " 'Belconnen',\n",
       " 'Belconnen',\n",
       " 'Belconnen',\n",
       " 'Tuggeranong',\n",
       " 'Gungahlin',\n",
       " 'Gungahlin',\n",
       " 'Weston Creek',\n",
       " 'Tuggeranong',\n",
       " 'Inner South',\n",
       " 'Tuggeranong',\n",
       " 'Woden Weston',\n",
       " 'Belconnen',\n",
       " 'Belconnen',\n",
       " 'Belconnen',\n",
       " 'Woden Weston',\n",
       " 'Tuggeranong',\n",
       " 'Inner North',\n",
       " 'Woden Weston',\n",
       " 'Belconnen',\n",
       " 'Belconnen',\n",
       " 'Belconnen',\n",
       " 'Woden Weston',\n",
       " 'Gungahlin',\n",
       " 'Tuggeranong',\n",
       " 'Woden Weston']"
      ]
     },
     "execution_count": 65,
     "metadata": {},
     "output_type": "execute_result"
    }
   ],
   "source": [
    "grafitti['REGION']"
   ]
  },
  {
   "cell_type": "markdown",
   "metadata": {},
   "source": [
    "# JSON\n",
    "JavaScript Object Notation"
   ]
  },
  {
   "cell_type": "code",
   "execution_count": 2,
   "metadata": {},
   "outputs": [],
   "source": [
    "# !wget \"http://ip-api.com/json/\""
   ]
  },
  {
   "cell_type": "code",
   "execution_count": 3,
   "metadata": {},
   "outputs": [
    {
     "data": {
      "text/plain": [
       "dict"
      ]
     },
     "execution_count": 3,
     "metadata": {},
     "output_type": "execute_result"
    }
   ],
   "source": [
    "jf = open('./data/2018_06_16_json1.json').read()\n",
    "myJson = json.loads(jf)\n",
    "type(myJson)"
   ]
  },
  {
   "cell_type": "code",
   "execution_count": 4,
   "metadata": {},
   "outputs": [
    {
     "data": {
      "text/plain": [
       "{'as': 'AS10881 Fundacao da UFPR para o DCTC',\n",
       " 'city': 'Curitiba',\n",
       " 'country': 'Brazil',\n",
       " 'countryCode': 'BR',\n",
       " 'isp': 'Fundacao da UFPR para o DCTC',\n",
       " 'lat': -25.4167,\n",
       " 'lon': -49.25,\n",
       " 'org': 'Fundacao da UFPR para o DCTC',\n",
       " 'query': '200.236.31.83',\n",
       " 'region': 'PR',\n",
       " 'regionName': 'Parana',\n",
       " 'status': 'success',\n",
       " 'timezone': 'America/Sao_Paulo',\n",
       " 'zip': '74056'}"
      ]
     },
     "execution_count": 4,
     "metadata": {},
     "output_type": "execute_result"
    }
   ],
   "source": [
    "myJson"
   ]
  },
  {
   "cell_type": "code",
   "execution_count": 6,
   "metadata": {},
   "outputs": [
    {
     "data": {
      "text/plain": [
       "dict_keys(['as', 'city', 'country', 'countryCode', 'isp', 'lat', 'lon', 'org', 'query', 'region', 'regionName', 'status', 'timezone', 'zip'])"
      ]
     },
     "execution_count": 6,
     "metadata": {},
     "output_type": "execute_result"
    }
   ],
   "source": [
    "myJson.keys()"
   ]
  },
  {
   "cell_type": "code",
   "execution_count": 7,
   "metadata": {},
   "outputs": [
    {
     "data": {
      "text/plain": [
       "dict_values(['AS10881 Fundacao da UFPR para o DCTC', 'Curitiba', 'Brazil', 'BR', 'Fundacao da UFPR para o DCTC', -25.4167, -49.25, 'Fundacao da UFPR para o DCTC', '200.236.31.83', 'PR', 'Parana', 'success', 'America/Sao_Paulo', '74056'])"
      ]
     },
     "execution_count": 7,
     "metadata": {},
     "output_type": "execute_result"
    }
   ],
   "source": [
    "myJson.values()"
   ]
  },
  {
   "cell_type": "code",
   "execution_count": 8,
   "metadata": {},
   "outputs": [
    {
     "name": "stdout",
     "output_type": "stream",
     "text": [
      "as\n",
      "city\n",
      "country\n",
      "countryCode\n",
      "isp\n",
      "lat\n",
      "lon\n",
      "org\n",
      "query\n",
      "region\n",
      "regionName\n",
      "status\n",
      "timezone\n",
      "zip\n"
     ]
    }
   ],
   "source": [
    "for key in myJson:\n",
    "    print(key)"
   ]
  },
  {
   "cell_type": "code",
   "execution_count": 9,
   "metadata": {},
   "outputs": [
    {
     "name": "stdout",
     "output_type": "stream",
     "text": [
      "AS10881 Fundacao da UFPR para o DCTC\n",
      "Curitiba\n",
      "Brazil\n",
      "BR\n",
      "Fundacao da UFPR para o DCTC\n",
      "-25.4167\n",
      "-49.25\n",
      "Fundacao da UFPR para o DCTC\n",
      "200.236.31.83\n",
      "PR\n",
      "Parana\n",
      "success\n",
      "America/Sao_Paulo\n",
      "74056\n"
     ]
    }
   ],
   "source": [
    "for key in myJson:\n",
    "    print(myJson[key])"
   ]
  },
  {
   "cell_type": "code",
   "execution_count": 10,
   "metadata": {},
   "outputs": [
    {
     "data": {
      "text/plain": [
       "'success'"
      ]
     },
     "execution_count": 10,
     "metadata": {},
     "output_type": "execute_result"
    }
   ],
   "source": [
    "myJson['status']"
   ]
  },
  {
   "cell_type": "code",
   "execution_count": 11,
   "metadata": {},
   "outputs": [
    {
     "data": {
      "text/plain": [
       "'fail'"
      ]
     },
     "execution_count": 11,
     "metadata": {},
     "output_type": "execute_result"
    }
   ],
   "source": [
    "myJson['status'] = 'fail'\n",
    "myJson['status']"
   ]
  },
  {
   "cell_type": "code",
   "execution_count": 13,
   "metadata": {},
   "outputs": [],
   "source": [
    "myJson['bairros'] = ['Reboucas', 'Centro']"
   ]
  },
  {
   "cell_type": "code",
   "execution_count": 15,
   "metadata": {},
   "outputs": [],
   "source": [
    "del myJson['bairros']"
   ]
  },
  {
   "cell_type": "code",
   "execution_count": 16,
   "metadata": {},
   "outputs": [
    {
     "data": {
      "text/plain": [
       "{'as': 'AS10881 Fundacao da UFPR para o DCTC',\n",
       " 'city': 'Curitiba',\n",
       " 'country': 'Brazil',\n",
       " 'countryCode': 'BR',\n",
       " 'isp': 'Fundacao da UFPR para o DCTC',\n",
       " 'lat': -25.4167,\n",
       " 'lon': -49.25,\n",
       " 'org': 'Fundacao da UFPR para o DCTC',\n",
       " 'query': '200.236.31.83',\n",
       " 'region': 'PR',\n",
       " 'regionName': 'Parana',\n",
       " 'status': 'fail',\n",
       " 'timezone': 'America/Sao_Paulo',\n",
       " 'zip': '74056'}"
      ]
     },
     "execution_count": 16,
     "metadata": {},
     "output_type": "execute_result"
    }
   ],
   "source": [
    "myJson"
   ]
  },
  {
   "cell_type": "code",
   "execution_count": 17,
   "metadata": {},
   "outputs": [
    {
     "data": {
      "text/plain": [
       "'200.236.31.83'"
      ]
     },
     "execution_count": 17,
     "metadata": {},
     "output_type": "execute_result"
    }
   ],
   "source": [
    "myJson.pop('query')"
   ]
  },
  {
   "cell_type": "code",
   "execution_count": 18,
   "metadata": {},
   "outputs": [],
   "source": [
    "myJson.pop('batata', None)"
   ]
  },
  {
   "cell_type": "code",
   "execution_count": 19,
   "metadata": {},
   "outputs": [],
   "source": [
    "file = open('file.json', 'w')\n",
    "json.dump(myJson, file)\n",
    "file.close()"
   ]
  },
  {
   "cell_type": "code",
   "execution_count": 21,
   "metadata": {},
   "outputs": [
    {
     "name": "stdout",
     "output_type": "stream",
     "text": [
      "{\"as\": \"AS10881 Fundacao da UFPR para o DCTC\", \"city\": \"Curitiba\", \"country\": \"Brazil\", \"countryCode\": \"BR\", \"isp\": \"Fundacao da UFPR para o DCTC\", \"lat\": -25.4167, \"lon\": -49.25, \"org\": \"Fundacao da UFPR para o DCTC\", \"region\": \"PR\", \"regionName\": \"Parana\", \"status\": \"fail\", \"timezone\": \"America/Sao_Paulo\", \"zip\": \"74056\"}"
     ]
    }
   ],
   "source": [
    "!cat file.json"
   ]
  },
  {
   "cell_type": "code",
   "execution_count": 9,
   "metadata": {},
   "outputs": [],
   "source": [
    "with open('./data/2018_06_16_report1613.json', 'r', encoding='utf-8') as file:\n",
    "    av = json.load(file)"
   ]
  },
  {
   "cell_type": "code",
   "execution_count": 11,
   "metadata": {},
   "outputs": [
    {
     "data": {
      "text/plain": [
       "dict_keys(['virustotal', 'static', 'dropped', 'network', 'info', 'procmemory', 'target', 'behavior', 'debug', 'strings'])"
      ]
     },
     "execution_count": 11,
     "metadata": {},
     "output_type": "execute_result"
    }
   ],
   "source": [
    "av.keys()"
   ]
  },
  {
   "cell_type": "code",
   "execution_count": 18,
   "metadata": {},
   "outputs": [
    {
     "data": {
      "text/plain": [
       "{'scan_id': '35300659651e72f35a419276c01189fbd172ded05f1d6b4a28737858ce4b9412-1432203644',\n",
       " 'sha1': '959d8aaf1e4ab5ecc048390030523653047a56ba',\n",
       " 'resource': '69ba2e8e76734fd7288e7cc655ec71e0',\n",
       " 'response_code': 1,\n",
       " 'scan_date': '2015-05-21 10:20:44',\n",
       " 'permalink': 'https://www.virustotal.com/file/35300659651e72f35a419276c01189fbd172ded05f1d6b4a28737858ce4b9412/analysis/1432203644/',\n",
       " 'verbose_msg': 'Scan finished, information embedded',\n",
       " 'sha256': '35300659651e72f35a419276c01189fbd172ded05f1d6b4a28737858ce4b9412',\n",
       " 'positives': 38,\n",
       " 'total': 57,\n",
       " 'md5': '69ba2e8e76734fd7288e7cc655ec71e0',\n",
       " 'scans': {'Bkav': {'detected': False,\n",
       "   'version': '1.3.0.6379',\n",
       "   'result': None,\n",
       "   'update': '20150520'},\n",
       "  'MicroWorld-eScan': {'detected': True,\n",
       "   'version': '12.0.250.0',\n",
       "   'result': 'Trojan.GenericKD.2204993',\n",
       "   'update': '20150521'},\n",
       "  'nProtect': {'detected': True,\n",
       "   'version': '2015-05-21.01',\n",
       "   'result': 'Trojan.GenericKD.2204993',\n",
       "   'update': '20150521'},\n",
       "  'CMC': {'detected': False,\n",
       "   'version': '1.1.0.977',\n",
       "   'result': None,\n",
       "   'update': '20150520'},\n",
       "  'CAT-QuickHeal': {'detected': True,\n",
       "   'version': '14.00',\n",
       "   'result': 'TrojanBanker.Banbra.g8',\n",
       "   'update': '20150520'},\n",
       "  'McAfee': {'detected': True,\n",
       "   'version': '6.0.5.614',\n",
       "   'result': 'Artemis!69BA2E8E7673',\n",
       "   'update': '20150521'},\n",
       "  'Malwarebytes': {'detected': False,\n",
       "   'version': '2.1.1.1115',\n",
       "   'result': None,\n",
       "   'update': '20150521'},\n",
       "  'Zillya': {'detected': False,\n",
       "   'version': '2.0.0.2186',\n",
       "   'result': None,\n",
       "   'update': '20150521'},\n",
       "  'SUPERAntiSpyware': {'detected': False,\n",
       "   'version': '5.6.0.1032',\n",
       "   'result': None,\n",
       "   'update': '20150521'},\n",
       "  'TheHacker': {'detected': False,\n",
       "   'version': '6.8.0.5.569',\n",
       "   'result': None,\n",
       "   'update': '20150520'},\n",
       "  'Alibaba': {'detected': False,\n",
       "   'version': '1.0',\n",
       "   'result': None,\n",
       "   'update': '20150521'},\n",
       "  'K7GW': {'detected': True,\n",
       "   'version': '9.204.15982',\n",
       "   'result': 'Riskware ( 0040eff71 )',\n",
       "   'update': '20150521'},\n",
       "  'K7AntiVirus': {'detected': True,\n",
       "   'version': '9.204.15982',\n",
       "   'result': 'Riskware ( 0040eff71 )',\n",
       "   'update': '20150521'},\n",
       "  'Agnitum': {'detected': True,\n",
       "   'version': '5.5.1.3',\n",
       "   'result': 'Trojan.PWS.Banbra!Vm+D55ACpF4',\n",
       "   'update': '20150520'},\n",
       "  'F-Prot': {'detected': False,\n",
       "   'version': '4.7.1.166',\n",
       "   'result': None,\n",
       "   'update': '20150521'},\n",
       "  'Symantec': {'detected': True,\n",
       "   'version': '20141.2.0.56',\n",
       "   'result': 'WS.Reputation.1',\n",
       "   'update': '20150521'},\n",
       "  'Norman': {'detected': True,\n",
       "   'version': '7.04.04',\n",
       "   'result': 'Troj_Generic.YZCZX',\n",
       "   'update': '20150521'},\n",
       "  'TotalDefense': {'detected': False,\n",
       "   'version': '37.1.62.1',\n",
       "   'result': None,\n",
       "   'update': '20150521'},\n",
       "  'TrendMicro-HouseCall': {'detected': True,\n",
       "   'version': '9.700.0.1001',\n",
       "   'result': 'TSPY_BANKER.YYZG',\n",
       "   'update': '20150521'},\n",
       "  'Avast': {'detected': True,\n",
       "   'version': '8.0.1489.320',\n",
       "   'result': 'Win32:Delf-UBN [Trj]',\n",
       "   'update': '20150521'},\n",
       "  'ClamAV': {'detected': False,\n",
       "   'version': '0.98.5.0',\n",
       "   'result': None,\n",
       "   'update': '20150521'},\n",
       "  'Kaspersky': {'detected': True,\n",
       "   'version': '15.0.1.10',\n",
       "   'result': 'Trojan-Banker.Win32.Banbra.bixp',\n",
       "   'update': '20150521'},\n",
       "  'BitDefender': {'detected': True,\n",
       "   'version': '7.2',\n",
       "   'result': 'Trojan.GenericKD.2204993',\n",
       "   'update': '20150521'},\n",
       "  'NANO-Antivirus': {'detected': True,\n",
       "   'version': '0.30.24.1636',\n",
       "   'result': 'Trojan.Win32.Banbra.doxbik',\n",
       "   'update': '20150521'},\n",
       "  'AegisLab': {'detected': False,\n",
       "   'version': '1.5',\n",
       "   'result': None,\n",
       "   'update': '20150521'},\n",
       "  'ByteHero': {'detected': False,\n",
       "   'version': '1.0.0.1',\n",
       "   'result': None,\n",
       "   'update': '20150521'},\n",
       "  'Tencent': {'detected': True,\n",
       "   'version': '1.0.0.1',\n",
       "   'result': 'Win32.Trojan-banker.Banbra.Wrha',\n",
       "   'update': '20150521'},\n",
       "  'Ad-Aware': {'detected': True,\n",
       "   'version': '12.0.163.0',\n",
       "   'result': 'Trojan.GenericKD.2204993',\n",
       "   'update': '20150521'},\n",
       "  'Sophos': {'detected': True,\n",
       "   'version': '4.98.0',\n",
       "   'result': 'Mal/Generic-S',\n",
       "   'update': '20150521'},\n",
       "  'Comodo': {'detected': True,\n",
       "   'version': '22196',\n",
       "   'result': 'UnclassifiedMalware',\n",
       "   'update': '20150521'},\n",
       "  'F-Secure': {'detected': True,\n",
       "   'version': '11.0.19100.45',\n",
       "   'result': 'Trojan.GenericKD.2204993',\n",
       "   'update': '20150521'},\n",
       "  'DrWeb': {'detected': True,\n",
       "   'version': '7.0.12.3050',\n",
       "   'result': 'Trojan.KillProc.33974',\n",
       "   'update': '20150521'},\n",
       "  'VIPRE': {'detected': True,\n",
       "   'version': '40426',\n",
       "   'result': 'Trojan.Win32.Generic!BT',\n",
       "   'update': '20150521'},\n",
       "  'TrendMicro': {'detected': True,\n",
       "   'version': '9.740.0.1012',\n",
       "   'result': 'TSPY_BANKER.YYZG',\n",
       "   'update': '20150521'},\n",
       "  'McAfee-GW-Edition': {'detected': True,\n",
       "   'version': 'v2015',\n",
       "   'result': 'BehavesLike.Win32.Dropper.vc',\n",
       "   'update': '20150521'},\n",
       "  'Emsisoft': {'detected': True,\n",
       "   'version': '3.5.0.636',\n",
       "   'result': 'Trojan.GenericKD.2204993 (B)',\n",
       "   'update': '20150521'},\n",
       "  'Cyren': {'detected': True,\n",
       "   'version': '5.4.16.7',\n",
       "   'result': 'W32/Trojan.BWVP-1626',\n",
       "   'update': '20150521'},\n",
       "  'Jiangmin': {'detected': False,\n",
       "   'version': '16.0.100',\n",
       "   'result': None,\n",
       "   'update': '20150519'},\n",
       "  'Avira': {'detected': True,\n",
       "   'version': '8.3.1.6',\n",
       "   'result': 'TR/Spy.Banker.2186957',\n",
       "   'update': '20150521'},\n",
       "  'Antiy-AVL': {'detected': True,\n",
       "   'version': '1.0.0.1',\n",
       "   'result': 'Trojan[Banker]/Win32.Banbra',\n",
       "   'update': '20150521'},\n",
       "  'Kingsoft': {'detected': False,\n",
       "   'version': '2013.4.9.267',\n",
       "   'result': None,\n",
       "   'update': '20150521'},\n",
       "  'Microsoft': {'detected': True,\n",
       "   'version': '1.1.11701.0',\n",
       "   'result': 'TrojanSpy:Win32/Banker',\n",
       "   'update': '20150521'},\n",
       "  'ViRobot': {'detected': True,\n",
       "   'version': '2014.3.20.0',\n",
       "   'result': 'Trojan.Win32.A.Banbra.2186957[h]',\n",
       "   'update': '20150521'},\n",
       "  'GData': {'detected': True,\n",
       "   'version': '25',\n",
       "   'result': 'Trojan.GenericKD.2204993',\n",
       "   'update': '20150521'},\n",
       "  'AhnLab-V3': {'detected': False,\n",
       "   'version': '2015.05.21.00',\n",
       "   'result': None,\n",
       "   'update': '20150520'},\n",
       "  'ALYac': {'detected': False,\n",
       "   'version': '1.0.1.4',\n",
       "   'result': None,\n",
       "   'update': '20150521'},\n",
       "  'AVware': {'detected': True,\n",
       "   'version': '1.5.0.21',\n",
       "   'result': 'Trojan.Win32.Generic!BT',\n",
       "   'update': '20150521'},\n",
       "  'VBA32': {'detected': True,\n",
       "   'version': '3.12.26.4',\n",
       "   'result': 'TrojanBanker.Banbra',\n",
       "   'update': '20150520'},\n",
       "  'Panda': {'detected': True,\n",
       "   'version': '4.6.4.2',\n",
       "   'result': 'Trj/CI.A',\n",
       "   'update': '20150521'},\n",
       "  'Zoner': {'detected': False,\n",
       "   'version': '1.0',\n",
       "   'result': None,\n",
       "   'update': '20150520'},\n",
       "  'ESET-NOD32': {'detected': True,\n",
       "   'version': '11661',\n",
       "   'result': 'a variant of Win32/Spy.Banker.ACCT',\n",
       "   'update': '20150521'},\n",
       "  'Rising': {'detected': False,\n",
       "   'version': '25.0.0.17',\n",
       "   'result': None,\n",
       "   'update': '20150520'},\n",
       "  'Ikarus': {'detected': True,\n",
       "   'version': 'T3.1.8.9.0',\n",
       "   'result': 'Trojan.Spy.Banker',\n",
       "   'update': '20150521'},\n",
       "  'Fortinet': {'detected': True,\n",
       "   'version': '5.0.999.0',\n",
       "   'result': 'W32/Banbra.BIXP!tr',\n",
       "   'update': '20150521'},\n",
       "  'AVG': {'detected': True,\n",
       "   'version': '15.0.0.4347',\n",
       "   'result': 'Pakes2_c.AAIQ',\n",
       "   'update': '20150521'},\n",
       "  'Baidu-International': {'detected': True,\n",
       "   'version': '3.5.1.41473',\n",
       "   'result': 'Trojan.Win32.Banker.bixp',\n",
       "   'update': '20150521'},\n",
       "  'Qihoo-360': {'detected': False,\n",
       "   'version': '1.0.0.1015',\n",
       "   'result': None,\n",
       "   'update': '20150521'}}}"
      ]
     },
     "execution_count": 18,
     "metadata": {},
     "output_type": "execute_result"
    }
   ],
   "source": [
    "av['virustotal']"
   ]
  },
  {
   "cell_type": "code",
   "execution_count": 19,
   "metadata": {},
   "outputs": [
    {
     "data": {
      "text/plain": [
       "57"
      ]
     },
     "execution_count": 19,
     "metadata": {},
     "output_type": "execute_result"
    }
   ],
   "source": [
    "# how many anti-viruses were executed:\n",
    "av['virustotal']['total']"
   ]
  },
  {
   "cell_type": "code",
   "execution_count": 20,
   "metadata": {},
   "outputs": [
    {
     "data": {
      "text/plain": [
       "38"
      ]
     },
     "execution_count": 20,
     "metadata": {},
     "output_type": "execute_result"
    }
   ],
   "source": [
    "# how many anti-virus detected viruses:\n",
    "av['virustotal']['positives']"
   ]
  },
  {
   "cell_type": "code",
   "execution_count": 26,
   "metadata": {},
   "outputs": [
    {
     "data": {
      "text/plain": [
       "{'Bkav': {'detected': False,\n",
       "  'version': '1.3.0.6379',\n",
       "  'result': None,\n",
       "  'update': '20150520'},\n",
       " 'MicroWorld-eScan': {'detected': True,\n",
       "  'version': '12.0.250.0',\n",
       "  'result': 'Trojan.GenericKD.2204993',\n",
       "  'update': '20150521'},\n",
       " 'nProtect': {'detected': True,\n",
       "  'version': '2015-05-21.01',\n",
       "  'result': 'Trojan.GenericKD.2204993',\n",
       "  'update': '20150521'},\n",
       " 'CMC': {'detected': False,\n",
       "  'version': '1.1.0.977',\n",
       "  'result': None,\n",
       "  'update': '20150520'},\n",
       " 'CAT-QuickHeal': {'detected': True,\n",
       "  'version': '14.00',\n",
       "  'result': 'TrojanBanker.Banbra.g8',\n",
       "  'update': '20150520'},\n",
       " 'McAfee': {'detected': True,\n",
       "  'version': '6.0.5.614',\n",
       "  'result': 'Artemis!69BA2E8E7673',\n",
       "  'update': '20150521'},\n",
       " 'Malwarebytes': {'detected': False,\n",
       "  'version': '2.1.1.1115',\n",
       "  'result': None,\n",
       "  'update': '20150521'},\n",
       " 'Zillya': {'detected': False,\n",
       "  'version': '2.0.0.2186',\n",
       "  'result': None,\n",
       "  'update': '20150521'},\n",
       " 'SUPERAntiSpyware': {'detected': False,\n",
       "  'version': '5.6.0.1032',\n",
       "  'result': None,\n",
       "  'update': '20150521'},\n",
       " 'TheHacker': {'detected': False,\n",
       "  'version': '6.8.0.5.569',\n",
       "  'result': None,\n",
       "  'update': '20150520'},\n",
       " 'Alibaba': {'detected': False,\n",
       "  'version': '1.0',\n",
       "  'result': None,\n",
       "  'update': '20150521'},\n",
       " 'K7GW': {'detected': True,\n",
       "  'version': '9.204.15982',\n",
       "  'result': 'Riskware ( 0040eff71 )',\n",
       "  'update': '20150521'},\n",
       " 'K7AntiVirus': {'detected': True,\n",
       "  'version': '9.204.15982',\n",
       "  'result': 'Riskware ( 0040eff71 )',\n",
       "  'update': '20150521'},\n",
       " 'Agnitum': {'detected': True,\n",
       "  'version': '5.5.1.3',\n",
       "  'result': 'Trojan.PWS.Banbra!Vm+D55ACpF4',\n",
       "  'update': '20150520'},\n",
       " 'F-Prot': {'detected': False,\n",
       "  'version': '4.7.1.166',\n",
       "  'result': None,\n",
       "  'update': '20150521'},\n",
       " 'Symantec': {'detected': True,\n",
       "  'version': '20141.2.0.56',\n",
       "  'result': 'WS.Reputation.1',\n",
       "  'update': '20150521'},\n",
       " 'Norman': {'detected': True,\n",
       "  'version': '7.04.04',\n",
       "  'result': 'Troj_Generic.YZCZX',\n",
       "  'update': '20150521'},\n",
       " 'TotalDefense': {'detected': False,\n",
       "  'version': '37.1.62.1',\n",
       "  'result': None,\n",
       "  'update': '20150521'},\n",
       " 'TrendMicro-HouseCall': {'detected': True,\n",
       "  'version': '9.700.0.1001',\n",
       "  'result': 'TSPY_BANKER.YYZG',\n",
       "  'update': '20150521'},\n",
       " 'Avast': {'detected': True,\n",
       "  'version': '8.0.1489.320',\n",
       "  'result': 'Win32:Delf-UBN [Trj]',\n",
       "  'update': '20150521'},\n",
       " 'ClamAV': {'detected': False,\n",
       "  'version': '0.98.5.0',\n",
       "  'result': None,\n",
       "  'update': '20150521'},\n",
       " 'Kaspersky': {'detected': True,\n",
       "  'version': '15.0.1.10',\n",
       "  'result': 'Trojan-Banker.Win32.Banbra.bixp',\n",
       "  'update': '20150521'},\n",
       " 'BitDefender': {'detected': True,\n",
       "  'version': '7.2',\n",
       "  'result': 'Trojan.GenericKD.2204993',\n",
       "  'update': '20150521'},\n",
       " 'NANO-Antivirus': {'detected': True,\n",
       "  'version': '0.30.24.1636',\n",
       "  'result': 'Trojan.Win32.Banbra.doxbik',\n",
       "  'update': '20150521'},\n",
       " 'AegisLab': {'detected': False,\n",
       "  'version': '1.5',\n",
       "  'result': None,\n",
       "  'update': '20150521'},\n",
       " 'ByteHero': {'detected': False,\n",
       "  'version': '1.0.0.1',\n",
       "  'result': None,\n",
       "  'update': '20150521'},\n",
       " 'Tencent': {'detected': True,\n",
       "  'version': '1.0.0.1',\n",
       "  'result': 'Win32.Trojan-banker.Banbra.Wrha',\n",
       "  'update': '20150521'},\n",
       " 'Ad-Aware': {'detected': True,\n",
       "  'version': '12.0.163.0',\n",
       "  'result': 'Trojan.GenericKD.2204993',\n",
       "  'update': '20150521'},\n",
       " 'Sophos': {'detected': True,\n",
       "  'version': '4.98.0',\n",
       "  'result': 'Mal/Generic-S',\n",
       "  'update': '20150521'},\n",
       " 'Comodo': {'detected': True,\n",
       "  'version': '22196',\n",
       "  'result': 'UnclassifiedMalware',\n",
       "  'update': '20150521'},\n",
       " 'F-Secure': {'detected': True,\n",
       "  'version': '11.0.19100.45',\n",
       "  'result': 'Trojan.GenericKD.2204993',\n",
       "  'update': '20150521'},\n",
       " 'DrWeb': {'detected': True,\n",
       "  'version': '7.0.12.3050',\n",
       "  'result': 'Trojan.KillProc.33974',\n",
       "  'update': '20150521'},\n",
       " 'VIPRE': {'detected': True,\n",
       "  'version': '40426',\n",
       "  'result': 'Trojan.Win32.Generic!BT',\n",
       "  'update': '20150521'},\n",
       " 'TrendMicro': {'detected': True,\n",
       "  'version': '9.740.0.1012',\n",
       "  'result': 'TSPY_BANKER.YYZG',\n",
       "  'update': '20150521'},\n",
       " 'McAfee-GW-Edition': {'detected': True,\n",
       "  'version': 'v2015',\n",
       "  'result': 'BehavesLike.Win32.Dropper.vc',\n",
       "  'update': '20150521'},\n",
       " 'Emsisoft': {'detected': True,\n",
       "  'version': '3.5.0.636',\n",
       "  'result': 'Trojan.GenericKD.2204993 (B)',\n",
       "  'update': '20150521'},\n",
       " 'Cyren': {'detected': True,\n",
       "  'version': '5.4.16.7',\n",
       "  'result': 'W32/Trojan.BWVP-1626',\n",
       "  'update': '20150521'},\n",
       " 'Jiangmin': {'detected': False,\n",
       "  'version': '16.0.100',\n",
       "  'result': None,\n",
       "  'update': '20150519'},\n",
       " 'Avira': {'detected': True,\n",
       "  'version': '8.3.1.6',\n",
       "  'result': 'TR/Spy.Banker.2186957',\n",
       "  'update': '20150521'},\n",
       " 'Antiy-AVL': {'detected': True,\n",
       "  'version': '1.0.0.1',\n",
       "  'result': 'Trojan[Banker]/Win32.Banbra',\n",
       "  'update': '20150521'},\n",
       " 'Kingsoft': {'detected': False,\n",
       "  'version': '2013.4.9.267',\n",
       "  'result': None,\n",
       "  'update': '20150521'},\n",
       " 'Microsoft': {'detected': True,\n",
       "  'version': '1.1.11701.0',\n",
       "  'result': 'TrojanSpy:Win32/Banker',\n",
       "  'update': '20150521'},\n",
       " 'ViRobot': {'detected': True,\n",
       "  'version': '2014.3.20.0',\n",
       "  'result': 'Trojan.Win32.A.Banbra.2186957[h]',\n",
       "  'update': '20150521'},\n",
       " 'GData': {'detected': True,\n",
       "  'version': '25',\n",
       "  'result': 'Trojan.GenericKD.2204993',\n",
       "  'update': '20150521'},\n",
       " 'AhnLab-V3': {'detected': False,\n",
       "  'version': '2015.05.21.00',\n",
       "  'result': None,\n",
       "  'update': '20150520'},\n",
       " 'ALYac': {'detected': False,\n",
       "  'version': '1.0.1.4',\n",
       "  'result': None,\n",
       "  'update': '20150521'},\n",
       " 'AVware': {'detected': True,\n",
       "  'version': '1.5.0.21',\n",
       "  'result': 'Trojan.Win32.Generic!BT',\n",
       "  'update': '20150521'},\n",
       " 'VBA32': {'detected': True,\n",
       "  'version': '3.12.26.4',\n",
       "  'result': 'TrojanBanker.Banbra',\n",
       "  'update': '20150520'},\n",
       " 'Panda': {'detected': True,\n",
       "  'version': '4.6.4.2',\n",
       "  'result': 'Trj/CI.A',\n",
       "  'update': '20150521'},\n",
       " 'Zoner': {'detected': False,\n",
       "  'version': '1.0',\n",
       "  'result': None,\n",
       "  'update': '20150520'},\n",
       " 'ESET-NOD32': {'detected': True,\n",
       "  'version': '11661',\n",
       "  'result': 'a variant of Win32/Spy.Banker.ACCT',\n",
       "  'update': '20150521'},\n",
       " 'Rising': {'detected': False,\n",
       "  'version': '25.0.0.17',\n",
       "  'result': None,\n",
       "  'update': '20150520'},\n",
       " 'Ikarus': {'detected': True,\n",
       "  'version': 'T3.1.8.9.0',\n",
       "  'result': 'Trojan.Spy.Banker',\n",
       "  'update': '20150521'},\n",
       " 'Fortinet': {'detected': True,\n",
       "  'version': '5.0.999.0',\n",
       "  'result': 'W32/Banbra.BIXP!tr',\n",
       "  'update': '20150521'},\n",
       " 'AVG': {'detected': True,\n",
       "  'version': '15.0.0.4347',\n",
       "  'result': 'Pakes2_c.AAIQ',\n",
       "  'update': '20150521'},\n",
       " 'Baidu-International': {'detected': True,\n",
       "  'version': '3.5.1.41473',\n",
       "  'result': 'Trojan.Win32.Banker.bixp',\n",
       "  'update': '20150521'},\n",
       " 'Qihoo-360': {'detected': False,\n",
       "  'version': '1.0.0.1015',\n",
       "  'result': None,\n",
       "  'update': '20150521'}}"
      ]
     },
     "execution_count": 26,
     "metadata": {},
     "output_type": "execute_result"
    }
   ],
   "source": [
    "av['virustotal']['scans']"
   ]
  },
  {
   "cell_type": "code",
   "execution_count": 32,
   "metadata": {},
   "outputs": [
    {
     "name": "stdout",
     "output_type": "stream",
     "text": [
      "\u001b[1mBkav\u001b[0m: \n",
      "detected: False \n",
      "result: None\n",
      "\n",
      "\u001b[1mMicroWorld-eScan\u001b[0m: \n",
      "detected: True \n",
      "result: Trojan.GenericKD.2204993\n",
      "\n",
      "\u001b[1mnProtect\u001b[0m: \n",
      "detected: True \n",
      "result: Trojan.GenericKD.2204993\n",
      "\n",
      "\u001b[1mCMC\u001b[0m: \n",
      "detected: False \n",
      "result: None\n",
      "\n",
      "\u001b[1mCAT-QuickHeal\u001b[0m: \n",
      "detected: True \n",
      "result: TrojanBanker.Banbra.g8\n",
      "\n",
      "\u001b[1mMcAfee\u001b[0m: \n",
      "detected: True \n",
      "result: Artemis!69BA2E8E7673\n",
      "\n",
      "\u001b[1mMalwarebytes\u001b[0m: \n",
      "detected: False \n",
      "result: None\n",
      "\n",
      "\u001b[1mZillya\u001b[0m: \n",
      "detected: False \n",
      "result: None\n",
      "\n",
      "\u001b[1mSUPERAntiSpyware\u001b[0m: \n",
      "detected: False \n",
      "result: None\n",
      "\n",
      "\u001b[1mTheHacker\u001b[0m: \n",
      "detected: False \n",
      "result: None\n",
      "\n",
      "\u001b[1mAlibaba\u001b[0m: \n",
      "detected: False \n",
      "result: None\n",
      "\n",
      "\u001b[1mK7GW\u001b[0m: \n",
      "detected: True \n",
      "result: Riskware ( 0040eff71 )\n",
      "\n",
      "\u001b[1mK7AntiVirus\u001b[0m: \n",
      "detected: True \n",
      "result: Riskware ( 0040eff71 )\n",
      "\n",
      "\u001b[1mAgnitum\u001b[0m: \n",
      "detected: True \n",
      "result: Trojan.PWS.Banbra!Vm+D55ACpF4\n",
      "\n",
      "\u001b[1mF-Prot\u001b[0m: \n",
      "detected: False \n",
      "result: None\n",
      "\n",
      "\u001b[1mSymantec\u001b[0m: \n",
      "detected: True \n",
      "result: WS.Reputation.1\n",
      "\n",
      "\u001b[1mNorman\u001b[0m: \n",
      "detected: True \n",
      "result: Troj_Generic.YZCZX\n",
      "\n",
      "\u001b[1mTotalDefense\u001b[0m: \n",
      "detected: False \n",
      "result: None\n",
      "\n",
      "\u001b[1mTrendMicro-HouseCall\u001b[0m: \n",
      "detected: True \n",
      "result: TSPY_BANKER.YYZG\n",
      "\n",
      "\u001b[1mAvast\u001b[0m: \n",
      "detected: True \n",
      "result: Win32:Delf-UBN [Trj]\n",
      "\n",
      "\u001b[1mClamAV\u001b[0m: \n",
      "detected: False \n",
      "result: None\n",
      "\n",
      "\u001b[1mKaspersky\u001b[0m: \n",
      "detected: True \n",
      "result: Trojan-Banker.Win32.Banbra.bixp\n",
      "\n",
      "\u001b[1mBitDefender\u001b[0m: \n",
      "detected: True \n",
      "result: Trojan.GenericKD.2204993\n",
      "\n",
      "\u001b[1mNANO-Antivirus\u001b[0m: \n",
      "detected: True \n",
      "result: Trojan.Win32.Banbra.doxbik\n",
      "\n",
      "\u001b[1mAegisLab\u001b[0m: \n",
      "detected: False \n",
      "result: None\n",
      "\n",
      "\u001b[1mByteHero\u001b[0m: \n",
      "detected: False \n",
      "result: None\n",
      "\n",
      "\u001b[1mTencent\u001b[0m: \n",
      "detected: True \n",
      "result: Win32.Trojan-banker.Banbra.Wrha\n",
      "\n",
      "\u001b[1mAd-Aware\u001b[0m: \n",
      "detected: True \n",
      "result: Trojan.GenericKD.2204993\n",
      "\n",
      "\u001b[1mSophos\u001b[0m: \n",
      "detected: True \n",
      "result: Mal/Generic-S\n",
      "\n",
      "\u001b[1mComodo\u001b[0m: \n",
      "detected: True \n",
      "result: UnclassifiedMalware\n",
      "\n",
      "\u001b[1mF-Secure\u001b[0m: \n",
      "detected: True \n",
      "result: Trojan.GenericKD.2204993\n",
      "\n",
      "\u001b[1mDrWeb\u001b[0m: \n",
      "detected: True \n",
      "result: Trojan.KillProc.33974\n",
      "\n",
      "\u001b[1mVIPRE\u001b[0m: \n",
      "detected: True \n",
      "result: Trojan.Win32.Generic!BT\n",
      "\n",
      "\u001b[1mTrendMicro\u001b[0m: \n",
      "detected: True \n",
      "result: TSPY_BANKER.YYZG\n",
      "\n",
      "\u001b[1mMcAfee-GW-Edition\u001b[0m: \n",
      "detected: True \n",
      "result: BehavesLike.Win32.Dropper.vc\n",
      "\n",
      "\u001b[1mEmsisoft\u001b[0m: \n",
      "detected: True \n",
      "result: Trojan.GenericKD.2204993 (B)\n",
      "\n",
      "\u001b[1mCyren\u001b[0m: \n",
      "detected: True \n",
      "result: W32/Trojan.BWVP-1626\n",
      "\n",
      "\u001b[1mJiangmin\u001b[0m: \n",
      "detected: False \n",
      "result: None\n",
      "\n",
      "\u001b[1mAvira\u001b[0m: \n",
      "detected: True \n",
      "result: TR/Spy.Banker.2186957\n",
      "\n",
      "\u001b[1mAntiy-AVL\u001b[0m: \n",
      "detected: True \n",
      "result: Trojan[Banker]/Win32.Banbra\n",
      "\n",
      "\u001b[1mKingsoft\u001b[0m: \n",
      "detected: False \n",
      "result: None\n",
      "\n",
      "\u001b[1mMicrosoft\u001b[0m: \n",
      "detected: True \n",
      "result: TrojanSpy:Win32/Banker\n",
      "\n",
      "\u001b[1mViRobot\u001b[0m: \n",
      "detected: True \n",
      "result: Trojan.Win32.A.Banbra.2186957[h]\n",
      "\n",
      "\u001b[1mGData\u001b[0m: \n",
      "detected: True \n",
      "result: Trojan.GenericKD.2204993\n",
      "\n",
      "\u001b[1mAhnLab-V3\u001b[0m: \n",
      "detected: False \n",
      "result: None\n",
      "\n",
      "\u001b[1mALYac\u001b[0m: \n",
      "detected: False \n",
      "result: None\n",
      "\n",
      "\u001b[1mAVware\u001b[0m: \n",
      "detected: True \n",
      "result: Trojan.Win32.Generic!BT\n",
      "\n",
      "\u001b[1mVBA32\u001b[0m: \n",
      "detected: True \n",
      "result: TrojanBanker.Banbra\n",
      "\n",
      "\u001b[1mPanda\u001b[0m: \n",
      "detected: True \n",
      "result: Trj/CI.A\n",
      "\n",
      "\u001b[1mZoner\u001b[0m: \n",
      "detected: False \n",
      "result: None\n",
      "\n",
      "\u001b[1mESET-NOD32\u001b[0m: \n",
      "detected: True \n",
      "result: a variant of Win32/Spy.Banker.ACCT\n",
      "\n",
      "\u001b[1mRising\u001b[0m: \n",
      "detected: False \n",
      "result: None\n",
      "\n",
      "\u001b[1mIkarus\u001b[0m: \n",
      "detected: True \n",
      "result: Trojan.Spy.Banker\n",
      "\n",
      "\u001b[1mFortinet\u001b[0m: \n",
      "detected: True \n",
      "result: W32/Banbra.BIXP!tr\n",
      "\n",
      "\u001b[1mAVG\u001b[0m: \n",
      "detected: True \n",
      "result: Pakes2_c.AAIQ\n",
      "\n",
      "\u001b[1mBaidu-International\u001b[0m: \n",
      "detected: True \n",
      "result: Trojan.Win32.Banker.bixp\n",
      "\n",
      "\u001b[1mQihoo-360\u001b[0m: \n",
      "detected: False \n",
      "result: None\n",
      "\n"
     ]
    }
   ],
   "source": [
    "for scan in av['virustotal']['scans']:\n",
    "    print('\\033[1m{}\\033[0m: \\ndetected: {} \\nresult: {}\\n'.format(scan,\n",
    "                                                   av['virustotal']['scans'][scan]['detected'],\n",
    "                                                   av['virustotal']['scans'][scan]['result']))"
   ]
  },
  {
   "cell_type": "code",
   "execution_count": 33,
   "metadata": {},
   "outputs": [],
   "source": [
    "virus_dict = {'av': [],\n",
    "              'detected': []}\n",
    "\n",
    "for scan in av['virustotal']['scans']:\n",
    "    virus_dict['av'].append(av['virustotal']['scans'][scan]['detected'])\n",
    "    virus_dict['detected'].append(av['virustotal']['scans'][scan]['result'])"
   ]
  },
  {
   "cell_type": "code",
   "execution_count": 19,
   "metadata": {},
   "outputs": [],
   "source": [
    "file = open('file.json', 'w')\n",
    "json.dump(myJson, file)\n",
    "file.close()"
   ]
  },
  {
   "cell_type": "code",
   "execution_count": 35,
   "metadata": {},
   "outputs": [],
   "source": [
    "with open('new_json.json', 'w') as new_file:\n",
    "    json.dump(virus_dict, new_file)\n",
    "    new_file.close()"
   ]
  }
 ],
 "metadata": {
  "kernelspec": {
   "display_name": "Python 3",
   "language": "python",
   "name": "python3"
  },
  "language_info": {
   "codemirror_mode": {
    "name": "ipython",
    "version": 3
   },
   "file_extension": ".py",
   "mimetype": "text/x-python",
   "name": "python",
   "nbconvert_exporter": "python",
   "pygments_lexer": "ipython3",
   "version": "3.6.4"
  }
 },
 "nbformat": 4,
 "nbformat_minor": 2
}
