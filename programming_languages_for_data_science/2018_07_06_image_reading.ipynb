{
 "cells": [
  {
   "cell_type": "code",
   "execution_count": 1,
   "metadata": {},
   "outputs": [],
   "source": [
    "import numpy as np\n",
    "from PIL import Image"
   ]
  },
  {
   "cell_type": "code",
   "execution_count": 2,
   "metadata": {},
   "outputs": [],
   "source": [
    "with open('./data/digits_2K/files.txt') as files:\n",
    "    lines = files.readlines()"
   ]
  },
  {
   "cell_type": "code",
   "execution_count": 3,
   "metadata": {},
   "outputs": [],
   "source": [
    "files = []\n",
    "labels = []\n",
    "\n",
    "for line in range(len(lines)):\n",
    "    files.append(lines[line].split()[0])\n",
    "    labels.append(lines[line].split()[1])"
   ]
  },
  {
   "cell_type": "code",
   "execution_count": 4,
   "metadata": {},
   "outputs": [],
   "source": [
    "data_dict = {'image': [], 'label': []}\n",
    "\n",
    "for i in range(len(files)):\n",
    "    img = Image.open('./data/digits_2K/'+files[i])\n",
    "    img_array = np.array(img, dtype = 'int')\n",
    "#     img_array = img_array.reshape((1, img_array.shape[0] * img_array.shape[1]))\n",
    "    img_array = img_array.reshape(1,-1)\n",
    "    data_dict['image'].append(img_array)\n",
    "    data_dict['label'].append(int(labels[i]))"
   ]
  },
  {
   "cell_type": "code",
   "execution_count": 5,
   "metadata": {},
   "outputs": [],
   "source": [
    "biggest_image = []\n",
    "for i in range(len(data_dict['image'])):\n",
    "    biggest_image.append(len(data_dict['image'][i][0]))"
   ]
  },
  {
   "cell_type": "code",
   "execution_count": 8,
   "metadata": {},
   "outputs": [],
   "source": [
    "max_biggest_image = max(biggest_image)\n",
    "\n",
    "with open('./data/test.csv', 'w') as f:\n",
    "    f.write('label')\n",
    "    f.write(',')\n",
    "    for pixel_title in range(max_biggest_image):\n",
    "        f.write('pixel_'+str(pixel_title))\n",
    "        f.write(',')\n",
    "    for line in range(len(data_dict['label'])):\n",
    "        f.write(str(data_dict['label'][line]))\n",
    "        f.write(',')\n",
    "        for pixel in range(len(data_dict['image'][line][0])):\n",
    "            f.write(str(data_dict['image'][line][0][pixel]))\n",
    "            f.write(',')\n",
    "        for more_pixels in range(max_biggest_image - len(data_dict['image'][line][0])):\n",
    "            f.write(str(0))\n",
    "            f.write(',')\n",
    "        f.write('\\n')\n",
    "    f.close()"
   ]
  }
 ],
 "metadata": {
  "kernelspec": {
   "display_name": "Python 3",
   "language": "python",
   "name": "python3"
  },
  "language_info": {
   "codemirror_mode": {
    "name": "ipython",
    "version": 3
   },
   "file_extension": ".py",
   "mimetype": "text/x-python",
   "name": "python",
   "nbconvert_exporter": "python",
   "pygments_lexer": "ipython3",
   "version": "3.5.2"
  }
 },
 "nbformat": 4,
 "nbformat_minor": 2
}
