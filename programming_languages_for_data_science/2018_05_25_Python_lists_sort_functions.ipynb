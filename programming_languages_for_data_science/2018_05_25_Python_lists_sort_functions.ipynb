{
 "cells": [
  {
   "cell_type": "code",
   "execution_count": 1,
   "metadata": {},
   "outputs": [],
   "source": [
    "a = [0, 0, 0]"
   ]
  },
  {
   "cell_type": "code",
   "execution_count": 2,
   "metadata": {},
   "outputs": [],
   "source": [
    "b = a"
   ]
  },
  {
   "cell_type": "code",
   "execution_count": 3,
   "metadata": {},
   "outputs": [
    {
     "data": {
      "text/plain": [
       "[0, 0, 0]"
      ]
     },
     "execution_count": 3,
     "metadata": {},
     "output_type": "execute_result"
    }
   ],
   "source": [
    "b"
   ]
  },
  {
   "cell_type": "code",
   "execution_count": 4,
   "metadata": {},
   "outputs": [],
   "source": [
    "b[1] = 1"
   ]
  },
  {
   "cell_type": "code",
   "execution_count": 5,
   "metadata": {},
   "outputs": [
    {
     "data": {
      "text/plain": [
       "[0, 1, 0]"
      ]
     },
     "execution_count": 5,
     "metadata": {},
     "output_type": "execute_result"
    }
   ],
   "source": [
    "b"
   ]
  },
  {
   "cell_type": "code",
   "execution_count": 6,
   "metadata": {},
   "outputs": [
    {
     "data": {
      "text/plain": [
       "[0, 1, 0]"
      ]
     },
     "execution_count": 6,
     "metadata": {},
     "output_type": "execute_result"
    }
   ],
   "source": [
    "a"
   ]
  },
  {
   "cell_type": "code",
   "execution_count": 8,
   "metadata": {},
   "outputs": [],
   "source": [
    "z = [0, 0, 0]"
   ]
  },
  {
   "cell_type": "code",
   "execution_count": 9,
   "metadata": {},
   "outputs": [
    {
     "data": {
      "text/plain": [
       "[0, 0, 0]"
      ]
     },
     "execution_count": 9,
     "metadata": {},
     "output_type": "execute_result"
    }
   ],
   "source": [
    "z"
   ]
  },
  {
   "cell_type": "code",
   "execution_count": 11,
   "metadata": {},
   "outputs": [],
   "source": [
    "lista = list()\n",
    "lista.append(z)\n",
    "lista.append(z)\n",
    "lista.append(z)"
   ]
  },
  {
   "cell_type": "code",
   "execution_count": 12,
   "metadata": {},
   "outputs": [
    {
     "data": {
      "text/plain": [
       "[[0, 0, 0], [0, 0, 0], [0, 0, 0]]"
      ]
     },
     "execution_count": 12,
     "metadata": {},
     "output_type": "execute_result"
    }
   ],
   "source": [
    "lista"
   ]
  },
  {
   "cell_type": "code",
   "execution_count": 13,
   "metadata": {},
   "outputs": [
    {
     "data": {
      "text/plain": [
       "140587165046344"
      ]
     },
     "execution_count": 13,
     "metadata": {},
     "output_type": "execute_result"
    }
   ],
   "source": [
    "id(lista[1])"
   ]
  },
  {
   "cell_type": "code",
   "execution_count": 15,
   "metadata": {},
   "outputs": [
    {
     "data": {
      "text/plain": [
       "140587165046344"
      ]
     },
     "execution_count": 15,
     "metadata": {},
     "output_type": "execute_result"
    }
   ],
   "source": [
    "id(lista[2])"
   ]
  },
  {
   "cell_type": "markdown",
   "metadata": {},
   "source": [
    "Both objects are in the same memory space:"
   ]
  },
  {
   "cell_type": "code",
   "execution_count": 16,
   "metadata": {},
   "outputs": [
    {
     "data": {
      "text/plain": [
       "140587165045576"
      ]
     },
     "execution_count": 16,
     "metadata": {},
     "output_type": "execute_result"
    }
   ],
   "source": [
    "id(a)"
   ]
  },
  {
   "cell_type": "code",
   "execution_count": 17,
   "metadata": {},
   "outputs": [
    {
     "data": {
      "text/plain": [
       "140587165045576"
      ]
     },
     "execution_count": 17,
     "metadata": {},
     "output_type": "execute_result"
    }
   ],
   "source": [
    "id(b)"
   ]
  },
  {
   "cell_type": "code",
   "execution_count": 18,
   "metadata": {},
   "outputs": [
    {
     "data": {
      "text/plain": [
       "[[0, 1, 0], [0, 1, 0]]"
      ]
     },
     "execution_count": 18,
     "metadata": {},
     "output_type": "execute_result"
    }
   ],
   "source": [
    "# superficial copy (slicing)\n",
    "\n",
    "c = []\n",
    "c.append(a[:])\n",
    "c.append(b[:])\n",
    "c"
   ]
  },
  {
   "cell_type": "code",
   "execution_count": 19,
   "metadata": {},
   "outputs": [
    {
     "data": {
      "text/plain": [
       "[[0, 1, 0], [0, 1, 0]]"
      ]
     },
     "execution_count": 19,
     "metadata": {},
     "output_type": "execute_result"
    }
   ],
   "source": [
    "c[0][0] = 0\n",
    "c"
   ]
  },
  {
   "cell_type": "code",
   "execution_count": 20,
   "metadata": {},
   "outputs": [],
   "source": [
    "import copy"
   ]
  },
  {
   "cell_type": "code",
   "execution_count": 21,
   "metadata": {},
   "outputs": [
    {
     "data": {
      "text/plain": [
       "[0, 1, 0, 5]"
      ]
     },
     "execution_count": 21,
     "metadata": {},
     "output_type": "execute_result"
    }
   ],
   "source": [
    "b = copy.copy(a)\n",
    "a.append(5)\n",
    "a"
   ]
  },
  {
   "cell_type": "code",
   "execution_count": 22,
   "metadata": {},
   "outputs": [
    {
     "data": {
      "text/plain": [
       "[0, 1, 0]"
      ]
     },
     "execution_count": 22,
     "metadata": {},
     "output_type": "execute_result"
    }
   ],
   "source": [
    "b"
   ]
  },
  {
   "cell_type": "code",
   "execution_count": 24,
   "metadata": {},
   "outputs": [
    {
     "data": {
      "text/plain": [
       "[[1, 0], [0, 0]]"
      ]
     },
     "execution_count": 24,
     "metadata": {},
     "output_type": "execute_result"
    }
   ],
   "source": [
    "# list of lists\n",
    "a = [[0, 0], [0, 0]]\n",
    "b = copy.copy(a)\n",
    "a[0][0] = 1\n",
    "a"
   ]
  },
  {
   "cell_type": "code",
   "execution_count": 25,
   "metadata": {},
   "outputs": [
    {
     "data": {
      "text/plain": [
       "[[1, 0], [0, 0]]"
      ]
     },
     "execution_count": 25,
     "metadata": {},
     "output_type": "execute_result"
    }
   ],
   "source": [
    "b"
   ]
  },
  {
   "cell_type": "code",
   "execution_count": 26,
   "metadata": {},
   "outputs": [
    {
     "data": {
      "text/plain": [
       "[[0, 0], [0, 0]]"
      ]
     },
     "execution_count": 26,
     "metadata": {},
     "output_type": "execute_result"
    }
   ],
   "source": [
    "a = [[0, 0], [0, 0]]\n",
    "b = copy.deepcopy(a)\n",
    "a[0][0] = 1\n",
    "b"
   ]
  },
  {
   "cell_type": "code",
   "execution_count": 73,
   "metadata": {},
   "outputs": [
    {
     "data": {
      "text/plain": [
       "[1, 3]"
      ]
     },
     "execution_count": 73,
     "metadata": {},
     "output_type": "execute_result"
    }
   ],
   "source": [
    "# list comprehension\n",
    "a = [1, 2, 3]\n",
    "b = [1, 4, 3]\n",
    "[x for x in a if x in b]"
   ]
  },
  {
   "cell_type": "markdown",
   "metadata": {},
   "source": [
    "# Exercise"
   ]
  },
  {
   "cell_type": "code",
   "execution_count": 29,
   "metadata": {},
   "outputs": [],
   "source": [
    "lines = []\n",
    "with open(\"./data/2018_05_25_uma_lista_exemplo.txt\") as file:\n",
    "    for line in file: \n",
    "        line = line.strip(',') #or some other preprocessing\n",
    "        lines.append(line)"
   ]
  },
  {
   "cell_type": "code",
   "execution_count": 30,
   "metadata": {},
   "outputs": [
    {
     "data": {
      "text/plain": [
       "[\"['guarda-chuva', 'banana', 'banana', 'banana', 'banana', 'banana', 'banana', 'banana', 'banana', 'banana', 'banana', 'guarda-roupa', 'guarda-chuva', 'batata', 'batata', 'batata', 'batata', 'batata', 'guarda-chuva', 'banana', 'guarda-roupa', 'sapato', 'sapato', 'sapato', 'sapato', 'sapato', 'sapato', 'sapato', 'sapato', 'sapato', 'sapato', 'sapato', 'sapato', 'sapato', 'sapato', 'sapato', 'pincel', 'pincel', 'pincel', 'pincel', 'Arturito', 'tartaruga', 'tartaruga', 'tartaruga', 'tartaruga', 'tartaruga', 'tartaruga', 'guarda-treco', 'colher', 'colher', 'ovo', 'olho', 'livro', 'livro', 'livro', 'livro', 'livro', 'livro', 'livro', 'pincel', 'pincel', 'pincel', 'pincel', 'televisão', 'ovo', 'guarda', 'batata', 'batata', 'batata', 'batata', 'batata', 'batata', 'batata', 'batata', 'batata', 'batata', 'batata', 'batata', 'batata', 'batata', 'batata', 'batata', 'uva', 'pincel', 'pincel', 'pincel', 'pincel', 'cabrito', 'guarda', 'piolho', 'guarda-chuva', 'pincel', 'pincel', 'pincel', 'pincel', 'banana', 'banana', 'banana', 'banana', 'guarda-chuva', 'banana', 'banana', 'banana', 'banana', 'banana', 'banana', 'banana', 'banana', 'banana', 'banana', 'guarda-roupa', 'guarda-chuva', 'batata', 'batata', 'batata', 'batata', 'batata', 'guarda-chuva', 'banana', 'guarda-roupa', 'sapato', 'sapato', 'sapato', 'sapato', 'sapato', 'sapato', 'sapato', 'sapato', 'sapato', 'sapato', 'sapato', 'sapato', 'sapato', 'sapato', 'sapato', 'tartaruga', 'tartaruga', 'tartaruga', 'tartaruga', 'tartaruga', 'tartaruga', 'guarda-treco', 'colher', 'colher', 'ovo', 'olho', 'livro', 'livro', 'livro', 'livro', 'livro', 'livro', 'livro', 'cinto', 'cinto', 'cinto', 'cinto']\\n\"]"
      ]
     },
     "execution_count": 30,
     "metadata": {},
     "output_type": "execute_result"
    }
   ],
   "source": [
    "lines"
   ]
  },
  {
   "cell_type": "code",
   "execution_count": 92,
   "metadata": {},
   "outputs": [],
   "source": [
    "lista = ['guarda-chuva', 'banana', 'banana', 'banana', 'banana', 'banana', 'banana', 'banana', 'banana', 'banana', 'banana', 'guarda-roupa', 'guarda-chuva', 'batata', 'batata', 'batata', 'batata', 'batata', 'guarda-chuva', 'banana', 'guarda-roupa', 'sapato', 'sapato', 'sapato', 'sapato', 'sapato', 'sapato', 'sapato', 'sapato', 'sapato', 'sapato', 'sapato', 'sapato', 'sapato', 'sapato', 'sapato', 'pincel', 'pincel', 'pincel', 'pincel', 'Arturito', 'tartaruga', 'tartaruga', 'tartaruga', 'tartaruga', 'tartaruga', 'tartaruga', 'guarda-treco', 'colher', 'colher', 'ovo', 'olho', 'livro', 'livro', 'livro', 'livro', 'livro', 'livro', 'livro', 'pincel', 'pincel', 'pincel', 'pincel', 'televisão', 'ovo', 'guarda', 'batata', 'batata', 'batata', 'batata', 'batata', 'batata', 'batata', 'batata', 'batata', 'batata', 'batata', 'batata', 'batata', 'batata', 'batata', 'batata', 'uva', 'pincel', 'pincel', 'pincel', 'pincel', 'cabrito', 'guarda', 'piolho', 'guarda-chuva', 'pincel', 'pincel', 'pincel', 'pincel', 'banana', 'banana', 'banana', 'banana', 'guarda-chuva', 'banana', 'banana', 'banana', 'banana', 'banana', 'banana', 'banana', 'banana', 'banana', 'banana', 'guarda-roupa', 'guarda-chuva', 'batata', 'batata', 'batata', 'batata', 'batata', 'guarda-chuva', 'banana', 'guarda-roupa', 'sapato', 'sapato', 'sapato', 'sapato', 'sapato', 'sapato', 'sapato', 'sapato', 'sapato', 'sapato', 'sapato', 'sapato', 'sapato', 'sapato', 'sapato', 'tartaruga', 'tartaruga', 'tartaruga', 'tartaruga', 'tartaruga', 'tartaruga', 'guarda-treco', 'colher', 'colher', 'ovo', 'olho', 'livro', 'livro', 'livro', 'livro', 'livro', 'livro', 'livro', 'cinto', 'cinto', 'cinto', 'cinto']"
   ]
  },
  {
   "cell_type": "code",
   "execution_count": 93,
   "metadata": {},
   "outputs": [
    {
     "data": {
      "text/plain": [
       "True"
      ]
     },
     "execution_count": 93,
     "metadata": {},
     "output_type": "execute_result"
    }
   ],
   "source": [
    "[] == list()"
   ]
  },
  {
   "cell_type": "code",
   "execution_count": 94,
   "metadata": {},
   "outputs": [],
   "source": [
    "def sort_list(list_arg, ascending = True):\n",
    "    new_list = []\n",
    "    for elem in range(len(list_arg)):\n",
    "        if ascending == True:\n",
    "            new_list.append(min(list_arg))\n",
    "            list_arg.pop(list_arg.index(min(list_arg)))\n",
    "        elif ascending == False:\n",
    "            new_list.append(max(list_arg))\n",
    "            list_arg.pop(list_arg.index(max(list_arg)))\n",
    "        else:\n",
    "            print('Error')\n",
    "    return new_list"
   ]
  },
  {
   "cell_type": "code",
   "execution_count": 95,
   "metadata": {},
   "outputs": [
    {
     "data": {
      "text/plain": [
       "['uva',\n",
       " 'televisão',\n",
       " 'tartaruga',\n",
       " 'tartaruga',\n",
       " 'tartaruga',\n",
       " 'tartaruga',\n",
       " 'tartaruga',\n",
       " 'tartaruga',\n",
       " 'tartaruga',\n",
       " 'tartaruga',\n",
       " 'tartaruga',\n",
       " 'tartaruga',\n",
       " 'tartaruga',\n",
       " 'tartaruga',\n",
       " 'sapato',\n",
       " 'sapato',\n",
       " 'sapato',\n",
       " 'sapato',\n",
       " 'sapato',\n",
       " 'sapato',\n",
       " 'sapato',\n",
       " 'sapato',\n",
       " 'sapato',\n",
       " 'sapato',\n",
       " 'sapato',\n",
       " 'sapato',\n",
       " 'sapato',\n",
       " 'sapato',\n",
       " 'sapato',\n",
       " 'sapato',\n",
       " 'sapato',\n",
       " 'sapato',\n",
       " 'sapato',\n",
       " 'sapato',\n",
       " 'sapato',\n",
       " 'sapato',\n",
       " 'sapato',\n",
       " 'sapato',\n",
       " 'sapato',\n",
       " 'sapato',\n",
       " 'sapato',\n",
       " 'sapato',\n",
       " 'sapato',\n",
       " 'sapato',\n",
       " 'piolho',\n",
       " 'pincel',\n",
       " 'pincel',\n",
       " 'pincel',\n",
       " 'pincel',\n",
       " 'pincel',\n",
       " 'pincel',\n",
       " 'pincel',\n",
       " 'pincel',\n",
       " 'pincel',\n",
       " 'pincel',\n",
       " 'pincel',\n",
       " 'pincel',\n",
       " 'pincel',\n",
       " 'pincel',\n",
       " 'pincel',\n",
       " 'pincel',\n",
       " 'ovo',\n",
       " 'ovo',\n",
       " 'ovo',\n",
       " 'olho',\n",
       " 'olho',\n",
       " 'livro',\n",
       " 'livro',\n",
       " 'livro',\n",
       " 'livro',\n",
       " 'livro',\n",
       " 'livro',\n",
       " 'livro',\n",
       " 'livro',\n",
       " 'livro',\n",
       " 'livro',\n",
       " 'livro',\n",
       " 'livro',\n",
       " 'livro',\n",
       " 'livro',\n",
       " 'guarda-treco',\n",
       " 'guarda-treco',\n",
       " 'guarda-roupa',\n",
       " 'guarda-roupa',\n",
       " 'guarda-roupa',\n",
       " 'guarda-roupa',\n",
       " 'guarda-chuva',\n",
       " 'guarda-chuva',\n",
       " 'guarda-chuva',\n",
       " 'guarda-chuva',\n",
       " 'guarda-chuva',\n",
       " 'guarda-chuva',\n",
       " 'guarda-chuva',\n",
       " 'guarda',\n",
       " 'guarda',\n",
       " 'colher',\n",
       " 'colher',\n",
       " 'colher',\n",
       " 'colher',\n",
       " 'cinto',\n",
       " 'cinto',\n",
       " 'cinto',\n",
       " 'cinto',\n",
       " 'cabrito',\n",
       " 'batata',\n",
       " 'batata',\n",
       " 'batata',\n",
       " 'batata',\n",
       " 'batata',\n",
       " 'batata',\n",
       " 'batata',\n",
       " 'batata',\n",
       " 'batata',\n",
       " 'batata',\n",
       " 'batata',\n",
       " 'batata',\n",
       " 'batata',\n",
       " 'batata',\n",
       " 'batata',\n",
       " 'batata',\n",
       " 'batata',\n",
       " 'batata',\n",
       " 'batata',\n",
       " 'batata',\n",
       " 'batata',\n",
       " 'batata',\n",
       " 'batata',\n",
       " 'batata',\n",
       " 'batata',\n",
       " 'batata',\n",
       " 'banana',\n",
       " 'banana',\n",
       " 'banana',\n",
       " 'banana',\n",
       " 'banana',\n",
       " 'banana',\n",
       " 'banana',\n",
       " 'banana',\n",
       " 'banana',\n",
       " 'banana',\n",
       " 'banana',\n",
       " 'banana',\n",
       " 'banana',\n",
       " 'banana',\n",
       " 'banana',\n",
       " 'banana',\n",
       " 'banana',\n",
       " 'banana',\n",
       " 'banana',\n",
       " 'banana',\n",
       " 'banana',\n",
       " 'banana',\n",
       " 'banana',\n",
       " 'banana',\n",
       " 'banana',\n",
       " 'banana',\n",
       " 'Arturito']"
      ]
     },
     "execution_count": 95,
     "metadata": {},
     "output_type": "execute_result"
    }
   ],
   "source": [
    "sort_list(lista, ascending = False)"
   ]
  },
  {
   "cell_type": "code",
   "execution_count": 41,
   "metadata": {},
   "outputs": [
    {
     "data": {
      "text/plain": [
       "['Arturito',\n",
       " 'banana',\n",
       " 'banana',\n",
       " 'banana',\n",
       " 'banana',\n",
       " 'banana',\n",
       " 'banana',\n",
       " 'banana',\n",
       " 'banana',\n",
       " 'banana',\n",
       " 'banana',\n",
       " 'banana',\n",
       " 'banana',\n",
       " 'banana',\n",
       " 'banana',\n",
       " 'banana',\n",
       " 'banana',\n",
       " 'banana',\n",
       " 'banana',\n",
       " 'banana',\n",
       " 'banana',\n",
       " 'banana',\n",
       " 'banana',\n",
       " 'banana',\n",
       " 'banana',\n",
       " 'banana',\n",
       " 'banana',\n",
       " 'batata',\n",
       " 'batata',\n",
       " 'batata',\n",
       " 'batata',\n",
       " 'batata',\n",
       " 'batata',\n",
       " 'batata',\n",
       " 'batata',\n",
       " 'batata',\n",
       " 'batata',\n",
       " 'batata',\n",
       " 'batata',\n",
       " 'batata',\n",
       " 'batata',\n",
       " 'batata',\n",
       " 'batata',\n",
       " 'batata',\n",
       " 'batata',\n",
       " 'batata',\n",
       " 'batata',\n",
       " 'batata',\n",
       " 'batata',\n",
       " 'batata',\n",
       " 'batata',\n",
       " 'batata',\n",
       " 'batata',\n",
       " 'cabrito',\n",
       " 'cinto',\n",
       " 'cinto',\n",
       " 'cinto',\n",
       " 'cinto',\n",
       " 'colher',\n",
       " 'colher',\n",
       " 'colher',\n",
       " 'colher',\n",
       " 'guarda',\n",
       " 'guarda',\n",
       " 'guarda-chuva',\n",
       " 'guarda-chuva',\n",
       " 'guarda-chuva',\n",
       " 'guarda-chuva',\n",
       " 'guarda-chuva',\n",
       " 'guarda-chuva',\n",
       " 'guarda-chuva',\n",
       " 'guarda-roupa',\n",
       " 'guarda-roupa',\n",
       " 'guarda-roupa',\n",
       " 'guarda-roupa',\n",
       " 'guarda-treco',\n",
       " 'guarda-treco',\n",
       " 'livro',\n",
       " 'livro',\n",
       " 'livro',\n",
       " 'livro',\n",
       " 'livro',\n",
       " 'livro',\n",
       " 'livro',\n",
       " 'livro',\n",
       " 'livro',\n",
       " 'livro',\n",
       " 'livro',\n",
       " 'livro',\n",
       " 'livro',\n",
       " 'livro',\n",
       " 'olho',\n",
       " 'olho',\n",
       " 'ovo',\n",
       " 'ovo',\n",
       " 'ovo',\n",
       " 'pincel',\n",
       " 'pincel',\n",
       " 'pincel',\n",
       " 'pincel',\n",
       " 'pincel',\n",
       " 'pincel',\n",
       " 'pincel',\n",
       " 'pincel',\n",
       " 'pincel',\n",
       " 'pincel',\n",
       " 'pincel',\n",
       " 'pincel',\n",
       " 'pincel',\n",
       " 'pincel',\n",
       " 'pincel',\n",
       " 'pincel',\n",
       " 'piolho',\n",
       " 'sapato',\n",
       " 'sapato',\n",
       " 'sapato',\n",
       " 'sapato',\n",
       " 'sapato',\n",
       " 'sapato',\n",
       " 'sapato',\n",
       " 'sapato',\n",
       " 'sapato',\n",
       " 'sapato',\n",
       " 'sapato',\n",
       " 'sapato',\n",
       " 'sapato',\n",
       " 'sapato',\n",
       " 'sapato',\n",
       " 'sapato',\n",
       " 'sapato',\n",
       " 'sapato',\n",
       " 'sapato',\n",
       " 'sapato',\n",
       " 'sapato',\n",
       " 'sapato',\n",
       " 'sapato',\n",
       " 'sapato',\n",
       " 'sapato',\n",
       " 'sapato',\n",
       " 'sapato',\n",
       " 'sapato',\n",
       " 'sapato',\n",
       " 'sapato',\n",
       " 'tartaruga',\n",
       " 'tartaruga',\n",
       " 'tartaruga',\n",
       " 'tartaruga',\n",
       " 'tartaruga',\n",
       " 'tartaruga',\n",
       " 'tartaruga',\n",
       " 'tartaruga',\n",
       " 'tartaruga',\n",
       " 'tartaruga',\n",
       " 'tartaruga',\n",
       " 'tartaruga',\n",
       " 'televisão',\n",
       " 'uva']"
      ]
     },
     "execution_count": 41,
     "metadata": {},
     "output_type": "execute_result"
    }
   ],
   "source": [
    "sorted(lista)"
   ]
  },
  {
   "cell_type": "code",
   "execution_count": 113,
   "metadata": {},
   "outputs": [],
   "source": [
    "list1 = [1, 2, 3]\n",
    "list2 = [2, 3, 4, 5]"
   ]
  },
  {
   "cell_type": "code",
   "execution_count": 115,
   "metadata": {},
   "outputs": [],
   "source": [
    "def list_intersection(list1, list2):\n",
    "    return list(set(list1).intersection(list2))"
   ]
  },
  {
   "cell_type": "code",
   "execution_count": 116,
   "metadata": {},
   "outputs": [
    {
     "data": {
      "text/plain": [
       "[2, 3]"
      ]
     },
     "execution_count": 116,
     "metadata": {},
     "output_type": "execute_result"
    }
   ],
   "source": [
    "list_intersection(list1, list2)"
   ]
  },
  {
   "cell_type": "markdown",
   "metadata": {},
   "source": [
    "# Dictionary"
   ]
  },
  {
   "cell_type": "code",
   "execution_count": 118,
   "metadata": {},
   "outputs": [
    {
     "name": "stdout",
     "output_type": "stream",
     "text": [
      "key: televisão\n",
      "value: 1\n",
      "key: guarda-roupa\n",
      "value: 4\n",
      "key: guarda-treco\n",
      "value: 2\n",
      "key: cinto\n",
      "value: 4\n"
     ]
    }
   ],
   "source": [
    "dic = {'guarda-roupa': 4,\n",
    "       'televisão': 1,\n",
    "       'guarda-treco': 2,\n",
    "       'cinto': 4}\n",
    "for key in dic:\n",
    "    print('key:', key)\n",
    "    print('value:', dic[key])"
   ]
  },
  {
   "cell_type": "markdown",
   "metadata": {},
   "source": [
    "# Header\n",
    "## Header 2\n",
    "\n",
    "$$y = a + 2 * 4$$"
   ]
  },
  {
   "cell_type": "markdown",
   "metadata": {},
   "source": [
    "# Array"
   ]
  },
  {
   "cell_type": "code",
   "execution_count": 119,
   "metadata": {},
   "outputs": [
    {
     "data": {
      "text/plain": [
       "array('i', [0, 1, 2])"
      ]
     },
     "execution_count": 119,
     "metadata": {},
     "output_type": "execute_result"
    }
   ],
   "source": [
    "import array\n",
    "\n",
    "my_vector = array.array('i', [0, 1, 2])\n",
    "my_vector"
   ]
  },
  {
   "cell_type": "markdown",
   "metadata": {},
   "source": [
    "# Tuple"
   ]
  },
  {
   "cell_type": "code",
   "execution_count": 123,
   "metadata": {},
   "outputs": [
    {
     "data": {
      "text/plain": [
       "(1, 2, 3)"
      ]
     },
     "execution_count": 123,
     "metadata": {},
     "output_type": "execute_result"
    }
   ],
   "source": [
    "my_tuple = (1, 2, 3)\n",
    "my_tuple"
   ]
  },
  {
   "cell_type": "code",
   "execution_count": 124,
   "metadata": {},
   "outputs": [
    {
     "data": {
      "text/plain": [
       "2"
      ]
     },
     "execution_count": 124,
     "metadata": {},
     "output_type": "execute_result"
    }
   ],
   "source": [
    "my_tuple[1]"
   ]
  },
  {
   "cell_type": "code",
   "execution_count": 125,
   "metadata": {},
   "outputs": [
    {
     "ename": "TypeError",
     "evalue": "'tuple' object does not support item assignment",
     "output_type": "error",
     "traceback": [
      "\u001b[0;31m---------------------------------------------------------------------------\u001b[0m",
      "\u001b[0;31mTypeError\u001b[0m                                 Traceback (most recent call last)",
      "\u001b[0;32m<ipython-input-125-677aa7810865>\u001b[0m in \u001b[0;36m<module>\u001b[0;34m()\u001b[0m\n\u001b[0;32m----> 1\u001b[0;31m \u001b[0mmy_tuple\u001b[0m\u001b[0;34m[\u001b[0m\u001b[0;36m2\u001b[0m\u001b[0;34m]\u001b[0m \u001b[0;34m=\u001b[0m \u001b[0;36m5\u001b[0m\u001b[0;34m\u001b[0m\u001b[0m\n\u001b[0m",
      "\u001b[0;31mTypeError\u001b[0m: 'tuple' object does not support item assignment"
     ]
    }
   ],
   "source": [
    "my_tuple[2] = 5"
   ]
  },
  {
   "cell_type": "markdown",
   "metadata": {},
   "source": [
    "# Exercise"
   ]
  },
  {
   "cell_type": "code",
   "execution_count": 126,
   "metadata": {},
   "outputs": [],
   "source": [
    "list1 = [3, 6, 2, 1, 8, 0]"
   ]
  },
  {
   "cell_type": "code",
   "execution_count": null,
   "metadata": {},
   "outputs": [],
   "source": [
    "def invert_list(l):\n",
    "    '''\n",
    "    invert list using the stack concept\n",
    "    '''\n",
    "    pilha = list()\n",
    "    for i in range(len(l)):\n",
    "        j -= 1\n",
    "        pilha.append(l[j])"
   ]
  },
  {
   "cell_type": "code",
   "execution_count": 129,
   "metadata": {},
   "outputs": [],
   "source": [
    "# def deduplicar(l):"
   ]
  },
  {
   "cell_type": "code",
   "execution_count": 130,
   "metadata": {},
   "outputs": [
    {
     "data": {
      "text/plain": [
       "[0, 1, 4, 9, 16, 25, 36, 49, 64, 81]"
      ]
     },
     "execution_count": 130,
     "metadata": {},
     "output_type": "execute_result"
    }
   ],
   "source": [
    "[x**2 for x in range(10)]"
   ]
  },
  {
   "cell_type": "code",
   "execution_count": 131,
   "metadata": {},
   "outputs": [
    {
     "data": {
      "text/plain": [
       "[(1, 3), (1, 4), (2, 3), (2, 1), (2, 4), (3, 1), (3, 4)]"
      ]
     },
     "execution_count": 131,
     "metadata": {},
     "output_type": "execute_result"
    }
   ],
   "source": [
    "[(x, y) for x in [1, 2, 3] for y in [3, 1, 4] if x != y]"
   ]
  },
  {
   "cell_type": "code",
   "execution_count": 132,
   "metadata": {},
   "outputs": [
    {
     "name": "stdout",
     "output_type": "stream",
     "text": [
      "Help on built-in function open in module io:\n",
      "\n",
      "open(file, mode='r', buffering=-1, encoding=None, errors=None, newline=None, closefd=True, opener=None)\n",
      "    Open file and return a stream.  Raise IOError upon failure.\n",
      "    \n",
      "    file is either a text or byte string giving the name (and the path\n",
      "    if the file isn't in the current working directory) of the file to\n",
      "    be opened or an integer file descriptor of the file to be\n",
      "    wrapped. (If a file descriptor is given, it is closed when the\n",
      "    returned I/O object is closed, unless closefd is set to False.)\n",
      "    \n",
      "    mode is an optional string that specifies the mode in which the file\n",
      "    is opened. It defaults to 'r' which means open for reading in text\n",
      "    mode.  Other common values are 'w' for writing (truncating the file if\n",
      "    it already exists), 'x' for creating and writing to a new file, and\n",
      "    'a' for appending (which on some Unix systems, means that all writes\n",
      "    append to the end of the file regardless of the current seek position).\n",
      "    In text mode, if encoding is not specified the encoding used is platform\n",
      "    dependent: locale.getpreferredencoding(False) is called to get the\n",
      "    current locale encoding. (For reading and writing raw bytes use binary\n",
      "    mode and leave encoding unspecified.) The available modes are:\n",
      "    \n",
      "    ========= ===============================================================\n",
      "    Character Meaning\n",
      "    --------- ---------------------------------------------------------------\n",
      "    'r'       open for reading (default)\n",
      "    'w'       open for writing, truncating the file first\n",
      "    'x'       create a new file and open it for writing\n",
      "    'a'       open for writing, appending to the end of the file if it exists\n",
      "    'b'       binary mode\n",
      "    't'       text mode (default)\n",
      "    '+'       open a disk file for updating (reading and writing)\n",
      "    'U'       universal newline mode (deprecated)\n",
      "    ========= ===============================================================\n",
      "    \n",
      "    The default mode is 'rt' (open for reading text). For binary random\n",
      "    access, the mode 'w+b' opens and truncates the file to 0 bytes, while\n",
      "    'r+b' opens the file without truncation. The 'x' mode implies 'w' and\n",
      "    raises an `FileExistsError` if the file already exists.\n",
      "    \n",
      "    Python distinguishes between files opened in binary and text modes,\n",
      "    even when the underlying operating system doesn't. Files opened in\n",
      "    binary mode (appending 'b' to the mode argument) return contents as\n",
      "    bytes objects without any decoding. In text mode (the default, or when\n",
      "    't' is appended to the mode argument), the contents of the file are\n",
      "    returned as strings, the bytes having been first decoded using a\n",
      "    platform-dependent encoding or using the specified encoding if given.\n",
      "    \n",
      "    'U' mode is deprecated and will raise an exception in future versions\n",
      "    of Python.  It has no effect in Python 3.  Use newline to control\n",
      "    universal newlines mode.\n",
      "    \n",
      "    buffering is an optional integer used to set the buffering policy.\n",
      "    Pass 0 to switch buffering off (only allowed in binary mode), 1 to select\n",
      "    line buffering (only usable in text mode), and an integer > 1 to indicate\n",
      "    the size of a fixed-size chunk buffer.  When no buffering argument is\n",
      "    given, the default buffering policy works as follows:\n",
      "    \n",
      "    * Binary files are buffered in fixed-size chunks; the size of the buffer\n",
      "      is chosen using a heuristic trying to determine the underlying device's\n",
      "      \"block size\" and falling back on `io.DEFAULT_BUFFER_SIZE`.\n",
      "      On many systems, the buffer will typically be 4096 or 8192 bytes long.\n",
      "    \n",
      "    * \"Interactive\" text files (files for which isatty() returns True)\n",
      "      use line buffering.  Other text files use the policy described above\n",
      "      for binary files.\n",
      "    \n",
      "    encoding is the name of the encoding used to decode or encode the\n",
      "    file. This should only be used in text mode. The default encoding is\n",
      "    platform dependent, but any encoding supported by Python can be\n",
      "    passed.  See the codecs module for the list of supported encodings.\n",
      "    \n",
      "    errors is an optional string that specifies how encoding errors are to\n",
      "    be handled---this argument should not be used in binary mode. Pass\n",
      "    'strict' to raise a ValueError exception if there is an encoding error\n",
      "    (the default of None has the same effect), or pass 'ignore' to ignore\n",
      "    errors. (Note that ignoring encoding errors can lead to data loss.)\n",
      "    See the documentation for codecs.register or run 'help(codecs.Codec)'\n",
      "    for a list of the permitted encoding error strings.\n",
      "    \n",
      "    newline controls how universal newlines works (it only applies to text\n",
      "    mode). It can be None, '', '\\n', '\\r', and '\\r\\n'.  It works as\n",
      "    follows:\n",
      "    \n",
      "    * On input, if newline is None, universal newlines mode is\n",
      "      enabled. Lines in the input can end in '\\n', '\\r', or '\\r\\n', and\n",
      "      these are translated into '\\n' before being returned to the\n",
      "      caller. If it is '', universal newline mode is enabled, but line\n",
      "      endings are returned to the caller untranslated. If it has any of\n",
      "      the other legal values, input lines are only terminated by the given\n",
      "      string, and the line ending is returned to the caller untranslated.\n",
      "    \n",
      "    * On output, if newline is None, any '\\n' characters written are\n",
      "      translated to the system default line separator, os.linesep. If\n",
      "      newline is '' or '\\n', no translation takes place. If newline is any\n",
      "      of the other legal values, any '\\n' characters written are translated\n",
      "      to the given string.\n",
      "    \n",
      "    If closefd is False, the underlying file descriptor will be kept open\n",
      "    when the file is closed. This does not work when a file name is given\n",
      "    and must be True in that case.\n",
      "    \n",
      "    A custom opener can be used by passing a callable as *opener*. The\n",
      "    underlying file descriptor for the file object is then obtained by\n",
      "    calling *opener* with (*file*, *flags*). *opener* must return an open\n",
      "    file descriptor (passing os.open as *opener* results in functionality\n",
      "    similar to passing None).\n",
      "    \n",
      "    open() returns a file object whose type depends on the mode, and\n",
      "    through which the standard file operations such as reading and writing\n",
      "    are performed. When open() is used to open a file in a text mode ('w',\n",
      "    'r', 'wt', 'rt', etc.), it returns a TextIOWrapper. When used to open\n",
      "    a file in a binary mode, the returned class varies: in read binary\n",
      "    mode, it returns a BufferedReader; in write binary and append binary\n",
      "    modes, it returns a BufferedWriter, and in read/write mode, it returns\n",
      "    a BufferedRandom.\n",
      "    \n",
      "    It is also possible to use a string or bytearray as a file for both\n",
      "    reading and writing. For strings StringIO can be used like a file\n",
      "    opened in a text mode, and for bytes a BytesIO can be used like a file\n",
      "    opened in a binary mode.\n",
      "\n"
     ]
    }
   ],
   "source": [
    "help(open)"
   ]
  },
  {
   "cell_type": "code",
   "execution_count": null,
   "metadata": {},
   "outputs": [],
   "source": []
  },
  {
   "cell_type": "code",
   "execution_count": null,
   "metadata": {},
   "outputs": [],
   "source": []
  },
  {
   "cell_type": "code",
   "execution_count": 133,
   "metadata": {},
   "outputs": [],
   "source": [
    "string1 = '1alo2'"
   ]
  },
  {
   "cell_type": "code",
   "execution_count": 136,
   "metadata": {},
   "outputs": [
    {
     "data": {
      "text/plain": [
       "'alo2'"
      ]
     },
     "execution_count": 136,
     "metadata": {},
     "output_type": "execute_result"
    }
   ],
   "source": [
    "string1.lstrip('1')"
   ]
  },
  {
   "cell_type": "code",
   "execution_count": 137,
   "metadata": {},
   "outputs": [
    {
     "data": {
      "text/plain": [
       "'1alo'"
      ]
     },
     "execution_count": 137,
     "metadata": {},
     "output_type": "execute_result"
    }
   ],
   "source": [
    "string1.rstrip('2')"
   ]
  },
  {
   "cell_type": "code",
   "execution_count": 138,
   "metadata": {},
   "outputs": [
    {
     "data": {
      "text/plain": [
       "'1alo'"
      ]
     },
     "execution_count": 138,
     "metadata": {},
     "output_type": "execute_result"
    }
   ],
   "source": [
    "string1.strip('2')"
   ]
  },
  {
   "cell_type": "code",
   "execution_count": 167,
   "metadata": {},
   "outputs": [
    {
     "data": {
      "text/plain": [
       "'www.dominio'"
      ]
     },
     "execution_count": 167,
     "metadata": {},
     "output_type": "execute_result"
    }
   ],
   "source": [
    "'www.dominio.com'.rstrip('com').rstrip('.')"
   ]
  },
  {
   "cell_type": "code",
   "execution_count": 168,
   "metadata": {},
   "outputs": [
    {
     "data": {
      "text/plain": [
       "'dominio.com'"
      ]
     },
     "execution_count": 168,
     "metadata": {},
     "output_type": "execute_result"
    }
   ],
   "source": [
    "'www.dominio.com'.lstrip('w.')"
   ]
  },
  {
   "cell_type": "code",
   "execution_count": 170,
   "metadata": {},
   "outputs": [
    {
     "name": "stdout",
     "output_type": "stream",
     "text": [
      "Help on built-in function eval in module builtins:\n",
      "\n",
      "eval(source, globals=None, locals=None, /)\n",
      "    Evaluate the given source in the context of globals and locals.\n",
      "    \n",
      "    The source may be a string representing a Python expression\n",
      "    or a code object as returned by compile().\n",
      "    The globals must be a dictionary and locals can be any mapping,\n",
      "    defaulting to the current globals and locals.\n",
      "    If only globals is given, locals defaults to it.\n",
      "\n"
     ]
    }
   ],
   "source": [
    "help(eval)"
   ]
  },
  {
   "cell_type": "code",
   "execution_count": 169,
   "metadata": {},
   "outputs": [
    {
     "data": {
      "text/plain": [
       "['guarda-chuva',\n",
       " 'banana',\n",
       " 'banana',\n",
       " 'banana',\n",
       " 'banana',\n",
       " 'banana',\n",
       " 'banana',\n",
       " 'banana',\n",
       " 'banana',\n",
       " 'banana',\n",
       " 'banana',\n",
       " 'guarda-roupa',\n",
       " 'guarda-chuva',\n",
       " 'batata',\n",
       " 'batata',\n",
       " 'batata',\n",
       " 'batata',\n",
       " 'batata',\n",
       " 'guarda-chuva',\n",
       " 'banana',\n",
       " 'guarda-roupa',\n",
       " 'sapato',\n",
       " 'sapato',\n",
       " 'sapato',\n",
       " 'sapato',\n",
       " 'sapato',\n",
       " 'sapato',\n",
       " 'sapato',\n",
       " 'sapato',\n",
       " 'sapato',\n",
       " 'sapato',\n",
       " 'sapato',\n",
       " 'sapato',\n",
       " 'sapato',\n",
       " 'sapato',\n",
       " 'sapato',\n",
       " 'pincel',\n",
       " 'pincel',\n",
       " 'pincel',\n",
       " 'pincel',\n",
       " 'Arturito',\n",
       " 'tartaruga',\n",
       " 'tartaruga',\n",
       " 'tartaruga',\n",
       " 'tartaruga',\n",
       " 'tartaruga',\n",
       " 'tartaruga',\n",
       " 'guarda-treco',\n",
       " 'colher',\n",
       " 'colher',\n",
       " 'ovo',\n",
       " 'olho',\n",
       " 'livro',\n",
       " 'livro',\n",
       " 'livro',\n",
       " 'livro',\n",
       " 'livro',\n",
       " 'livro',\n",
       " 'livro',\n",
       " 'pincel',\n",
       " 'pincel',\n",
       " 'pincel',\n",
       " 'pincel',\n",
       " 'televisão',\n",
       " 'ovo',\n",
       " 'guarda',\n",
       " 'batata',\n",
       " 'batata',\n",
       " 'batata',\n",
       " 'batata',\n",
       " 'batata',\n",
       " 'batata',\n",
       " 'batata',\n",
       " 'batata',\n",
       " 'batata',\n",
       " 'batata',\n",
       " 'batata',\n",
       " 'batata',\n",
       " 'batata',\n",
       " 'batata',\n",
       " 'batata',\n",
       " 'batata',\n",
       " 'uva',\n",
       " 'pincel',\n",
       " 'pincel',\n",
       " 'pincel',\n",
       " 'pincel',\n",
       " 'cabrito',\n",
       " 'guarda',\n",
       " 'piolho',\n",
       " 'guarda-chuva',\n",
       " 'pincel',\n",
       " 'pincel',\n",
       " 'pincel',\n",
       " 'pincel',\n",
       " 'banana',\n",
       " 'banana',\n",
       " 'banana',\n",
       " 'banana',\n",
       " 'guarda-chuva',\n",
       " 'banana',\n",
       " 'banana',\n",
       " 'banana',\n",
       " 'banana',\n",
       " 'banana',\n",
       " 'banana',\n",
       " 'banana',\n",
       " 'banana',\n",
       " 'banana',\n",
       " 'banana',\n",
       " 'guarda-roupa',\n",
       " 'guarda-chuva',\n",
       " 'batata',\n",
       " 'batata',\n",
       " 'batata',\n",
       " 'batata',\n",
       " 'batata',\n",
       " 'guarda-chuva',\n",
       " 'banana',\n",
       " 'guarda-roupa',\n",
       " 'sapato',\n",
       " 'sapato',\n",
       " 'sapato',\n",
       " 'sapato',\n",
       " 'sapato',\n",
       " 'sapato',\n",
       " 'sapato',\n",
       " 'sapato',\n",
       " 'sapato',\n",
       " 'sapato',\n",
       " 'sapato',\n",
       " 'sapato',\n",
       " 'sapato',\n",
       " 'sapato',\n",
       " 'sapato',\n",
       " 'tartaruga',\n",
       " 'tartaruga',\n",
       " 'tartaruga',\n",
       " 'tartaruga',\n",
       " 'tartaruga',\n",
       " 'tartaruga',\n",
       " 'guarda-treco',\n",
       " 'colher',\n",
       " 'colher',\n",
       " 'ovo',\n",
       " 'olho',\n",
       " 'livro',\n",
       " 'livro',\n",
       " 'livro',\n",
       " 'livro',\n",
       " 'livro',\n",
       " 'livro',\n",
       " 'livro',\n",
       " 'cinto',\n",
       " 'cinto',\n",
       " 'cinto',\n",
       " 'cinto']"
      ]
     },
     "execution_count": 169,
     "metadata": {},
     "output_type": "execute_result"
    }
   ],
   "source": [
    "eval(open('./data/2018_05_25_uma_lista_exemplo.txt').read())"
   ]
  },
  {
   "cell_type": "code",
   "execution_count": 171,
   "metadata": {},
   "outputs": [
    {
     "name": "stdout",
     "output_type": "stream",
     "text": [
      "2018_04_28_33MUE250GC_SIR.cpg  2018_04_28_33MUE250GC_SIR.shx\r\n",
      "2018_04_28_33MUE250GC_SIR.dbf  2018_04_28_pop2016.csv\r\n",
      "2018_04_28_33MUE250GC_SIR.prj  2018_05_25_TaubateMissing.csv\r\n",
      "2018_04_28_33MUE250GC_SIR.shp  2018_05_25_uma_lista_exemplo.txt\r\n"
     ]
    }
   ],
   "source": [
    "!ls ./data/"
   ]
  },
  {
   "cell_type": "code",
   "execution_count": 172,
   "metadata": {},
   "outputs": [
    {
     "name": "stdout",
     "output_type": "stream",
     "text": [
      "TAUBATE,Maximum Absolute Temperature,Maximum Average Temperature,Average Temperature,Minimum Average Temperature,Minimum Absolute Temperature,Rainfall (mm),Days with Rainfall >= 1mm,Relative Humidity,Sunshine Hours\r",
      "\r\n",
      "Jan,36.7,30.2,23.3,17.7,10.9,233.5,17,76.8,170\r",
      "\r\n",
      "Feb,40.1,30.5,23.5,17.8,12.6,192.1,14,76.7,168.2\r",
      "\r\n",
      "Mar,36.2,29.9,22.9,17.8,11.6,173.5,12,76.8,179.5\r",
      "\r\n",
      "Apr,34.2,,20.8,16.1,5.4,67.1,7,75.9,177.3\r",
      "\r\n",
      "May,32.6,25.4,18.1,14.2,4.2,40.9,4,76.2,176.1\r",
      "\r\n",
      "Jun,31,24.6,16.7,12.9,1.1,,4,75.7,175.6\r",
      "\r\n",
      "Jul,32.1,24.4,16.4,12.6,0.9,31.1,4,72.5,188.9\r",
      "\r\n",
      "Aug,35.6,26.4,18.2,14,2.6,41.7,4,69.1,186.2\r",
      "\r\n",
      "Sep,37.8,27.6,20,15.7,3.8,64,6,69.2,158.8\r",
      "\r\n",
      "Oct,38,27.5,20.7,,7.8,132.8,11,74,148.8\r",
      "\r\n",
      "Nov,37.4,28.7,21.7,16.9,8.6,146.2,12,73.8,161.5\r",
      "\r\n",
      "Dec,37.5,29.1,22.7,17.1,11,244.6,,76.8,155\r",
      "\r\n",
      "Year,40.1,27.7,20.4,15.8,0.9,1396.8,111,74.5,2045.9"
     ]
    }
   ],
   "source": [
    "!cat ./data/2018_05_25_TaubateMissing.csv"
   ]
  },
  {
   "cell_type": "code",
   "execution_count": null,
   "metadata": {},
   "outputs": [],
   "source": [
    "# suppose openfile.py file\n",
    "# running in shell \"python openfile.py arq.txt\"\n",
    "\n",
    "import sys\n",
    "arq = open(sys.argv[1])"
   ]
  },
  {
   "cell_type": "code",
   "execution_count": 175,
   "metadata": {},
   "outputs": [
    {
     "name": "stdout",
     "output_type": "stream",
     "text": [
      "./data/2018_05_25_SacramentocrimeJanuary2006.csv\r\n"
     ]
    }
   ],
   "source": [
    "!ls ./data/2018_05_25_SacramentocrimeJanuary2006.csv"
   ]
  },
  {
   "cell_type": "code",
   "execution_count": null,
   "metadata": {},
   "outputs": [],
   "source": []
  },
  {
   "cell_type": "code",
   "execution_count": null,
   "metadata": {},
   "outputs": [],
   "source": []
  },
  {
   "cell_type": "code",
   "execution_count": null,
   "metadata": {},
   "outputs": [],
   "source": []
  },
  {
   "cell_type": "code",
   "execution_count": null,
   "metadata": {},
   "outputs": [],
   "source": []
  },
  {
   "cell_type": "code",
   "execution_count": null,
   "metadata": {},
   "outputs": [],
   "source": []
  },
  {
   "cell_type": "code",
   "execution_count": null,
   "metadata": {},
   "outputs": [],
   "source": []
  },
  {
   "cell_type": "code",
   "execution_count": null,
   "metadata": {},
   "outputs": [],
   "source": []
  },
  {
   "cell_type": "code",
   "execution_count": null,
   "metadata": {},
   "outputs": [],
   "source": []
  },
  {
   "cell_type": "code",
   "execution_count": null,
   "metadata": {},
   "outputs": [],
   "source": []
  },
  {
   "cell_type": "code",
   "execution_count": null,
   "metadata": {},
   "outputs": [],
   "source": []
  },
  {
   "cell_type": "code",
   "execution_count": null,
   "metadata": {},
   "outputs": [],
   "source": []
  },
  {
   "cell_type": "code",
   "execution_count": null,
   "metadata": {},
   "outputs": [],
   "source": []
  },
  {
   "cell_type": "code",
   "execution_count": null,
   "metadata": {},
   "outputs": [],
   "source": []
  }
 ],
 "metadata": {
  "kernelspec": {
   "display_name": "Python 3",
   "language": "python",
   "name": "python3"
  },
  "language_info": {
   "codemirror_mode": {
    "name": "ipython",
    "version": 3
   },
   "file_extension": ".py",
   "mimetype": "text/x-python",
   "name": "python",
   "nbconvert_exporter": "python",
   "pygments_lexer": "ipython3",
   "version": "3.5.2"
  }
 },
 "nbformat": 4,
 "nbformat_minor": 2
}
