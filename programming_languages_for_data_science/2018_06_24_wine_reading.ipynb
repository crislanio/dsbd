{
 "cells": [
  {
   "cell_type": "code",
   "execution_count": 1,
   "metadata": {},
   "outputs": [],
   "source": [
    "try:\n",
    "    import argparse\n",
    "except:\n",
    "    print('Please install argparse, using `pip install argparse` or `conda install -c anaconda argparse`')\n",
    "    \n",
    "try:\n",
    "    import pandas as pd\n",
    "except:\n",
    "    print('Please install argparse, using `pip install pandas` or `conda install -c anaconda pandas`')"
   ]
  },
  {
   "cell_type": "code",
   "execution_count": 2,
   "metadata": {},
   "outputs": [
    {
     "name": "stderr",
     "output_type": "stream",
     "text": [
      "usage: ipykernel_launcher.py [-h] first_input_csv second_input_csv output_csv\n",
      "ipykernel_launcher.py: error: the following arguments are required: second_input_csv, output_csv\n"
     ]
    },
    {
     "ename": "SystemExit",
     "evalue": "2",
     "output_type": "error",
     "traceback": [
      "An exception has occurred, use %tb to see the full traceback.\n",
      "\u001b[0;31mSystemExit\u001b[0m\u001b[0;31m:\u001b[0m 2\n"
     ]
    },
    {
     "name": "stderr",
     "output_type": "stream",
     "text": [
      "/home/jayme/miniconda3/envs/ds/lib/python3.6/site-packages/IPython/core/interactiveshell.py:2971: UserWarning: To exit: use 'exit', 'quit', or Ctrl-D.\n",
      "  warn(\"To exit: use 'exit', 'quit', or Ctrl-D.\", stacklevel=1)\n"
     ]
    }
   ],
   "source": [
    "parser = argparse.ArgumentParser(formatter_class=argparse.RawTextHelpFormatter)\n",
    "parser.add_argument('first_input_csv', help = '''arquivo input, formato nome_do_input.csv, como especificá-lo:\n",
    "                                                 \\n1. Apenas nome do arquivo (deverá estar no diretório de trabalho)\n",
    "                                                 \\n2. Arquivo com caminho completo''')\n",
    "parser.add_argument('second_input_csv', help = '''arquivo output, formato nome_do_output.csv, como especificá-lo:\n",
    "                                                  \\n1. Apenas nome do arquivo (será salvo no diretório de trabalho)\n",
    "                                                  \\n2. Arquivo com caminho completo''')\n",
    "parser.add_argument('output_csv', help = '''arquivo output, formato nome_do_output.csv, como especificá-lo:\n",
    "                                            \\n1. Apenas nome do arquivo (será salvo no diretório de trabalho)\n",
    "                                            \\n2. Arquivo com caminho completo''')\n",
    "args = parser.parse_args()"
   ]
  },
  {
   "cell_type": "code",
   "execution_count": 3,
   "metadata": {},
   "outputs": [
    {
     "ename": "NameError",
     "evalue": "name 'args' is not defined",
     "output_type": "error",
     "traceback": [
      "\u001b[0;31m--------------------------------------------------------------------------\u001b[0m",
      "\u001b[0;31mNameError\u001b[0m                                Traceback (most recent call last)",
      "\u001b[0;32m<ipython-input-3-f03fd9a3069d>\u001b[0m in \u001b[0;36m<module>\u001b[0;34m()\u001b[0m\n\u001b[0;32m----> 1\u001b[0;31m \u001b[0mfiles\u001b[0m \u001b[0;34m=\u001b[0m \u001b[0;34m[\u001b[0m\u001b[0mstr\u001b[0m\u001b[0;34m(\u001b[0m\u001b[0margs\u001b[0m\u001b[0;34m.\u001b[0m\u001b[0mfirst_input_csv\u001b[0m\u001b[0;34m)\u001b[0m\u001b[0;34m,\u001b[0m \u001b[0mstr\u001b[0m\u001b[0;34m(\u001b[0m\u001b[0margs\u001b[0m\u001b[0;34m.\u001b[0m\u001b[0msecond_input_csv\u001b[0m\u001b[0;34m)\u001b[0m\u001b[0;34m]\u001b[0m\u001b[0;34m\u001b[0m\u001b[0m\n\u001b[0m\u001b[1;32m      2\u001b[0m \u001b[0mwines\u001b[0m \u001b[0;34m=\u001b[0m \u001b[0mpd\u001b[0m\u001b[0;34m.\u001b[0m\u001b[0mDataFrame\u001b[0m\u001b[0;34m(\u001b[0m\u001b[0;34m)\u001b[0m\u001b[0;34m\u001b[0m\u001b[0m\n\u001b[1;32m      3\u001b[0m \u001b[0;34m\u001b[0m\u001b[0m\n\u001b[1;32m      4\u001b[0m \u001b[0;32mtry\u001b[0m\u001b[0;34m:\u001b[0m\u001b[0;34m\u001b[0m\u001b[0m\n\u001b[1;32m      5\u001b[0m     \u001b[0;32mfor\u001b[0m \u001b[0mfile\u001b[0m \u001b[0;32min\u001b[0m \u001b[0mfiles\u001b[0m\u001b[0;34m:\u001b[0m\u001b[0;34m\u001b[0m\u001b[0m\n",
      "\u001b[0;31mNameError\u001b[0m: name 'args' is not defined"
     ]
    }
   ],
   "source": [
    "files = [str(args.first_input_csv), str(args.second_input_csv)]\n",
    "wines = pd.DataFrame()\n",
    "\n",
    "try:\n",
    "    for file in files:\n",
    "        tmp = pd.read_csv(file, sep = ';')\n",
    "        tmp['wine_type'] = file[:-4]\n",
    "        wines = pd.concat((wines, tmp))\n",
    "except:\n",
    "    print('Please provide the input file extensions as filename.csv')\n",
    "\n",
    "try:\n",
    "    wines.to_csv(args.output_csv, index = False)\n",
    "except:\n",
    "    print('Please provide the output file extension as filename.csv')\n",
    "\n",
    "print('''\n",
    "rótulo: valor médio da qualidade\n",
    "\n",
    "{}: {}\n",
    "{}: {}\n",
    "ambas: {}\n",
    "'''.format(files[0][:-4],\n",
    "           round(wines[wines['wine_type'] == files[0][:-4]]['quality'].mean(), 2),\n",
    "           files[1][:-4],\n",
    "           round(wines[wines['wine_type'] == files[1][:-4]]['quality'].mean(), 2),\n",
    "           round(wines['quality'].mean(), 2))\n",
    "     )"
   ]
  }
 ],
 "metadata": {
  "kernelspec": {
   "display_name": "Python 3",
   "language": "python",
   "name": "python3"
  },
  "language_info": {
   "codemirror_mode": {
    "name": "ipython",
    "version": 3
   },
   "file_extension": ".py",
   "mimetype": "text/x-python",
   "name": "python",
   "nbconvert_exporter": "python",
   "pygments_lexer": "ipython3",
   "version": "3.6.4"
  }
 },
 "nbformat": 4,
 "nbformat_minor": 2
}
