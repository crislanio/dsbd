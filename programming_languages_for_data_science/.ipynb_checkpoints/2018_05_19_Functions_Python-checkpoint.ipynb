{
 "cells": [
  {
   "cell_type": "code",
   "execution_count": 5,
   "metadata": {},
   "outputs": [],
   "source": [
    "def f(x):\n",
    "    '''This x only exists in this function'''\n",
    "    x = x + 1\n",
    "    print(x)"
   ]
  },
  {
   "cell_type": "code",
   "execution_count": 6,
   "metadata": {},
   "outputs": [
    {
     "name": "stdout",
     "output_type": "stream",
     "text": [
      "2\n"
     ]
    }
   ],
   "source": [
    "# defining the x input\n",
    "x = 1\n",
    "\n",
    "# calling the function\n",
    "f(x)"
   ]
  },
  {
   "cell_type": "code",
   "execution_count": 7,
   "metadata": {},
   "outputs": [
    {
     "data": {
      "text/plain": [
       "1"
      ]
     },
     "execution_count": 7,
     "metadata": {},
     "output_type": "execute_result"
    }
   ],
   "source": [
    "# global x still 1\n",
    "x"
   ]
  },
  {
   "cell_type": "code",
   "execution_count": 8,
   "metadata": {},
   "outputs": [],
   "source": [
    "# args can be mandatory or optional\n",
    "\n",
    "def pergunta(confirma, tentativas = 3, lembrete = 'Tente novamente!'):\n",
    "    while True:\n",
    "        ok = input(confirma)\n",
    "        if ok in ('s', 'S'):\n",
    "            return True\n",
    "        if ok in ('n', 'N'):\n",
    "            return False\n",
    "        tentativas = tentativas - 1\n",
    "        if tentativas < 0:\n",
    "            raise ValueError('Resposta inválida!')\n",
    "        print(lembrete)"
   ]
  },
  {
   "cell_type": "code",
   "execution_count": 14,
   "metadata": {},
   "outputs": [
    {
     "name": "stdout",
     "output_type": "stream",
     "text": [
      "Deseja mesmo apagar?p\n",
      "Tente novamente!\n",
      "Deseja mesmo apagar?q\n",
      "Tente novamente!\n",
      "Deseja mesmo apagar?w\n",
      "Tente novamente!\n",
      "Deseja mesmo apagar?s\n"
     ]
    },
    {
     "data": {
      "text/plain": [
       "True"
      ]
     },
     "execution_count": 14,
     "metadata": {},
     "output_type": "execute_result"
    }
   ],
   "source": [
    "pergunta(confirma = 'Deseja mesmo apagar?')"
   ]
  },
  {
   "cell_type": "code",
   "execution_count": 15,
   "metadata": {},
   "outputs": [
    {
     "name": "stdout",
     "output_type": "stream",
     "text": [
      "Qual o n?5\n"
     ]
    }
   ],
   "source": [
    "# factorial using user input\n",
    "\n",
    "def fat(n):\n",
    "    if n == 0:\n",
    "        return 1\n",
    "    return n * fat(n - 1)\n",
    "\n",
    "n = input('Qual o n?')"
   ]
  },
  {
   "cell_type": "code",
   "execution_count": 16,
   "metadata": {},
   "outputs": [
    {
     "data": {
      "text/plain": [
       "120"
      ]
     },
     "execution_count": 16,
     "metadata": {},
     "output_type": "execute_result"
    }
   ],
   "source": [
    "fat(int(n))"
   ]
  },
  {
   "cell_type": "code",
   "execution_count": 19,
   "metadata": {},
   "outputs": [
    {
     "name": "stdout",
     "output_type": "stream",
     "text": [
      "Ângulo em graus: 40\n",
      "Iterações? 10\n",
      "Seno de 40 = 0.642788\n"
     ]
    }
   ],
   "source": [
    "# sin function as a taylor expansion\n",
    "\n",
    "import math\n",
    "\n",
    "def deg2rad(degrees):\n",
    "    return degrees / 180 * math.pi\n",
    "\n",
    "def taylor(x, n):\n",
    "    y = 0\n",
    "    for k in range(n):\n",
    "        y += ((-1) ** k) * (x ** (1 + 2 * k)) / math.factorial(1 + 2 * k)\n",
    "    return y\n",
    "\n",
    "x = float(input('Ângulo em graus: '))\n",
    "\n",
    "print('Seno de %d = %f' % (x, taylor(deg2rad(x), int(input('Iterações? ')))))"
   ]
  },
  {
   "cell_type": "code",
   "execution_count": 32,
   "metadata": {},
   "outputs": [
    {
     "name": "stdout",
     "output_type": "stream",
     "text": [
      "Ângulo em graus: 40\n",
      "Precisão? 4\n",
      "Iterações? 15\n",
      "y atual: 0 nova expansão: 0.6981\n",
      "0.6981317007977318\n",
      "y atual: 0.6981 nova expansão: 0.6414\n",
      "0.6414215468328487\n",
      "y atual: 0.6414 nova expansão: 0.6428\n",
      "0.6428035388949679\n",
      "y atual: 0.6428 nova expansão: 0.6428\n",
      "Seno de 40 = 0.642804\n"
     ]
    }
   ],
   "source": [
    "# sin function as a taylor expansion with a decimal precision\n",
    "\n",
    "import math\n",
    "\n",
    "def deg2rad(degrees):\n",
    "    return degrees / 180 * math.pi\n",
    "\n",
    "def taylor(x, p, n = 10):\n",
    "    y = 0\n",
    "    for k in range(n):\n",
    "        exp = ((-1) ** k) * (x ** (1 + 2 * k)) / math.factorial(1 + 2 * k)\n",
    "        print('y atual:', round(y, p), 'nova expansão:', round(y + exp, p))\n",
    "        \n",
    "        if round(y, p) != round(y + exp, p):\n",
    "            y += exp\n",
    "            \n",
    "        else:\n",
    "            break\n",
    "            \n",
    "        print(y)\n",
    "        \n",
    "    return y\n",
    "\n",
    "x = float(input('Ângulo em graus: '))\n",
    "\n",
    "print('Seno de %d = %f' % (x, taylor(deg2rad(x), int(input('Precisão? ')), int(input('Iterações? ')))))"
   ]
  },
  {
   "cell_type": "code",
   "execution_count": 33,
   "metadata": {},
   "outputs": [
    {
     "name": "stdout",
     "output_type": "stream",
     "text": [
      "Ângulo me graus: 40\n",
      "Precisão? 5\n",
      "Valor do seno de 40 aproximadamente = 0.698132\n"
     ]
    }
   ],
   "source": [
    "# teacher answer:\n",
    "\n",
    "def taylor(x, prec):\n",
    "    y, ya = 0.0, 0.0\n",
    "    k = 0\n",
    "    while True and k < 10:\n",
    "        y += ((-1) ** k) * (x ** (1 + 2 * k)) / math.factorial(1 + 2 * k)\n",
    "        k += 1\n",
    "        if (math.fabs(y - ya) <= prec):\n",
    "            return y\n",
    "        ya = y\n",
    "    return y\n",
    "\n",
    "x = float(input('Ângulo me graus: '))\n",
    "print('Valor do seno de %d aproximadamente = %f' % (x, taylor(deg2rad(x), float(input('Precisão? ')))))"
   ]
  },
  {
   "cell_type": "code",
   "execution_count": 48,
   "metadata": {},
   "outputs": [
    {
     "name": "stdout",
     "output_type": "stream",
     "text": [
      "Número de fibonacci? 4\n",
      "Fabonacci de 4: 5\n"
     ]
    }
   ],
   "source": [
    "# given n, return n fibonacci number\n",
    "\n",
    "def fibonacci(n):\n",
    "    if n <= 1:\n",
    "        return 1\n",
    "    else:\n",
    "        return fibonacci(n - 1) + fibonacci(n - 2)\n",
    "    \n",
    "n = int(input('Número de fibonacci? '))\n",
    "print('Fabonacci de {}: {}'.format(n, fibonacci(n)))"
   ]
  },
  {
   "cell_type": "code",
   "execution_count": 64,
   "metadata": {},
   "outputs": [
    {
     "name": "stdout",
     "output_type": "stream",
     "text": [
      "Número de fibonacci? 6\n",
      "1  2  3  5  8  13  "
     ]
    }
   ],
   "source": [
    "# given n, print fibonacci number <= n\n",
    "\n",
    "def fibonacci(n):\n",
    "    f1 = 0\n",
    "    f2 = 1\n",
    "    \n",
    "    if n <= 1:\n",
    "        print(1)\n",
    "    else:\n",
    "        for i in range(n):\n",
    "            faux = f1 + f2\n",
    "            print(faux, ' ', end = '')\n",
    "            f1 = f2\n",
    "            f2 = faux\n",
    "            \n",
    "n = int(input('Número de fibonacci? '))\n",
    "fibonacci(n)"
   ]
  },
  {
   "cell_type": "code",
   "execution_count": null,
   "metadata": {},
   "outputs": [],
   "source": [
    "def fibo(n):\n",
    "    a, b = 0, 1\n",
    "    fibo = [0, 1]\n",
    "    if n > 2:\n",
    "        for i in range(2, n):\n",
    "            fibo.append(a + b)\n",
    "            a, b = b, a + b\n",
    "    return fib"
   ]
  },
  {
   "cell_type": "code",
   "execution_count": 70,
   "metadata": {},
   "outputs": [
    {
     "name": "stdout",
     "output_type": "stream",
     "text": [
      "(25, 5, 2018, 'aula 4')\n"
     ]
    }
   ],
   "source": [
    "d4 = (25, 5, 2018, 'aula 4')\n",
    "print(d4)"
   ]
  },
  {
   "cell_type": "code",
   "execution_count": 73,
   "metadata": {},
   "outputs": [
    {
     "name": "stdout",
     "output_type": "stream",
     "text": [
      "(25, 5, 2018, 'aula 4') (1, 6, 2018, 'aula 5') (8, 6, 2018, 'aula 6')\n"
     ]
    }
   ],
   "source": [
    "d5 = (1, 6, 2018, 'aula 5')\n",
    "d6 = (8, 6, 2018, 'aula 6')\n",
    "print(d4, d5, d6)"
   ]
  },
  {
   "cell_type": "code",
   "execution_count": null,
   "metadata": {},
   "outputs": [],
   "source": [
    "print(d4, '')"
   ]
  },
  {
   "cell_type": "code",
   "execution_count": 78,
   "metadata": {},
   "outputs": [
    {
     "data": {
      "text/plain": [
       "tuple"
      ]
     },
     "execution_count": 78,
     "metadata": {},
     "output_type": "execute_result"
    }
   ],
   "source": [
    "type(d4)"
   ]
  },
  {
   "cell_type": "code",
   "execution_count": 80,
   "metadata": {},
   "outputs": [
    {
     "data": {
      "text/plain": [
       "[0, 1, 2, 3, 4, 5, 6, 7, 8, 9]"
      ]
     },
     "execution_count": 80,
     "metadata": {},
     "output_type": "execute_result"
    }
   ],
   "source": [
    "# walking through a list\n",
    "\n",
    "num = [i for i in range(10)]\n",
    "num"
   ]
  },
  {
   "cell_type": "code",
   "execution_count": 81,
   "metadata": {},
   "outputs": [
    {
     "data": {
      "text/plain": [
       "0"
      ]
     },
     "execution_count": 81,
     "metadata": {},
     "output_type": "execute_result"
    }
   ],
   "source": [
    "num[0]"
   ]
  },
  {
   "cell_type": "code",
   "execution_count": 82,
   "metadata": {},
   "outputs": [
    {
     "data": {
      "text/plain": [
       "1"
      ]
     },
     "execution_count": 82,
     "metadata": {},
     "output_type": "execute_result"
    }
   ],
   "source": [
    "num[1]"
   ]
  },
  {
   "cell_type": "code",
   "execution_count": 83,
   "metadata": {},
   "outputs": [
    {
     "data": {
      "text/plain": [
       "9"
      ]
     },
     "execution_count": 83,
     "metadata": {},
     "output_type": "execute_result"
    }
   ],
   "source": [
    "num[-1]"
   ]
  },
  {
   "cell_type": "code",
   "execution_count": 84,
   "metadata": {},
   "outputs": [
    {
     "data": {
      "text/plain": [
       "[8, 9]"
      ]
     },
     "execution_count": 84,
     "metadata": {},
     "output_type": "execute_result"
    }
   ],
   "source": [
    "num[-2:]"
   ]
  },
  {
   "cell_type": "code",
   "execution_count": 85,
   "metadata": {},
   "outputs": [
    {
     "data": {
      "text/plain": [
       "[0, 1, 2, 3, 4, 5, 6, 7, 8, 9]"
      ]
     },
     "execution_count": 85,
     "metadata": {},
     "output_type": "execute_result"
    }
   ],
   "source": [
    "num[:]"
   ]
  },
  {
   "cell_type": "code",
   "execution_count": 89,
   "metadata": {},
   "outputs": [
    {
     "data": {
      "text/plain": [
       "[[1, 2, 3], [4, 5, 6], [7, 8, 9]]"
      ]
     },
     "execution_count": 89,
     "metadata": {},
     "output_type": "execute_result"
    }
   ],
   "source": [
    "mat = [[1, 2, 3], [4, 5, 6], [7, 8, 9]]\n",
    "mat"
   ]
  },
  {
   "cell_type": "code",
   "execution_count": 90,
   "metadata": {},
   "outputs": [
    {
     "data": {
      "text/plain": [
       "[4, 5, 6]"
      ]
     },
     "execution_count": 90,
     "metadata": {},
     "output_type": "execute_result"
    }
   ],
   "source": [
    "mat[1]"
   ]
  },
  {
   "cell_type": "code",
   "execution_count": 91,
   "metadata": {},
   "outputs": [
    {
     "data": {
      "text/plain": [
       "9"
      ]
     },
     "execution_count": 91,
     "metadata": {},
     "output_type": "execute_result"
    }
   ],
   "source": [
    "mat[2][2]"
   ]
  },
  {
   "cell_type": "code",
   "execution_count": 95,
   "metadata": {},
   "outputs": [
    {
     "name": "stdout",
     "output_type": "stream",
     "text": [
      "[1, 2, 3]\n",
      "[4, 5, 6]\n",
      "[7, 8, 9]\n"
     ]
    }
   ],
   "source": [
    "for i in mat:\n",
    "    print(i)"
   ]
  },
  {
   "cell_type": "code",
   "execution_count": 100,
   "metadata": {},
   "outputs": [
    {
     "name": "stdout",
     "output_type": "stream",
     "text": [
      "                                                                             blah\n",
      "                                                                             lala\n"
     ]
    }
   ],
   "source": [
    "# justify a string\n",
    "\n",
    "def justD(p):\n",
    "    print((80 - len(p))*' ', p)\n",
    "    \n",
    "justD('blah')\n",
    "justD('lala')"
   ]
  },
  {
   "cell_type": "code",
   "execution_count": 99,
   "metadata": {},
   "outputs": [
    {
     "name": "stdout",
     "output_type": "stream",
     "text": [
      "w\n",
      "o\n",
      "r\n",
      "d\n"
     ]
    }
   ],
   "source": [
    "for letter in 'word':\n",
    "    print(letter)"
   ]
  },
  {
   "cell_type": "code",
   "execution_count": null,
   "metadata": {},
   "outputs": [],
   "source": []
  },
  {
   "cell_type": "code",
   "execution_count": null,
   "metadata": {},
   "outputs": [],
   "source": []
  },
  {
   "cell_type": "code",
   "execution_count": null,
   "metadata": {},
   "outputs": [],
   "source": []
  },
  {
   "cell_type": "code",
   "execution_count": null,
   "metadata": {},
   "outputs": [],
   "source": []
  },
  {
   "cell_type": "code",
   "execution_count": null,
   "metadata": {},
   "outputs": [],
   "source": []
  },
  {
   "cell_type": "code",
   "execution_count": null,
   "metadata": {},
   "outputs": [],
   "source": []
  }
 ],
 "metadata": {
  "kernelspec": {
   "display_name": "Python 3",
   "language": "python",
   "name": "python3"
  },
  "language_info": {
   "codemirror_mode": {
    "name": "ipython",
    "version": 3
   },
   "file_extension": ".py",
   "mimetype": "text/x-python",
   "name": "python",
   "nbconvert_exporter": "python",
   "pygments_lexer": "ipython3",
   "version": "3.5.2"
  }
 },
 "nbformat": 4,
 "nbformat_minor": 2
}
